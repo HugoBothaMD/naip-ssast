{
 "cells": [
  {
   "cell_type": "code",
   "execution_count": 1,
   "id": "00baea7a-991b-44ee-9e09-26068bd17de3",
   "metadata": {},
   "outputs": [],
   "source": [
    "import pandas as pd\n",
    "import io\n",
    "import numpy as np\n",
    "\n",
    "from src.models.ast_models import ASTModel"
   ]
  },
  {
   "cell_type": "code",
   "execution_count": 2,
   "id": "bd6e3339-95c7-4b9e-a9cc-5caba7159e5e",
   "metadata": {},
   "outputs": [],
   "source": [
    "import sys\n",
    "sys.path.insert(0, '../speech_utils') "
   ]
  },
  {
   "cell_type": "code",
   "execution_count": 3,
   "id": "c6564a3f-ac3f-4d0b-8dae-558a95dba2f8",
   "metadata": {},
   "outputs": [],
   "source": [
    "from speech_utils import *"
   ]
  },
  {
   "cell_type": "code",
   "execution_count": 4,
   "id": "774b088e-df81-4af5-9378-44465423c222",
   "metadata": {},
   "outputs": [],
   "source": [
    "from src.dataloader_gcs import AudioDataset"
   ]
  },
  {
   "cell_type": "code",
   "execution_count": 5,
   "id": "1d0e87ac-bd24-4483-869d-8f1310ad97b1",
   "metadata": {},
   "outputs": [],
   "source": [
    "from google.cloud import storage, bigquery"
   ]
  },
  {
   "cell_type": "code",
   "execution_count": 6,
   "id": "7e910db7-82ac-4bc4-a1da-5b4ece98b9b3",
   "metadata": {},
   "outputs": [],
   "source": [
    "project_name = 'ml-mps-aif-afdgpet01-p-6827'\n",
    "study = 'speech_poc_freeze_1'\n",
    "bucket_name = 'ml-e107-phi-shared-aif-us-p'\n",
    "gcs_prefix = f'speech_ai/speech_lake/{study}'"
   ]
  },
  {
   "cell_type": "code",
   "execution_count": 7,
   "id": "a048fc09-4ebd-4611-8fec-1f1c555084e2",
   "metadata": {},
   "outputs": [],
   "source": [
    "storage_client = storage.Client()\n",
    "bq_client = bigquery.Client()\n",
    "bucket = storage_client.bucket(bucket_name)"
   ]
  },
  {
   "cell_type": "code",
   "execution_count": 8,
   "id": "0402ff43-2db7-4689-bec9-5d3460f2f763",
   "metadata": {},
   "outputs": [],
   "source": [
    "file_list=[]\n",
    "for blob in storage_client.list_blobs(bucket_name, prefix='speech_ai/speech_lake/speech_poc_freeze_1'):\n",
    "    file_list.append(blob.name)"
   ]
  },
  {
   "cell_type": "code",
   "execution_count": 9,
   "id": "b72fd1ec-814f-4bea-9dc9-83c23b1f862b",
   "metadata": {},
   "outputs": [
    {
     "data": {
      "text/plain": [
       "7946"
      ]
     },
     "execution_count": 9,
     "metadata": {},
     "output_type": "execute_result"
    }
   ],
   "source": [
    "len(file_list)"
   ]
  },
  {
   "cell_type": "code",
   "execution_count": 10,
   "id": "c28cb915-cfb6-40ac-a097-4b9fc9f2dd94",
   "metadata": {},
   "outputs": [
    {
     "data": {
      "text/plain": [
       "'speech_ai/speech_lake/speech_poc_freeze_1/0009ee33-c45b-439e-8e38-6a613a896979/metadata.json'"
      ]
     },
     "execution_count": 10,
     "metadata": {},
     "output_type": "execute_result"
    }
   ],
   "source": [
    "file_list[0]"
   ]
  },
  {
   "cell_type": "code",
   "execution_count": 11,
   "id": "43fbb51c-8d41-4685-822b-5b4911959284",
   "metadata": {},
   "outputs": [],
   "source": [
    "extensions=[f.split('.')[-1] for f in file_list]"
   ]
  },
  {
   "cell_type": "code",
   "execution_count": 12,
   "id": "c10a397b-196b-4e89-ad04-a8e0ee079b91",
   "metadata": {},
   "outputs": [
    {
     "data": {
      "text/plain": [
       "3973"
      ]
     },
     "execution_count": 12,
     "metadata": {},
     "output_type": "execute_result"
    }
   ],
   "source": [
    "np.sum([e=='mp3' for e in extensions])"
   ]
  },
  {
   "cell_type": "code",
   "execution_count": 13,
   "id": "09d7d0ea-39f0-4804-9691-5e7742de8fcd",
   "metadata": {},
   "outputs": [],
   "source": [
    "data_split_root = 'gs://ml-e107-phi-shared-aif-us-p/speech_ai/share/data_splits/amr_subject_dedup_594_train_100_test_binarized_v20220620'\n",
    "gcs_train_path = f'{data_split_root}/train.csv'\n",
    "gcs_test_path = f'{data_split_root}/test.csv'"
   ]
  },
  {
   "cell_type": "code",
   "execution_count": 14,
   "id": "f5fee331-e437-45cd-8372-c47cf0317009",
   "metadata": {},
   "outputs": [],
   "source": [
    "train_df = pd.read_csv(gcs_train_path, index_col = 'uid')\n",
    "test_df = pd.read_csv(gcs_test_path, index_col = 'uid')"
   ]
  },
  {
   "cell_type": "code",
   "execution_count": 15,
   "id": "7c5de826-d00c-475c-bef7-d4ecc02e914e",
   "metadata": {},
   "outputs": [
    {
     "data": {
      "text/html": [
       "<div>\n",
       "<style scoped>\n",
       "    .dataframe tbody tr th:only-of-type {\n",
       "        vertical-align: middle;\n",
       "    }\n",
       "\n",
       "    .dataframe tbody tr th {\n",
       "        vertical-align: top;\n",
       "    }\n",
       "\n",
       "    .dataframe thead th {\n",
       "        text-align: right;\n",
       "    }\n",
       "</style>\n",
       "<table border=\"1\" class=\"dataframe\">\n",
       "  <thead>\n",
       "    <tr style=\"text-align: right;\">\n",
       "      <th></th>\n",
       "      <th>Hyperkinetic Dysarthria</th>\n",
       "      <th>Hypokinetic dysarthria</th>\n",
       "      <th>Flaccid dysarthria</th>\n",
       "      <th>Apraxia of speech, Phonetic</th>\n",
       "      <th>Neurological MSD, NOS</th>\n",
       "      <th>Functional speech disorder</th>\n",
       "      <th>Apraxia of speech, Prosodic</th>\n",
       "      <th>Spastic dysarthria</th>\n",
       "      <th>Ataxic dysarthria</th>\n",
       "      <th>Abnormal Speech, NOS</th>\n",
       "      <th>...</th>\n",
       "      <th>hypernasal</th>\n",
       "      <th>audible nasal emission</th>\n",
       "      <th>abn loudness variability</th>\n",
       "      <th>sound substitutions</th>\n",
       "      <th>reduced syllables per breath group</th>\n",
       "      <th>stridor</th>\n",
       "      <th>low pitch</th>\n",
       "      <th>voice interruptions</th>\n",
       "      <th>increased OA loudness</th>\n",
       "      <th>prolonged sounds</th>\n",
       "    </tr>\n",
       "    <tr>\n",
       "      <th>uid</th>\n",
       "      <th></th>\n",
       "      <th></th>\n",
       "      <th></th>\n",
       "      <th></th>\n",
       "      <th></th>\n",
       "      <th></th>\n",
       "      <th></th>\n",
       "      <th></th>\n",
       "      <th></th>\n",
       "      <th></th>\n",
       "      <th></th>\n",
       "      <th></th>\n",
       "      <th></th>\n",
       "      <th></th>\n",
       "      <th></th>\n",
       "      <th></th>\n",
       "      <th></th>\n",
       "      <th></th>\n",
       "      <th></th>\n",
       "      <th></th>\n",
       "      <th></th>\n",
       "    </tr>\n",
       "  </thead>\n",
       "  <tbody>\n",
       "    <tr>\n",
       "      <th>4d28f730-5814-48e1-bc29-3c0bf562e2fb</th>\n",
       "      <td>0</td>\n",
       "      <td>0</td>\n",
       "      <td>0</td>\n",
       "      <td>0</td>\n",
       "      <td>0</td>\n",
       "      <td>0</td>\n",
       "      <td>0</td>\n",
       "      <td>1</td>\n",
       "      <td>1</td>\n",
       "      <td>0</td>\n",
       "      <td>...</td>\n",
       "      <td>0</td>\n",
       "      <td>1</td>\n",
       "      <td>0</td>\n",
       "      <td>0</td>\n",
       "      <td>0</td>\n",
       "      <td>0</td>\n",
       "      <td>0</td>\n",
       "      <td>0</td>\n",
       "      <td>0</td>\n",
       "      <td>0</td>\n",
       "    </tr>\n",
       "    <tr>\n",
       "      <th>1e2dedd0-4f93-42ee-b0fb-c77fb7ba4cf4</th>\n",
       "      <td>1</td>\n",
       "      <td>0</td>\n",
       "      <td>0</td>\n",
       "      <td>0</td>\n",
       "      <td>0</td>\n",
       "      <td>0</td>\n",
       "      <td>0</td>\n",
       "      <td>0</td>\n",
       "      <td>0</td>\n",
       "      <td>0</td>\n",
       "      <td>...</td>\n",
       "      <td>0</td>\n",
       "      <td>0</td>\n",
       "      <td>1</td>\n",
       "      <td>0</td>\n",
       "      <td>0</td>\n",
       "      <td>0</td>\n",
       "      <td>0</td>\n",
       "      <td>0</td>\n",
       "      <td>1</td>\n",
       "      <td>0</td>\n",
       "    </tr>\n",
       "    <tr>\n",
       "      <th>f31c13e4-9f49-411e-b59f-f692244fb740</th>\n",
       "      <td>0</td>\n",
       "      <td>0</td>\n",
       "      <td>0</td>\n",
       "      <td>0</td>\n",
       "      <td>0</td>\n",
       "      <td>0</td>\n",
       "      <td>0</td>\n",
       "      <td>0</td>\n",
       "      <td>0</td>\n",
       "      <td>1</td>\n",
       "      <td>...</td>\n",
       "      <td>1</td>\n",
       "      <td>1</td>\n",
       "      <td>0</td>\n",
       "      <td>0</td>\n",
       "      <td>0</td>\n",
       "      <td>0</td>\n",
       "      <td>0</td>\n",
       "      <td>0</td>\n",
       "      <td>0</td>\n",
       "      <td>0</td>\n",
       "    </tr>\n",
       "    <tr>\n",
       "      <th>d917de91-c421-40bf-9d75-a0b5b0736c5b</th>\n",
       "      <td>0</td>\n",
       "      <td>1</td>\n",
       "      <td>0</td>\n",
       "      <td>0</td>\n",
       "      <td>0</td>\n",
       "      <td>0</td>\n",
       "      <td>0</td>\n",
       "      <td>0</td>\n",
       "      <td>0</td>\n",
       "      <td>0</td>\n",
       "      <td>...</td>\n",
       "      <td>0</td>\n",
       "      <td>0</td>\n",
       "      <td>0</td>\n",
       "      <td>0</td>\n",
       "      <td>0</td>\n",
       "      <td>0</td>\n",
       "      <td>0</td>\n",
       "      <td>0</td>\n",
       "      <td>0</td>\n",
       "      <td>0</td>\n",
       "    </tr>\n",
       "    <tr>\n",
       "      <th>9c4a9e77-3080-4591-8797-d712e42d6ed6</th>\n",
       "      <td>1</td>\n",
       "      <td>0</td>\n",
       "      <td>0</td>\n",
       "      <td>0</td>\n",
       "      <td>0</td>\n",
       "      <td>0</td>\n",
       "      <td>0</td>\n",
       "      <td>1</td>\n",
       "      <td>1</td>\n",
       "      <td>0</td>\n",
       "      <td>...</td>\n",
       "      <td>0</td>\n",
       "      <td>0</td>\n",
       "      <td>0</td>\n",
       "      <td>0</td>\n",
       "      <td>0</td>\n",
       "      <td>0</td>\n",
       "      <td>0</td>\n",
       "      <td>0</td>\n",
       "      <td>0</td>\n",
       "      <td>0</td>\n",
       "    </tr>\n",
       "  </tbody>\n",
       "</table>\n",
       "<p>5 rows × 37 columns</p>\n",
       "</div>"
      ],
      "text/plain": [
       "                                      Hyperkinetic Dysarthria  \\\n",
       "uid                                                             \n",
       "4d28f730-5814-48e1-bc29-3c0bf562e2fb                        0   \n",
       "1e2dedd0-4f93-42ee-b0fb-c77fb7ba4cf4                        1   \n",
       "f31c13e4-9f49-411e-b59f-f692244fb740                        0   \n",
       "d917de91-c421-40bf-9d75-a0b5b0736c5b                        0   \n",
       "9c4a9e77-3080-4591-8797-d712e42d6ed6                        1   \n",
       "\n",
       "                                      Hypokinetic dysarthria  \\\n",
       "uid                                                            \n",
       "4d28f730-5814-48e1-bc29-3c0bf562e2fb                       0   \n",
       "1e2dedd0-4f93-42ee-b0fb-c77fb7ba4cf4                       0   \n",
       "f31c13e4-9f49-411e-b59f-f692244fb740                       0   \n",
       "d917de91-c421-40bf-9d75-a0b5b0736c5b                       1   \n",
       "9c4a9e77-3080-4591-8797-d712e42d6ed6                       0   \n",
       "\n",
       "                                      Flaccid dysarthria  \\\n",
       "uid                                                        \n",
       "4d28f730-5814-48e1-bc29-3c0bf562e2fb                   0   \n",
       "1e2dedd0-4f93-42ee-b0fb-c77fb7ba4cf4                   0   \n",
       "f31c13e4-9f49-411e-b59f-f692244fb740                   0   \n",
       "d917de91-c421-40bf-9d75-a0b5b0736c5b                   0   \n",
       "9c4a9e77-3080-4591-8797-d712e42d6ed6                   0   \n",
       "\n",
       "                                      Apraxia of speech, Phonetic  \\\n",
       "uid                                                                 \n",
       "4d28f730-5814-48e1-bc29-3c0bf562e2fb                            0   \n",
       "1e2dedd0-4f93-42ee-b0fb-c77fb7ba4cf4                            0   \n",
       "f31c13e4-9f49-411e-b59f-f692244fb740                            0   \n",
       "d917de91-c421-40bf-9d75-a0b5b0736c5b                            0   \n",
       "9c4a9e77-3080-4591-8797-d712e42d6ed6                            0   \n",
       "\n",
       "                                      Neurological MSD, NOS  \\\n",
       "uid                                                           \n",
       "4d28f730-5814-48e1-bc29-3c0bf562e2fb                      0   \n",
       "1e2dedd0-4f93-42ee-b0fb-c77fb7ba4cf4                      0   \n",
       "f31c13e4-9f49-411e-b59f-f692244fb740                      0   \n",
       "d917de91-c421-40bf-9d75-a0b5b0736c5b                      0   \n",
       "9c4a9e77-3080-4591-8797-d712e42d6ed6                      0   \n",
       "\n",
       "                                      Functional speech disorder  \\\n",
       "uid                                                                \n",
       "4d28f730-5814-48e1-bc29-3c0bf562e2fb                           0   \n",
       "1e2dedd0-4f93-42ee-b0fb-c77fb7ba4cf4                           0   \n",
       "f31c13e4-9f49-411e-b59f-f692244fb740                           0   \n",
       "d917de91-c421-40bf-9d75-a0b5b0736c5b                           0   \n",
       "9c4a9e77-3080-4591-8797-d712e42d6ed6                           0   \n",
       "\n",
       "                                      Apraxia of speech, Prosodic  \\\n",
       "uid                                                                 \n",
       "4d28f730-5814-48e1-bc29-3c0bf562e2fb                            0   \n",
       "1e2dedd0-4f93-42ee-b0fb-c77fb7ba4cf4                            0   \n",
       "f31c13e4-9f49-411e-b59f-f692244fb740                            0   \n",
       "d917de91-c421-40bf-9d75-a0b5b0736c5b                            0   \n",
       "9c4a9e77-3080-4591-8797-d712e42d6ed6                            0   \n",
       "\n",
       "                                      Spastic dysarthria  Ataxic dysarthria  \\\n",
       "uid                                                                           \n",
       "4d28f730-5814-48e1-bc29-3c0bf562e2fb                   1                  1   \n",
       "1e2dedd0-4f93-42ee-b0fb-c77fb7ba4cf4                   0                  0   \n",
       "f31c13e4-9f49-411e-b59f-f692244fb740                   0                  0   \n",
       "d917de91-c421-40bf-9d75-a0b5b0736c5b                   0                  0   \n",
       "9c4a9e77-3080-4591-8797-d712e42d6ed6                   1                  1   \n",
       "\n",
       "                                      Abnormal Speech, NOS  ...  hypernasal  \\\n",
       "uid                                                         ...               \n",
       "4d28f730-5814-48e1-bc29-3c0bf562e2fb                     0  ...           0   \n",
       "1e2dedd0-4f93-42ee-b0fb-c77fb7ba4cf4                     0  ...           0   \n",
       "f31c13e4-9f49-411e-b59f-f692244fb740                     1  ...           1   \n",
       "d917de91-c421-40bf-9d75-a0b5b0736c5b                     0  ...           0   \n",
       "9c4a9e77-3080-4591-8797-d712e42d6ed6                     0  ...           0   \n",
       "\n",
       "                                      audible nasal emission  \\\n",
       "uid                                                            \n",
       "4d28f730-5814-48e1-bc29-3c0bf562e2fb                       1   \n",
       "1e2dedd0-4f93-42ee-b0fb-c77fb7ba4cf4                       0   \n",
       "f31c13e4-9f49-411e-b59f-f692244fb740                       1   \n",
       "d917de91-c421-40bf-9d75-a0b5b0736c5b                       0   \n",
       "9c4a9e77-3080-4591-8797-d712e42d6ed6                       0   \n",
       "\n",
       "                                      abn loudness variability  \\\n",
       "uid                                                              \n",
       "4d28f730-5814-48e1-bc29-3c0bf562e2fb                         0   \n",
       "1e2dedd0-4f93-42ee-b0fb-c77fb7ba4cf4                         1   \n",
       "f31c13e4-9f49-411e-b59f-f692244fb740                         0   \n",
       "d917de91-c421-40bf-9d75-a0b5b0736c5b                         0   \n",
       "9c4a9e77-3080-4591-8797-d712e42d6ed6                         0   \n",
       "\n",
       "                                      sound substitutions  \\\n",
       "uid                                                         \n",
       "4d28f730-5814-48e1-bc29-3c0bf562e2fb                    0   \n",
       "1e2dedd0-4f93-42ee-b0fb-c77fb7ba4cf4                    0   \n",
       "f31c13e4-9f49-411e-b59f-f692244fb740                    0   \n",
       "d917de91-c421-40bf-9d75-a0b5b0736c5b                    0   \n",
       "9c4a9e77-3080-4591-8797-d712e42d6ed6                    0   \n",
       "\n",
       "                                      reduced syllables per breath group  \\\n",
       "uid                                                                        \n",
       "4d28f730-5814-48e1-bc29-3c0bf562e2fb                                   0   \n",
       "1e2dedd0-4f93-42ee-b0fb-c77fb7ba4cf4                                   0   \n",
       "f31c13e4-9f49-411e-b59f-f692244fb740                                   0   \n",
       "d917de91-c421-40bf-9d75-a0b5b0736c5b                                   0   \n",
       "9c4a9e77-3080-4591-8797-d712e42d6ed6                                   0   \n",
       "\n",
       "                                      stridor  low pitch  voice interruptions  \\\n",
       "uid                                                                             \n",
       "4d28f730-5814-48e1-bc29-3c0bf562e2fb        0          0                    0   \n",
       "1e2dedd0-4f93-42ee-b0fb-c77fb7ba4cf4        0          0                    0   \n",
       "f31c13e4-9f49-411e-b59f-f692244fb740        0          0                    0   \n",
       "d917de91-c421-40bf-9d75-a0b5b0736c5b        0          0                    0   \n",
       "9c4a9e77-3080-4591-8797-d712e42d6ed6        0          0                    0   \n",
       "\n",
       "                                      increased OA loudness  prolonged sounds  \n",
       "uid                                                                            \n",
       "4d28f730-5814-48e1-bc29-3c0bf562e2fb                      0                 0  \n",
       "1e2dedd0-4f93-42ee-b0fb-c77fb7ba4cf4                      1                 0  \n",
       "f31c13e4-9f49-411e-b59f-f692244fb740                      0                 0  \n",
       "d917de91-c421-40bf-9d75-a0b5b0736c5b                      0                 0  \n",
       "9c4a9e77-3080-4591-8797-d712e42d6ed6                      0                 0  \n",
       "\n",
       "[5 rows x 37 columns]"
      ]
     },
     "execution_count": 15,
     "metadata": {},
     "output_type": "execute_result"
    }
   ],
   "source": [
    "train_df.head()"
   ]
  },
  {
   "cell_type": "code",
   "execution_count": 16,
   "id": "6651c106-a42a-4820-b3fe-b6b7cf373f4c",
   "metadata": {},
   "outputs": [],
   "source": [
    "train_df[\"distortions\"]=((train_df[\"distorted Cs\"]+train_df[\"distorted V\"])>0).astype(int)\n",
    "test_df[\"distortions\"]=((test_df[\"distorted Cs\"]+test_df[\"distorted V\"])>0).astype(int)"
   ]
  },
  {
   "cell_type": "code",
   "execution_count": 17,
   "id": "906ed146-4b9c-43db-8c9b-b9422e34ff8b",
   "metadata": {},
   "outputs": [
    {
     "data": {
      "text/plain": [
       "breathy                               160\n",
       "loudness decay                         98\n",
       "distorted Cs                          240\n",
       "slow rate                             282\n",
       "high pitch                             52\n",
       "hoarse / harsh                        215\n",
       "irregular artic breakdowns            212\n",
       "rapid rate                             81\n",
       "reduced OA loudness                    79\n",
       "distorted V                           101\n",
       "accelerating rate                      33\n",
       "abn pitch variability                 168\n",
       "strained                              127\n",
       "hypernasal                             70\n",
       "audible nasal emission                 39\n",
       "abn loudness variability              162\n",
       "sound substitutions                    11\n",
       "reduced syllables per breath group     64\n",
       "stridor                                20\n",
       "low pitch                              27\n",
       "voice interruptions                    27\n",
       "increased OA loudness                  17\n",
       "prolonged sounds                       25\n",
       "distortions                           263\n",
       "dtype: int64"
      ]
     },
     "execution_count": 17,
     "metadata": {},
     "output_type": "execute_result"
    }
   ],
   "source": [
    "train_df[train_df.columns[14:]].sum()"
   ]
  },
  {
   "cell_type": "code",
   "execution_count": 18,
   "id": "605bd200-3564-442b-94bc-1705c2e60f8a",
   "metadata": {},
   "outputs": [],
   "source": [
    "target_labels=['breathy',\n",
    "             'loudness decay',\n",
    "             'slow rate',\n",
    "             'high pitch',\n",
    "             'hoarse / harsh',\n",
    "             'irregular artic breakdowns',\n",
    "             'rapid rate',\n",
    "             'reduced OA loudness',\n",
    "             'abn pitch variability',\n",
    "             'strained',\n",
    "             'hypernasal',\n",
    "             'abn loudness variability',\n",
    "              'distortions']"
   ]
  },
  {
   "cell_type": "code",
   "execution_count": 19,
   "id": "0e0d88a5-d4ba-4587-bacf-9a45ba7be75d",
   "metadata": {},
   "outputs": [
    {
     "data": {
      "text/plain": [
       "breathy                               28\n",
       "loudness decay                        15\n",
       "distorted Cs                          36\n",
       "slow rate                             46\n",
       "high pitch                             9\n",
       "hoarse / harsh                        32\n",
       "irregular artic breakdowns            35\n",
       "rapid rate                            12\n",
       "reduced OA loudness                   10\n",
       "distorted V                            8\n",
       "accelerating rate                      2\n",
       "abn pitch variability                 25\n",
       "strained                              23\n",
       "hypernasal                            11\n",
       "audible nasal emission                 9\n",
       "abn loudness variability              22\n",
       "sound substitutions                    0\n",
       "reduced syllables per breath group     2\n",
       "stridor                                3\n",
       "low pitch                              3\n",
       "voice interruptions                    4\n",
       "increased OA loudness                  1\n",
       "prolonged sounds                       1\n",
       "distortions                           37\n",
       "dtype: int64"
      ]
     },
     "execution_count": 19,
     "metadata": {},
     "output_type": "execute_result"
    }
   ],
   "source": [
    "test_df[test_df.columns[14:]].sum()"
   ]
  },
  {
   "cell_type": "code",
   "execution_count": 20,
   "id": "c0b8eeeb-faed-4a1d-ba4e-18a0c814fa2e",
   "metadata": {},
   "outputs": [
    {
     "data": {
      "text/html": [
       "<div>\n",
       "<style scoped>\n",
       "    .dataframe tbody tr th:only-of-type {\n",
       "        vertical-align: middle;\n",
       "    }\n",
       "\n",
       "    .dataframe tbody tr th {\n",
       "        vertical-align: top;\n",
       "    }\n",
       "\n",
       "    .dataframe thead th {\n",
       "        text-align: right;\n",
       "    }\n",
       "</style>\n",
       "<table border=\"1\" class=\"dataframe\">\n",
       "  <thead>\n",
       "    <tr style=\"text-align: right;\">\n",
       "      <th></th>\n",
       "      <th>Hyperkinetic Dysarthria</th>\n",
       "      <th>Hypokinetic dysarthria</th>\n",
       "      <th>Flaccid dysarthria</th>\n",
       "      <th>Apraxia of speech, Phonetic</th>\n",
       "      <th>Neurological MSD, NOS</th>\n",
       "      <th>Functional speech disorder</th>\n",
       "      <th>Apraxia of speech, Prosodic</th>\n",
       "      <th>Spastic dysarthria</th>\n",
       "      <th>Ataxic dysarthria</th>\n",
       "      <th>Abnormal Speech, NOS</th>\n",
       "      <th>...</th>\n",
       "      <th>audible nasal emission</th>\n",
       "      <th>abn loudness variability</th>\n",
       "      <th>sound substitutions</th>\n",
       "      <th>reduced syllables per breath group</th>\n",
       "      <th>stridor</th>\n",
       "      <th>low pitch</th>\n",
       "      <th>voice interruptions</th>\n",
       "      <th>increased OA loudness</th>\n",
       "      <th>prolonged sounds</th>\n",
       "      <th>distortions</th>\n",
       "    </tr>\n",
       "    <tr>\n",
       "      <th>uid</th>\n",
       "      <th></th>\n",
       "      <th></th>\n",
       "      <th></th>\n",
       "      <th></th>\n",
       "      <th></th>\n",
       "      <th></th>\n",
       "      <th></th>\n",
       "      <th></th>\n",
       "      <th></th>\n",
       "      <th></th>\n",
       "      <th></th>\n",
       "      <th></th>\n",
       "      <th></th>\n",
       "      <th></th>\n",
       "      <th></th>\n",
       "      <th></th>\n",
       "      <th></th>\n",
       "      <th></th>\n",
       "      <th></th>\n",
       "      <th></th>\n",
       "      <th></th>\n",
       "    </tr>\n",
       "  </thead>\n",
       "  <tbody>\n",
       "    <tr>\n",
       "      <th>c95e80f3-0344-465d-a3f7-62a9fc180b4e</th>\n",
       "      <td>0</td>\n",
       "      <td>1</td>\n",
       "      <td>0</td>\n",
       "      <td>0</td>\n",
       "      <td>0</td>\n",
       "      <td>0</td>\n",
       "      <td>0</td>\n",
       "      <td>0</td>\n",
       "      <td>0</td>\n",
       "      <td>0</td>\n",
       "      <td>...</td>\n",
       "      <td>0</td>\n",
       "      <td>0</td>\n",
       "      <td>0</td>\n",
       "      <td>0</td>\n",
       "      <td>0</td>\n",
       "      <td>0</td>\n",
       "      <td>0</td>\n",
       "      <td>0</td>\n",
       "      <td>0</td>\n",
       "      <td>0</td>\n",
       "    </tr>\n",
       "    <tr>\n",
       "      <th>2c71fb64-e8e9-4b6a-9f1b-99c6c4bdfd40</th>\n",
       "      <td>0</td>\n",
       "      <td>0</td>\n",
       "      <td>1</td>\n",
       "      <td>0</td>\n",
       "      <td>0</td>\n",
       "      <td>0</td>\n",
       "      <td>0</td>\n",
       "      <td>1</td>\n",
       "      <td>0</td>\n",
       "      <td>0</td>\n",
       "      <td>...</td>\n",
       "      <td>1</td>\n",
       "      <td>0</td>\n",
       "      <td>0</td>\n",
       "      <td>0</td>\n",
       "      <td>0</td>\n",
       "      <td>1</td>\n",
       "      <td>0</td>\n",
       "      <td>0</td>\n",
       "      <td>0</td>\n",
       "      <td>1</td>\n",
       "    </tr>\n",
       "    <tr>\n",
       "      <th>1a720709-1e14-46bb-a4bc-686220e2fabe</th>\n",
       "      <td>0</td>\n",
       "      <td>1</td>\n",
       "      <td>1</td>\n",
       "      <td>1</td>\n",
       "      <td>1</td>\n",
       "      <td>0</td>\n",
       "      <td>0</td>\n",
       "      <td>1</td>\n",
       "      <td>0</td>\n",
       "      <td>0</td>\n",
       "      <td>...</td>\n",
       "      <td>0</td>\n",
       "      <td>0</td>\n",
       "      <td>0</td>\n",
       "      <td>0</td>\n",
       "      <td>0</td>\n",
       "      <td>0</td>\n",
       "      <td>0</td>\n",
       "      <td>0</td>\n",
       "      <td>0</td>\n",
       "      <td>0</td>\n",
       "    </tr>\n",
       "    <tr>\n",
       "      <th>16c78c97-42aa-498d-9793-e3dc91c154fc</th>\n",
       "      <td>0</td>\n",
       "      <td>1</td>\n",
       "      <td>0</td>\n",
       "      <td>1</td>\n",
       "      <td>0</td>\n",
       "      <td>0</td>\n",
       "      <td>1</td>\n",
       "      <td>1</td>\n",
       "      <td>0</td>\n",
       "      <td>0</td>\n",
       "      <td>...</td>\n",
       "      <td>0</td>\n",
       "      <td>0</td>\n",
       "      <td>0</td>\n",
       "      <td>0</td>\n",
       "      <td>0</td>\n",
       "      <td>0</td>\n",
       "      <td>0</td>\n",
       "      <td>0</td>\n",
       "      <td>0</td>\n",
       "      <td>1</td>\n",
       "    </tr>\n",
       "    <tr>\n",
       "      <th>8adbedef-13ec-4840-8cce-293bcb61d145</th>\n",
       "      <td>1</td>\n",
       "      <td>1</td>\n",
       "      <td>0</td>\n",
       "      <td>0</td>\n",
       "      <td>0</td>\n",
       "      <td>0</td>\n",
       "      <td>0</td>\n",
       "      <td>0</td>\n",
       "      <td>0</td>\n",
       "      <td>0</td>\n",
       "      <td>...</td>\n",
       "      <td>0</td>\n",
       "      <td>0</td>\n",
       "      <td>0</td>\n",
       "      <td>0</td>\n",
       "      <td>0</td>\n",
       "      <td>0</td>\n",
       "      <td>0</td>\n",
       "      <td>0</td>\n",
       "      <td>0</td>\n",
       "      <td>1</td>\n",
       "    </tr>\n",
       "  </tbody>\n",
       "</table>\n",
       "<p>5 rows × 38 columns</p>\n",
       "</div>"
      ],
      "text/plain": [
       "                                      Hyperkinetic Dysarthria  \\\n",
       "uid                                                             \n",
       "c95e80f3-0344-465d-a3f7-62a9fc180b4e                        0   \n",
       "2c71fb64-e8e9-4b6a-9f1b-99c6c4bdfd40                        0   \n",
       "1a720709-1e14-46bb-a4bc-686220e2fabe                        0   \n",
       "16c78c97-42aa-498d-9793-e3dc91c154fc                        0   \n",
       "8adbedef-13ec-4840-8cce-293bcb61d145                        1   \n",
       "\n",
       "                                      Hypokinetic dysarthria  \\\n",
       "uid                                                            \n",
       "c95e80f3-0344-465d-a3f7-62a9fc180b4e                       1   \n",
       "2c71fb64-e8e9-4b6a-9f1b-99c6c4bdfd40                       0   \n",
       "1a720709-1e14-46bb-a4bc-686220e2fabe                       1   \n",
       "16c78c97-42aa-498d-9793-e3dc91c154fc                       1   \n",
       "8adbedef-13ec-4840-8cce-293bcb61d145                       1   \n",
       "\n",
       "                                      Flaccid dysarthria  \\\n",
       "uid                                                        \n",
       "c95e80f3-0344-465d-a3f7-62a9fc180b4e                   0   \n",
       "2c71fb64-e8e9-4b6a-9f1b-99c6c4bdfd40                   1   \n",
       "1a720709-1e14-46bb-a4bc-686220e2fabe                   1   \n",
       "16c78c97-42aa-498d-9793-e3dc91c154fc                   0   \n",
       "8adbedef-13ec-4840-8cce-293bcb61d145                   0   \n",
       "\n",
       "                                      Apraxia of speech, Phonetic  \\\n",
       "uid                                                                 \n",
       "c95e80f3-0344-465d-a3f7-62a9fc180b4e                            0   \n",
       "2c71fb64-e8e9-4b6a-9f1b-99c6c4bdfd40                            0   \n",
       "1a720709-1e14-46bb-a4bc-686220e2fabe                            1   \n",
       "16c78c97-42aa-498d-9793-e3dc91c154fc                            1   \n",
       "8adbedef-13ec-4840-8cce-293bcb61d145                            0   \n",
       "\n",
       "                                      Neurological MSD, NOS  \\\n",
       "uid                                                           \n",
       "c95e80f3-0344-465d-a3f7-62a9fc180b4e                      0   \n",
       "2c71fb64-e8e9-4b6a-9f1b-99c6c4bdfd40                      0   \n",
       "1a720709-1e14-46bb-a4bc-686220e2fabe                      1   \n",
       "16c78c97-42aa-498d-9793-e3dc91c154fc                      0   \n",
       "8adbedef-13ec-4840-8cce-293bcb61d145                      0   \n",
       "\n",
       "                                      Functional speech disorder  \\\n",
       "uid                                                                \n",
       "c95e80f3-0344-465d-a3f7-62a9fc180b4e                           0   \n",
       "2c71fb64-e8e9-4b6a-9f1b-99c6c4bdfd40                           0   \n",
       "1a720709-1e14-46bb-a4bc-686220e2fabe                           0   \n",
       "16c78c97-42aa-498d-9793-e3dc91c154fc                           0   \n",
       "8adbedef-13ec-4840-8cce-293bcb61d145                           0   \n",
       "\n",
       "                                      Apraxia of speech, Prosodic  \\\n",
       "uid                                                                 \n",
       "c95e80f3-0344-465d-a3f7-62a9fc180b4e                            0   \n",
       "2c71fb64-e8e9-4b6a-9f1b-99c6c4bdfd40                            0   \n",
       "1a720709-1e14-46bb-a4bc-686220e2fabe                            0   \n",
       "16c78c97-42aa-498d-9793-e3dc91c154fc                            1   \n",
       "8adbedef-13ec-4840-8cce-293bcb61d145                            0   \n",
       "\n",
       "                                      Spastic dysarthria  Ataxic dysarthria  \\\n",
       "uid                                                                           \n",
       "c95e80f3-0344-465d-a3f7-62a9fc180b4e                   0                  0   \n",
       "2c71fb64-e8e9-4b6a-9f1b-99c6c4bdfd40                   1                  0   \n",
       "1a720709-1e14-46bb-a4bc-686220e2fabe                   1                  0   \n",
       "16c78c97-42aa-498d-9793-e3dc91c154fc                   1                  0   \n",
       "8adbedef-13ec-4840-8cce-293bcb61d145                   0                  0   \n",
       "\n",
       "                                      Abnormal Speech, NOS  ...  \\\n",
       "uid                                                         ...   \n",
       "c95e80f3-0344-465d-a3f7-62a9fc180b4e                     0  ...   \n",
       "2c71fb64-e8e9-4b6a-9f1b-99c6c4bdfd40                     0  ...   \n",
       "1a720709-1e14-46bb-a4bc-686220e2fabe                     0  ...   \n",
       "16c78c97-42aa-498d-9793-e3dc91c154fc                     0  ...   \n",
       "8adbedef-13ec-4840-8cce-293bcb61d145                     0  ...   \n",
       "\n",
       "                                      audible nasal emission  \\\n",
       "uid                                                            \n",
       "c95e80f3-0344-465d-a3f7-62a9fc180b4e                       0   \n",
       "2c71fb64-e8e9-4b6a-9f1b-99c6c4bdfd40                       1   \n",
       "1a720709-1e14-46bb-a4bc-686220e2fabe                       0   \n",
       "16c78c97-42aa-498d-9793-e3dc91c154fc                       0   \n",
       "8adbedef-13ec-4840-8cce-293bcb61d145                       0   \n",
       "\n",
       "                                      abn loudness variability  \\\n",
       "uid                                                              \n",
       "c95e80f3-0344-465d-a3f7-62a9fc180b4e                         0   \n",
       "2c71fb64-e8e9-4b6a-9f1b-99c6c4bdfd40                         0   \n",
       "1a720709-1e14-46bb-a4bc-686220e2fabe                         0   \n",
       "16c78c97-42aa-498d-9793-e3dc91c154fc                         0   \n",
       "8adbedef-13ec-4840-8cce-293bcb61d145                         0   \n",
       "\n",
       "                                      sound substitutions  \\\n",
       "uid                                                         \n",
       "c95e80f3-0344-465d-a3f7-62a9fc180b4e                    0   \n",
       "2c71fb64-e8e9-4b6a-9f1b-99c6c4bdfd40                    0   \n",
       "1a720709-1e14-46bb-a4bc-686220e2fabe                    0   \n",
       "16c78c97-42aa-498d-9793-e3dc91c154fc                    0   \n",
       "8adbedef-13ec-4840-8cce-293bcb61d145                    0   \n",
       "\n",
       "                                      reduced syllables per breath group  \\\n",
       "uid                                                                        \n",
       "c95e80f3-0344-465d-a3f7-62a9fc180b4e                                   0   \n",
       "2c71fb64-e8e9-4b6a-9f1b-99c6c4bdfd40                                   0   \n",
       "1a720709-1e14-46bb-a4bc-686220e2fabe                                   0   \n",
       "16c78c97-42aa-498d-9793-e3dc91c154fc                                   0   \n",
       "8adbedef-13ec-4840-8cce-293bcb61d145                                   0   \n",
       "\n",
       "                                      stridor  low pitch  voice interruptions  \\\n",
       "uid                                                                             \n",
       "c95e80f3-0344-465d-a3f7-62a9fc180b4e        0          0                    0   \n",
       "2c71fb64-e8e9-4b6a-9f1b-99c6c4bdfd40        0          1                    0   \n",
       "1a720709-1e14-46bb-a4bc-686220e2fabe        0          0                    0   \n",
       "16c78c97-42aa-498d-9793-e3dc91c154fc        0          0                    0   \n",
       "8adbedef-13ec-4840-8cce-293bcb61d145        0          0                    0   \n",
       "\n",
       "                                      increased OA loudness  prolonged sounds  \\\n",
       "uid                                                                             \n",
       "c95e80f3-0344-465d-a3f7-62a9fc180b4e                      0                 0   \n",
       "2c71fb64-e8e9-4b6a-9f1b-99c6c4bdfd40                      0                 0   \n",
       "1a720709-1e14-46bb-a4bc-686220e2fabe                      0                 0   \n",
       "16c78c97-42aa-498d-9793-e3dc91c154fc                      0                 0   \n",
       "8adbedef-13ec-4840-8cce-293bcb61d145                      0                 0   \n",
       "\n",
       "                                      distortions  \n",
       "uid                                                \n",
       "c95e80f3-0344-465d-a3f7-62a9fc180b4e            0  \n",
       "2c71fb64-e8e9-4b6a-9f1b-99c6c4bdfd40            1  \n",
       "1a720709-1e14-46bb-a4bc-686220e2fabe            0  \n",
       "16c78c97-42aa-498d-9793-e3dc91c154fc            1  \n",
       "8adbedef-13ec-4840-8cce-293bcb61d145            1  \n",
       "\n",
       "[5 rows x 38 columns]"
      ]
     },
     "execution_count": 20,
     "metadata": {},
     "output_type": "execute_result"
    }
   ],
   "source": [
    "test_df.head()"
   ]
  },
  {
   "cell_type": "code",
   "execution_count": 21,
   "id": "c96a55c6-bceb-4114-85d5-f8ab274dc3c4",
   "metadata": {},
   "outputs": [
    {
     "name": "stdout",
     "output_type": "stream",
     "text": [
      "now load a SSL pretrained models from ./pretrained_model/SSAST-Base-Frame-400.pth\n",
      "pretraining patch split stride: frequency=128, time=2\n",
      "pretraining patch shape: frequency=128, time=2\n",
      "pretraining patch array dimension: frequency=1, time=512\n",
      "pretraining number of patches=512\n",
      "fine-tuning patch split stride: frequncey=128, time=2\n",
      "fine-tuning number of patches=512\n"
     ]
    },
    {
     "name": "stderr",
     "output_type": "stream",
     "text": [
      "/opt/conda/lib/python3.7/site-packages/torch/nn/functional.py:3635: UserWarning: Default upsampling behavior when mode=bilinear is changed to align_corners=False since 0.4.0. Please specify align_corners=True if the old behavior is desired. See the documentation of nn.Upsample for details.\n",
      "  \"See the documentation of nn.Upsample for details.\".format(mode)\n"
     ]
    }
   ],
   "source": [
    "input_tdim = 1024\n",
    "\n",
    "ast_mdl = ASTModel(\n",
    "    label_dim=len(target_labels),\n",
    "    fshape=128, tshape=2, fstride=128, tstride=2,input_fdim=128, \n",
    "    input_tdim=input_tdim, model_size='base',\n",
    "    pretrain_stage=False,load_pretrained_mdl_path='./pretrained_model/SSAST-Base-Frame-400.pth'\n",
    ")"
   ]
  },
  {
   "cell_type": "code",
   "execution_count": 22,
   "id": "9f55d184-8124-43b7-98c3-1469a04e8d9f",
   "metadata": {},
   "outputs": [],
   "source": [
    "def prep_ssast_data(df,target_labels,save_name,create_label_csv=False):\n",
    "    data_list=[]\n",
    "    for i in range(df.shape[0]):\n",
    "        data_list.append({\n",
    "            'wav':df.index[i],\n",
    "            'labels':df.iloc[i][target_labels].values.tolist()\n",
    "        })\n",
    "    \n",
    "    all_labels=[d['labels'] for d in data_list]\n",
    "    all_str=[('_').join(map(str, l)) for l in all_labels]\n",
    "    \n",
    "    label_df=pd.DataFrame({\n",
    "        'mid':all_labels,\n",
    "        'display_name':all_str\n",
    "    })\n",
    "    \n",
    "    with open(save_name + '.json', 'w') as f:\n",
    "        json.dump({'data': data_list}, f, indent=1)\n",
    "        \n",
    "    if create_label_csv:\n",
    "        label_df.drop_duplicates('display_name',inplace=True)\n",
    "        label_df.reset_index(inplace=True,drop=True)\n",
    "        label_df.reset_index(inplace=True)\n",
    "        label_df.to_csv('label_df.csv')"
   ]
  },
  {
   "cell_type": "code",
   "execution_count": 23,
   "id": "bff26401-028a-4b3b-87f5-e8cdf256441a",
   "metadata": {},
   "outputs": [],
   "source": [
    "train_df=train_df[target_labels]\n",
    "test_df=train_df[target_labels]"
   ]
  },
  {
   "cell_type": "code",
   "execution_count": 24,
   "id": "372eec5e-2b19-4cac-9c2f-03c69d1088dc",
   "metadata": {},
   "outputs": [],
   "source": [
    "#target_labels = ['normal', 'Spastic dysarthria', 'apraxia of speech']\n",
    "\n",
    "prep_ssast_data(train_df,target_labels,'train_ssast',create_label_csv=True)\n",
    "prep_ssast_data(test_df,target_labels,'test_ssast')"
   ]
  },
  {
   "cell_type": "code",
   "execution_count": 25,
   "id": "7c0b930a-8873-4383-88dc-8ce014162619",
   "metadata": {},
   "outputs": [],
   "source": [
    "dataset_mean=-4.2677393\n",
    "dataset_std=4.5689974\n",
    "audio_conf = {'num_mel_bins': 128, 'target_length': 1024, 'freqm': 0, 'timem': 0, 'mixup': 0, 'dataset': 'demo',\n",
    "              'mode':'train', 'mean':dataset_mean, 'std':dataset_std, 'noise':False}"
   ]
  },
  {
   "cell_type": "code",
   "execution_count": 26,
   "id": "67e0e8c6-fdea-4275-a600-3b81dfc6468f",
   "metadata": {},
   "outputs": [
    {
     "name": "stdout",
     "output_type": "stream",
     "text": [
      "---------------the train dataloader---------------\n",
      "now using following mask: 0 freq, 0 time\n",
      "now using mix-up with rate 0.000000\n",
      "now process demo\n",
      "use dataset mean -4.268 and std 4.569 to normalize the input.\n",
      "number of classes is 289\n",
      "---------------the train dataloader---------------\n",
      "now using following mask: 0 freq, 0 time\n",
      "now using mix-up with rate 0.000000\n",
      "now process demo\n",
      "use dataset mean -4.268 and std 4.569 to normalize the input.\n",
      "number of classes is 289\n"
     ]
    }
   ],
   "source": [
    "train_data=AudioDataset('train_ssast.json',audio_conf,bucket,gcs_prefix,label_csv='label_df.csv')\n",
    "test_data=AudioDataset('test_ssast.json',audio_conf,bucket,gcs_prefix,label_csv='label_df.csv')"
   ]
  },
  {
   "cell_type": "code",
   "execution_count": 27,
   "id": "1e87eb32-881e-40a1-b97f-dd8aa915f340",
   "metadata": {},
   "outputs": [],
   "source": [
    "train_loader = torch.utils.data.DataLoader(\n",
    "    train_data,\n",
    "    batch_size=8, shuffle=True, num_workers=0)\n",
    "\n",
    "test_loader = torch.utils.data.DataLoader(\n",
    "    test_data,\n",
    "    batch_size=8, shuffle=False, num_workers=0)"
   ]
  },
  {
   "cell_type": "code",
   "execution_count": 28,
   "id": "063ce596-f64e-4ced-872c-bcb7bdf76dc0",
   "metadata": {},
   "outputs": [],
   "source": [
    "idx=1\n",
    "spectrogram, label = train_loader.dataset[idx]"
   ]
  },
  {
   "cell_type": "code",
   "execution_count": 29,
   "id": "bdef4bdd-7b18-438b-b1e7-561539450b82",
   "metadata": {},
   "outputs": [
    {
     "data": {
      "text/plain": [
       "tensor([0., 0., 1., 0., 0., 0., 0., 0., 1., 0., 0., 1., 0.])"
      ]
     },
     "execution_count": 29,
     "metadata": {},
     "output_type": "execute_result"
    }
   ],
   "source": [
    "label"
   ]
  },
  {
   "cell_type": "code",
   "execution_count": 30,
   "id": "4b503c67-e941-496c-9762-5f115b8ebc96",
   "metadata": {},
   "outputs": [
    {
     "data": {
      "image/png": "[encoded data removed]",
      "text/plain": [
       "<Figure size 1200x1200 with 1 Axes>"
      ]
     },
     "metadata": {
      "needs_background": "light"
     },
     "output_type": "display_data"
    }
   ],
   "source": [
    "from matplotlib import pyplot as plt\n",
    "plt.figure(num=1, figsize=(15, 15), dpi=80)\n",
    "plt.imshow(spectrogram.transpose(1,0).flip(0))\n",
    "plt.show()"
   ]
  },
  {
   "cell_type": "code",
   "execution_count": 31,
   "id": "1d00bead-889b-4e0e-81cc-8a00bcbf09ac",
   "metadata": {},
   "outputs": [],
   "source": [
    "batch=next(iter(train_loader))"
   ]
  },
  {
   "cell_type": "code",
   "execution_count": 32,
   "id": "14fbf2ac-4713-4206-bcc7-5bc210be7254",
   "metadata": {},
   "outputs": [],
   "source": [
    "prediction = ast_mdl(batch[0],task='ft_cls')"
   ]
  },
  {
   "cell_type": "code",
   "execution_count": 33,
   "id": "ecb2538e-91a5-4ab2-8554-c4e8e5ea27a8",
   "metadata": {},
   "outputs": [
    {
     "data": {
      "text/plain": [
       "torch.Size([8, 13])"
      ]
     },
     "execution_count": 33,
     "metadata": {},
     "output_type": "execute_result"
    }
   ],
   "source": [
    "prediction.shape"
   ]
  },
  {
   "cell_type": "code",
   "execution_count": 34,
   "id": "2731d0a6-878a-4667-a623-db21f223a57e",
   "metadata": {},
   "outputs": [
    {
     "data": {
      "text/plain": [
       "tensor([ 0.0251,  0.5060, -0.6569,  0.9802, -0.7698,  0.4019,  0.4400,  0.1212,\n",
       "        -0.1025, -0.9329,  0.2715, -0.2622,  0.5981],\n",
       "       grad_fn=<SelectBackward0>)"
      ]
     },
     "execution_count": 34,
     "metadata": {},
     "output_type": "execute_result"
    }
   ],
   "source": [
    "prediction[1,]"
   ]
  },
  {
   "cell_type": "code",
   "execution_count": 35,
   "id": "4bc49344-29ab-44c1-9a89-677b7de4f8f5",
   "metadata": {},
   "outputs": [
    {
     "name": "stdout",
     "output_type": "stream",
     "text": [
      "Number of trainable parameters: 11533\n"
     ]
    }
   ],
   "source": [
    "for param in ast_mdl.v.parameters():\n",
    "    param.requires_grad = False\n",
    "    \n",
    "model_parameters = filter(lambda p: p.requires_grad, ast_mdl.parameters())\n",
    "params = sum([np.prod(p.size()) for p in model_parameters])\n",
    "print(f'Number of trainable parameters: {params}')"
   ]
  },
  {
   "cell_type": "code",
   "execution_count": null,
   "id": "db39f3d1-d6d9-4d2f-9b97-4f34f6b46c30",
   "metadata": {},
   "outputs": [],
   "source": [
    "#ast_mdl.v.parameters"
   ]
  },
  {
   "cell_type": "code",
   "execution_count": null,
   "id": "dd57b49d-3ea4-42c7-9425-dbe5293b39a2",
   "metadata": {},
   "outputs": [],
   "source": []
  },
  {
   "cell_type": "code",
   "execution_count": null,
   "id": "951bb5a5-6b43-4692-95d5-0801c19ed990",
   "metadata": {},
   "outputs": [],
   "source": []
  },
  {
   "cell_type": "code",
   "execution_count": null,
   "id": "63f1ca60-c4da-47c3-86d8-89bdf4dd38c4",
   "metadata": {},
   "outputs": [],
   "source": []
  },
  {
   "cell_type": "code",
   "execution_count": null,
   "id": "3cbc08f2-ded0-4c83-b598-5ecebc43f73d",
   "metadata": {},
   "outputs": [],
   "source": []
  },
  {
   "cell_type": "code",
   "execution_count": null,
   "id": "44e9f16b-ee84-49a1-871a-f9faf7b51bfa",
   "metadata": {},
   "outputs": [],
   "source": []
  },
  {
   "cell_type": "code",
   "execution_count": 36,
   "id": "9111280e-9ab4-49b7-a181-4a590626cdd7",
   "metadata": {},
   "outputs": [],
   "source": [
    "criterion = torch.nn.BCEWithLogitsLoss()\n",
    "optim = torch.optim.AdamW([p for p in ast_mdl.parameters() if p.requires_grad])"
   ]
  },
  {
   "cell_type": "code",
   "execution_count": 37,
   "id": "267d72dc-167b-44da-abb2-4da09ead95d4",
   "metadata": {},
   "outputs": [
    {
     "name": "stdout",
     "output_type": "stream",
     "text": [
      "0 0.5444328101476034\n",
      "1 0.5123136834303538\n",
      "2 0.5029803915818533\n",
      "3 0.4915827814737956\n",
      "4 0.49061817447344463\n",
      "5 0.4820948890844981\n",
      "6 0.4783046559492747\n",
      "7 0.4764783720175425\n",
      "8 0.46526849110921226\n",
      "9 0.4655648195743561\n",
      "10 0.46353145440419513\n",
      "11 0.45640701611836754\n",
      "12 0.4536081624031067\n",
      "13 0.4526054004828135\n",
      "14 0.4456606614589691\n",
      "15 0.444079882701238\n",
      "16 0.43912473917007444\n",
      "17 0.4387890241543452\n",
      "18 0.43514652331670123\n",
      "19 0.4333126962184906\n",
      "20 0.4273082411289215\n",
      "21 0.4293350950876872\n",
      "22 0.42406383991241453\n",
      "23 0.42376610040664675\n",
      "24 0.42021980524063113\n",
      "25 0.4199077232678731\n",
      "26 0.41638053158919014\n",
      "27 0.41225723663965863\n",
      "28 0.41030267814795174\n",
      "29 0.40903358976046245\n",
      "30 0.40793089667956034\n",
      "31 0.41063364466031393\n",
      "32 0.40565746545791626\n",
      "33 0.4053640866279602\n",
      "34 0.40094220876693726\n",
      "35 0.4017530624071757\n",
      "36 0.39734172900517783\n",
      "37 0.395788954893748\n",
      "38 0.3946167560418447\n",
      "39 0.39532194058100384\n",
      "40 0.3932345422108968\n",
      "41 0.39389167487621307\n",
      "42 0.3911034071445465\n",
      "43 0.3861155378818512\n",
      "44 0.3859003969033559\n",
      "45 0.3819351057211558\n",
      "46 0.3814419015248616\n",
      "47 0.3794969948132833\n",
      "48 0.3817911350727081\n",
      "49 0.38019762516021727\n",
      "50 0.37910382469495135\n",
      "51 0.3748522450526555\n",
      "52 0.374513996442159\n",
      "53 0.3721519462267558\n",
      "54 0.37236568570137024\n",
      "55 0.37213528275489804\n",
      "56 0.36903355956077577\n",
      "57 0.3688745645682017\n",
      "58 0.36866044918696084\n",
      "59 0.3658953966697057\n",
      "60 0.36669574161370594\n",
      "61 0.3643736118078232\n",
      "62 0.36077062994241715\n",
      "63 0.36128409624099733\n",
      "64 0.35880858421325684\n",
      "65 0.3586982915798823\n",
      "66 0.35863047937552134\n",
      "67 0.357125892440478\n",
      "68 0.3554352766275406\n",
      "69 0.35179619789123534\n",
      "70 0.3565414406855901\n",
      "71 0.35166792253653206\n",
      "72 0.3499798393249512\n",
      "73 0.35117900669574736\n",
      "74 0.34881031095981596\n",
      "75 0.34942113916079204\n",
      "76 0.3496423993508021\n",
      "77 0.34594127476215364\n",
      "78 0.3503922106822332\n",
      "79 0.34803431630134585\n"
     ]
    }
   ],
   "source": [
    "epochs = 80\n",
    "for e in range(epochs):\n",
    "    running_loss = 0\n",
    "    for i, batch in enumerate(train_loader):\n",
    "        x = batch[0]\n",
    "        targets = batch[1]\n",
    "        optim.zero_grad()\n",
    "        o =  ast_mdl(batch[0],task='ft_cls')\n",
    "        loss = criterion(o, targets)\n",
    "        loss.backward()\n",
    "        optim.step()\n",
    "        running_loss += loss.item()\n",
    "        print(f'Progress: {round(i/len(train_loader)*100)}%    ',end='\\r')\n",
    "        \n",
    "    print(e, running_loss/len(train_loader))"
   ]
  },
  {
   "cell_type": "code",
   "execution_count": 36,
   "id": "24df918b-7dcc-41ab-ad8b-193d6e9c21ef",
   "metadata": {},
   "outputs": [],
   "source": [
    "criterion = torch.nn.BCEWithLogitsLoss()\n",
    "optim = torch.optim.AdamW([p for p in ast_mdl.parameters() if p.requires_grad])"
   ]
  },
  {
   "cell_type": "code",
   "execution_count": null,
   "id": "c1d493b1-1e55-45d6-b40c-accdfe9020e0",
   "metadata": {},
   "outputs": [
    {
     "name": "stdout",
     "output_type": "stream",
     "text": [
      "0 0.5478242878119151\n",
      "1 0.5399095229307811\n",
      "2 0.5356989073753357\n",
      "3 0.5325702508290608\n",
      "4 0.5292442293961843\n",
      "5 0.5243809584776561\n",
      "6 0.5255300176143646\n",
      "7 0.5191001979509989\n",
      "8 0.5156674782435099\n",
      "9 0.5103721328576406\n",
      "10 0.5109198002020517\n",
      "11 0.5110910558700561\n",
      "12 0.5104552404085795\n",
      "13 0.4989348057905833\n",
      "14 0.49756896058718364\n",
      "15 0.5066890895366669\n",
      "16 0.49151962717374165\n",
      "17 0.5057073978583018\n",
      "18 0.4900615147749583\n",
      "19 0.4852969813346863\n",
      "20 0.4871922226746877\n",
      "21 0.48569448630015055\n",
      "22 0.48558212439219156\n",
      "23 0.4853310441970825\n",
      "24 0.4747785417238871\n",
      "25 0.47251729647318524\n",
      "26 0.47487553596496584\n",
      "27 0.46364206155141197\n",
      "Progress: 35%    \r"
     ]
    }
   ],
   "source": [
    "epochs = 60\n",
    "for e in range(epochs):\n",
    "    running_loss = 0\n",
    "    for i, batch in enumerate(train_loader):\n",
    "        x = batch[0]\n",
    "        targets = batch[1]\n",
    "        optim.zero_grad()\n",
    "        o =  ast_mdl(batch[0],task='ft_cls')\n",
    "        loss = criterion(o, targets)\n",
    "        loss.backward()\n",
    "        optim.step()\n",
    "        running_loss += loss.item()\n",
    "        print(f'Progress: {round(i/len(train_loader)*100)}%    ',end='\\r')\n",
    "        \n",
    "    print(e, running_loss/len(train_loader))"
   ]
  },
  {
   "cell_type": "code",
   "execution_count": 42,
   "id": "71ef5ca3-c3af-479e-9a1a-a5ba0ef68c66",
   "metadata": {},
   "outputs": [],
   "source": [
    "torch.save(ast_mdl.state_dict(), 'ast_mdl_base_frame_400_speechfeat_13_adamw_80epoch.pt')"
   ]
  },
  {
   "cell_type": "code",
   "execution_count": 38,
   "id": "2ff5e2ed-e760-4dcd-a6ad-033ed616d074",
   "metadata": {},
   "outputs": [
    {
     "name": "stdout",
     "output_type": "stream",
     "text": [
      "Progress: 99%    \r"
     ]
    }
   ],
   "source": [
    "ast_mdl.eval()\n",
    "all_preds=[]\n",
    "all_targets=[]\n",
    "for i, batch in enumerate(test_loader):\n",
    "    x = batch[0]\n",
    "    targets = batch[1]\n",
    "    optim.zero_grad()\n",
    "    o=ast_mdl(batch[0],task='ft_cls')\n",
    "    all_preds.append(o)\n",
    "    all_targets.append(targets)\n",
    "    print(f'Progress: {round(i/len(test_loader)*100)}%    ',end='\\r')"
   ]
  },
  {
   "cell_type": "code",
   "execution_count": 51,
   "id": "2082540a-bd68-457c-8869-c8a8208ce587",
   "metadata": {},
   "outputs": [],
   "source": [
    "pred_mat=torch.sigmoid(torch.cat(all_preds)).detach().numpy()"
   ]
  },
  {
   "cell_type": "code",
   "execution_count": 52,
   "id": "ddbebfb7-92a9-4533-b1ec-40b821b6e197",
   "metadata": {},
   "outputs": [],
   "source": [
    "target_mat=torch.cat(all_targets).detach().numpy()"
   ]
  },
  {
   "cell_type": "code",
   "execution_count": 58,
   "id": "18ebeb39-171c-4145-99a4-2d54e7395ef1",
   "metadata": {},
   "outputs": [
    {
     "name": "stdout",
     "output_type": "stream",
     "text": [
      "[0.81359447 0.84853316 0.89390116 0.88922793 0.82539118 0.82231058\n",
      " 0.85897528 0.87631805 0.81902526 0.81845926 0.8660578  0.85558128\n",
      " 0.84275097]\n"
     ]
    }
   ],
   "source": [
    "from sklearn.metrics import roc_auc_score, roc_curve\n",
    "import matplotlib.pyplot as plt\n",
    "\n",
    "aucs=roc_auc_score(target_mat, pred_mat, average = None)\n",
    "print(aucs)"
   ]
  },
  {
   "cell_type": "code",
   "execution_count": 71,
   "id": "4ce07324-17c8-4363-9962-4774688989ee",
   "metadata": {},
   "outputs": [],
   "source": [
    "data = [\n",
    "('Label', target_labels),\n",
    "('AUC', target_labels)]"
   ]
  },
  {
   "cell_type": "code",
   "execution_count": 78,
   "id": "c03fb5af-1f4b-4431-8618-e02038244aa0",
   "metadata": {},
   "outputs": [
    {
     "data": {
      "text/html": [
       "<div>\n",
       "<style scoped>\n",
       "    .dataframe tbody tr th:only-of-type {\n",
       "        vertical-align: middle;\n",
       "    }\n",
       "\n",
       "    .dataframe tbody tr th {\n",
       "        vertical-align: top;\n",
       "    }\n",
       "\n",
       "    .dataframe thead th {\n",
       "        text-align: right;\n",
       "    }\n",
       "</style>\n",
       "<table border=\"1\" class=\"dataframe\">\n",
       "  <thead>\n",
       "    <tr style=\"text-align: right;\">\n",
       "      <th></th>\n",
       "      <th>Label</th>\n",
       "      <th>AUC</th>\n",
       "    </tr>\n",
       "  </thead>\n",
       "  <tbody>\n",
       "    <tr>\n",
       "      <th>0</th>\n",
       "      <td>breathy</td>\n",
       "      <td>0.813594</td>\n",
       "    </tr>\n",
       "    <tr>\n",
       "      <th>1</th>\n",
       "      <td>loudness decay</td>\n",
       "      <td>0.848533</td>\n",
       "    </tr>\n",
       "    <tr>\n",
       "      <th>2</th>\n",
       "      <td>slow rate</td>\n",
       "      <td>0.893901</td>\n",
       "    </tr>\n",
       "    <tr>\n",
       "      <th>3</th>\n",
       "      <td>high pitch</td>\n",
       "      <td>0.889228</td>\n",
       "    </tr>\n",
       "    <tr>\n",
       "      <th>4</th>\n",
       "      <td>hoarse / harsh</td>\n",
       "      <td>0.825391</td>\n",
       "    </tr>\n",
       "    <tr>\n",
       "      <th>5</th>\n",
       "      <td>irregular artic breakdowns</td>\n",
       "      <td>0.822311</td>\n",
       "    </tr>\n",
       "    <tr>\n",
       "      <th>6</th>\n",
       "      <td>rapid rate</td>\n",
       "      <td>0.858975</td>\n",
       "    </tr>\n",
       "    <tr>\n",
       "      <th>7</th>\n",
       "      <td>reduced OA loudness</td>\n",
       "      <td>0.876318</td>\n",
       "    </tr>\n",
       "    <tr>\n",
       "      <th>8</th>\n",
       "      <td>abn pitch variability</td>\n",
       "      <td>0.819025</td>\n",
       "    </tr>\n",
       "    <tr>\n",
       "      <th>9</th>\n",
       "      <td>strained</td>\n",
       "      <td>0.818459</td>\n",
       "    </tr>\n",
       "    <tr>\n",
       "      <th>10</th>\n",
       "      <td>hypernasal</td>\n",
       "      <td>0.866058</td>\n",
       "    </tr>\n",
       "    <tr>\n",
       "      <th>11</th>\n",
       "      <td>abn loudness variability</td>\n",
       "      <td>0.855581</td>\n",
       "    </tr>\n",
       "    <tr>\n",
       "      <th>12</th>\n",
       "      <td>distortions</td>\n",
       "      <td>0.842751</td>\n",
       "    </tr>\n",
       "  </tbody>\n",
       "</table>\n",
       "</div>"
      ],
      "text/plain": [
       "                         Label       AUC\n",
       "0                      breathy  0.813594\n",
       "1               loudness decay  0.848533\n",
       "2                    slow rate  0.893901\n",
       "3                   high pitch  0.889228\n",
       "4               hoarse / harsh  0.825391\n",
       "5   irregular artic breakdowns  0.822311\n",
       "6                   rapid rate  0.858975\n",
       "7          reduced OA loudness  0.876318\n",
       "8        abn pitch variability  0.819025\n",
       "9                     strained  0.818459\n",
       "10                  hypernasal  0.866058\n",
       "11    abn loudness variability  0.855581\n",
       "12                 distortions  0.842751"
      ]
     },
     "execution_count": 78,
     "metadata": {},
     "output_type": "execute_result"
    }
   ],
   "source": [
    "pd.DataFrame({'Label':target_labels, 'AUC':aucs})"
   ]
  },
  {
   "cell_type": "code",
   "execution_count": 39,
   "id": "01fd7a9e-d4d5-4d79-9869-c22964e4f76b",
   "metadata": {},
   "outputs": [
    {
     "name": "stdout",
     "output_type": "stream",
     "text": [
      "[0.8655962  0.89226053 0.92539553 0.9449333  0.85528625 0.88511311\n",
      " 0.90794888 0.92102741 0.86031467 0.88160313 0.90853326 0.89027492\n",
      " 0.8834618 ]\n"
     ]
    }
   ],
   "source": [
    "pred_mat=torch.sigmoid(torch.cat(all_preds)).detach().numpy()\n",
    "target_mat=torch.cat(all_targets).detach().numpy()\n",
    "from sklearn.metrics import roc_auc_score, roc_curve\n",
    "import matplotlib.pyplot as plt\n",
    "aucs=roc_auc_score(target_mat, pred_mat, average = None)\n",
    "print(aucs)"
   ]
  },
  {
   "cell_type": "code",
   "execution_count": 40,
   "id": "21fc6fd7-9742-44bb-96be-1e8277b187c2",
   "metadata": {},
   "outputs": [],
   "source": [
    "data = [\n",
    "('Label', target_labels),\n",
    "('AUC', target_labels)]"
   ]
  },
  {
   "cell_type": "code",
   "execution_count": 41,
   "id": "329bc7c3-ee44-4bd5-bbb2-27aa54265e48",
   "metadata": {},
   "outputs": [
    {
     "data": {
      "text/html": [
       "<div>\n",
       "<style scoped>\n",
       "    .dataframe tbody tr th:only-of-type {\n",
       "        vertical-align: middle;\n",
       "    }\n",
       "\n",
       "    .dataframe tbody tr th {\n",
       "        vertical-align: top;\n",
       "    }\n",
       "\n",
       "    .dataframe thead th {\n",
       "        text-align: right;\n",
       "    }\n",
       "</style>\n",
       "<table border=\"1\" class=\"dataframe\">\n",
       "  <thead>\n",
       "    <tr style=\"text-align: right;\">\n",
       "      <th></th>\n",
       "      <th>Label</th>\n",
       "      <th>AUC</th>\n",
       "    </tr>\n",
       "  </thead>\n",
       "  <tbody>\n",
       "    <tr>\n",
       "      <th>0</th>\n",
       "      <td>breathy</td>\n",
       "      <td>0.865596</td>\n",
       "    </tr>\n",
       "    <tr>\n",
       "      <th>1</th>\n",
       "      <td>loudness decay</td>\n",
       "      <td>0.892261</td>\n",
       "    </tr>\n",
       "    <tr>\n",
       "      <th>2</th>\n",
       "      <td>slow rate</td>\n",
       "      <td>0.925396</td>\n",
       "    </tr>\n",
       "    <tr>\n",
       "      <th>3</th>\n",
       "      <td>high pitch</td>\n",
       "      <td>0.944933</td>\n",
       "    </tr>\n",
       "    <tr>\n",
       "      <th>4</th>\n",
       "      <td>hoarse / harsh</td>\n",
       "      <td>0.855286</td>\n",
       "    </tr>\n",
       "    <tr>\n",
       "      <th>5</th>\n",
       "      <td>irregular artic breakdowns</td>\n",
       "      <td>0.885113</td>\n",
       "    </tr>\n",
       "    <tr>\n",
       "      <th>6</th>\n",
       "      <td>rapid rate</td>\n",
       "      <td>0.907949</td>\n",
       "    </tr>\n",
       "    <tr>\n",
       "      <th>7</th>\n",
       "      <td>reduced OA loudness</td>\n",
       "      <td>0.921027</td>\n",
       "    </tr>\n",
       "    <tr>\n",
       "      <th>8</th>\n",
       "      <td>abn pitch variability</td>\n",
       "      <td>0.860315</td>\n",
       "    </tr>\n",
       "    <tr>\n",
       "      <th>9</th>\n",
       "      <td>strained</td>\n",
       "      <td>0.881603</td>\n",
       "    </tr>\n",
       "    <tr>\n",
       "      <th>10</th>\n",
       "      <td>hypernasal</td>\n",
       "      <td>0.908533</td>\n",
       "    </tr>\n",
       "    <tr>\n",
       "      <th>11</th>\n",
       "      <td>abn loudness variability</td>\n",
       "      <td>0.890275</td>\n",
       "    </tr>\n",
       "    <tr>\n",
       "      <th>12</th>\n",
       "      <td>distortions</td>\n",
       "      <td>0.883462</td>\n",
       "    </tr>\n",
       "  </tbody>\n",
       "</table>\n",
       "</div>"
      ],
      "text/plain": [
       "                         Label       AUC\n",
       "0                      breathy  0.865596\n",
       "1               loudness decay  0.892261\n",
       "2                    slow rate  0.925396\n",
       "3                   high pitch  0.944933\n",
       "4               hoarse / harsh  0.855286\n",
       "5   irregular artic breakdowns  0.885113\n",
       "6                   rapid rate  0.907949\n",
       "7          reduced OA loudness  0.921027\n",
       "8        abn pitch variability  0.860315\n",
       "9                     strained  0.881603\n",
       "10                  hypernasal  0.908533\n",
       "11    abn loudness variability  0.890275\n",
       "12                 distortions  0.883462"
      ]
     },
     "execution_count": 41,
     "metadata": {},
     "output_type": "execute_result"
    }
   ],
   "source": [
    "pd.DataFrame({'Label':target_labels, 'AUC':aucs})"
   ]
  },
  {
   "cell_type": "code",
   "execution_count": 76,
   "id": "6b9d8083-c173-4a75-9e10-496ee318efb8",
   "metadata": {},
   "outputs": [
    {
     "data": {
      "text/plain": [
       "[('Label',\n",
       "  ['breathy',\n",
       "   'loudness decay',\n",
       "   'slow rate',\n",
       "   'high pitch',\n",
       "   'hoarse / harsh',\n",
       "   'irregular artic breakdowns',\n",
       "   'rapid rate',\n",
       "   'reduced OA loudness',\n",
       "   'abn pitch variability',\n",
       "   'strained',\n",
       "   'hypernasal',\n",
       "   'abn loudness variability',\n",
       "   'distortions']),\n",
       " ('AUC',\n",
       "  ['breathy',\n",
       "   'loudness decay',\n",
       "   'slow rate',\n",
       "   'high pitch',\n",
       "   'hoarse / harsh',\n",
       "   'irregular artic breakdowns',\n",
       "   'rapid rate',\n",
       "   'reduced OA loudness',\n",
       "   'abn pitch variability',\n",
       "   'strained',\n",
       "   'hypernasal',\n",
       "   'abn loudness variability',\n",
       "   'distortions'])]"
      ]
     },
     "execution_count": 76,
     "metadata": {},
     "output_type": "execute_result"
    }
   ],
   "source": [
    "data"
   ]
  },
  {
   "cell_type": "code",
   "execution_count": 43,
   "id": "80f9f6cf-3b35-4a33-a453-ae8a7a76d9e9",
   "metadata": {},
   "outputs": [],
   "source": [
    "plot_labels=np.array(target_labels)"
   ]
  },
  {
   "cell_type": "code",
   "execution_count": 44,
   "id": "a4ba86b3-670b-417c-86de-377a5259a75f",
   "metadata": {},
   "outputs": [
    {
     "data": {
      "image/png": "[encoded data removed]",
      "text/plain": [
       "<Figure size 432x288 with 1 Axes>"
      ]
     },
     "metadata": {
      "needs_background": "light"
     },
     "output_type": "display_data"
    },
    {
     "data": {
      "image/png": "[encoded data removed]",
      "text/plain": [
       "<Figure size 432x288 with 1 Axes>"
      ]
     },
     "metadata": {
      "needs_background": "light"
     },
     "output_type": "display_data"
    },
    {
     "data": {
      "image/png": "[encoded data removed]",
      "text/plain": [
       "<Figure size 432x288 with 1 Axes>"
      ]
     },
     "metadata": {
      "needs_background": "light"
     },
     "output_type": "display_data"
    },
    {
     "data": {
      "image/png": "[encoded data removed]",
      "text/plain": [
       "<Figure size 432x288 with 1 Axes>"
      ]
     },
     "metadata": {
      "needs_background": "light"
     },
     "output_type": "display_data"
    },
    {
     "data": {
      "image/png": "[encoded data removed]",
      "text/plain": [
       "<Figure size 432x288 with 1 Axes>"
      ]
     },
     "metadata": {
      "needs_background": "light"
     },
     "output_type": "display_data"
    },
    {
     "data": {
      "image/png": "[encoded data removed]",
      "text/plain": [
       "<Figure size 432x288 with 1 Axes>"
      ]
     },
     "metadata": {
      "needs_background": "light"
     },
     "output_type": "display_data"
    },
    {
     "data": {
      "image/png": "[encoded data removed]",
      "text/plain": [
       "<Figure size 432x288 with 1 Axes>"
      ]
     },
     "metadata": {
      "needs_background": "light"
     },
     "output_type": "display_data"
    },
    {
     "data": {
      "image/png": "[encoded data removed]",
      "text/plain": [
       "<Figure size 432x288 with 1 Axes>"
      ]
     },
     "metadata": {
      "needs_background": "light"
     },
     "output_type": "display_data"
    },
    {
     "data": {
      "image/png": "[encoded data removed]",
      "text/plain": [
       "<Figure size 432x288 with 1 Axes>"
      ]
     },
     "metadata": {
      "needs_background": "light"
     },
     "output_type": "display_data"
    },
    {
     "data": {
      "image/png": "[encoded data removed]",
      "text/plain": [
       "<Figure size 432x288 with 1 Axes>"
      ]
     },
     "metadata": {
      "needs_background": "light"
     },
     "output_type": "display_data"
    },
    {
     "data": {
      "image/png": "[encoded data removed]",
      "text/plain": [
       "<Figure size 432x288 with 1 Axes>"
      ]
     },
     "metadata": {
      "needs_background": "light"
     },
     "output_type": "display_data"
    },
    {
     "data": {
      "image/png": "[encoded data removed]",
      "text/plain": [
       "<Figure size 432x288 with 1 Axes>"
      ]
     },
     "metadata": {
      "needs_background": "light"
     },
     "output_type": "display_data"
    },
    {
     "data": {
      "image/png": "[encoded data removed]",
      "text/plain": [
       "<Figure size 432x288 with 1 Axes>"
      ]
     },
     "metadata": {
      "needs_background": "light"
     },
     "output_type": "display_data"
    }
   ],
   "source": [
    "for i in range(len(aucs)):\n",
    "    fpr, tpr, _ = roc_curve(target_mat[:,i],  pred_mat[:,i])\n",
    "    plt.plot(fpr,tpr,label=plot_labels[i]+\", auc=\"+str(round(aucs[i],3)))\n",
    "    plt.legend(loc=4)\n",
    "    plt.show()"
   ]
  },
  {
   "cell_type": "code",
   "execution_count": 414,
   "id": "643a4b9a-6ef0-4a55-a70e-5fff3433caaf",
   "metadata": {},
   "outputs": [
    {
     "name": "stdout",
     "output_type": "stream",
     "text": [
      "now load a SSL pretrained models from ./pretrained_model/SSAST-Base-Frame-400.pth\n",
      "pretraining patch split stride: frequency=128, time=2\n",
      "pretraining patch shape: frequency=128, time=2\n",
      "pretraining patch array dimension: frequency=1, time=512\n",
      "pretraining number of patches=512\n",
      "fine-tuning patch split stride: frequncey=128, time=2\n",
      "fine-tuning number of patches=512\n"
     ]
    },
    {
     "name": "stderr",
     "output_type": "stream",
     "text": [
      "/opt/conda/lib/python3.7/site-packages/torch/nn/functional.py:3635: UserWarning: Default upsampling behavior when mode=bilinear is changed to align_corners=False since 0.4.0. Please specify align_corners=True if the old behavior is desired. See the documentation of nn.Upsample for details.\n",
      "  \"See the documentation of nn.Upsample for details.\".format(mode)\n"
     ]
    }
   ],
   "source": [
    "ast_mdl = ASTModel(\n",
    "    label_dim=len(target_labels),\n",
    "    fshape=128, tshape=2, fstride=128, tstride=2,input_fdim=128, \n",
    "    input_tdim=input_tdim, model_size='base',\n",
    "    pretrain_stage=False,load_pretrained_mdl_path='./pretrained_model/SSAST-Base-Frame-400.pth'\n",
    ")"
   ]
  },
  {
   "cell_type": "code",
   "execution_count": 415,
   "id": "42121bc3-1919-465e-b4c1-4d6e4ccb478a",
   "metadata": {},
   "outputs": [],
   "source": [
    "device = torch.device(\"cuda\" if torch.cuda.is_available() else \"cpu\")\n",
    "sd = torch.load('./ast_mdl_base_frame_400_speechfeat_13.pt', map_location=device)\n",
    "ast_mdl.load_state_dict(sd, strict=False)"
   ]
  },
  {
   "cell_type": "code",
   "execution_count": 412,
   "id": "fc0d3b13-e94b-4e55-9188-eaf3b9a5774f",
   "metadata": {},
   "outputs": [],
   "source": []
  },
  {
   "cell_type": "code",
   "execution_count": 416,
   "id": "0a998e28-896f-42de-994a-36042ba39dad",
   "metadata": {},
   "outputs": [
    {
     "data": {
      "text/plain": [
       "<All keys matched successfully>"
      ]
     },
     "execution_count": 416,
     "metadata": {},
     "output_type": "execute_result"
    }
   ],
   "source": [
    "ast_mdl.load_state_dict(sd, strict=False)"
   ]
  },
  {
   "cell_type": "code",
   "execution_count": 419,
   "id": "701875a0-5425-4c4b-b9cd-5a4bb91ea087",
   "metadata": {},
   "outputs": [
    {
     "name": "stdout",
     "output_type": "stream",
     "text": [
      "Dropout(p=0.0, inplace=False)\n"
     ]
    }
   ],
   "source": [
    "print(ast_mdl.v.blocks[11].attn.attn_drop)"
   ]
  },
  {
   "cell_type": "code",
   "execution_count": 372,
   "id": "57828e65-e60c-4796-85a8-841f960a7b9e",
   "metadata": {},
   "outputs": [],
   "source": []
  },
  {
   "cell_type": "code",
   "execution_count": 420,
   "id": "72f804cb-a80b-404a-9c87-460a85bdd7d0",
   "metadata": {},
   "outputs": [],
   "source": [
    "def getActivation(name):\n",
    "  # the hook signature\n",
    "  def hook(model, input, output):\n",
    "    activation[name] = output.detach()\n",
    "  return hook"
   ]
  },
  {
   "cell_type": "code",
   "execution_count": 603,
   "id": "c0f945d8-7f4a-4e88-aba7-b4a5f3dc1801",
   "metadata": {},
   "outputs": [],
   "source": [
    "activation = {}"
   ]
  },
  {
   "cell_type": "code",
   "execution_count": 604,
   "id": "964ad8e8-726c-4d43-906a-0523ca8e1aa3",
   "metadata": {},
   "outputs": [],
   "source": [
    "h1 = ast_mdl.v.blocks[11].attn.attn_drop.register_forward_hook(getActivation('attention'))"
   ]
  },
  {
   "cell_type": "code",
   "execution_count": 605,
   "id": "65818438-e9b2-4609-85d0-290312152e85",
   "metadata": {},
   "outputs": [],
   "source": [
    "batch=next(iter(train_loader))"
   ]
  },
  {
   "cell_type": "code",
   "execution_count": 606,
   "id": "63deabca-b11c-4871-9272-23c824452fda",
   "metadata": {},
   "outputs": [],
   "source": [
    "img=batch[0][0].reshape(1,1024,-1)"
   ]
  },
  {
   "cell_type": "code",
   "execution_count": 607,
   "id": "de12dc8d-ec88-4ac2-aaaf-c0a3d31fdfe2",
   "metadata": {},
   "outputs": [],
   "source": [
    "spectrogram, label = train_loader.dataset[idx]"
   ]
  },
  {
   "cell_type": "code",
   "execution_count": 608,
   "id": "73eb6b3f-1244-49e1-872e-4712c4725c9b",
   "metadata": {},
   "outputs": [],
   "source": [
    "img=spectrogram.reshape(1,1024,-1)"
   ]
  },
  {
   "cell_type": "code",
   "execution_count": 609,
   "id": "cd5af076-ef93-4fa9-830e-51d30f7dc61e",
   "metadata": {},
   "outputs": [],
   "source": [
    "out = ast_mdl(img,task='ft_cls')"
   ]
  },
  {
   "cell_type": "code",
   "execution_count": 610,
   "id": "d7c7efca-a7c7-4150-b59b-001f5a3e9458",
   "metadata": {},
   "outputs": [],
   "source": [
    "#activation"
   ]
  },
  {
   "cell_type": "code",
   "execution_count": 611,
   "id": "f050e72c-9775-4031-88be-3815d092284c",
   "metadata": {},
   "outputs": [],
   "source": [
    "h1.remove()"
   ]
  },
  {
   "cell_type": "code",
   "execution_count": 612,
   "id": "410a4f4a-5dd5-4d71-b400-3cafcfbf1115",
   "metadata": {},
   "outputs": [],
   "source": [
    "heatmap=activation['attention']"
   ]
  },
  {
   "cell_type": "code",
   "execution_count": 613,
   "id": "2c4ea5e0-0800-4748-842b-68ac205a900a",
   "metadata": {},
   "outputs": [
    {
     "data": {
      "text/plain": [
       "torch.Size([1, 12, 514, 514])"
      ]
     },
     "execution_count": 613,
     "metadata": {},
     "output_type": "execute_result"
    }
   ],
   "source": [
    "heatmap.shape"
   ]
  },
  {
   "cell_type": "code",
   "execution_count": 330,
   "id": "9c1b05a3-45d3-4388-a6e7-72e4b7952fb3",
   "metadata": {},
   "outputs": [
    {
     "data": {
      "text/plain": [
       "1.3333333333333333"
      ]
     },
     "execution_count": 330,
     "metadata": {},
     "output_type": "execute_result"
    }
   ],
   "source": []
  },
  {
   "cell_type": "code",
   "execution_count": 321,
   "id": "88989be0-8366-4f6c-afc3-5ff8a47c450d",
   "metadata": {},
   "outputs": [
    {
     "data": {
      "text/plain": [
       "1536.0"
      ]
     },
     "execution_count": 321,
     "metadata": {},
     "output_type": "execute_result"
    }
   ],
   "source": []
  },
  {
   "cell_type": "code",
   "execution_count": 139,
   "id": "6cb8bba5-feca-46d9-bd73-0bc3fe30c119",
   "metadata": {},
   "outputs": [],
   "source": [
    "import numpy as np\n",
    "import matplotlib.cm as cm\n",
    "from matplotlib.colors import ListedColormap\n",
    "\n",
    "\n",
    "\n",
    "def overlay_heat_map(\n",
    "        img: np.ndarray, heat_map: np.ndarray, color=(255, 0, 0)) -> np.ndarray:\n",
    "    \"\"\"\n",
    "    heat_map values should be in [0, 1]\n",
    "    \"\"\"\n",
    "    assert (heat_map.shape[0] == img.shape[0]) and (heat_map.shape[1] == img.shape[1])\n",
    "    # overlay = np.tile(color, (*img.shape[:2], 1))\n",
    "    overlay = cm.hot(heat_map)[..., :1] * 255\n",
    "    heat_map = heat_map[..., None].repeat(3, -1)\n",
    "    img = (img * (1 - heat_map) + overlay * heat_map).astype(np.uint8)\n",
    "    return img\n",
    "    # return overlay.astype(np.uint8)\n",
    "    \n",
    "def overlay_black_map(\n",
    "        img: np.ndarray, heat_map: np.ndarray, color=(255, 0, 0)) -> np.ndarray:\n",
    "    \"\"\"\n",
    "    heat_map values should be in [0, 1]\n",
    "    \"\"\"\n",
    "    assert (heat_map.shape[0] == img.shape[0]) and (heat_map.shape[1] == img.shape[1])\n",
    "    # overlay = np.tile(color, (*img.shape[:2], 1))\n",
    "    #overlay = (1-heat_map)[..., :3] * 255\n",
    "    cmap = np.zeros([256, 4])\n",
    "    cmap = ListedColormap(cmap)\n",
    "    overlay = cmap(1-heat_map)[..., :3] * 255\n",
    "    heat_map = heat_map[..., None].repeat(3, -1)\n",
    "    img = (img * (heat_map) + overlay * (1-heat_map)).astype(np.uint8)\n",
    "    return img\n",
    "    # return overlay.astype(np.uint8)\n",
    "\n",
    "from typing import Sequence\n",
    "    \n",
    "def show_images(ls_img, titles=[], imsize=(7, 5), cmap=None, per_row=2,\n",
    "                keep_ticks=False, font_size=16):\n",
    "    \"\"\"makes a figure with enough subplots to show the images of `ls_img`\n",
    "    \"\"\"                \n",
    "    # make sure ls_img is a list\n",
    "    if not isinstance(ls_img, Sequence):\n",
    "        ls_img = [ls_img]\n",
    "\n",
    "    # make sure titles is a list\n",
    "    if not isinstance(titles, Sequence):\n",
    "        titles = [titles]\n",
    "\n",
    "    # make sure titles is same length as ls_img\n",
    "    if len(titles):\n",
    "        assert len(titles) == len(\n",
    "            ls_img), \"Please provide as many titles as there are images\"\n",
    "    else:\n",
    "        titles = [''] * len(ls_img)\n",
    "\n",
    "    # prepare figure\n",
    "    num_rows = len(ls_img) // per_row + ((len(ls_img) % per_row) > 0)\n",
    "    fig, ax = plt.subplots(num_rows, per_row, figsize=(\n",
    "        imsize[0] * per_row, imsize[1] * num_rows))\n",
    "    if type(ax) == np.ndarray:\n",
    "        ax = ax.flatten()\n",
    "    else:\n",
    "        ax = np.array([ax])\n",
    "\n",
    "    # populate figure\n",
    "    for i, img in enumerate(ls_img):\n",
    "        this_cmap = cmap\n",
    "        if this_cmap is None and (len(img.shape) == 2 or img.shape[-1] == 1):\n",
    "            this_cmap = 'gray'\n",
    "        ax[i].imshow(img, cmap=this_cmap, vmin=0, vmax=255)\n",
    "        ax[i].set_title(titles[i], fontdict={'fontsize': font_size})\n",
    "        if not keep_ticks:\n",
    "            ax[i].set_xticks([])\n",
    "            ax[i].set_yticks([])\n",
    "    plt.tight_layout()\n",
    "    return fig, ax"
   ]
  },
  {
   "cell_type": "code",
   "execution_count": 614,
   "id": "7d7fbcf6-df3a-422d-8c9f-ad1cf2907809",
   "metadata": {},
   "outputs": [
    {
     "data": {
      "text/plain": [
       "torch.Size([1, 12, 514, 514])"
      ]
     },
     "execution_count": 614,
     "metadata": {},
     "output_type": "execute_result"
    }
   ],
   "source": [
    "heatmap.shape"
   ]
  },
  {
   "cell_type": "code",
   "execution_count": 615,
   "id": "e3dc4ca9-85c8-446c-b3d6-e72596f3b233",
   "metadata": {},
   "outputs": [],
   "source": [
    "heat_maps = heatmap[...,0:1,2:]"
   ]
  },
  {
   "cell_type": "code",
   "execution_count": 616,
   "id": "deb74456-6d13-4156-b013-16743fadc6f2",
   "metadata": {},
   "outputs": [
    {
     "data": {
      "text/plain": [
       "torch.Size([1, 12, 1, 512])"
      ]
     },
     "execution_count": 616,
     "metadata": {},
     "output_type": "execute_result"
    }
   ],
   "source": [
    "heat_maps.shape"
   ]
  },
  {
   "cell_type": "code",
   "execution_count": 499,
   "id": "ec425135-0310-4312-a1f7-42068f1df54f",
   "metadata": {},
   "outputs": [
    {
     "data": {
      "text/plain": [
       "24.0"
      ]
     },
     "execution_count": 499,
     "metadata": {},
     "output_type": "execute_result"
    }
   ],
   "source": [
    "384/16"
   ]
  },
  {
   "cell_type": "code",
   "execution_count": 726,
   "id": "2af3339d-1895-4028-b106-2b1dc902e0bd",
   "metadata": {},
   "outputs": [
    {
     "data": {
      "text/plain": [
       "torch.Size([1, 12, 1, 512])"
      ]
     },
     "execution_count": 726,
     "metadata": {},
     "output_type": "execute_result"
    }
   ],
   "source": [
    "heat_maps.shape"
   ]
  },
  {
   "cell_type": "code",
   "execution_count": 727,
   "id": "563e86fc-1d42-4776-88eb-c983dcbcbefd",
   "metadata": {},
   "outputs": [],
   "source": [
    "#edge_length = int(math.sqrt(heat_maps.shape[-1]))\n",
    "heat_maps2 = heat_maps.reshape(-1,1,512, 1)"
   ]
  },
  {
   "cell_type": "code",
   "execution_count": 728,
   "id": "1a53a9f4-d92b-4bb3-aad5-a50a437b2e72",
   "metadata": {},
   "outputs": [
    {
     "data": {
      "text/plain": [
       "torch.Size([12, 1, 512, 1])"
      ]
     },
     "execution_count": 728,
     "metadata": {},
     "output_type": "execute_result"
    }
   ],
   "source": [
    "heat_maps2.shape"
   ]
  },
  {
   "cell_type": "code",
   "execution_count": 620,
   "id": "6c9c03ae-b9e3-4f81-a653-7d6cc55798d0",
   "metadata": {},
   "outputs": [
    {
     "data": {
      "text/plain": [
       "tensor([[[-1.2776, -1.2776, -1.2776,  ..., -1.2776, -1.2776, -1.2776],\n",
       "         [-1.2776, -1.2776, -1.2776,  ..., -1.2776, -1.2776, -1.2776],\n",
       "         [-1.2776, -1.2776, -1.2776,  ..., -1.2776, -1.2776, -1.2776],\n",
       "         ...,\n",
       "         [ 0.4670,  0.4670,  0.4670,  ...,  0.4670,  0.4670,  0.4670],\n",
       "         [ 0.4670,  0.4670,  0.4670,  ...,  0.4670,  0.4670,  0.4670],\n",
       "         [ 0.4670,  0.4670,  0.4670,  ...,  0.4670,  0.4670,  0.4670]]])"
      ]
     },
     "execution_count": 620,
     "metadata": {},
     "output_type": "execute_result"
    }
   ],
   "source": [
    "import torch.nn.functional as F\n",
    "img"
   ]
  },
  {
   "cell_type": "code",
   "execution_count": 621,
   "id": "005b5f73-ac93-46b4-afe6-bb2ef8d0e734",
   "metadata": {},
   "outputs": [
    {
     "data": {
      "text/plain": [
       "torch.Size([1024, 128])"
      ]
     },
     "execution_count": 621,
     "metadata": {},
     "output_type": "execute_result"
    }
   ],
   "source": [
    "img[0,:,:].shape"
   ]
  },
  {
   "cell_type": "code",
   "execution_count": 622,
   "id": "b6764fa1-9afe-4c56-99b1-4c90e60447ea",
   "metadata": {},
   "outputs": [
    {
     "data": {
      "image/png": "[encoded data removed]",
      "text/plain": [
       "<Figure size 1200x1200 with 1 Axes>"
      ]
     },
     "metadata": {
      "needs_background": "light"
     },
     "output_type": "display_data"
    }
   ],
   "source": [
    "plt.figure(num=1, figsize=(15, 15), dpi=80)\n",
    "plt.imshow(img[0,:,:].transpose(1,0).flip(0))\n",
    "plt.show()"
   ]
  },
  {
   "cell_type": "code",
   "execution_count": 623,
   "id": "30a2fb8d-b014-467f-b984-cd53502eb810",
   "metadata": {},
   "outputs": [],
   "source": [
    "im2=img[0,:,:].transpose(1,0).flip(0)"
   ]
  },
  {
   "cell_type": "code",
   "execution_count": 729,
   "id": "13103101-7aac-449b-b548-b7cc3f7704e0",
   "metadata": {},
   "outputs": [
    {
     "data": {
      "text/plain": [
       "torch.Size([12, 1, 512, 1])"
      ]
     },
     "execution_count": 729,
     "metadata": {},
     "output_type": "execute_result"
    }
   ],
   "source": [
    "heat_maps2.shape"
   ]
  },
  {
   "cell_type": "code",
   "execution_count": 730,
   "id": "75f467fa-2e0a-499a-844e-9a1c1e0bb72a",
   "metadata": {},
   "outputs": [],
   "source": [
    "# Resize to image shape\n",
    "heat_maps3 = F.interpolate(heat_maps2, img.shape[1:3], mode='bicubic', align_corners=False)\n",
    "heat_maps3 = list(heat_maps3.squeeze(1).cpu().numpy())"
   ]
  },
  {
   "cell_type": "code",
   "execution_count": 731,
   "id": "ba10c8e3-505f-4e90-98b4-ddecb8df9545",
   "metadata": {},
   "outputs": [
    {
     "data": {
      "text/plain": [
       "(1024, 128)"
      ]
     },
     "execution_count": 731,
     "metadata": {},
     "output_type": "execute_result"
    }
   ],
   "source": [
    "heat_maps3[0].shape"
   ]
  },
  {
   "cell_type": "code",
   "execution_count": 688,
   "id": "8c15970c-d0ab-4501-820b-961a94298725",
   "metadata": {},
   "outputs": [
    {
     "data": {
      "text/plain": [
       "torch.Size([1024, 128])"
      ]
     },
     "execution_count": 688,
     "metadata": {},
     "output_type": "execute_result"
    }
   ],
   "source": [
    "img.shape[1:3]"
   ]
  },
  {
   "cell_type": "code",
   "execution_count": 691,
   "id": "58ad802b-5d69-4ead-860b-da6609c15bc3",
   "metadata": {},
   "outputs": [],
   "source": [
    "heat_maps4 = [(hm - hm.min()) / (hm.max() - hm.min()) for hm in heat_maps3]"
   ]
  },
  {
   "cell_type": "code",
   "execution_count": 692,
   "id": "9ee79a38-418e-4a6c-a819-d562fff0e994",
   "metadata": {},
   "outputs": [
    {
     "data": {
      "text/plain": [
       "[array([[0.70891166, 0.289109  , 0.04892905, ..., 0.06764977, 0.05611973,\n",
       "         0.06095919],\n",
       "        [0.7089117 , 0.28910893, 0.04892905, ..., 0.06764977, 0.05611973,\n",
       "         0.06095919],\n",
       "        [0.70891166, 0.289109  , 0.04892905, ..., 0.06764977, 0.05611973,\n",
       "         0.06095919],\n",
       "        ...,\n",
       "        [0.70891166, 0.289109  , 0.04892905, ..., 0.06764977, 0.05611973,\n",
       "         0.06095919],\n",
       "        [0.70891166, 0.28910893, 0.04892905, ..., 0.06764977, 0.05611973,\n",
       "         0.06095919],\n",
       "        [0.70891166, 0.28910893, 0.04892905, ..., 0.06764977, 0.05611973,\n",
       "         0.06095919]], dtype=float32),\n",
       " array([[0.17171364, 0.03250698, 0.02830887, ..., 0.02527003, 0.02521201,\n",
       "         0.02522204],\n",
       "        [0.17171365, 0.03250698, 0.02830887, ..., 0.02527003, 0.02521201,\n",
       "         0.02522204],\n",
       "        [0.17171365, 0.03250698, 0.02830887, ..., 0.02527003, 0.02521201,\n",
       "         0.02522204],\n",
       "        ...,\n",
       "        [0.17171365, 0.03250698, 0.02830887, ..., 0.02527003, 0.02521201,\n",
       "         0.02522204],\n",
       "        [0.17171364, 0.03250698, 0.02830887, ..., 0.02527003, 0.02521201,\n",
       "         0.02522204],\n",
       "        [0.17171364, 0.03250698, 0.02830887, ..., 0.02527003, 0.02521201,\n",
       "         0.02522204]], dtype=float32),\n",
       " array([[0.36047465, 0.05073267, 0.04562853, ..., 0.03862735, 0.03831925,\n",
       "         0.0383302 ],\n",
       "        [0.36047465, 0.05073267, 0.04562853, ..., 0.03862735, 0.03831925,\n",
       "         0.0383302 ],\n",
       "        [0.36047465, 0.05073267, 0.04562853, ..., 0.03862735, 0.03831925,\n",
       "         0.0383302 ],\n",
       "        ...,\n",
       "        [0.36047465, 0.05073267, 0.04562853, ..., 0.03862735, 0.03831925,\n",
       "         0.0383302 ],\n",
       "        [0.36047465, 0.05073267, 0.04562853, ..., 0.03862735, 0.03831925,\n",
       "         0.0383302 ],\n",
       "        [0.36047465, 0.05073267, 0.04562853, ..., 0.03862735, 0.03831925,\n",
       "         0.0383302 ]], dtype=float32),\n",
       " array([[0.08096694, 0.16073972, 0.16053599, ..., 0.15788837, 0.15788832,\n",
       "         0.15788814],\n",
       "        [0.08096694, 0.16073972, 0.16053599, ..., 0.15788837, 0.15788832,\n",
       "         0.15788814],\n",
       "        [0.08096694, 0.16073972, 0.16053599, ..., 0.15788837, 0.15788832,\n",
       "         0.15788814],\n",
       "        ...,\n",
       "        [0.08096694, 0.16073972, 0.16053599, ..., 0.15788837, 0.15788832,\n",
       "         0.15788814],\n",
       "        [0.08096694, 0.16073972, 0.16053599, ..., 0.15788837, 0.15788832,\n",
       "         0.15788814],\n",
       "        [0.08096694, 0.16073972, 0.16053599, ..., 0.15788837, 0.15788832,\n",
       "         0.15788814]], dtype=float32),\n",
       " array([[0.39073163, 0.10491623, 0.16503003, ..., 0.01293762, 0.01292459,\n",
       "         0.01113617],\n",
       "        [0.39073163, 0.10491623, 0.16503003, ..., 0.01293762, 0.0129246 ,\n",
       "         0.01113617],\n",
       "        [0.39073163, 0.10491623, 0.16503003, ..., 0.01293762, 0.0129246 ,\n",
       "         0.01113617],\n",
       "        ...,\n",
       "        [0.39073163, 0.10491623, 0.16503003, ..., 0.01293762, 0.0129246 ,\n",
       "         0.01113617],\n",
       "        [0.39073163, 0.10491623, 0.16503002, ..., 0.01293762, 0.01292459,\n",
       "         0.01113617],\n",
       "        [0.39073163, 0.10491622, 0.16503003, ..., 0.01293762, 0.0129246 ,\n",
       "         0.01113617]], dtype=float32),\n",
       " array([[0.5617281 , 0.12565826, 0.05671834, ..., 0.7003791 , 0.7884352 ,\n",
       "         0.99999994],\n",
       "        [0.5617281 , 0.12565826, 0.05671834, ..., 0.700379  , 0.7884352 ,\n",
       "         0.99999994],\n",
       "        [0.5617281 , 0.12565826, 0.05671834, ..., 0.700379  , 0.7884352 ,\n",
       "         1.        ],\n",
       "        ...,\n",
       "        [0.5617282 , 0.12565826, 0.05671834, ..., 0.7003791 , 0.7884352 ,\n",
       "         0.99999994],\n",
       "        [0.5617282 , 0.12565826, 0.05671834, ..., 0.7003791 , 0.7884353 ,\n",
       "         0.99999994],\n",
       "        [0.5617282 , 0.12565826, 0.05671834, ..., 0.700379  , 0.7884353 ,\n",
       "         0.99999994]], dtype=float32),\n",
       " array([[0.38843903, 0.04348285, 0.06960022, ..., 0.02216271, 0.02216283,\n",
       "         0.02228052],\n",
       "        [0.38843903, 0.04348285, 0.06960022, ..., 0.02216271, 0.02216283,\n",
       "         0.02228052],\n",
       "        [0.38843903, 0.04348285, 0.06960022, ..., 0.02216271, 0.02216283,\n",
       "         0.02228052],\n",
       "        ...,\n",
       "        [0.38843903, 0.04348285, 0.06960022, ..., 0.02216271, 0.02216283,\n",
       "         0.02228052],\n",
       "        [0.38843903, 0.04348285, 0.06960022, ..., 0.02216271, 0.02216283,\n",
       "         0.02228052],\n",
       "        [0.38843903, 0.04348285, 0.06960022, ..., 0.02216271, 0.02216283,\n",
       "         0.02228052]], dtype=float32),\n",
       " array([[0.5690695 , 0.11664262, 0.11878575, ..., 0.21385387, 0.20685343,\n",
       "         0.20951684],\n",
       "        [0.5690695 , 0.11664262, 0.11878575, ..., 0.21385387, 0.20685343,\n",
       "         0.20951684],\n",
       "        [0.5690695 , 0.11664262, 0.11878575, ..., 0.21385387, 0.20685343,\n",
       "         0.20951684],\n",
       "        ...,\n",
       "        [0.5690695 , 0.11664262, 0.11878575, ..., 0.21385387, 0.20685343,\n",
       "         0.20951684],\n",
       "        [0.56906945, 0.11664262, 0.11878575, ..., 0.21385388, 0.20685343,\n",
       "         0.20951684],\n",
       "        [0.5690695 , 0.11664262, 0.11878575, ..., 0.21385387, 0.20685343,\n",
       "         0.20951684]], dtype=float32),\n",
       " array([[0.13409096, 0.0389341 , 0.03912633, ..., 0.03853485, 0.03853412,\n",
       "         0.03853285],\n",
       "        [0.13409096, 0.0389341 , 0.03912633, ..., 0.03853485, 0.03853412,\n",
       "         0.03853285],\n",
       "        [0.13409096, 0.0389341 , 0.03912633, ..., 0.03853485, 0.03853412,\n",
       "         0.03853285],\n",
       "        ...,\n",
       "        [0.13409096, 0.0389341 , 0.03912633, ..., 0.03853485, 0.03853412,\n",
       "         0.03853285],\n",
       "        [0.13409096, 0.0389341 , 0.03912633, ..., 0.03853485, 0.03853412,\n",
       "         0.03853285],\n",
       "        [0.13409096, 0.0389341 , 0.03912633, ..., 0.03853485, 0.03853412,\n",
       "         0.03853285]], dtype=float32),\n",
       " array([[2.2755263e-03, 7.3262415e-04, 5.1081181e-04, ..., 4.7667339e-01,\n",
       "         6.8497813e-01, 9.9999982e-01],\n",
       "        [2.2755263e-03, 7.3262415e-04, 5.1081175e-04, ..., 4.7667333e-01,\n",
       "         6.8497813e-01, 9.9999982e-01],\n",
       "        [2.2755263e-03, 7.3262415e-04, 5.1081181e-04, ..., 4.7667333e-01,\n",
       "         6.8497813e-01, 9.9999994e-01],\n",
       "        ...,\n",
       "        [2.2755263e-03, 7.3262415e-04, 5.1081181e-04, ..., 4.7667333e-01,\n",
       "         6.8497813e-01, 9.9999982e-01],\n",
       "        [2.2755265e-03, 7.3262415e-04, 5.1081181e-04, ..., 4.7667333e-01,\n",
       "         6.8497813e-01, 9.9999982e-01],\n",
       "        [2.2755263e-03, 7.3262415e-04, 5.1081181e-04, ..., 4.7667333e-01,\n",
       "         6.8497807e-01, 9.9999982e-01]], dtype=float32),\n",
       " array([[0.11183459, 0.12389678, 0.08424043, ..., 0.72665846, 0.8672031 ,\n",
       "         0.9999999 ],\n",
       "        [0.11183459, 0.12389678, 0.08424043, ..., 0.72665846, 0.8672032 ,\n",
       "         0.9999999 ],\n",
       "        [0.11183459, 0.12389678, 0.08424042, ..., 0.7266584 , 0.8672032 ,\n",
       "         0.9999998 ],\n",
       "        ...,\n",
       "        [0.11183459, 0.12389678, 0.08424042, ..., 0.72665846, 0.8672032 ,\n",
       "         0.99999994],\n",
       "        [0.1118346 , 0.12389678, 0.08424042, ..., 0.7266585 , 0.8672031 ,\n",
       "         0.99999994],\n",
       "        [0.11183459, 0.12389678, 0.08424042, ..., 0.72665846, 0.8672032 ,\n",
       "         0.9999999 ]], dtype=float32),\n",
       " array([[0.7593301 , 0.02912625, 0.01697606, ..., 0.11462285, 0.10964072,\n",
       "         0.13838321],\n",
       "        [0.7593301 , 0.02912625, 0.01697606, ..., 0.11462286, 0.10964072,\n",
       "         0.13838321],\n",
       "        [0.75933015, 0.02912625, 0.01697606, ..., 0.11462285, 0.10964073,\n",
       "         0.13838321],\n",
       "        ...,\n",
       "        [0.7593301 , 0.02912625, 0.01697606, ..., 0.11462285, 0.10964073,\n",
       "         0.13838322],\n",
       "        [0.7593301 , 0.02912625, 0.01697606, ..., 0.11462286, 0.10964072,\n",
       "         0.13838321],\n",
       "        [0.7593301 , 0.02912625, 0.01697606, ..., 0.11462286, 0.10964073,\n",
       "         0.13838321]], dtype=float32)]"
      ]
     },
     "execution_count": 692,
     "metadata": {},
     "output_type": "execute_result"
    }
   ],
   "source": [
    "heat_maps4"
   ]
  },
  {
   "cell_type": "code",
   "execution_count": 693,
   "id": "d2a5ca7a-2a16-428a-b207-a09b5779f6b2",
   "metadata": {},
   "outputs": [
    {
     "data": {
      "text/plain": [
       "torch.Size([1, 1024, 128])"
      ]
     },
     "execution_count": 693,
     "metadata": {},
     "output_type": "execute_result"
    }
   ],
   "source": [
    "img.shape"
   ]
  },
  {
   "cell_type": "code",
   "execution_count": 694,
   "id": "13a139c0-7b8d-480c-96d8-a9ec15bc8722",
   "metadata": {},
   "outputs": [],
   "source": [
    "img2=img[0,:,:].cpu().numpy()"
   ]
  },
  {
   "cell_type": "code",
   "execution_count": 594,
   "id": "559ac7bc-02e7-4f29-843c-9c6b7463a578",
   "metadata": {},
   "outputs": [
    {
     "ename": "ValueError",
     "evalue": "operands could not be broadcast together with shapes (128,1024) (128,1024,3) ",
     "output_type": "error",
     "traceback": [
      "\u001b[0;31m---------------------------------------------------------------------------\u001b[0m",
      "\u001b[0;31mValueError\u001b[0m                                Traceback (most recent call last)",
      "\u001b[0;32m/tmp/ipykernel_12345/1854486419.py\u001b[0m in \u001b[0;36m<module>\u001b[0;34m\u001b[0m\n\u001b[0;32m----> 1\u001b[0;31m \u001b[0mheat_map_imgs\u001b[0m \u001b[0;34m=\u001b[0m \u001b[0;34m[\u001b[0m\u001b[0moverlay_heat_map\u001b[0m\u001b[0;34m(\u001b[0m\u001b[0mimg2\u001b[0m\u001b[0;34m,\u001b[0m \u001b[0mheat_map\u001b[0m\u001b[0;34m)\u001b[0m \u001b[0;32mfor\u001b[0m \u001b[0mheat_map\u001b[0m \u001b[0;32min\u001b[0m \u001b[0mheat_maps4\u001b[0m\u001b[0;34m]\u001b[0m\u001b[0;34m\u001b[0m\u001b[0;34m\u001b[0m\u001b[0m\n\u001b[0m",
      "\u001b[0;32m/tmp/ipykernel_12345/1854486419.py\u001b[0m in \u001b[0;36m<listcomp>\u001b[0;34m(.0)\u001b[0m\n\u001b[0;32m----> 1\u001b[0;31m \u001b[0mheat_map_imgs\u001b[0m \u001b[0;34m=\u001b[0m \u001b[0;34m[\u001b[0m\u001b[0moverlay_heat_map\u001b[0m\u001b[0;34m(\u001b[0m\u001b[0mimg2\u001b[0m\u001b[0;34m,\u001b[0m \u001b[0mheat_map\u001b[0m\u001b[0;34m)\u001b[0m \u001b[0;32mfor\u001b[0m \u001b[0mheat_map\u001b[0m \u001b[0;32min\u001b[0m \u001b[0mheat_maps4\u001b[0m\u001b[0;34m]\u001b[0m\u001b[0;34m\u001b[0m\u001b[0;34m\u001b[0m\u001b[0m\n\u001b[0m",
      "\u001b[0;32m/tmp/ipykernel_12345/2903793805.py\u001b[0m in \u001b[0;36moverlay_heat_map\u001b[0;34m(img, heat_map, color)\u001b[0m\n\u001b[1;32m     14\u001b[0m     \u001b[0moverlay\u001b[0m \u001b[0;34m=\u001b[0m \u001b[0mcm\u001b[0m\u001b[0;34m.\u001b[0m\u001b[0mhot\u001b[0m\u001b[0;34m(\u001b[0m\u001b[0mheat_map\u001b[0m\u001b[0;34m)\u001b[0m\u001b[0;34m[\u001b[0m\u001b[0;34m...\u001b[0m\u001b[0;34m,\u001b[0m \u001b[0;34m:\u001b[0m\u001b[0;36m3\u001b[0m\u001b[0;34m]\u001b[0m \u001b[0;34m*\u001b[0m \u001b[0;36m255\u001b[0m\u001b[0;34m\u001b[0m\u001b[0;34m\u001b[0m\u001b[0m\n\u001b[1;32m     15\u001b[0m     \u001b[0mheat_map\u001b[0m \u001b[0;34m=\u001b[0m \u001b[0mheat_map\u001b[0m\u001b[0;34m[\u001b[0m\u001b[0;34m...\u001b[0m\u001b[0;34m,\u001b[0m \u001b[0;32mNone\u001b[0m\u001b[0;34m]\u001b[0m\u001b[0;34m.\u001b[0m\u001b[0mrepeat\u001b[0m\u001b[0;34m(\u001b[0m\u001b[0;36m3\u001b[0m\u001b[0;34m,\u001b[0m \u001b[0;34m-\u001b[0m\u001b[0;36m1\u001b[0m\u001b[0;34m)\u001b[0m\u001b[0;34m\u001b[0m\u001b[0;34m\u001b[0m\u001b[0m\n\u001b[0;32m---> 16\u001b[0;31m     \u001b[0mimg\u001b[0m \u001b[0;34m=\u001b[0m \u001b[0;34m(\u001b[0m\u001b[0mimg\u001b[0m \u001b[0;34m*\u001b[0m \u001b[0;34m(\u001b[0m\u001b[0;36m1\u001b[0m \u001b[0;34m-\u001b[0m \u001b[0mheat_map\u001b[0m\u001b[0;34m)\u001b[0m \u001b[0;34m+\u001b[0m \u001b[0moverlay\u001b[0m \u001b[0;34m*\u001b[0m \u001b[0mheat_map\u001b[0m\u001b[0;34m)\u001b[0m\u001b[0;34m.\u001b[0m\u001b[0mastype\u001b[0m\u001b[0;34m(\u001b[0m\u001b[0mnp\u001b[0m\u001b[0;34m.\u001b[0m\u001b[0muint8\u001b[0m\u001b[0;34m)\u001b[0m\u001b[0;34m\u001b[0m\u001b[0;34m\u001b[0m\u001b[0m\n\u001b[0m\u001b[1;32m     17\u001b[0m     \u001b[0;32mreturn\u001b[0m \u001b[0mimg\u001b[0m\u001b[0;34m\u001b[0m\u001b[0;34m\u001b[0m\u001b[0m\n\u001b[1;32m     18\u001b[0m     \u001b[0;31m# return overlay.astype(np.uint8)\u001b[0m\u001b[0;34m\u001b[0m\u001b[0;34m\u001b[0m\u001b[0;34m\u001b[0m\u001b[0m\n",
      "\u001b[0;31mValueError\u001b[0m: operands could not be broadcast together with shapes (128,1024) (128,1024,3) "
     ]
    }
   ],
   "source": [
    "heat_map_imgs = [overlay_heat_map(img2, heat_map) for heat_map in heat_maps4]"
   ]
  },
  {
   "cell_type": "code",
   "execution_count": 704,
   "id": "aa0af9fb-a4bb-437c-9c0d-ab451446858d",
   "metadata": {},
   "outputs": [],
   "source": [
    "cmap = np.zeros([256, 4])\n",
    "cmap = ListedColormap(cmap)\n",
    "overlay = cmap(1-heat_maps4[0])[..., :,-1] * 255\n",
    "heat_map = heat_maps4[0]\n",
    "#img3 = ((heat_map)*img2  + overlay * (1-heat_map)).astype(np.uint8)\n",
    "img3 = (img2 * (heat_map) + overlay * (1-heat_map)).astype(np.uint8)"
   ]
  },
  {
   "cell_type": "code",
   "execution_count": 696,
   "id": "9e40076e-21a5-4adc-9d7e-518f48c06bd4",
   "metadata": {},
   "outputs": [
    {
     "data": {
      "text/plain": [
       "(1024, 1)"
      ]
     },
     "execution_count": 696,
     "metadata": {},
     "output_type": "execute_result"
    }
   ],
   "source": [
    "cmap(1-heat_maps4[0])[..., :1,-1].shape"
   ]
  },
  {
   "cell_type": "code",
   "execution_count": 633,
   "id": "7b682b69-4c5e-47f1-a284-b1aadff21d39",
   "metadata": {},
   "outputs": [],
   "source": [
    "heat_map = heat_maps4[0][..., None]\n",
    "heat_map=heat_map[:,:,0]"
   ]
  },
  {
   "cell_type": "code",
   "execution_count": 634,
   "id": "a0bedc29-bbce-414a-92d7-1ed6ddf23279",
   "metadata": {},
   "outputs": [],
   "source": [
    "overlay=overlay[:,:,0]"
   ]
  },
  {
   "cell_type": "code",
   "execution_count": 711,
   "id": "3f047733-a683-45e4-9228-e5f2057f179a",
   "metadata": {},
   "outputs": [
    {
     "data": {
      "text/plain": [
       "(1024, 128)"
      ]
     },
     "execution_count": 711,
     "metadata": {},
     "output_type": "execute_result"
    }
   ],
   "source": [
    "(img2 * (heat_map)).shape"
   ]
  },
  {
   "cell_type": "code",
   "execution_count": 664,
   "id": "d025f890-ce58-482d-8713-bd9ee1140f94",
   "metadata": {},
   "outputs": [
    {
     "data": {
      "text/plain": [
       "(1024, 1024, 1)"
      ]
     },
     "execution_count": 664,
     "metadata": {},
     "output_type": "execute_result"
    }
   ],
   "source": [
    "((1-heat_map)*overlay).shape"
   ]
  },
  {
   "cell_type": "code",
   "execution_count": 641,
   "id": "bc36c6aa-6a95-4828-8136-1c1583b2490b",
   "metadata": {},
   "outputs": [],
   "source": [
    "img3 = (img2 * (1 - heat_map) + overlay * heat_map).astype(np.uint8)"
   ]
  },
  {
   "cell_type": "code",
   "execution_count": 666,
   "id": "7a0fe48c-fb12-424d-9490-79ce49866ac5",
   "metadata": {},
   "outputs": [],
   "source": [
    "overlay = cmap(1-heat_maps4[0])[..., :1,-1] * 255\n"
   ]
  },
  {
   "cell_type": "code",
   "execution_count": 740,
   "id": "a39bc421-1fa3-40da-98ad-1a2a27c679d8",
   "metadata": {},
   "outputs": [
    {
     "data": {
      "text/plain": [
       "(1024, 128)"
      ]
     },
     "execution_count": 740,
     "metadata": {},
     "output_type": "execute_result"
    }
   ],
   "source": [
    "np.mean(heat_maps3,0).shape"
   ]
  },
  {
   "cell_type": "code",
   "execution_count": 741,
   "id": "7034bb20-d58e-4f49-871a-f928577c20a5",
   "metadata": {},
   "outputs": [
    {
     "data": {
      "image/png": "[encoded data removed]",
      "text/plain": [
       "<Figure size 1200x1200 with 1 Axes>"
      ]
     },
     "metadata": {
      "needs_background": "light"
     },
     "output_type": "display_data"
    }
   ],
   "source": [
    "plt.figure(num=1, figsize=(15, 15), dpi=80)\n",
    "plt.imshow(np.mean(heat_maps3,0))\n",
    "plt.show()"
   ]
  },
  {
   "cell_type": "code",
   "execution_count": 678,
   "id": "87d68521-eb5d-4e5c-a60d-65faadf5aeb3",
   "metadata": {},
   "outputs": [
    {
     "data": {
      "text/plain": [
       "array([[0.47219425],\n",
       "       [0.47189665],\n",
       "       [0.4710868 ],\n",
       "       ...,\n",
       "       [0.04654433],\n",
       "       [0.04507029],\n",
       "       [0.04415096]], dtype=float32)"
      ]
     },
     "execution_count": 678,
     "metadata": {},
     "output_type": "execute_result"
    }
   ],
   "source": [
    "heat_maps4[0]"
   ]
  },
  {
   "cell_type": "code",
   "execution_count": 742,
   "id": "bc2cfa87-dbb7-4530-9d85-674bf515e2d8",
   "metadata": {},
   "outputs": [],
   "source": [
    "import functools\n",
    "from collections import OrderedDict\n",
    "\n",
    "# using wonder's beautiful simplification: https://stackoverflow.com/questions/31174295/getattr-and-setattr-on-nested-objects/31174427?noredirect=1#comment86638618_31174427\n",
    "def rgetattr(obj, attr, *args):\n",
    "    def _getattr(obj, attr):\n",
    "        return getattr(obj, attr, *args)\n",
    "    return functools.reduce(_getattr, [obj] + attr.split('.'))\n",
    "\n",
    "class IntermediateLayerGetter:\n",
    "    def __init__(self, model, return_layers, keep_output=True):\n",
    "        \"\"\"Wraps a Pytorch module to get intermediate values\n",
    "        \n",
    "        Arguments:\n",
    "            model {nn.module} -- The Pytorch module to call\n",
    "            return_layers {dict} -- Dictionary with the selected submodules\n",
    "            to return the output (format: {[current_module_name]: [desired_output_name]},\n",
    "            current_module_name can be a nested submodule, e.g. submodule1.submodule2.submodule3)\n",
    "        \n",
    "        Keyword Arguments:\n",
    "            keep_output {bool} -- If True model_output contains the final model's output\n",
    "            in the other case model_output is None (default: {True})\n",
    "        Returns:\n",
    "            (mid_outputs {OrderedDict}, model_output {any}) -- mid_outputs keys are \n",
    "            your desired_output_name (s) and their values are the returned tensors\n",
    "            of those submodules (OrderedDict([(desired_output_name,tensor(...)), ...).\n",
    "            See keep_output argument for model_output description.\n",
    "            In case a submodule is called more than one time, all it's outputs are \n",
    "            stored in a list.\n",
    "        \"\"\"\n",
    "        self._model = model\n",
    "        self.return_layers = return_layers\n",
    "        self.keep_output = keep_output\n",
    "        #self.task=task\n",
    "        \n",
    "    def __call__(self, *args, **kwargs):\n",
    "        ret = OrderedDict()\n",
    "        handles = []\n",
    "        for name, new_name in self.return_layers.items():\n",
    "            layer = rgetattr(self._model, name)\n",
    "            \n",
    "            def hook(module, input, output, new_name=new_name):\n",
    "                if new_name in ret:\n",
    "                    if type(ret[new_name]) is list:\n",
    "                        ret[new_name].append(output)\n",
    "                    else:\n",
    "                        ret[new_name] = [ret[new_name], output]\n",
    "                else:\n",
    "                    ret[new_name] = output\n",
    "            try:\n",
    "                h = layer.register_forward_hook(hook)\n",
    "            except AttributeError as e:\n",
    "                raise AttributeError(f'Module {name} not found')\n",
    "            handles.append(h)\n",
    "            \n",
    "        if self.keep_output:\n",
    "            output = self._model(*args, **kwargs)\n",
    "        else:\n",
    "            self._model(*args, **kwargs)\n",
    "            output = None\n",
    "            \n",
    "        for h in handles:\n",
    "            h.remove()\n",
    "        \n",
    "        return ret, output"
   ]
  },
  {
   "cell_type": "code",
   "execution_count": 772,
   "id": "b130c00e-6c08-4d33-9e44-b1fde5d56e62",
   "metadata": {},
   "outputs": [
    {
     "name": "stdout",
     "output_type": "stream",
     "text": [
      "tensor([[-3.4342, -3.7988,  2.3724, -0.1815, -2.1943, -0.2187, -5.1853, -6.4177,\n",
      "          0.2452, -2.2279, -3.1356,  0.1913, -0.7152]],\n",
      "       grad_fn=<AddmmBackward0>)\n",
      "OrderedDict([('nested', tensor([[[ 0.2731,  1.3238,  1.9321,  ..., -0.3049, -0.8146, -0.6381],\n",
      "         [ 2.9256,  2.5281,  1.8921,  ...,  1.3653, -2.2188, -0.8117],\n",
      "         [ 0.0149, -0.8124,  1.7583,  ...,  0.6304, -2.9812, -0.9910],\n",
      "         ...,\n",
      "         [ 1.5564,  1.2169,  0.8553,  ...,  1.3151, -3.2161,  0.0208],\n",
      "         [ 1.4708,  1.3056,  0.8111,  ...,  1.3929, -3.1588,  0.1536],\n",
      "         [ 1.4112,  1.3340,  0.5638,  ...,  1.3412, -3.0207,  0.4431]]],\n",
      "       grad_fn=<AddBackward0>))])\n"
     ]
    }
   ],
   "source": [
    "return_layers = {\n",
    "    'v.blocks.0.attn': 'nested'}\n",
    "mid_getter = IntermediateLayerGetter(ast_mdl, return_layers=return_layers, keep_output=True)\n",
    "mid_outputs, model_output = mid_getter(img, task='ft_cls')\n",
    "\n",
    "print(model_output)\n",
    "print(mid_outputs)"
   ]
  },
  {
   "cell_type": "code",
   "execution_count": 773,
   "id": "831cd9f1-7e31-4724-8f1f-7c4761e43a5b",
   "metadata": {},
   "outputs": [
    {
     "data": {
      "text/plain": [
       "torch.Size([1, 514, 768])"
      ]
     },
     "execution_count": 773,
     "metadata": {},
     "output_type": "execute_result"
    }
   ],
   "source": [
    "mid_outputs[\"nested\"].shape"
   ]
  },
  {
   "cell_type": "code",
   "execution_count": 767,
   "id": "954dfdad-b5d3-4e14-b93f-d34405bab1a5",
   "metadata": {},
   "outputs": [],
   "source": [
    "qkv=mid_outputs[\"nested\"][0,:,:].reshape(514,3,12,64)"
   ]
  },
  {
   "cell_type": "code",
   "execution_count": 768,
   "id": "791c2ed9-23e0-464c-95a2-32cb0314a928",
   "metadata": {},
   "outputs": [
    {
     "data": {
      "text/plain": [
       "tensor([-0.9365,  0.4894, -0.2263, -0.7221,  0.4107,  0.2247, -0.1135,  0.1247,\n",
       "        -0.7238,  0.4980,  0.4531, -0.3930,  0.7347, -0.1142, -0.1820, -0.3341,\n",
       "         0.5814, -0.2725, -0.7489,  0.8560,  0.6192, -0.0818,  0.1689, -0.4480,\n",
       "         1.2994, -0.0824,  0.9802,  0.9206, -0.0893,  1.4950,  0.0674, -0.9307,\n",
       "        -0.3374,  0.2105,  1.8090,  0.0319,  1.7910, -0.3139,  0.4585,  0.7342,\n",
       "        -0.8460,  0.7399,  0.8333, -0.1206, -0.4525,  0.5688,  0.5074, -0.5481,\n",
       "        -0.6223,  0.0595, -2.0680,  2.8278,  0.8836, -0.2564, -0.8292, -0.4239,\n",
       "         0.6926,  0.8286,  0.0684,  1.8090, -0.5737, -0.2674,  0.2635,  0.3318],\n",
       "       grad_fn=<SliceBackward0>)"
      ]
     },
     "execution_count": 768,
     "metadata": {},
     "output_type": "execute_result"
    }
   ],
   "source": [
    "qkv[0,0,0,:]"
   ]
  },
  {
   "cell_type": "code",
   "execution_count": 769,
   "id": "ae48a0e5-ed28-47fb-b00b-a7b2dbd0266b",
   "metadata": {},
   "outputs": [
    {
     "data": {
      "text/plain": [
       "tensor([-1.4847,  1.1272, -0.8763, -0.9622,  0.1640,  0.0338,  0.1467,  0.2127,\n",
       "        -0.2552,  0.4008, -0.1761, -0.9279,  0.7099, -0.1537, -0.7290,  0.6795,\n",
       "         0.4502, -0.3113, -0.8112,  1.0419,  0.5345, -0.1665,  0.2046, -0.5782,\n",
       "         1.2175, -0.0605,  0.9404,  1.0640, -0.1302,  1.1129, -0.6124, -0.6426,\n",
       "        -0.2260, -0.0640,  1.5481, -0.4982,  1.5281, -0.2324,  1.0249,  0.6562,\n",
       "        -1.0715,  0.8145, -1.2521, -0.3895, -0.3116,  0.4201,  0.6625, -0.8861,\n",
       "        -0.0456,  0.1443, -1.3548, -0.9109,  0.3961, -0.1541, -1.1185,  0.1740,\n",
       "         1.0028,  0.2791, -0.5853,  2.2481, -0.7352, -0.0558,  0.5102, -0.1618],\n",
       "       grad_fn=<SliceBackward0>)"
      ]
     },
     "execution_count": 769,
     "metadata": {},
     "output_type": "execute_result"
    }
   ],
   "source": [
    "qkv[0,1,0,:]"
   ]
  },
  {
   "cell_type": "code",
   "execution_count": 743,
   "id": "fbc6c5dd-e648-4e6b-8678-24ac613e5cef",
   "metadata": {},
   "outputs": [
    {
     "name": "stdout",
     "output_type": "stream",
     "text": [
      "ASTModel(\n",
      "  (v): DistilledVisionTransformer(\n",
      "    (patch_embed): PatchEmbed(\n",
      "      (proj): Conv2d(1, 768, kernel_size=(128, 2), stride=(128, 2))\n",
      "    )\n",
      "    (pos_drop): Dropout(p=0.0, inplace=False)\n",
      "    (blocks): ModuleList(\n",
      "      (0): Block(\n",
      "        (norm1): LayerNorm((768,), eps=1e-06, elementwise_affine=True)\n",
      "        (attn): Attention(\n",
      "          (qkv): Linear(in_features=768, out_features=2304, bias=True)\n",
      "          (attn_drop): Dropout(p=0.0, inplace=False)\n",
      "          (proj): Linear(in_features=768, out_features=768, bias=True)\n",
      "          (proj_drop): Dropout(p=0.0, inplace=False)\n",
      "        )\n",
      "        (drop_path): Identity()\n",
      "        (norm2): LayerNorm((768,), eps=1e-06, elementwise_affine=True)\n",
      "        (mlp): Mlp(\n",
      "          (fc1): Linear(in_features=768, out_features=3072, bias=True)\n",
      "          (act): GELU()\n",
      "          (fc2): Linear(in_features=3072, out_features=768, bias=True)\n",
      "          (drop): Dropout(p=0.0, inplace=False)\n",
      "        )\n",
      "      )\n",
      "      (1): Block(\n",
      "        (norm1): LayerNorm((768,), eps=1e-06, elementwise_affine=True)\n",
      "        (attn): Attention(\n",
      "          (qkv): Linear(in_features=768, out_features=2304, bias=True)\n",
      "          (attn_drop): Dropout(p=0.0, inplace=False)\n",
      "          (proj): Linear(in_features=768, out_features=768, bias=True)\n",
      "          (proj_drop): Dropout(p=0.0, inplace=False)\n",
      "        )\n",
      "        (drop_path): Identity()\n",
      "        (norm2): LayerNorm((768,), eps=1e-06, elementwise_affine=True)\n",
      "        (mlp): Mlp(\n",
      "          (fc1): Linear(in_features=768, out_features=3072, bias=True)\n",
      "          (act): GELU()\n",
      "          (fc2): Linear(in_features=3072, out_features=768, bias=True)\n",
      "          (drop): Dropout(p=0.0, inplace=False)\n",
      "        )\n",
      "      )\n",
      "      (2): Block(\n",
      "        (norm1): LayerNorm((768,), eps=1e-06, elementwise_affine=True)\n",
      "        (attn): Attention(\n",
      "          (qkv): Linear(in_features=768, out_features=2304, bias=True)\n",
      "          (attn_drop): Dropout(p=0.0, inplace=False)\n",
      "          (proj): Linear(in_features=768, out_features=768, bias=True)\n",
      "          (proj_drop): Dropout(p=0.0, inplace=False)\n",
      "        )\n",
      "        (drop_path): Identity()\n",
      "        (norm2): LayerNorm((768,), eps=1e-06, elementwise_affine=True)\n",
      "        (mlp): Mlp(\n",
      "          (fc1): Linear(in_features=768, out_features=3072, bias=True)\n",
      "          (act): GELU()\n",
      "          (fc2): Linear(in_features=3072, out_features=768, bias=True)\n",
      "          (drop): Dropout(p=0.0, inplace=False)\n",
      "        )\n",
      "      )\n",
      "      (3): Block(\n",
      "        (norm1): LayerNorm((768,), eps=1e-06, elementwise_affine=True)\n",
      "        (attn): Attention(\n",
      "          (qkv): Linear(in_features=768, out_features=2304, bias=True)\n",
      "          (attn_drop): Dropout(p=0.0, inplace=False)\n",
      "          (proj): Linear(in_features=768, out_features=768, bias=True)\n",
      "          (proj_drop): Dropout(p=0.0, inplace=False)\n",
      "        )\n",
      "        (drop_path): Identity()\n",
      "        (norm2): LayerNorm((768,), eps=1e-06, elementwise_affine=True)\n",
      "        (mlp): Mlp(\n",
      "          (fc1): Linear(in_features=768, out_features=3072, bias=True)\n",
      "          (act): GELU()\n",
      "          (fc2): Linear(in_features=3072, out_features=768, bias=True)\n",
      "          (drop): Dropout(p=0.0, inplace=False)\n",
      "        )\n",
      "      )\n",
      "      (4): Block(\n",
      "        (norm1): LayerNorm((768,), eps=1e-06, elementwise_affine=True)\n",
      "        (attn): Attention(\n",
      "          (qkv): Linear(in_features=768, out_features=2304, bias=True)\n",
      "          (attn_drop): Dropout(p=0.0, inplace=False)\n",
      "          (proj): Linear(in_features=768, out_features=768, bias=True)\n",
      "          (proj_drop): Dropout(p=0.0, inplace=False)\n",
      "        )\n",
      "        (drop_path): Identity()\n",
      "        (norm2): LayerNorm((768,), eps=1e-06, elementwise_affine=True)\n",
      "        (mlp): Mlp(\n",
      "          (fc1): Linear(in_features=768, out_features=3072, bias=True)\n",
      "          (act): GELU()\n",
      "          (fc2): Linear(in_features=3072, out_features=768, bias=True)\n",
      "          (drop): Dropout(p=0.0, inplace=False)\n",
      "        )\n",
      "      )\n",
      "      (5): Block(\n",
      "        (norm1): LayerNorm((768,), eps=1e-06, elementwise_affine=True)\n",
      "        (attn): Attention(\n",
      "          (qkv): Linear(in_features=768, out_features=2304, bias=True)\n",
      "          (attn_drop): Dropout(p=0.0, inplace=False)\n",
      "          (proj): Linear(in_features=768, out_features=768, bias=True)\n",
      "          (proj_drop): Dropout(p=0.0, inplace=False)\n",
      "        )\n",
      "        (drop_path): Identity()\n",
      "        (norm2): LayerNorm((768,), eps=1e-06, elementwise_affine=True)\n",
      "        (mlp): Mlp(\n",
      "          (fc1): Linear(in_features=768, out_features=3072, bias=True)\n",
      "          (act): GELU()\n",
      "          (fc2): Linear(in_features=3072, out_features=768, bias=True)\n",
      "          (drop): Dropout(p=0.0, inplace=False)\n",
      "        )\n",
      "      )\n",
      "      (6): Block(\n",
      "        (norm1): LayerNorm((768,), eps=1e-06, elementwise_affine=True)\n",
      "        (attn): Attention(\n",
      "          (qkv): Linear(in_features=768, out_features=2304, bias=True)\n",
      "          (attn_drop): Dropout(p=0.0, inplace=False)\n",
      "          (proj): Linear(in_features=768, out_features=768, bias=True)\n",
      "          (proj_drop): Dropout(p=0.0, inplace=False)\n",
      "        )\n",
      "        (drop_path): Identity()\n",
      "        (norm2): LayerNorm((768,), eps=1e-06, elementwise_affine=True)\n",
      "        (mlp): Mlp(\n",
      "          (fc1): Linear(in_features=768, out_features=3072, bias=True)\n",
      "          (act): GELU()\n",
      "          (fc2): Linear(in_features=3072, out_features=768, bias=True)\n",
      "          (drop): Dropout(p=0.0, inplace=False)\n",
      "        )\n",
      "      )\n",
      "      (7): Block(\n",
      "        (norm1): LayerNorm((768,), eps=1e-06, elementwise_affine=True)\n",
      "        (attn): Attention(\n",
      "          (qkv): Linear(in_features=768, out_features=2304, bias=True)\n",
      "          (attn_drop): Dropout(p=0.0, inplace=False)\n",
      "          (proj): Linear(in_features=768, out_features=768, bias=True)\n",
      "          (proj_drop): Dropout(p=0.0, inplace=False)\n",
      "        )\n",
      "        (drop_path): Identity()\n",
      "        (norm2): LayerNorm((768,), eps=1e-06, elementwise_affine=True)\n",
      "        (mlp): Mlp(\n",
      "          (fc1): Linear(in_features=768, out_features=3072, bias=True)\n",
      "          (act): GELU()\n",
      "          (fc2): Linear(in_features=3072, out_features=768, bias=True)\n",
      "          (drop): Dropout(p=0.0, inplace=False)\n",
      "        )\n",
      "      )\n",
      "      (8): Block(\n",
      "        (norm1): LayerNorm((768,), eps=1e-06, elementwise_affine=True)\n",
      "        (attn): Attention(\n",
      "          (qkv): Linear(in_features=768, out_features=2304, bias=True)\n",
      "          (attn_drop): Dropout(p=0.0, inplace=False)\n",
      "          (proj): Linear(in_features=768, out_features=768, bias=True)\n",
      "          (proj_drop): Dropout(p=0.0, inplace=False)\n",
      "        )\n",
      "        (drop_path): Identity()\n",
      "        (norm2): LayerNorm((768,), eps=1e-06, elementwise_affine=True)\n",
      "        (mlp): Mlp(\n",
      "          (fc1): Linear(in_features=768, out_features=3072, bias=True)\n",
      "          (act): GELU()\n",
      "          (fc2): Linear(in_features=3072, out_features=768, bias=True)\n",
      "          (drop): Dropout(p=0.0, inplace=False)\n",
      "        )\n",
      "      )\n",
      "      (9): Block(\n",
      "        (norm1): LayerNorm((768,), eps=1e-06, elementwise_affine=True)\n",
      "        (attn): Attention(\n",
      "          (qkv): Linear(in_features=768, out_features=2304, bias=True)\n",
      "          (attn_drop): Dropout(p=0.0, inplace=False)\n",
      "          (proj): Linear(in_features=768, out_features=768, bias=True)\n",
      "          (proj_drop): Dropout(p=0.0, inplace=False)\n",
      "        )\n",
      "        (drop_path): Identity()\n",
      "        (norm2): LayerNorm((768,), eps=1e-06, elementwise_affine=True)\n",
      "        (mlp): Mlp(\n",
      "          (fc1): Linear(in_features=768, out_features=3072, bias=True)\n",
      "          (act): GELU()\n",
      "          (fc2): Linear(in_features=3072, out_features=768, bias=True)\n",
      "          (drop): Dropout(p=0.0, inplace=False)\n",
      "        )\n",
      "      )\n",
      "      (10): Block(\n",
      "        (norm1): LayerNorm((768,), eps=1e-06, elementwise_affine=True)\n",
      "        (attn): Attention(\n",
      "          (qkv): Linear(in_features=768, out_features=2304, bias=True)\n",
      "          (attn_drop): Dropout(p=0.0, inplace=False)\n",
      "          (proj): Linear(in_features=768, out_features=768, bias=True)\n",
      "          (proj_drop): Dropout(p=0.0, inplace=False)\n",
      "        )\n",
      "        (drop_path): Identity()\n",
      "        (norm2): LayerNorm((768,), eps=1e-06, elementwise_affine=True)\n",
      "        (mlp): Mlp(\n",
      "          (fc1): Linear(in_features=768, out_features=3072, bias=True)\n",
      "          (act): GELU()\n",
      "          (fc2): Linear(in_features=3072, out_features=768, bias=True)\n",
      "          (drop): Dropout(p=0.0, inplace=False)\n",
      "        )\n",
      "      )\n",
      "      (11): Block(\n",
      "        (norm1): LayerNorm((768,), eps=1e-06, elementwise_affine=True)\n",
      "        (attn): Attention(\n",
      "          (qkv): Linear(in_features=768, out_features=2304, bias=True)\n",
      "          (attn_drop): Dropout(p=0.0, inplace=False)\n",
      "          (proj): Linear(in_features=768, out_features=768, bias=True)\n",
      "          (proj_drop): Dropout(p=0.0, inplace=False)\n",
      "        )\n",
      "        (drop_path): Identity()\n",
      "        (norm2): LayerNorm((768,), eps=1e-06, elementwise_affine=True)\n",
      "        (mlp): Mlp(\n",
      "          (fc1): Linear(in_features=768, out_features=3072, bias=True)\n",
      "          (act): GELU()\n",
      "          (fc2): Linear(in_features=3072, out_features=768, bias=True)\n",
      "          (drop): Dropout(p=0.0, inplace=False)\n",
      "        )\n",
      "      )\n",
      "    )\n",
      "    (norm): LayerNorm((768,), eps=1e-06, elementwise_affine=True)\n",
      "    (pre_logits): Identity()\n",
      "    (head): Linear(in_features=768, out_features=1000, bias=True)\n",
      "    (head_dist): Linear(in_features=768, out_features=1000, bias=True)\n",
      "  )\n",
      "  (mlp_head): Sequential(\n",
      "    (0): LayerNorm((768,), eps=1e-05, elementwise_affine=True)\n",
      "    (1): Linear(in_features=768, out_features=13, bias=True)\n",
      "  )\n",
      ")\n"
     ]
    }
   ],
   "source": [
    "print(ast_mdl)"
   ]
  },
  {
   "cell_type": "code",
   "execution_count": 774,
   "id": "d4cf89af-b8ba-4bb9-9641-a29d42610252",
   "metadata": {},
   "outputs": [],
   "source": [
    "from torchvision.models.feature_extraction import get_graph_node_names\n",
    "from pprint import pprint\n",
    "from timm.models.vision_transformer import PatchEmbed\n"
   ]
  },
  {
   "cell_type": "code",
   "execution_count": 796,
   "id": "48899395-5e2d-4999-bc05-a90268714c20",
   "metadata": {},
   "outputs": [
    {
     "data": {
      "text/plain": [
       "{'concrete_args': ['task: ft_cls']}"
      ]
     },
     "execution_count": 796,
     "metadata": {},
     "output_type": "execute_result"
    }
   ],
   "source": [
    "{'concrete_args': ['task: ft_cls']}"
   ]
  },
  {
   "cell_type": "code",
   "execution_count": 802,
   "id": "34e03f03-a4df-470a-9d59-2fad84190eca",
   "metadata": {},
   "outputs": [
    {
     "ename": "TraceError",
     "evalue": "symbolically traced variables cannot be used as inputs to control flow",
     "output_type": "error",
     "traceback": [
      "\u001b[0;31m---------------------------------------------------------------------------\u001b[0m",
      "\u001b[0;31mTraceError\u001b[0m                                Traceback (most recent call last)",
      "\u001b[0;32m/tmp/ipykernel_12345/4100391379.py\u001b[0m in \u001b[0;36m<module>\u001b[0;34m\u001b[0m\n\u001b[0;32m----> 1\u001b[0;31m train_nodes, eval_nodes = get_graph_node_names(ast_mdl, tracer_kwargs={'leaf_modules': [PatchEmbed]},\n\u001b[0m\u001b[1;32m      2\u001b[0m                                               )\n",
      "\u001b[0;32m/opt/conda/lib/python3.7/site-packages/torchvision/models/feature_extraction.py\u001b[0m in \u001b[0;36mget_graph_node_names\u001b[0;34m(model, tracer_kwargs, suppress_diff_warning)\u001b[0m\n\u001b[1;32m    212\u001b[0m     \u001b[0mis_training\u001b[0m \u001b[0;34m=\u001b[0m \u001b[0mmodel\u001b[0m\u001b[0;34m.\u001b[0m\u001b[0mtraining\u001b[0m\u001b[0;34m\u001b[0m\u001b[0;34m\u001b[0m\u001b[0m\n\u001b[1;32m    213\u001b[0m     \u001b[0mtrain_tracer\u001b[0m \u001b[0;34m=\u001b[0m \u001b[0mNodePathTracer\u001b[0m\u001b[0;34m(\u001b[0m\u001b[0;34m**\u001b[0m\u001b[0mtracer_kwargs\u001b[0m\u001b[0;34m)\u001b[0m\u001b[0;34m\u001b[0m\u001b[0;34m\u001b[0m\u001b[0m\n\u001b[0;32m--> 214\u001b[0;31m     \u001b[0mtrain_tracer\u001b[0m\u001b[0;34m.\u001b[0m\u001b[0mtrace\u001b[0m\u001b[0;34m(\u001b[0m\u001b[0mmodel\u001b[0m\u001b[0;34m.\u001b[0m\u001b[0mtrain\u001b[0m\u001b[0;34m(\u001b[0m\u001b[0;34m)\u001b[0m\u001b[0;34m)\u001b[0m\u001b[0;34m\u001b[0m\u001b[0;34m\u001b[0m\u001b[0m\n\u001b[0m\u001b[1;32m    215\u001b[0m     \u001b[0meval_tracer\u001b[0m \u001b[0;34m=\u001b[0m \u001b[0mNodePathTracer\u001b[0m\u001b[0;34m(\u001b[0m\u001b[0;34m**\u001b[0m\u001b[0mtracer_kwargs\u001b[0m\u001b[0;34m)\u001b[0m\u001b[0;34m\u001b[0m\u001b[0;34m\u001b[0m\u001b[0m\n\u001b[1;32m    216\u001b[0m     \u001b[0meval_tracer\u001b[0m\u001b[0;34m.\u001b[0m\u001b[0mtrace\u001b[0m\u001b[0;34m(\u001b[0m\u001b[0mmodel\u001b[0m\u001b[0;34m.\u001b[0m\u001b[0meval\u001b[0m\u001b[0;34m(\u001b[0m\u001b[0;34m)\u001b[0m\u001b[0;34m)\u001b[0m\u001b[0;34m\u001b[0m\u001b[0;34m\u001b[0m\u001b[0m\n",
      "\u001b[0;32m/opt/conda/lib/python3.7/site-packages/torch/fx/_symbolic_trace.py\u001b[0m in \u001b[0;36mtrace\u001b[0;34m(self, root, concrete_args)\u001b[0m\n\u001b[1;32m    613\u001b[0m                 \u001b[0;32mfor\u001b[0m \u001b[0mmodule\u001b[0m \u001b[0;32min\u001b[0m \u001b[0mself\u001b[0m\u001b[0;34m.\u001b[0m\u001b[0m_autowrap_search\u001b[0m\u001b[0;34m:\u001b[0m\u001b[0;34m\u001b[0m\u001b[0;34m\u001b[0m\u001b[0m\n\u001b[1;32m    614\u001b[0m                     \u001b[0m_autowrap_check\u001b[0m\u001b[0;34m(\u001b[0m\u001b[0mpatcher\u001b[0m\u001b[0;34m,\u001b[0m \u001b[0mmodule\u001b[0m\u001b[0;34m.\u001b[0m\u001b[0m__dict__\u001b[0m\u001b[0;34m,\u001b[0m \u001b[0mself\u001b[0m\u001b[0;34m.\u001b[0m\u001b[0m_autowrap_function_ids\u001b[0m\u001b[0;34m)\u001b[0m\u001b[0;34m\u001b[0m\u001b[0;34m\u001b[0m\u001b[0m\n\u001b[0;32m--> 615\u001b[0;31m                 self.create_node('output', 'output', (self.create_arg(fn(*args)),), {},\n\u001b[0m\u001b[1;32m    616\u001b[0m                                  type_expr=fn.__annotations__.get('return', None))\n\u001b[1;32m    617\u001b[0m \u001b[0;34m\u001b[0m\u001b[0m\n",
      "\u001b[0;32m~/matt_ssast/ssast/src/models/ast_models.py\u001b[0m in \u001b[0;36mforward\u001b[0;34m(self, x, task, cluster, mask_patch)\u001b[0m\n\u001b[1;32m    439\u001b[0m         \u001b[0;31m# finetuning (ft), use the mean of all token (patch) output as clip-level representation.\u001b[0m\u001b[0;34m\u001b[0m\u001b[0;34m\u001b[0m\u001b[0;34m\u001b[0m\u001b[0m\n\u001b[1;32m    440\u001b[0m         \u001b[0;31m# this is default for SSAST fine-tuning as during pretraining, supervision signal is given to each token, not the [cls] token\u001b[0m\u001b[0;34m\u001b[0m\u001b[0;34m\u001b[0m\u001b[0;34m\u001b[0m\u001b[0m\n\u001b[0;32m--> 441\u001b[0;31m         \u001b[0;32mif\u001b[0m \u001b[0mtask\u001b[0m \u001b[0;34m==\u001b[0m \u001b[0;34m'ft_avgtok'\u001b[0m\u001b[0;34m:\u001b[0m\u001b[0;34m\u001b[0m\u001b[0;34m\u001b[0m\u001b[0m\n\u001b[0m\u001b[1;32m    442\u001b[0m             \u001b[0;32mreturn\u001b[0m \u001b[0mself\u001b[0m\u001b[0;34m.\u001b[0m\u001b[0mfinetuningavgtok\u001b[0m\u001b[0;34m(\u001b[0m\u001b[0mx\u001b[0m\u001b[0;34m)\u001b[0m\u001b[0;34m\u001b[0m\u001b[0;34m\u001b[0m\u001b[0m\n\u001b[1;32m    443\u001b[0m         \u001b[0;31m# alternatively, use the [cls] token output as clip-level representation.\u001b[0m\u001b[0;34m\u001b[0m\u001b[0;34m\u001b[0m\u001b[0;34m\u001b[0m\u001b[0m\n",
      "\u001b[0;32m/opt/conda/lib/python3.7/site-packages/torch/fx/proxy.py\u001b[0m in \u001b[0;36m__bool__\u001b[0;34m(self)\u001b[0m\n\u001b[1;32m    249\u001b[0m \u001b[0;34m\u001b[0m\u001b[0m\n\u001b[1;32m    250\u001b[0m     \u001b[0;32mdef\u001b[0m \u001b[0m__bool__\u001b[0m\u001b[0;34m(\u001b[0m\u001b[0mself\u001b[0m\u001b[0;34m)\u001b[0m \u001b[0;34m->\u001b[0m \u001b[0mbool\u001b[0m\u001b[0;34m:\u001b[0m\u001b[0;34m\u001b[0m\u001b[0;34m\u001b[0m\u001b[0m\n\u001b[0;32m--> 251\u001b[0;31m         \u001b[0;32mreturn\u001b[0m \u001b[0mself\u001b[0m\u001b[0;34m.\u001b[0m\u001b[0mtracer\u001b[0m\u001b[0;34m.\u001b[0m\u001b[0mto_bool\u001b[0m\u001b[0;34m(\u001b[0m\u001b[0mself\u001b[0m\u001b[0;34m)\u001b[0m\u001b[0;34m\u001b[0m\u001b[0;34m\u001b[0m\u001b[0m\n\u001b[0m\u001b[1;32m    252\u001b[0m \u001b[0;34m\u001b[0m\u001b[0m\n\u001b[1;32m    253\u001b[0m     \u001b[0;34m@\u001b[0m\u001b[0mcompatibility\u001b[0m\u001b[0;34m(\u001b[0m\u001b[0mis_backward_compatible\u001b[0m\u001b[0;34m=\u001b[0m\u001b[0;32mTrue\u001b[0m\u001b[0;34m)\u001b[0m\u001b[0;34m\u001b[0m\u001b[0;34m\u001b[0m\u001b[0m\n",
      "\u001b[0;32m/opt/conda/lib/python3.7/site-packages/torch/fx/proxy.py\u001b[0m in \u001b[0;36mto_bool\u001b[0;34m(self, obj)\u001b[0m\n\u001b[1;32m    150\u001b[0m         \u001b[0minformation\u001b[0m \u001b[0mto\u001b[0m \u001b[0mthe\u001b[0m \u001b[0mgraph\u001b[0m \u001b[0mnode\u001b[0m \u001b[0musing\u001b[0m \u001b[0mcreate_node\u001b[0m \u001b[0;32mand\u001b[0m \u001b[0mcan\u001b[0m \u001b[0mchoose\u001b[0m \u001b[0mto\u001b[0m \u001b[0;32mreturn\u001b[0m \u001b[0ma\u001b[0m \u001b[0mvalue\u001b[0m\u001b[0;34m.\u001b[0m\u001b[0;34m\u001b[0m\u001b[0;34m\u001b[0m\u001b[0m\n\u001b[1;32m    151\u001b[0m         \"\"\"\n\u001b[0;32m--> 152\u001b[0;31m         \u001b[0;32mraise\u001b[0m \u001b[0mTraceError\u001b[0m\u001b[0;34m(\u001b[0m\u001b[0;34m'symbolically traced variables cannot be used as inputs to control flow'\u001b[0m\u001b[0;34m)\u001b[0m\u001b[0;34m\u001b[0m\u001b[0;34m\u001b[0m\u001b[0m\n\u001b[0m\u001b[1;32m    153\u001b[0m \u001b[0;34m\u001b[0m\u001b[0m\n\u001b[1;32m    154\u001b[0m     \u001b[0;34m@\u001b[0m\u001b[0mcompatibility\u001b[0m\u001b[0;34m(\u001b[0m\u001b[0mis_backward_compatible\u001b[0m\u001b[0;34m=\u001b[0m\u001b[0;32mTrue\u001b[0m\u001b[0;34m)\u001b[0m\u001b[0;34m\u001b[0m\u001b[0;34m\u001b[0m\u001b[0m\n",
      "\u001b[0;31mTraceError\u001b[0m: symbolically traced variables cannot be used as inputs to control flow"
     ]
    }
   ],
   "source": [
    "\n",
    "train_nodes, eval_nodes = get_graph_node_names(ast_mdl, tracer_kwargs={'leaf_modules': [PatchEmbed]},\n",
    "                                              )\n"
   ]
  },
  {
   "cell_type": "code",
   "execution_count": 781,
   "id": "c33c3df1-8819-453d-98ee-b9defc15c4cb",
   "metadata": {},
   "outputs": [],
   "source": [
    "\n",
    "traced=torch.fx.symbolic_trace(ast_mdl, concrete_args={'task': 'ft_cls'})"
   ]
  },
  {
   "cell_type": "code",
   "execution_count": 829,
   "id": "5bd964cb-497a-4ff9-922b-2599ddc02c30",
   "metadata": {},
   "outputs": [],
   "source": [
    "from torchvision.models.feature_extraction import NodePathTracer"
   ]
  },
  {
   "cell_type": "code",
   "execution_count": 832,
   "id": "40163883-c57e-4f3d-b221-c7022ee15ff3",
   "metadata": {},
   "outputs": [],
   "source": [
    "tracc=NodePathTracer()"
   ]
  },
  {
   "cell_type": "code",
   "execution_count": 865,
   "id": "03375207-61c2-446e-888d-c02410893693",
   "metadata": {},
   "outputs": [],
   "source": [
    "g1=tracc.trace(ast_mdl,concrete_args={'task': 'ft_cls'})"
   ]
  },
  {
   "cell_type": "code",
   "execution_count": 838,
   "id": "dc642b4d-e0fc-4623-a7b4-f386c5e90181",
   "metadata": {},
   "outputs": [],
   "source": [
    "from torch.fx.graph_module import GraphModule"
   ]
  },
  {
   "cell_type": "code",
   "execution_count": 866,
   "id": "05790b98-1973-41a1-8ade-890aa4891e0e",
   "metadata": {},
   "outputs": [
    {
     "name": "stdout",
     "output_type": "stream",
     "text": [
      "graph():\n",
      "    %x : [#users=1] = placeholder[target=x]\n",
      "    %task_1 : [#users=1] = placeholder[target=task_1]\n",
      "    %eq : [#users=1] = call_function[target=operator.eq](args = (%task_1, ft_cls), kwargs = {})\n",
      "    %_assert : [#users=0] = call_function[target=torch._assert](args = (%eq, task has been specialized to have value ft_cls), kwargs = {})\n",
      "    %cluster : [#users=0] = placeholder[target=cluster](default=True)\n",
      "    %mask_patch : [#users=0] = placeholder[target=mask_patch](default=400)\n",
      "    %unsqueeze : [#users=1] = call_method[target=unsqueeze](args = (%x, 1), kwargs = {})\n",
      "    %transpose : [#users=2] = call_method[target=transpose](args = (%unsqueeze, 2, 3), kwargs = {})\n",
      "    %getattr_1 : [#users=1] = call_function[target=builtins.getattr](args = (%transpose, shape), kwargs = {})\n",
      "    %getitem : [#users=2] = call_function[target=operator.getitem](args = (%getattr_1, 0), kwargs = {})\n",
      "    %v_patch_embed_proj : [#users=1] = call_module[target=v.patch_embed.proj](args = (%transpose,), kwargs = {})\n",
      "    %flatten : [#users=1] = call_method[target=flatten](args = (%v_patch_embed_proj, 2), kwargs = {})\n",
      "    %transpose_1 : [#users=1] = call_method[target=transpose](args = (%flatten, 1, 2), kwargs = {})\n",
      "    %v_cls_token : [#users=1] = get_attr[target=v.cls_token]\n",
      "    %expand : [#users=1] = call_method[target=expand](args = (%v_cls_token, %getitem, -1, -1), kwargs = {})\n",
      "    %v_dist_token : [#users=1] = get_attr[target=v.dist_token]\n",
      "    %expand_1 : [#users=1] = call_method[target=expand](args = (%v_dist_token, %getitem, -1, -1), kwargs = {})\n",
      "    %cat : [#users=1] = call_function[target=torch.cat](args = ((%expand, %expand_1, %transpose_1),), kwargs = {dim: 1})\n",
      "    %v_pos_embed : [#users=1] = get_attr[target=v.pos_embed]\n",
      "    %add : [#users=1] = call_function[target=operator.add](args = (%cat, %v_pos_embed), kwargs = {})\n",
      "    %v_pos_drop : [#users=2] = call_module[target=v.pos_drop](args = (%add,), kwargs = {})\n",
      "    %v_blocks_0_norm1 : [#users=2] = call_module[target=v.blocks.0.norm1](args = (%v_pos_drop,), kwargs = {})\n",
      "    %getattr_2 : [#users=3] = call_function[target=builtins.getattr](args = (%v_blocks_0_norm1, shape), kwargs = {})\n",
      "    %getitem_1 : [#users=2] = call_function[target=operator.getitem](args = (%getattr_2, 0), kwargs = {})\n",
      "    %getitem_2 : [#users=2] = call_function[target=operator.getitem](args = (%getattr_2, 1), kwargs = {})\n",
      "    %getitem_3 : [#users=2] = call_function[target=operator.getitem](args = (%getattr_2, 2), kwargs = {})\n",
      "    %v_blocks_0_attn_qkv : [#users=1] = call_module[target=v.blocks.0.attn.qkv](args = (%v_blocks_0_norm1,), kwargs = {})\n",
      "    %floordiv : [#users=1] = call_function[target=operator.floordiv](args = (%getitem_3, 12), kwargs = {})\n",
      "    %reshape : [#users=1] = call_method[target=reshape](args = (%v_blocks_0_attn_qkv, %getitem_1, %getitem_2, 3, 12, %floordiv), kwargs = {})\n",
      "    %permute : [#users=3] = call_method[target=permute](args = (%reshape, 2, 0, 3, 1, 4), kwargs = {})\n",
      "    %getitem_4 : [#users=1] = call_function[target=operator.getitem](args = (%permute, 0), kwargs = {})\n",
      "    %getitem_5 : [#users=1] = call_function[target=operator.getitem](args = (%permute, 1), kwargs = {})\n",
      "    %getitem_6 : [#users=1] = call_function[target=operator.getitem](args = (%permute, 2), kwargs = {})\n",
      "    %transpose_2 : [#users=1] = call_method[target=transpose](args = (%getitem_5, -2, -1), kwargs = {})\n",
      "    %matmul : [#users=1] = call_function[target=operator.matmul](args = (%getitem_4, %transpose_2), kwargs = {})\n",
      "    %mul : [#users=1] = call_function[target=operator.mul](args = (%matmul, 0.125), kwargs = {})\n",
      "    %softmax : [#users=1] = call_method[target=softmax](args = (%mul,), kwargs = {dim: -1})\n",
      "    %v_blocks_0_attn_attn_drop : [#users=1] = call_module[target=v.blocks.0.attn.attn_drop](args = (%softmax,), kwargs = {})\n",
      "    %matmul_1 : [#users=1] = call_function[target=operator.matmul](args = (%v_blocks_0_attn_attn_drop, %getitem_6), kwargs = {})\n",
      "    %transpose_3 : [#users=1] = call_method[target=transpose](args = (%matmul_1, 1, 2), kwargs = {})\n",
      "    %reshape_1 : [#users=1] = call_method[target=reshape](args = (%transpose_3, %getitem_1, %getitem_2, %getitem_3), kwargs = {})\n",
      "    %v_blocks_0_attn_proj : [#users=1] = call_module[target=v.blocks.0.attn.proj](args = (%reshape_1,), kwargs = {})\n",
      "    %v_blocks_0_attn_proj_drop : [#users=1] = call_module[target=v.blocks.0.attn.proj_drop](args = (%v_blocks_0_attn_proj,), kwargs = {})\n",
      "    %v_blocks_0_drop_path : [#users=1] = call_module[target=v.blocks.0.drop_path](args = (%v_blocks_0_attn_proj_drop,), kwargs = {})\n",
      "    %add_1 : [#users=2] = call_function[target=operator.add](args = (%v_pos_drop, %v_blocks_0_drop_path), kwargs = {})\n",
      "    %v_blocks_0_norm2 : [#users=1] = call_module[target=v.blocks.0.norm2](args = (%add_1,), kwargs = {})\n",
      "    %v_blocks_0_mlp_fc1 : [#users=1] = call_module[target=v.blocks.0.mlp.fc1](args = (%v_blocks_0_norm2,), kwargs = {})\n",
      "    %v_blocks_0_mlp_act : [#users=1] = call_module[target=v.blocks.0.mlp.act](args = (%v_blocks_0_mlp_fc1,), kwargs = {})\n",
      "    %v_blocks_0_mlp_drop : [#users=1] = call_module[target=v.blocks.0.mlp.drop](args = (%v_blocks_0_mlp_act,), kwargs = {})\n",
      "    %v_blocks_0_mlp_fc2 : [#users=1] = call_module[target=v.blocks.0.mlp.fc2](args = (%v_blocks_0_mlp_drop,), kwargs = {})\n",
      "    %v_blocks_0_mlp_drop_1 : [#users=1] = call_module[target=v.blocks.0.mlp.drop](args = (%v_blocks_0_mlp_fc2,), kwargs = {})\n",
      "    %v_blocks_0_drop_path_1 : [#users=1] = call_module[target=v.blocks.0.drop_path](args = (%v_blocks_0_mlp_drop_1,), kwargs = {})\n",
      "    %add_2 : [#users=2] = call_function[target=operator.add](args = (%add_1, %v_blocks_0_drop_path_1), kwargs = {})\n",
      "    %v_blocks_1_norm1 : [#users=2] = call_module[target=v.blocks.1.norm1](args = (%add_2,), kwargs = {})\n",
      "    %getattr_3 : [#users=3] = call_function[target=builtins.getattr](args = (%v_blocks_1_norm1, shape), kwargs = {})\n",
      "    %getitem_7 : [#users=2] = call_function[target=operator.getitem](args = (%getattr_3, 0), kwargs = {})\n",
      "    %getitem_8 : [#users=2] = call_function[target=operator.getitem](args = (%getattr_3, 1), kwargs = {})\n",
      "    %getitem_9 : [#users=2] = call_function[target=operator.getitem](args = (%getattr_3, 2), kwargs = {})\n",
      "    %v_blocks_1_attn_qkv : [#users=1] = call_module[target=v.blocks.1.attn.qkv](args = (%v_blocks_1_norm1,), kwargs = {})\n",
      "    %floordiv_1 : [#users=1] = call_function[target=operator.floordiv](args = (%getitem_9, 12), kwargs = {})\n",
      "    %reshape_2 : [#users=1] = call_method[target=reshape](args = (%v_blocks_1_attn_qkv, %getitem_7, %getitem_8, 3, 12, %floordiv_1), kwargs = {})\n",
      "    %permute_1 : [#users=3] = call_method[target=permute](args = (%reshape_2, 2, 0, 3, 1, 4), kwargs = {})\n",
      "    %getitem_10 : [#users=1] = call_function[target=operator.getitem](args = (%permute_1, 0), kwargs = {})\n",
      "    %getitem_11 : [#users=1] = call_function[target=operator.getitem](args = (%permute_1, 1), kwargs = {})\n",
      "    %getitem_12 : [#users=1] = call_function[target=operator.getitem](args = (%permute_1, 2), kwargs = {})\n",
      "    %transpose_4 : [#users=1] = call_method[target=transpose](args = (%getitem_11, -2, -1), kwargs = {})\n",
      "    %matmul_2 : [#users=1] = call_function[target=operator.matmul](args = (%getitem_10, %transpose_4), kwargs = {})\n",
      "    %mul_1 : [#users=1] = call_function[target=operator.mul](args = (%matmul_2, 0.125), kwargs = {})\n",
      "    %softmax_1 : [#users=1] = call_method[target=softmax](args = (%mul_1,), kwargs = {dim: -1})\n",
      "    %v_blocks_1_attn_attn_drop : [#users=1] = call_module[target=v.blocks.1.attn.attn_drop](args = (%softmax_1,), kwargs = {})\n",
      "    %matmul_3 : [#users=1] = call_function[target=operator.matmul](args = (%v_blocks_1_attn_attn_drop, %getitem_12), kwargs = {})\n",
      "    %transpose_5 : [#users=1] = call_method[target=transpose](args = (%matmul_3, 1, 2), kwargs = {})\n",
      "    %reshape_3 : [#users=1] = call_method[target=reshape](args = (%transpose_5, %getitem_7, %getitem_8, %getitem_9), kwargs = {})\n",
      "    %v_blocks_1_attn_proj : [#users=1] = call_module[target=v.blocks.1.attn.proj](args = (%reshape_3,), kwargs = {})\n",
      "    %v_blocks_1_attn_proj_drop : [#users=1] = call_module[target=v.blocks.1.attn.proj_drop](args = (%v_blocks_1_attn_proj,), kwargs = {})\n",
      "    %v_blocks_1_drop_path : [#users=1] = call_module[target=v.blocks.1.drop_path](args = (%v_blocks_1_attn_proj_drop,), kwargs = {})\n",
      "    %add_3 : [#users=2] = call_function[target=operator.add](args = (%add_2, %v_blocks_1_drop_path), kwargs = {})\n",
      "    %v_blocks_1_norm2 : [#users=1] = call_module[target=v.blocks.1.norm2](args = (%add_3,), kwargs = {})\n",
      "    %v_blocks_1_mlp_fc1 : [#users=1] = call_module[target=v.blocks.1.mlp.fc1](args = (%v_blocks_1_norm2,), kwargs = {})\n",
      "    %v_blocks_1_mlp_act : [#users=1] = call_module[target=v.blocks.1.mlp.act](args = (%v_blocks_1_mlp_fc1,), kwargs = {})\n",
      "    %v_blocks_1_mlp_drop : [#users=1] = call_module[target=v.blocks.1.mlp.drop](args = (%v_blocks_1_mlp_act,), kwargs = {})\n",
      "    %v_blocks_1_mlp_fc2 : [#users=1] = call_module[target=v.blocks.1.mlp.fc2](args = (%v_blocks_1_mlp_drop,), kwargs = {})\n",
      "    %v_blocks_1_mlp_drop_1 : [#users=1] = call_module[target=v.blocks.1.mlp.drop](args = (%v_blocks_1_mlp_fc2,), kwargs = {})\n",
      "    %v_blocks_1_drop_path_1 : [#users=1] = call_module[target=v.blocks.1.drop_path](args = (%v_blocks_1_mlp_drop_1,), kwargs = {})\n",
      "    %add_4 : [#users=2] = call_function[target=operator.add](args = (%add_3, %v_blocks_1_drop_path_1), kwargs = {})\n",
      "    %v_blocks_2_norm1 : [#users=2] = call_module[target=v.blocks.2.norm1](args = (%add_4,), kwargs = {})\n",
      "    %getattr_4 : [#users=3] = call_function[target=builtins.getattr](args = (%v_blocks_2_norm1, shape), kwargs = {})\n",
      "    %getitem_13 : [#users=2] = call_function[target=operator.getitem](args = (%getattr_4, 0), kwargs = {})\n",
      "    %getitem_14 : [#users=2] = call_function[target=operator.getitem](args = (%getattr_4, 1), kwargs = {})\n",
      "    %getitem_15 : [#users=2] = call_function[target=operator.getitem](args = (%getattr_4, 2), kwargs = {})\n",
      "    %v_blocks_2_attn_qkv : [#users=1] = call_module[target=v.blocks.2.attn.qkv](args = (%v_blocks_2_norm1,), kwargs = {})\n",
      "    %floordiv_2 : [#users=1] = call_function[target=operator.floordiv](args = (%getitem_15, 12), kwargs = {})\n",
      "    %reshape_4 : [#users=1] = call_method[target=reshape](args = (%v_blocks_2_attn_qkv, %getitem_13, %getitem_14, 3, 12, %floordiv_2), kwargs = {})\n",
      "    %permute_2 : [#users=3] = call_method[target=permute](args = (%reshape_4, 2, 0, 3, 1, 4), kwargs = {})\n",
      "    %getitem_16 : [#users=1] = call_function[target=operator.getitem](args = (%permute_2, 0), kwargs = {})\n",
      "    %getitem_17 : [#users=1] = call_function[target=operator.getitem](args = (%permute_2, 1), kwargs = {})\n",
      "    %getitem_18 : [#users=1] = call_function[target=operator.getitem](args = (%permute_2, 2), kwargs = {})\n",
      "    %transpose_6 : [#users=1] = call_method[target=transpose](args = (%getitem_17, -2, -1), kwargs = {})\n",
      "    %matmul_4 : [#users=1] = call_function[target=operator.matmul](args = (%getitem_16, %transpose_6), kwargs = {})\n",
      "    %mul_2 : [#users=1] = call_function[target=operator.mul](args = (%matmul_4, 0.125), kwargs = {})\n",
      "    %softmax_2 : [#users=1] = call_method[target=softmax](args = (%mul_2,), kwargs = {dim: -1})\n",
      "    %v_blocks_2_attn_attn_drop : [#users=1] = call_module[target=v.blocks.2.attn.attn_drop](args = (%softmax_2,), kwargs = {})\n",
      "    %matmul_5 : [#users=1] = call_function[target=operator.matmul](args = (%v_blocks_2_attn_attn_drop, %getitem_18), kwargs = {})\n",
      "    %transpose_7 : [#users=1] = call_method[target=transpose](args = (%matmul_5, 1, 2), kwargs = {})\n",
      "    %reshape_5 : [#users=1] = call_method[target=reshape](args = (%transpose_7, %getitem_13, %getitem_14, %getitem_15), kwargs = {})\n",
      "    %v_blocks_2_attn_proj : [#users=1] = call_module[target=v.blocks.2.attn.proj](args = (%reshape_5,), kwargs = {})\n",
      "    %v_blocks_2_attn_proj_drop : [#users=1] = call_module[target=v.blocks.2.attn.proj_drop](args = (%v_blocks_2_attn_proj,), kwargs = {})\n",
      "    %v_blocks_2_drop_path : [#users=1] = call_module[target=v.blocks.2.drop_path](args = (%v_blocks_2_attn_proj_drop,), kwargs = {})\n",
      "    %add_5 : [#users=2] = call_function[target=operator.add](args = (%add_4, %v_blocks_2_drop_path), kwargs = {})\n",
      "    %v_blocks_2_norm2 : [#users=1] = call_module[target=v.blocks.2.norm2](args = (%add_5,), kwargs = {})\n",
      "    %v_blocks_2_mlp_fc1 : [#users=1] = call_module[target=v.blocks.2.mlp.fc1](args = (%v_blocks_2_norm2,), kwargs = {})\n",
      "    %v_blocks_2_mlp_act : [#users=1] = call_module[target=v.blocks.2.mlp.act](args = (%v_blocks_2_mlp_fc1,), kwargs = {})\n",
      "    %v_blocks_2_mlp_drop : [#users=1] = call_module[target=v.blocks.2.mlp.drop](args = (%v_blocks_2_mlp_act,), kwargs = {})\n",
      "    %v_blocks_2_mlp_fc2 : [#users=1] = call_module[target=v.blocks.2.mlp.fc2](args = (%v_blocks_2_mlp_drop,), kwargs = {})\n",
      "    %v_blocks_2_mlp_drop_1 : [#users=1] = call_module[target=v.blocks.2.mlp.drop](args = (%v_blocks_2_mlp_fc2,), kwargs = {})\n",
      "    %v_blocks_2_drop_path_1 : [#users=1] = call_module[target=v.blocks.2.drop_path](args = (%v_blocks_2_mlp_drop_1,), kwargs = {})\n",
      "    %add_6 : [#users=2] = call_function[target=operator.add](args = (%add_5, %v_blocks_2_drop_path_1), kwargs = {})\n",
      "    %v_blocks_3_norm1 : [#users=2] = call_module[target=v.blocks.3.norm1](args = (%add_6,), kwargs = {})\n",
      "    %getattr_5 : [#users=3] = call_function[target=builtins.getattr](args = (%v_blocks_3_norm1, shape), kwargs = {})\n",
      "    %getitem_19 : [#users=2] = call_function[target=operator.getitem](args = (%getattr_5, 0), kwargs = {})\n",
      "    %getitem_20 : [#users=2] = call_function[target=operator.getitem](args = (%getattr_5, 1), kwargs = {})\n",
      "    %getitem_21 : [#users=2] = call_function[target=operator.getitem](args = (%getattr_5, 2), kwargs = {})\n",
      "    %v_blocks_3_attn_qkv : [#users=1] = call_module[target=v.blocks.3.attn.qkv](args = (%v_blocks_3_norm1,), kwargs = {})\n",
      "    %floordiv_3 : [#users=1] = call_function[target=operator.floordiv](args = (%getitem_21, 12), kwargs = {})\n",
      "    %reshape_6 : [#users=1] = call_method[target=reshape](args = (%v_blocks_3_attn_qkv, %getitem_19, %getitem_20, 3, 12, %floordiv_3), kwargs = {})\n",
      "    %permute_3 : [#users=3] = call_method[target=permute](args = (%reshape_6, 2, 0, 3, 1, 4), kwargs = {})\n",
      "    %getitem_22 : [#users=1] = call_function[target=operator.getitem](args = (%permute_3, 0), kwargs = {})\n",
      "    %getitem_23 : [#users=1] = call_function[target=operator.getitem](args = (%permute_3, 1), kwargs = {})\n",
      "    %getitem_24 : [#users=1] = call_function[target=operator.getitem](args = (%permute_3, 2), kwargs = {})\n",
      "    %transpose_8 : [#users=1] = call_method[target=transpose](args = (%getitem_23, -2, -1), kwargs = {})\n",
      "    %matmul_6 : [#users=1] = call_function[target=operator.matmul](args = (%getitem_22, %transpose_8), kwargs = {})\n",
      "    %mul_3 : [#users=1] = call_function[target=operator.mul](args = (%matmul_6, 0.125), kwargs = {})\n",
      "    %softmax_3 : [#users=1] = call_method[target=softmax](args = (%mul_3,), kwargs = {dim: -1})\n",
      "    %v_blocks_3_attn_attn_drop : [#users=1] = call_module[target=v.blocks.3.attn.attn_drop](args = (%softmax_3,), kwargs = {})\n",
      "    %matmul_7 : [#users=1] = call_function[target=operator.matmul](args = (%v_blocks_3_attn_attn_drop, %getitem_24), kwargs = {})\n",
      "    %transpose_9 : [#users=1] = call_method[target=transpose](args = (%matmul_7, 1, 2), kwargs = {})\n",
      "    %reshape_7 : [#users=1] = call_method[target=reshape](args = (%transpose_9, %getitem_19, %getitem_20, %getitem_21), kwargs = {})\n",
      "    %v_blocks_3_attn_proj : [#users=1] = call_module[target=v.blocks.3.attn.proj](args = (%reshape_7,), kwargs = {})\n",
      "    %v_blocks_3_attn_proj_drop : [#users=1] = call_module[target=v.blocks.3.attn.proj_drop](args = (%v_blocks_3_attn_proj,), kwargs = {})\n",
      "    %v_blocks_3_drop_path : [#users=1] = call_module[target=v.blocks.3.drop_path](args = (%v_blocks_3_attn_proj_drop,), kwargs = {})\n",
      "    %add_7 : [#users=2] = call_function[target=operator.add](args = (%add_6, %v_blocks_3_drop_path), kwargs = {})\n",
      "    %v_blocks_3_norm2 : [#users=1] = call_module[target=v.blocks.3.norm2](args = (%add_7,), kwargs = {})\n",
      "    %v_blocks_3_mlp_fc1 : [#users=1] = call_module[target=v.blocks.3.mlp.fc1](args = (%v_blocks_3_norm2,), kwargs = {})\n",
      "    %v_blocks_3_mlp_act : [#users=1] = call_module[target=v.blocks.3.mlp.act](args = (%v_blocks_3_mlp_fc1,), kwargs = {})\n",
      "    %v_blocks_3_mlp_drop : [#users=1] = call_module[target=v.blocks.3.mlp.drop](args = (%v_blocks_3_mlp_act,), kwargs = {})\n",
      "    %v_blocks_3_mlp_fc2 : [#users=1] = call_module[target=v.blocks.3.mlp.fc2](args = (%v_blocks_3_mlp_drop,), kwargs = {})\n",
      "    %v_blocks_3_mlp_drop_1 : [#users=1] = call_module[target=v.blocks.3.mlp.drop](args = (%v_blocks_3_mlp_fc2,), kwargs = {})\n",
      "    %v_blocks_3_drop_path_1 : [#users=1] = call_module[target=v.blocks.3.drop_path](args = (%v_blocks_3_mlp_drop_1,), kwargs = {})\n",
      "    %add_8 : [#users=2] = call_function[target=operator.add](args = (%add_7, %v_blocks_3_drop_path_1), kwargs = {})\n",
      "    %v_blocks_4_norm1 : [#users=2] = call_module[target=v.blocks.4.norm1](args = (%add_8,), kwargs = {})\n",
      "    %getattr_6 : [#users=3] = call_function[target=builtins.getattr](args = (%v_blocks_4_norm1, shape), kwargs = {})\n",
      "    %getitem_25 : [#users=2] = call_function[target=operator.getitem](args = (%getattr_6, 0), kwargs = {})\n",
      "    %getitem_26 : [#users=2] = call_function[target=operator.getitem](args = (%getattr_6, 1), kwargs = {})\n",
      "    %getitem_27 : [#users=2] = call_function[target=operator.getitem](args = (%getattr_6, 2), kwargs = {})\n",
      "    %v_blocks_4_attn_qkv : [#users=1] = call_module[target=v.blocks.4.attn.qkv](args = (%v_blocks_4_norm1,), kwargs = {})\n",
      "    %floordiv_4 : [#users=1] = call_function[target=operator.floordiv](args = (%getitem_27, 12), kwargs = {})\n",
      "    %reshape_8 : [#users=1] = call_method[target=reshape](args = (%v_blocks_4_attn_qkv, %getitem_25, %getitem_26, 3, 12, %floordiv_4), kwargs = {})\n",
      "    %permute_4 : [#users=3] = call_method[target=permute](args = (%reshape_8, 2, 0, 3, 1, 4), kwargs = {})\n",
      "    %getitem_28 : [#users=1] = call_function[target=operator.getitem](args = (%permute_4, 0), kwargs = {})\n",
      "    %getitem_29 : [#users=1] = call_function[target=operator.getitem](args = (%permute_4, 1), kwargs = {})\n",
      "    %getitem_30 : [#users=1] = call_function[target=operator.getitem](args = (%permute_4, 2), kwargs = {})\n",
      "    %transpose_10 : [#users=1] = call_method[target=transpose](args = (%getitem_29, -2, -1), kwargs = {})\n",
      "    %matmul_8 : [#users=1] = call_function[target=operator.matmul](args = (%getitem_28, %transpose_10), kwargs = {})\n",
      "    %mul_4 : [#users=1] = call_function[target=operator.mul](args = (%matmul_8, 0.125), kwargs = {})\n",
      "    %softmax_4 : [#users=1] = call_method[target=softmax](args = (%mul_4,), kwargs = {dim: -1})\n",
      "    %v_blocks_4_attn_attn_drop : [#users=1] = call_module[target=v.blocks.4.attn.attn_drop](args = (%softmax_4,), kwargs = {})\n",
      "    %matmul_9 : [#users=1] = call_function[target=operator.matmul](args = (%v_blocks_4_attn_attn_drop, %getitem_30), kwargs = {})\n",
      "    %transpose_11 : [#users=1] = call_method[target=transpose](args = (%matmul_9, 1, 2), kwargs = {})\n",
      "    %reshape_9 : [#users=1] = call_method[target=reshape](args = (%transpose_11, %getitem_25, %getitem_26, %getitem_27), kwargs = {})\n",
      "    %v_blocks_4_attn_proj : [#users=1] = call_module[target=v.blocks.4.attn.proj](args = (%reshape_9,), kwargs = {})\n",
      "    %v_blocks_4_attn_proj_drop : [#users=1] = call_module[target=v.blocks.4.attn.proj_drop](args = (%v_blocks_4_attn_proj,), kwargs = {})\n",
      "    %v_blocks_4_drop_path : [#users=1] = call_module[target=v.blocks.4.drop_path](args = (%v_blocks_4_attn_proj_drop,), kwargs = {})\n",
      "    %add_9 : [#users=2] = call_function[target=operator.add](args = (%add_8, %v_blocks_4_drop_path), kwargs = {})\n",
      "    %v_blocks_4_norm2 : [#users=1] = call_module[target=v.blocks.4.norm2](args = (%add_9,), kwargs = {})\n",
      "    %v_blocks_4_mlp_fc1 : [#users=1] = call_module[target=v.blocks.4.mlp.fc1](args = (%v_blocks_4_norm2,), kwargs = {})\n",
      "    %v_blocks_4_mlp_act : [#users=1] = call_module[target=v.blocks.4.mlp.act](args = (%v_blocks_4_mlp_fc1,), kwargs = {})\n",
      "    %v_blocks_4_mlp_drop : [#users=1] = call_module[target=v.blocks.4.mlp.drop](args = (%v_blocks_4_mlp_act,), kwargs = {})\n",
      "    %v_blocks_4_mlp_fc2 : [#users=1] = call_module[target=v.blocks.4.mlp.fc2](args = (%v_blocks_4_mlp_drop,), kwargs = {})\n",
      "    %v_blocks_4_mlp_drop_1 : [#users=1] = call_module[target=v.blocks.4.mlp.drop](args = (%v_blocks_4_mlp_fc2,), kwargs = {})\n",
      "    %v_blocks_4_drop_path_1 : [#users=1] = call_module[target=v.blocks.4.drop_path](args = (%v_blocks_4_mlp_drop_1,), kwargs = {})\n",
      "    %add_10 : [#users=2] = call_function[target=operator.add](args = (%add_9, %v_blocks_4_drop_path_1), kwargs = {})\n",
      "    %v_blocks_5_norm1 : [#users=2] = call_module[target=v.blocks.5.norm1](args = (%add_10,), kwargs = {})\n",
      "    %getattr_7 : [#users=3] = call_function[target=builtins.getattr](args = (%v_blocks_5_norm1, shape), kwargs = {})\n",
      "    %getitem_31 : [#users=2] = call_function[target=operator.getitem](args = (%getattr_7, 0), kwargs = {})\n",
      "    %getitem_32 : [#users=2] = call_function[target=operator.getitem](args = (%getattr_7, 1), kwargs = {})\n",
      "    %getitem_33 : [#users=2] = call_function[target=operator.getitem](args = (%getattr_7, 2), kwargs = {})\n",
      "    %v_blocks_5_attn_qkv : [#users=1] = call_module[target=v.blocks.5.attn.qkv](args = (%v_blocks_5_norm1,), kwargs = {})\n",
      "    %floordiv_5 : [#users=1] = call_function[target=operator.floordiv](args = (%getitem_33, 12), kwargs = {})\n",
      "    %reshape_10 : [#users=1] = call_method[target=reshape](args = (%v_blocks_5_attn_qkv, %getitem_31, %getitem_32, 3, 12, %floordiv_5), kwargs = {})\n",
      "    %permute_5 : [#users=3] = call_method[target=permute](args = (%reshape_10, 2, 0, 3, 1, 4), kwargs = {})\n",
      "    %getitem_34 : [#users=1] = call_function[target=operator.getitem](args = (%permute_5, 0), kwargs = {})\n",
      "    %getitem_35 : [#users=1] = call_function[target=operator.getitem](args = (%permute_5, 1), kwargs = {})\n",
      "    %getitem_36 : [#users=1] = call_function[target=operator.getitem](args = (%permute_5, 2), kwargs = {})\n",
      "    %transpose_12 : [#users=1] = call_method[target=transpose](args = (%getitem_35, -2, -1), kwargs = {})\n",
      "    %matmul_10 : [#users=1] = call_function[target=operator.matmul](args = (%getitem_34, %transpose_12), kwargs = {})\n",
      "    %mul_5 : [#users=1] = call_function[target=operator.mul](args = (%matmul_10, 0.125), kwargs = {})\n",
      "    %softmax_5 : [#users=1] = call_method[target=softmax](args = (%mul_5,), kwargs = {dim: -1})\n",
      "    %v_blocks_5_attn_attn_drop : [#users=1] = call_module[target=v.blocks.5.attn.attn_drop](args = (%softmax_5,), kwargs = {})\n",
      "    %matmul_11 : [#users=1] = call_function[target=operator.matmul](args = (%v_blocks_5_attn_attn_drop, %getitem_36), kwargs = {})\n",
      "    %transpose_13 : [#users=1] = call_method[target=transpose](args = (%matmul_11, 1, 2), kwargs = {})\n",
      "    %reshape_11 : [#users=1] = call_method[target=reshape](args = (%transpose_13, %getitem_31, %getitem_32, %getitem_33), kwargs = {})\n",
      "    %v_blocks_5_attn_proj : [#users=1] = call_module[target=v.blocks.5.attn.proj](args = (%reshape_11,), kwargs = {})\n",
      "    %v_blocks_5_attn_proj_drop : [#users=1] = call_module[target=v.blocks.5.attn.proj_drop](args = (%v_blocks_5_attn_proj,), kwargs = {})\n",
      "    %v_blocks_5_drop_path : [#users=1] = call_module[target=v.blocks.5.drop_path](args = (%v_blocks_5_attn_proj_drop,), kwargs = {})\n",
      "    %add_11 : [#users=2] = call_function[target=operator.add](args = (%add_10, %v_blocks_5_drop_path), kwargs = {})\n",
      "    %v_blocks_5_norm2 : [#users=1] = call_module[target=v.blocks.5.norm2](args = (%add_11,), kwargs = {})\n",
      "    %v_blocks_5_mlp_fc1 : [#users=1] = call_module[target=v.blocks.5.mlp.fc1](args = (%v_blocks_5_norm2,), kwargs = {})\n",
      "    %v_blocks_5_mlp_act : [#users=1] = call_module[target=v.blocks.5.mlp.act](args = (%v_blocks_5_mlp_fc1,), kwargs = {})\n",
      "    %v_blocks_5_mlp_drop : [#users=1] = call_module[target=v.blocks.5.mlp.drop](args = (%v_blocks_5_mlp_act,), kwargs = {})\n",
      "    %v_blocks_5_mlp_fc2 : [#users=1] = call_module[target=v.blocks.5.mlp.fc2](args = (%v_blocks_5_mlp_drop,), kwargs = {})\n",
      "    %v_blocks_5_mlp_drop_1 : [#users=1] = call_module[target=v.blocks.5.mlp.drop](args = (%v_blocks_5_mlp_fc2,), kwargs = {})\n",
      "    %v_blocks_5_drop_path_1 : [#users=1] = call_module[target=v.blocks.5.drop_path](args = (%v_blocks_5_mlp_drop_1,), kwargs = {})\n",
      "    %add_12 : [#users=2] = call_function[target=operator.add](args = (%add_11, %v_blocks_5_drop_path_1), kwargs = {})\n",
      "    %v_blocks_6_norm1 : [#users=2] = call_module[target=v.blocks.6.norm1](args = (%add_12,), kwargs = {})\n",
      "    %getattr_8 : [#users=3] = call_function[target=builtins.getattr](args = (%v_blocks_6_norm1, shape), kwargs = {})\n",
      "    %getitem_37 : [#users=2] = call_function[target=operator.getitem](args = (%getattr_8, 0), kwargs = {})\n",
      "    %getitem_38 : [#users=2] = call_function[target=operator.getitem](args = (%getattr_8, 1), kwargs = {})\n",
      "    %getitem_39 : [#users=2] = call_function[target=operator.getitem](args = (%getattr_8, 2), kwargs = {})\n",
      "    %v_blocks_6_attn_qkv : [#users=1] = call_module[target=v.blocks.6.attn.qkv](args = (%v_blocks_6_norm1,), kwargs = {})\n",
      "    %floordiv_6 : [#users=1] = call_function[target=operator.floordiv](args = (%getitem_39, 12), kwargs = {})\n",
      "    %reshape_12 : [#users=1] = call_method[target=reshape](args = (%v_blocks_6_attn_qkv, %getitem_37, %getitem_38, 3, 12, %floordiv_6), kwargs = {})\n",
      "    %permute_6 : [#users=3] = call_method[target=permute](args = (%reshape_12, 2, 0, 3, 1, 4), kwargs = {})\n",
      "    %getitem_40 : [#users=1] = call_function[target=operator.getitem](args = (%permute_6, 0), kwargs = {})\n",
      "    %getitem_41 : [#users=1] = call_function[target=operator.getitem](args = (%permute_6, 1), kwargs = {})\n",
      "    %getitem_42 : [#users=1] = call_function[target=operator.getitem](args = (%permute_6, 2), kwargs = {})\n",
      "    %transpose_14 : [#users=1] = call_method[target=transpose](args = (%getitem_41, -2, -1), kwargs = {})\n",
      "    %matmul_12 : [#users=1] = call_function[target=operator.matmul](args = (%getitem_40, %transpose_14), kwargs = {})\n",
      "    %mul_6 : [#users=1] = call_function[target=operator.mul](args = (%matmul_12, 0.125), kwargs = {})\n",
      "    %softmax_6 : [#users=1] = call_method[target=softmax](args = (%mul_6,), kwargs = {dim: -1})\n",
      "    %v_blocks_6_attn_attn_drop : [#users=1] = call_module[target=v.blocks.6.attn.attn_drop](args = (%softmax_6,), kwargs = {})\n",
      "    %matmul_13 : [#users=1] = call_function[target=operator.matmul](args = (%v_blocks_6_attn_attn_drop, %getitem_42), kwargs = {})\n",
      "    %transpose_15 : [#users=1] = call_method[target=transpose](args = (%matmul_13, 1, 2), kwargs = {})\n",
      "    %reshape_13 : [#users=1] = call_method[target=reshape](args = (%transpose_15, %getitem_37, %getitem_38, %getitem_39), kwargs = {})\n",
      "    %v_blocks_6_attn_proj : [#users=1] = call_module[target=v.blocks.6.attn.proj](args = (%reshape_13,), kwargs = {})\n",
      "    %v_blocks_6_attn_proj_drop : [#users=1] = call_module[target=v.blocks.6.attn.proj_drop](args = (%v_blocks_6_attn_proj,), kwargs = {})\n",
      "    %v_blocks_6_drop_path : [#users=1] = call_module[target=v.blocks.6.drop_path](args = (%v_blocks_6_attn_proj_drop,), kwargs = {})\n",
      "    %add_13 : [#users=2] = call_function[target=operator.add](args = (%add_12, %v_blocks_6_drop_path), kwargs = {})\n",
      "    %v_blocks_6_norm2 : [#users=1] = call_module[target=v.blocks.6.norm2](args = (%add_13,), kwargs = {})\n",
      "    %v_blocks_6_mlp_fc1 : [#users=1] = call_module[target=v.blocks.6.mlp.fc1](args = (%v_blocks_6_norm2,), kwargs = {})\n",
      "    %v_blocks_6_mlp_act : [#users=1] = call_module[target=v.blocks.6.mlp.act](args = (%v_blocks_6_mlp_fc1,), kwargs = {})\n",
      "    %v_blocks_6_mlp_drop : [#users=1] = call_module[target=v.blocks.6.mlp.drop](args = (%v_blocks_6_mlp_act,), kwargs = {})\n",
      "    %v_blocks_6_mlp_fc2 : [#users=1] = call_module[target=v.blocks.6.mlp.fc2](args = (%v_blocks_6_mlp_drop,), kwargs = {})\n",
      "    %v_blocks_6_mlp_drop_1 : [#users=1] = call_module[target=v.blocks.6.mlp.drop](args = (%v_blocks_6_mlp_fc2,), kwargs = {})\n",
      "    %v_blocks_6_drop_path_1 : [#users=1] = call_module[target=v.blocks.6.drop_path](args = (%v_blocks_6_mlp_drop_1,), kwargs = {})\n",
      "    %add_14 : [#users=2] = call_function[target=operator.add](args = (%add_13, %v_blocks_6_drop_path_1), kwargs = {})\n",
      "    %v_blocks_7_norm1 : [#users=2] = call_module[target=v.blocks.7.norm1](args = (%add_14,), kwargs = {})\n",
      "    %getattr_9 : [#users=3] = call_function[target=builtins.getattr](args = (%v_blocks_7_norm1, shape), kwargs = {})\n",
      "    %getitem_43 : [#users=2] = call_function[target=operator.getitem](args = (%getattr_9, 0), kwargs = {})\n",
      "    %getitem_44 : [#users=2] = call_function[target=operator.getitem](args = (%getattr_9, 1), kwargs = {})\n",
      "    %getitem_45 : [#users=2] = call_function[target=operator.getitem](args = (%getattr_9, 2), kwargs = {})\n",
      "    %v_blocks_7_attn_qkv : [#users=1] = call_module[target=v.blocks.7.attn.qkv](args = (%v_blocks_7_norm1,), kwargs = {})\n",
      "    %floordiv_7 : [#users=1] = call_function[target=operator.floordiv](args = (%getitem_45, 12), kwargs = {})\n",
      "    %reshape_14 : [#users=1] = call_method[target=reshape](args = (%v_blocks_7_attn_qkv, %getitem_43, %getitem_44, 3, 12, %floordiv_7), kwargs = {})\n",
      "    %permute_7 : [#users=3] = call_method[target=permute](args = (%reshape_14, 2, 0, 3, 1, 4), kwargs = {})\n",
      "    %getitem_46 : [#users=1] = call_function[target=operator.getitem](args = (%permute_7, 0), kwargs = {})\n",
      "    %getitem_47 : [#users=1] = call_function[target=operator.getitem](args = (%permute_7, 1), kwargs = {})\n",
      "    %getitem_48 : [#users=1] = call_function[target=operator.getitem](args = (%permute_7, 2), kwargs = {})\n",
      "    %transpose_16 : [#users=1] = call_method[target=transpose](args = (%getitem_47, -2, -1), kwargs = {})\n",
      "    %matmul_14 : [#users=1] = call_function[target=operator.matmul](args = (%getitem_46, %transpose_16), kwargs = {})\n",
      "    %mul_7 : [#users=1] = call_function[target=operator.mul](args = (%matmul_14, 0.125), kwargs = {})\n",
      "    %softmax_7 : [#users=1] = call_method[target=softmax](args = (%mul_7,), kwargs = {dim: -1})\n",
      "    %v_blocks_7_attn_attn_drop : [#users=1] = call_module[target=v.blocks.7.attn.attn_drop](args = (%softmax_7,), kwargs = {})\n",
      "    %matmul_15 : [#users=1] = call_function[target=operator.matmul](args = (%v_blocks_7_attn_attn_drop, %getitem_48), kwargs = {})\n",
      "    %transpose_17 : [#users=1] = call_method[target=transpose](args = (%matmul_15, 1, 2), kwargs = {})\n",
      "    %reshape_15 : [#users=1] = call_method[target=reshape](args = (%transpose_17, %getitem_43, %getitem_44, %getitem_45), kwargs = {})\n",
      "    %v_blocks_7_attn_proj : [#users=1] = call_module[target=v.blocks.7.attn.proj](args = (%reshape_15,), kwargs = {})\n",
      "    %v_blocks_7_attn_proj_drop : [#users=1] = call_module[target=v.blocks.7.attn.proj_drop](args = (%v_blocks_7_attn_proj,), kwargs = {})\n",
      "    %v_blocks_7_drop_path : [#users=1] = call_module[target=v.blocks.7.drop_path](args = (%v_blocks_7_attn_proj_drop,), kwargs = {})\n",
      "    %add_15 : [#users=2] = call_function[target=operator.add](args = (%add_14, %v_blocks_7_drop_path), kwargs = {})\n",
      "    %v_blocks_7_norm2 : [#users=1] = call_module[target=v.blocks.7.norm2](args = (%add_15,), kwargs = {})\n",
      "    %v_blocks_7_mlp_fc1 : [#users=1] = call_module[target=v.blocks.7.mlp.fc1](args = (%v_blocks_7_norm2,), kwargs = {})\n",
      "    %v_blocks_7_mlp_act : [#users=1] = call_module[target=v.blocks.7.mlp.act](args = (%v_blocks_7_mlp_fc1,), kwargs = {})\n",
      "    %v_blocks_7_mlp_drop : [#users=1] = call_module[target=v.blocks.7.mlp.drop](args = (%v_blocks_7_mlp_act,), kwargs = {})\n",
      "    %v_blocks_7_mlp_fc2 : [#users=1] = call_module[target=v.blocks.7.mlp.fc2](args = (%v_blocks_7_mlp_drop,), kwargs = {})\n",
      "    %v_blocks_7_mlp_drop_1 : [#users=1] = call_module[target=v.blocks.7.mlp.drop](args = (%v_blocks_7_mlp_fc2,), kwargs = {})\n",
      "    %v_blocks_7_drop_path_1 : [#users=1] = call_module[target=v.blocks.7.drop_path](args = (%v_blocks_7_mlp_drop_1,), kwargs = {})\n",
      "    %add_16 : [#users=2] = call_function[target=operator.add](args = (%add_15, %v_blocks_7_drop_path_1), kwargs = {})\n",
      "    %v_blocks_8_norm1 : [#users=2] = call_module[target=v.blocks.8.norm1](args = (%add_16,), kwargs = {})\n",
      "    %getattr_10 : [#users=3] = call_function[target=builtins.getattr](args = (%v_blocks_8_norm1, shape), kwargs = {})\n",
      "    %getitem_49 : [#users=2] = call_function[target=operator.getitem](args = (%getattr_10, 0), kwargs = {})\n",
      "    %getitem_50 : [#users=2] = call_function[target=operator.getitem](args = (%getattr_10, 1), kwargs = {})\n",
      "    %getitem_51 : [#users=2] = call_function[target=operator.getitem](args = (%getattr_10, 2), kwargs = {})\n",
      "    %v_blocks_8_attn_qkv : [#users=1] = call_module[target=v.blocks.8.attn.qkv](args = (%v_blocks_8_norm1,), kwargs = {})\n",
      "    %floordiv_8 : [#users=1] = call_function[target=operator.floordiv](args = (%getitem_51, 12), kwargs = {})\n",
      "    %reshape_16 : [#users=1] = call_method[target=reshape](args = (%v_blocks_8_attn_qkv, %getitem_49, %getitem_50, 3, 12, %floordiv_8), kwargs = {})\n",
      "    %permute_8 : [#users=3] = call_method[target=permute](args = (%reshape_16, 2, 0, 3, 1, 4), kwargs = {})\n",
      "    %getitem_52 : [#users=1] = call_function[target=operator.getitem](args = (%permute_8, 0), kwargs = {})\n",
      "    %getitem_53 : [#users=1] = call_function[target=operator.getitem](args = (%permute_8, 1), kwargs = {})\n",
      "    %getitem_54 : [#users=1] = call_function[target=operator.getitem](args = (%permute_8, 2), kwargs = {})\n",
      "    %transpose_18 : [#users=1] = call_method[target=transpose](args = (%getitem_53, -2, -1), kwargs = {})\n",
      "    %matmul_16 : [#users=1] = call_function[target=operator.matmul](args = (%getitem_52, %transpose_18), kwargs = {})\n",
      "    %mul_8 : [#users=1] = call_function[target=operator.mul](args = (%matmul_16, 0.125), kwargs = {})\n",
      "    %softmax_8 : [#users=1] = call_method[target=softmax](args = (%mul_8,), kwargs = {dim: -1})\n",
      "    %v_blocks_8_attn_attn_drop : [#users=1] = call_module[target=v.blocks.8.attn.attn_drop](args = (%softmax_8,), kwargs = {})\n",
      "    %matmul_17 : [#users=1] = call_function[target=operator.matmul](args = (%v_blocks_8_attn_attn_drop, %getitem_54), kwargs = {})\n",
      "    %transpose_19 : [#users=1] = call_method[target=transpose](args = (%matmul_17, 1, 2), kwargs = {})\n",
      "    %reshape_17 : [#users=1] = call_method[target=reshape](args = (%transpose_19, %getitem_49, %getitem_50, %getitem_51), kwargs = {})\n",
      "    %v_blocks_8_attn_proj : [#users=1] = call_module[target=v.blocks.8.attn.proj](args = (%reshape_17,), kwargs = {})\n",
      "    %v_blocks_8_attn_proj_drop : [#users=1] = call_module[target=v.blocks.8.attn.proj_drop](args = (%v_blocks_8_attn_proj,), kwargs = {})\n",
      "    %v_blocks_8_drop_path : [#users=1] = call_module[target=v.blocks.8.drop_path](args = (%v_blocks_8_attn_proj_drop,), kwargs = {})\n",
      "    %add_17 : [#users=2] = call_function[target=operator.add](args = (%add_16, %v_blocks_8_drop_path), kwargs = {})\n",
      "    %v_blocks_8_norm2 : [#users=1] = call_module[target=v.blocks.8.norm2](args = (%add_17,), kwargs = {})\n",
      "    %v_blocks_8_mlp_fc1 : [#users=1] = call_module[target=v.blocks.8.mlp.fc1](args = (%v_blocks_8_norm2,), kwargs = {})\n",
      "    %v_blocks_8_mlp_act : [#users=1] = call_module[target=v.blocks.8.mlp.act](args = (%v_blocks_8_mlp_fc1,), kwargs = {})\n",
      "    %v_blocks_8_mlp_drop : [#users=1] = call_module[target=v.blocks.8.mlp.drop](args = (%v_blocks_8_mlp_act,), kwargs = {})\n",
      "    %v_blocks_8_mlp_fc2 : [#users=1] = call_module[target=v.blocks.8.mlp.fc2](args = (%v_blocks_8_mlp_drop,), kwargs = {})\n",
      "    %v_blocks_8_mlp_drop_1 : [#users=1] = call_module[target=v.blocks.8.mlp.drop](args = (%v_blocks_8_mlp_fc2,), kwargs = {})\n",
      "    %v_blocks_8_drop_path_1 : [#users=1] = call_module[target=v.blocks.8.drop_path](args = (%v_blocks_8_mlp_drop_1,), kwargs = {})\n",
      "    %add_18 : [#users=2] = call_function[target=operator.add](args = (%add_17, %v_blocks_8_drop_path_1), kwargs = {})\n",
      "    %v_blocks_9_norm1 : [#users=2] = call_module[target=v.blocks.9.norm1](args = (%add_18,), kwargs = {})\n",
      "    %getattr_11 : [#users=3] = call_function[target=builtins.getattr](args = (%v_blocks_9_norm1, shape), kwargs = {})\n",
      "    %getitem_55 : [#users=2] = call_function[target=operator.getitem](args = (%getattr_11, 0), kwargs = {})\n",
      "    %getitem_56 : [#users=2] = call_function[target=operator.getitem](args = (%getattr_11, 1), kwargs = {})\n",
      "    %getitem_57 : [#users=2] = call_function[target=operator.getitem](args = (%getattr_11, 2), kwargs = {})\n",
      "    %v_blocks_9_attn_qkv : [#users=1] = call_module[target=v.blocks.9.attn.qkv](args = (%v_blocks_9_norm1,), kwargs = {})\n",
      "    %floordiv_9 : [#users=1] = call_function[target=operator.floordiv](args = (%getitem_57, 12), kwargs = {})\n",
      "    %reshape_18 : [#users=1] = call_method[target=reshape](args = (%v_blocks_9_attn_qkv, %getitem_55, %getitem_56, 3, 12, %floordiv_9), kwargs = {})\n",
      "    %permute_9 : [#users=3] = call_method[target=permute](args = (%reshape_18, 2, 0, 3, 1, 4), kwargs = {})\n",
      "    %getitem_58 : [#users=1] = call_function[target=operator.getitem](args = (%permute_9, 0), kwargs = {})\n",
      "    %getitem_59 : [#users=1] = call_function[target=operator.getitem](args = (%permute_9, 1), kwargs = {})\n",
      "    %getitem_60 : [#users=1] = call_function[target=operator.getitem](args = (%permute_9, 2), kwargs = {})\n",
      "    %transpose_20 : [#users=1] = call_method[target=transpose](args = (%getitem_59, -2, -1), kwargs = {})\n",
      "    %matmul_18 : [#users=1] = call_function[target=operator.matmul](args = (%getitem_58, %transpose_20), kwargs = {})\n",
      "    %mul_9 : [#users=1] = call_function[target=operator.mul](args = (%matmul_18, 0.125), kwargs = {})\n",
      "    %softmax_9 : [#users=1] = call_method[target=softmax](args = (%mul_9,), kwargs = {dim: -1})\n",
      "    %v_blocks_9_attn_attn_drop : [#users=1] = call_module[target=v.blocks.9.attn.attn_drop](args = (%softmax_9,), kwargs = {})\n",
      "    %matmul_19 : [#users=1] = call_function[target=operator.matmul](args = (%v_blocks_9_attn_attn_drop, %getitem_60), kwargs = {})\n",
      "    %transpose_21 : [#users=1] = call_method[target=transpose](args = (%matmul_19, 1, 2), kwargs = {})\n",
      "    %reshape_19 : [#users=1] = call_method[target=reshape](args = (%transpose_21, %getitem_55, %getitem_56, %getitem_57), kwargs = {})\n",
      "    %v_blocks_9_attn_proj : [#users=1] = call_module[target=v.blocks.9.attn.proj](args = (%reshape_19,), kwargs = {})\n",
      "    %v_blocks_9_attn_proj_drop : [#users=1] = call_module[target=v.blocks.9.attn.proj_drop](args = (%v_blocks_9_attn_proj,), kwargs = {})\n",
      "    %v_blocks_9_drop_path : [#users=1] = call_module[target=v.blocks.9.drop_path](args = (%v_blocks_9_attn_proj_drop,), kwargs = {})\n",
      "    %add_19 : [#users=2] = call_function[target=operator.add](args = (%add_18, %v_blocks_9_drop_path), kwargs = {})\n",
      "    %v_blocks_9_norm2 : [#users=1] = call_module[target=v.blocks.9.norm2](args = (%add_19,), kwargs = {})\n",
      "    %v_blocks_9_mlp_fc1 : [#users=1] = call_module[target=v.blocks.9.mlp.fc1](args = (%v_blocks_9_norm2,), kwargs = {})\n",
      "    %v_blocks_9_mlp_act : [#users=1] = call_module[target=v.blocks.9.mlp.act](args = (%v_blocks_9_mlp_fc1,), kwargs = {})\n",
      "    %v_blocks_9_mlp_drop : [#users=1] = call_module[target=v.blocks.9.mlp.drop](args = (%v_blocks_9_mlp_act,), kwargs = {})\n",
      "    %v_blocks_9_mlp_fc2 : [#users=1] = call_module[target=v.blocks.9.mlp.fc2](args = (%v_blocks_9_mlp_drop,), kwargs = {})\n",
      "    %v_blocks_9_mlp_drop_1 : [#users=1] = call_module[target=v.blocks.9.mlp.drop](args = (%v_blocks_9_mlp_fc2,), kwargs = {})\n",
      "    %v_blocks_9_drop_path_1 : [#users=1] = call_module[target=v.blocks.9.drop_path](args = (%v_blocks_9_mlp_drop_1,), kwargs = {})\n",
      "    %add_20 : [#users=2] = call_function[target=operator.add](args = (%add_19, %v_blocks_9_drop_path_1), kwargs = {})\n",
      "    %v_blocks_10_norm1 : [#users=2] = call_module[target=v.blocks.10.norm1](args = (%add_20,), kwargs = {})\n",
      "    %getattr_12 : [#users=3] = call_function[target=builtins.getattr](args = (%v_blocks_10_norm1, shape), kwargs = {})\n",
      "    %getitem_61 : [#users=2] = call_function[target=operator.getitem](args = (%getattr_12, 0), kwargs = {})\n",
      "    %getitem_62 : [#users=2] = call_function[target=operator.getitem](args = (%getattr_12, 1), kwargs = {})\n",
      "    %getitem_63 : [#users=2] = call_function[target=operator.getitem](args = (%getattr_12, 2), kwargs = {})\n",
      "    %v_blocks_10_attn_qkv : [#users=1] = call_module[target=v.blocks.10.attn.qkv](args = (%v_blocks_10_norm1,), kwargs = {})\n",
      "    %floordiv_10 : [#users=1] = call_function[target=operator.floordiv](args = (%getitem_63, 12), kwargs = {})\n",
      "    %reshape_20 : [#users=1] = call_method[target=reshape](args = (%v_blocks_10_attn_qkv, %getitem_61, %getitem_62, 3, 12, %floordiv_10), kwargs = {})\n",
      "    %permute_10 : [#users=3] = call_method[target=permute](args = (%reshape_20, 2, 0, 3, 1, 4), kwargs = {})\n",
      "    %getitem_64 : [#users=1] = call_function[target=operator.getitem](args = (%permute_10, 0), kwargs = {})\n",
      "    %getitem_65 : [#users=1] = call_function[target=operator.getitem](args = (%permute_10, 1), kwargs = {})\n",
      "    %getitem_66 : [#users=1] = call_function[target=operator.getitem](args = (%permute_10, 2), kwargs = {})\n",
      "    %transpose_22 : [#users=1] = call_method[target=transpose](args = (%getitem_65, -2, -1), kwargs = {})\n",
      "    %matmul_20 : [#users=1] = call_function[target=operator.matmul](args = (%getitem_64, %transpose_22), kwargs = {})\n",
      "    %mul_10 : [#users=1] = call_function[target=operator.mul](args = (%matmul_20, 0.125), kwargs = {})\n",
      "    %softmax_10 : [#users=1] = call_method[target=softmax](args = (%mul_10,), kwargs = {dim: -1})\n",
      "    %v_blocks_10_attn_attn_drop : [#users=1] = call_module[target=v.blocks.10.attn.attn_drop](args = (%softmax_10,), kwargs = {})\n",
      "    %matmul_21 : [#users=1] = call_function[target=operator.matmul](args = (%v_blocks_10_attn_attn_drop, %getitem_66), kwargs = {})\n",
      "    %transpose_23 : [#users=1] = call_method[target=transpose](args = (%matmul_21, 1, 2), kwargs = {})\n",
      "    %reshape_21 : [#users=1] = call_method[target=reshape](args = (%transpose_23, %getitem_61, %getitem_62, %getitem_63), kwargs = {})\n",
      "    %v_blocks_10_attn_proj : [#users=1] = call_module[target=v.blocks.10.attn.proj](args = (%reshape_21,), kwargs = {})\n",
      "    %v_blocks_10_attn_proj_drop : [#users=1] = call_module[target=v.blocks.10.attn.proj_drop](args = (%v_blocks_10_attn_proj,), kwargs = {})\n",
      "    %v_blocks_10_drop_path : [#users=1] = call_module[target=v.blocks.10.drop_path](args = (%v_blocks_10_attn_proj_drop,), kwargs = {})\n",
      "    %add_21 : [#users=2] = call_function[target=operator.add](args = (%add_20, %v_blocks_10_drop_path), kwargs = {})\n",
      "    %v_blocks_10_norm2 : [#users=1] = call_module[target=v.blocks.10.norm2](args = (%add_21,), kwargs = {})\n",
      "    %v_blocks_10_mlp_fc1 : [#users=1] = call_module[target=v.blocks.10.mlp.fc1](args = (%v_blocks_10_norm2,), kwargs = {})\n",
      "    %v_blocks_10_mlp_act : [#users=1] = call_module[target=v.blocks.10.mlp.act](args = (%v_blocks_10_mlp_fc1,), kwargs = {})\n",
      "    %v_blocks_10_mlp_drop : [#users=1] = call_module[target=v.blocks.10.mlp.drop](args = (%v_blocks_10_mlp_act,), kwargs = {})\n",
      "    %v_blocks_10_mlp_fc2 : [#users=1] = call_module[target=v.blocks.10.mlp.fc2](args = (%v_blocks_10_mlp_drop,), kwargs = {})\n",
      "    %v_blocks_10_mlp_drop_1 : [#users=1] = call_module[target=v.blocks.10.mlp.drop](args = (%v_blocks_10_mlp_fc2,), kwargs = {})\n",
      "    %v_blocks_10_drop_path_1 : [#users=1] = call_module[target=v.blocks.10.drop_path](args = (%v_blocks_10_mlp_drop_1,), kwargs = {})\n",
      "    %add_22 : [#users=2] = call_function[target=operator.add](args = (%add_21, %v_blocks_10_drop_path_1), kwargs = {})\n",
      "    %v_blocks_11_norm1 : [#users=2] = call_module[target=v.blocks.11.norm1](args = (%add_22,), kwargs = {})\n",
      "    %getattr_13 : [#users=3] = call_function[target=builtins.getattr](args = (%v_blocks_11_norm1, shape), kwargs = {})\n",
      "    %getitem_67 : [#users=2] = call_function[target=operator.getitem](args = (%getattr_13, 0), kwargs = {})\n",
      "    %getitem_68 : [#users=2] = call_function[target=operator.getitem](args = (%getattr_13, 1), kwargs = {})\n",
      "    %getitem_69 : [#users=2] = call_function[target=operator.getitem](args = (%getattr_13, 2), kwargs = {})\n",
      "    %v_blocks_11_attn_qkv : [#users=1] = call_module[target=v.blocks.11.attn.qkv](args = (%v_blocks_11_norm1,), kwargs = {})\n",
      "    %floordiv_11 : [#users=1] = call_function[target=operator.floordiv](args = (%getitem_69, 12), kwargs = {})\n",
      "    %reshape_22 : [#users=1] = call_method[target=reshape](args = (%v_blocks_11_attn_qkv, %getitem_67, %getitem_68, 3, 12, %floordiv_11), kwargs = {})\n",
      "    %permute_11 : [#users=3] = call_method[target=permute](args = (%reshape_22, 2, 0, 3, 1, 4), kwargs = {})\n",
      "    %getitem_70 : [#users=1] = call_function[target=operator.getitem](args = (%permute_11, 0), kwargs = {})\n",
      "    %getitem_71 : [#users=1] = call_function[target=operator.getitem](args = (%permute_11, 1), kwargs = {})\n",
      "    %getitem_72 : [#users=1] = call_function[target=operator.getitem](args = (%permute_11, 2), kwargs = {})\n",
      "    %transpose_24 : [#users=1] = call_method[target=transpose](args = (%getitem_71, -2, -1), kwargs = {})\n",
      "    %matmul_22 : [#users=1] = call_function[target=operator.matmul](args = (%getitem_70, %transpose_24), kwargs = {})\n",
      "    %mul_11 : [#users=1] = call_function[target=operator.mul](args = (%matmul_22, 0.125), kwargs = {})\n",
      "    %softmax_11 : [#users=1] = call_method[target=softmax](args = (%mul_11,), kwargs = {dim: -1})\n",
      "    %v_blocks_11_attn_attn_drop : [#users=1] = call_module[target=v.blocks.11.attn.attn_drop](args = (%softmax_11,), kwargs = {})\n",
      "    %matmul_23 : [#users=1] = call_function[target=operator.matmul](args = (%v_blocks_11_attn_attn_drop, %getitem_72), kwargs = {})\n",
      "    %transpose_25 : [#users=1] = call_method[target=transpose](args = (%matmul_23, 1, 2), kwargs = {})\n",
      "    %reshape_23 : [#users=1] = call_method[target=reshape](args = (%transpose_25, %getitem_67, %getitem_68, %getitem_69), kwargs = {})\n",
      "    %v_blocks_11_attn_proj : [#users=1] = call_module[target=v.blocks.11.attn.proj](args = (%reshape_23,), kwargs = {})\n",
      "    %v_blocks_11_attn_proj_drop : [#users=1] = call_module[target=v.blocks.11.attn.proj_drop](args = (%v_blocks_11_attn_proj,), kwargs = {})\n",
      "    %v_blocks_11_drop_path : [#users=1] = call_module[target=v.blocks.11.drop_path](args = (%v_blocks_11_attn_proj_drop,), kwargs = {})\n",
      "    %add_23 : [#users=2] = call_function[target=operator.add](args = (%add_22, %v_blocks_11_drop_path), kwargs = {})\n",
      "    %v_blocks_11_norm2 : [#users=1] = call_module[target=v.blocks.11.norm2](args = (%add_23,), kwargs = {})\n",
      "    %v_blocks_11_mlp_fc1 : [#users=1] = call_module[target=v.blocks.11.mlp.fc1](args = (%v_blocks_11_norm2,), kwargs = {})\n",
      "    %v_blocks_11_mlp_act : [#users=1] = call_module[target=v.blocks.11.mlp.act](args = (%v_blocks_11_mlp_fc1,), kwargs = {})\n",
      "    %v_blocks_11_mlp_drop : [#users=1] = call_module[target=v.blocks.11.mlp.drop](args = (%v_blocks_11_mlp_act,), kwargs = {})\n",
      "    %v_blocks_11_mlp_fc2 : [#users=1] = call_module[target=v.blocks.11.mlp.fc2](args = (%v_blocks_11_mlp_drop,), kwargs = {})\n",
      "    %v_blocks_11_mlp_drop_1 : [#users=1] = call_module[target=v.blocks.11.mlp.drop](args = (%v_blocks_11_mlp_fc2,), kwargs = {})\n",
      "    %v_blocks_11_drop_path_1 : [#users=1] = call_module[target=v.blocks.11.drop_path](args = (%v_blocks_11_mlp_drop_1,), kwargs = {})\n",
      "    %add_24 : [#users=1] = call_function[target=operator.add](args = (%add_23, %v_blocks_11_drop_path_1), kwargs = {})\n",
      "    %v_norm : [#users=2] = call_module[target=v.norm](args = (%add_24,), kwargs = {})\n",
      "    %getitem_73 : [#users=1] = call_function[target=operator.getitem](args = (%v_norm, (slice(None, None, None), 0)), kwargs = {})\n",
      "    %getitem_74 : [#users=1] = call_function[target=operator.getitem](args = (%v_norm, (slice(None, None, None), 1)), kwargs = {})\n",
      "    %add_25 : [#users=1] = call_function[target=operator.add](args = (%getitem_73, %getitem_74), kwargs = {})\n",
      "    %truediv : [#users=1] = call_function[target=operator.truediv](args = (%add_25, 2), kwargs = {})\n",
      "    %mlp_head_0 : [#users=1] = call_module[target=mlp_head.0](args = (%truediv,), kwargs = {})\n",
      "    %mlp_head_1 : [#users=1] = call_module[target=mlp_head.1](args = (%mlp_head_0,), kwargs = {})\n",
      "    return mlp_head_1\n"
     ]
    }
   ],
   "source": [
    "print(traced.graph)"
   ]
  },
  {
   "cell_type": "code",
   "execution_count": 887,
   "id": "3b594d76-063d-4e1f-a375-28ef332f998b",
   "metadata": {},
   "outputs": [
    {
     "ename": "SyntaxError",
     "evalue": "invalid syntax (1755823209.py, line 1)",
     "output_type": "error",
     "traceback": [
      "\u001b[0;36m  File \u001b[0;32m\"/tmp/ipykernel_12345/1755823209.py\"\u001b[0;36m, line \u001b[0;32m1\u001b[0m\n\u001b[0;31m    traced = GraphModule(tracc.root, g1.blocks.0.attn.matmul,\"test\")\u001b[0m\n\u001b[0m                                               ^\u001b[0m\n\u001b[0;31mSyntaxError\u001b[0m\u001b[0;31m:\u001b[0m invalid syntax\n"
     ]
    }
   ],
   "source": [
    "traced = GraphModule(tracc.root, g1.blocks.0.attn.matmul,\"test\")"
   ]
  },
  {
   "cell_type": "code",
   "execution_count": 885,
   "id": "745f85d1-fca4-4321-8e24-c89519a9fec3",
   "metadata": {},
   "outputs": [
    {
     "data": {
      "text/plain": [
       "Module(\n",
       "  (0): Module(\n",
       "    (norm1): LayerNorm((768,), eps=1e-06, elementwise_affine=True)\n",
       "    (attn): Module(\n",
       "      (qkv): Linear(in_features=768, out_features=2304, bias=True)\n",
       "      (attn_drop): Dropout(p=0.0, inplace=False)\n",
       "      (proj): Linear(in_features=768, out_features=768, bias=True)\n",
       "      (proj_drop): Dropout(p=0.0, inplace=False)\n",
       "    )\n",
       "    (drop_path): Identity()\n",
       "    (norm2): LayerNorm((768,), eps=1e-06, elementwise_affine=True)\n",
       "    (mlp): Module(\n",
       "      (fc1): Linear(in_features=768, out_features=3072, bias=True)\n",
       "      (act): GELU()\n",
       "      (drop): Dropout(p=0.0, inplace=False)\n",
       "      (fc2): Linear(in_features=3072, out_features=768, bias=True)\n",
       "    )\n",
       "  )\n",
       "  (1): Module(\n",
       "    (norm1): LayerNorm((768,), eps=1e-06, elementwise_affine=True)\n",
       "    (attn): Module(\n",
       "      (qkv): Linear(in_features=768, out_features=2304, bias=True)\n",
       "      (attn_drop): Dropout(p=0.0, inplace=False)\n",
       "      (proj): Linear(in_features=768, out_features=768, bias=True)\n",
       "      (proj_drop): Dropout(p=0.0, inplace=False)\n",
       "    )\n",
       "    (drop_path): Identity()\n",
       "    (norm2): LayerNorm((768,), eps=1e-06, elementwise_affine=True)\n",
       "    (mlp): Module(\n",
       "      (fc1): Linear(in_features=768, out_features=3072, bias=True)\n",
       "      (act): GELU()\n",
       "      (drop): Dropout(p=0.0, inplace=False)\n",
       "      (fc2): Linear(in_features=3072, out_features=768, bias=True)\n",
       "    )\n",
       "  )\n",
       "  (2): Module(\n",
       "    (norm1): LayerNorm((768,), eps=1e-06, elementwise_affine=True)\n",
       "    (attn): Module(\n",
       "      (qkv): Linear(in_features=768, out_features=2304, bias=True)\n",
       "      (attn_drop): Dropout(p=0.0, inplace=False)\n",
       "      (proj): Linear(in_features=768, out_features=768, bias=True)\n",
       "      (proj_drop): Dropout(p=0.0, inplace=False)\n",
       "    )\n",
       "    (drop_path): Identity()\n",
       "    (norm2): LayerNorm((768,), eps=1e-06, elementwise_affine=True)\n",
       "    (mlp): Module(\n",
       "      (fc1): Linear(in_features=768, out_features=3072, bias=True)\n",
       "      (act): GELU()\n",
       "      (drop): Dropout(p=0.0, inplace=False)\n",
       "      (fc2): Linear(in_features=3072, out_features=768, bias=True)\n",
       "    )\n",
       "  )\n",
       "  (3): Module(\n",
       "    (norm1): LayerNorm((768,), eps=1e-06, elementwise_affine=True)\n",
       "    (attn): Module(\n",
       "      (qkv): Linear(in_features=768, out_features=2304, bias=True)\n",
       "      (attn_drop): Dropout(p=0.0, inplace=False)\n",
       "      (proj): Linear(in_features=768, out_features=768, bias=True)\n",
       "      (proj_drop): Dropout(p=0.0, inplace=False)\n",
       "    )\n",
       "    (drop_path): Identity()\n",
       "    (norm2): LayerNorm((768,), eps=1e-06, elementwise_affine=True)\n",
       "    (mlp): Module(\n",
       "      (fc1): Linear(in_features=768, out_features=3072, bias=True)\n",
       "      (act): GELU()\n",
       "      (drop): Dropout(p=0.0, inplace=False)\n",
       "      (fc2): Linear(in_features=3072, out_features=768, bias=True)\n",
       "    )\n",
       "  )\n",
       "  (4): Module(\n",
       "    (norm1): LayerNorm((768,), eps=1e-06, elementwise_affine=True)\n",
       "    (attn): Module(\n",
       "      (qkv): Linear(in_features=768, out_features=2304, bias=True)\n",
       "      (attn_drop): Dropout(p=0.0, inplace=False)\n",
       "      (proj): Linear(in_features=768, out_features=768, bias=True)\n",
       "      (proj_drop): Dropout(p=0.0, inplace=False)\n",
       "    )\n",
       "    (drop_path): Identity()\n",
       "    (norm2): LayerNorm((768,), eps=1e-06, elementwise_affine=True)\n",
       "    (mlp): Module(\n",
       "      (fc1): Linear(in_features=768, out_features=3072, bias=True)\n",
       "      (act): GELU()\n",
       "      (drop): Dropout(p=0.0, inplace=False)\n",
       "      (fc2): Linear(in_features=3072, out_features=768, bias=True)\n",
       "    )\n",
       "  )\n",
       "  (5): Module(\n",
       "    (norm1): LayerNorm((768,), eps=1e-06, elementwise_affine=True)\n",
       "    (attn): Module(\n",
       "      (qkv): Linear(in_features=768, out_features=2304, bias=True)\n",
       "      (attn_drop): Dropout(p=0.0, inplace=False)\n",
       "      (proj): Linear(in_features=768, out_features=768, bias=True)\n",
       "      (proj_drop): Dropout(p=0.0, inplace=False)\n",
       "    )\n",
       "    (drop_path): Identity()\n",
       "    (norm2): LayerNorm((768,), eps=1e-06, elementwise_affine=True)\n",
       "    (mlp): Module(\n",
       "      (fc1): Linear(in_features=768, out_features=3072, bias=True)\n",
       "      (act): GELU()\n",
       "      (drop): Dropout(p=0.0, inplace=False)\n",
       "      (fc2): Linear(in_features=3072, out_features=768, bias=True)\n",
       "    )\n",
       "  )\n",
       "  (6): Module(\n",
       "    (norm1): LayerNorm((768,), eps=1e-06, elementwise_affine=True)\n",
       "    (attn): Module(\n",
       "      (qkv): Linear(in_features=768, out_features=2304, bias=True)\n",
       "      (attn_drop): Dropout(p=0.0, inplace=False)\n",
       "      (proj): Linear(in_features=768, out_features=768, bias=True)\n",
       "      (proj_drop): Dropout(p=0.0, inplace=False)\n",
       "    )\n",
       "    (drop_path): Identity()\n",
       "    (norm2): LayerNorm((768,), eps=1e-06, elementwise_affine=True)\n",
       "    (mlp): Module(\n",
       "      (fc1): Linear(in_features=768, out_features=3072, bias=True)\n",
       "      (act): GELU()\n",
       "      (drop): Dropout(p=0.0, inplace=False)\n",
       "      (fc2): Linear(in_features=3072, out_features=768, bias=True)\n",
       "    )\n",
       "  )\n",
       "  (7): Module(\n",
       "    (norm1): LayerNorm((768,), eps=1e-06, elementwise_affine=True)\n",
       "    (attn): Module(\n",
       "      (qkv): Linear(in_features=768, out_features=2304, bias=True)\n",
       "      (attn_drop): Dropout(p=0.0, inplace=False)\n",
       "      (proj): Linear(in_features=768, out_features=768, bias=True)\n",
       "      (proj_drop): Dropout(p=0.0, inplace=False)\n",
       "    )\n",
       "    (drop_path): Identity()\n",
       "    (norm2): LayerNorm((768,), eps=1e-06, elementwise_affine=True)\n",
       "    (mlp): Module(\n",
       "      (fc1): Linear(in_features=768, out_features=3072, bias=True)\n",
       "      (act): GELU()\n",
       "      (drop): Dropout(p=0.0, inplace=False)\n",
       "      (fc2): Linear(in_features=3072, out_features=768, bias=True)\n",
       "    )\n",
       "  )\n",
       "  (8): Module(\n",
       "    (norm1): LayerNorm((768,), eps=1e-06, elementwise_affine=True)\n",
       "    (attn): Module(\n",
       "      (qkv): Linear(in_features=768, out_features=2304, bias=True)\n",
       "      (attn_drop): Dropout(p=0.0, inplace=False)\n",
       "      (proj): Linear(in_features=768, out_features=768, bias=True)\n",
       "      (proj_drop): Dropout(p=0.0, inplace=False)\n",
       "    )\n",
       "    (drop_path): Identity()\n",
       "    (norm2): LayerNorm((768,), eps=1e-06, elementwise_affine=True)\n",
       "    (mlp): Module(\n",
       "      (fc1): Linear(in_features=768, out_features=3072, bias=True)\n",
       "      (act): GELU()\n",
       "      (drop): Dropout(p=0.0, inplace=False)\n",
       "      (fc2): Linear(in_features=3072, out_features=768, bias=True)\n",
       "    )\n",
       "  )\n",
       "  (9): Module(\n",
       "    (norm1): LayerNorm((768,), eps=1e-06, elementwise_affine=True)\n",
       "    (attn): Module(\n",
       "      (qkv): Linear(in_features=768, out_features=2304, bias=True)\n",
       "      (attn_drop): Dropout(p=0.0, inplace=False)\n",
       "      (proj): Linear(in_features=768, out_features=768, bias=True)\n",
       "      (proj_drop): Dropout(p=0.0, inplace=False)\n",
       "    )\n",
       "    (drop_path): Identity()\n",
       "    (norm2): LayerNorm((768,), eps=1e-06, elementwise_affine=True)\n",
       "    (mlp): Module(\n",
       "      (fc1): Linear(in_features=768, out_features=3072, bias=True)\n",
       "      (act): GELU()\n",
       "      (drop): Dropout(p=0.0, inplace=False)\n",
       "      (fc2): Linear(in_features=3072, out_features=768, bias=True)\n",
       "    )\n",
       "  )\n",
       "  (10): Module(\n",
       "    (norm1): LayerNorm((768,), eps=1e-06, elementwise_affine=True)\n",
       "    (attn): Module(\n",
       "      (qkv): Linear(in_features=768, out_features=2304, bias=True)\n",
       "      (attn_drop): Dropout(p=0.0, inplace=False)\n",
       "      (proj): Linear(in_features=768, out_features=768, bias=True)\n",
       "      (proj_drop): Dropout(p=0.0, inplace=False)\n",
       "    )\n",
       "    (drop_path): Identity()\n",
       "    (norm2): LayerNorm((768,), eps=1e-06, elementwise_affine=True)\n",
       "    (mlp): Module(\n",
       "      (fc1): Linear(in_features=768, out_features=3072, bias=True)\n",
       "      (act): GELU()\n",
       "      (drop): Dropout(p=0.0, inplace=False)\n",
       "      (fc2): Linear(in_features=3072, out_features=768, bias=True)\n",
       "    )\n",
       "  )\n",
       "  (11): Module(\n",
       "    (norm1): LayerNorm((768,), eps=1e-06, elementwise_affine=True)\n",
       "    (attn): Module(\n",
       "      (qkv): Linear(in_features=768, out_features=2304, bias=True)\n",
       "      (attn_drop): Dropout(p=0.0, inplace=False)\n",
       "      (proj): Linear(in_features=768, out_features=768, bias=True)\n",
       "      (proj_drop): Dropout(p=0.0, inplace=False)\n",
       "    )\n",
       "    (drop_path): Identity()\n",
       "    (norm2): LayerNorm((768,), eps=1e-06, elementwise_affine=True)\n",
       "    (mlp): Module(\n",
       "      (fc1): Linear(in_features=768, out_features=3072, bias=True)\n",
       "      (act): GELU()\n",
       "      (drop): Dropout(p=0.0, inplace=False)\n",
       "      (fc2): Linear(in_features=3072, out_features=768, bias=True)\n",
       "    )\n",
       "  )\n",
       ")"
      ]
     },
     "execution_count": 885,
     "metadata": {},
     "output_type": "execute_result"
    }
   ],
   "source": [
    "traced.v.blocks"
   ]
  },
  {
   "cell_type": "code",
   "execution_count": 861,
   "id": "0ba0ca8d-246b-4fd7-80a8-9972373ce2ff",
   "metadata": {},
   "outputs": [
    {
     "ename": "TypeError",
     "evalue": "forward() got an unexpected keyword argument 'return_nodes'",
     "output_type": "error",
     "traceback": [
      "\u001b[0;31m---------------------------------------------------------------------------\u001b[0m",
      "\u001b[0;31mTypeError\u001b[0m                                 Traceback (most recent call last)",
      "\u001b[0;32m/tmp/ipykernel_12345/1734252225.py\u001b[0m in \u001b[0;36m<module>\u001b[0;34m\u001b[0m\n\u001b[0;32m----> 1\u001b[0;31m \u001b[0mk\u001b[0m\u001b[0;34m=\u001b[0m\u001b[0mtraced\u001b[0m\u001b[0;34m(\u001b[0m\u001b[0mimg\u001b[0m\u001b[0;34m,\u001b[0m\u001b[0;34m'ft_cls'\u001b[0m\u001b[0;34m,\u001b[0m\u001b[0mreturn_nodes\u001b[0m\u001b[0;34m=\u001b[0m\u001b[0;34m[\u001b[0m\u001b[0;34m'blocks.0.attn.matmul'\u001b[0m\u001b[0;34m]\u001b[0m\u001b[0;34m)\u001b[0m\u001b[0;34m\u001b[0m\u001b[0;34m\u001b[0m\u001b[0m\n\u001b[0m",
      "\u001b[0;32m/opt/conda/lib/python3.7/site-packages/torch/fx/graph_module.py\u001b[0m in \u001b[0;36mwrapped_call\u001b[0;34m(self, *args, **kwargs)\u001b[0m\n\u001b[1;32m    614\u001b[0m                     print(generate_error_message(topmost_framesummary),\n\u001b[1;32m    615\u001b[0m                           file=sys.stderr)\n\u001b[0;32m--> 616\u001b[0;31m                 \u001b[0;32mraise\u001b[0m \u001b[0me\u001b[0m\u001b[0;34m.\u001b[0m\u001b[0mwith_traceback\u001b[0m\u001b[0;34m(\u001b[0m\u001b[0;32mNone\u001b[0m\u001b[0;34m)\u001b[0m\u001b[0;34m\u001b[0m\u001b[0;34m\u001b[0m\u001b[0m\n\u001b[0m\u001b[1;32m    617\u001b[0m \u001b[0;34m\u001b[0m\u001b[0m\n\u001b[1;32m    618\u001b[0m         \u001b[0mcls\u001b[0m\u001b[0;34m.\u001b[0m\u001b[0m__call__\u001b[0m \u001b[0;34m=\u001b[0m \u001b[0mwrapped_call\u001b[0m\u001b[0;34m\u001b[0m\u001b[0;34m\u001b[0m\u001b[0m\n",
      "\u001b[0;31mTypeError\u001b[0m: forward() got an unexpected keyword argument 'return_nodes'"
     ]
    }
   ],
   "source": [
    "k=traced(img,'ft_cls',)"
   ]
  },
  {
   "cell_type": "code",
   "execution_count": 886,
   "id": "e9acab65-6f36-46e6-b470-ba9ce8a38324",
   "metadata": {},
   "outputs": [
    {
     "data": {
      "text/plain": [
       "blocks.0.attn.matmul(\n",
       "  (v): Module(\n",
       "    (patch_embed): Module(\n",
       "      (proj): Conv2d(1, 768, kernel_size=(128, 2), stride=(128, 2))\n",
       "    )\n",
       "    (pos_drop): Dropout(p=0.0, inplace=False)\n",
       "    (blocks): Module(\n",
       "      (0): Module(\n",
       "        (norm1): LayerNorm((768,), eps=1e-06, elementwise_affine=True)\n",
       "        (attn): Module(\n",
       "          (qkv): Linear(in_features=768, out_features=2304, bias=True)\n",
       "          (attn_drop): Dropout(p=0.0, inplace=False)\n",
       "          (proj): Linear(in_features=768, out_features=768, bias=True)\n",
       "          (proj_drop): Dropout(p=0.0, inplace=False)\n",
       "        )\n",
       "        (drop_path): Identity()\n",
       "        (norm2): LayerNorm((768,), eps=1e-06, elementwise_affine=True)\n",
       "        (mlp): Module(\n",
       "          (fc1): Linear(in_features=768, out_features=3072, bias=True)\n",
       "          (act): GELU()\n",
       "          (drop): Dropout(p=0.0, inplace=False)\n",
       "          (fc2): Linear(in_features=3072, out_features=768, bias=True)\n",
       "        )\n",
       "      )\n",
       "      (1): Module(\n",
       "        (norm1): LayerNorm((768,), eps=1e-06, elementwise_affine=True)\n",
       "        (attn): Module(\n",
       "          (qkv): Linear(in_features=768, out_features=2304, bias=True)\n",
       "          (attn_drop): Dropout(p=0.0, inplace=False)\n",
       "          (proj): Linear(in_features=768, out_features=768, bias=True)\n",
       "          (proj_drop): Dropout(p=0.0, inplace=False)\n",
       "        )\n",
       "        (drop_path): Identity()\n",
       "        (norm2): LayerNorm((768,), eps=1e-06, elementwise_affine=True)\n",
       "        (mlp): Module(\n",
       "          (fc1): Linear(in_features=768, out_features=3072, bias=True)\n",
       "          (act): GELU()\n",
       "          (drop): Dropout(p=0.0, inplace=False)\n",
       "          (fc2): Linear(in_features=3072, out_features=768, bias=True)\n",
       "        )\n",
       "      )\n",
       "      (2): Module(\n",
       "        (norm1): LayerNorm((768,), eps=1e-06, elementwise_affine=True)\n",
       "        (attn): Module(\n",
       "          (qkv): Linear(in_features=768, out_features=2304, bias=True)\n",
       "          (attn_drop): Dropout(p=0.0, inplace=False)\n",
       "          (proj): Linear(in_features=768, out_features=768, bias=True)\n",
       "          (proj_drop): Dropout(p=0.0, inplace=False)\n",
       "        )\n",
       "        (drop_path): Identity()\n",
       "        (norm2): LayerNorm((768,), eps=1e-06, elementwise_affine=True)\n",
       "        (mlp): Module(\n",
       "          (fc1): Linear(in_features=768, out_features=3072, bias=True)\n",
       "          (act): GELU()\n",
       "          (drop): Dropout(p=0.0, inplace=False)\n",
       "          (fc2): Linear(in_features=3072, out_features=768, bias=True)\n",
       "        )\n",
       "      )\n",
       "      (3): Module(\n",
       "        (norm1): LayerNorm((768,), eps=1e-06, elementwise_affine=True)\n",
       "        (attn): Module(\n",
       "          (qkv): Linear(in_features=768, out_features=2304, bias=True)\n",
       "          (attn_drop): Dropout(p=0.0, inplace=False)\n",
       "          (proj): Linear(in_features=768, out_features=768, bias=True)\n",
       "          (proj_drop): Dropout(p=0.0, inplace=False)\n",
       "        )\n",
       "        (drop_path): Identity()\n",
       "        (norm2): LayerNorm((768,), eps=1e-06, elementwise_affine=True)\n",
       "        (mlp): Module(\n",
       "          (fc1): Linear(in_features=768, out_features=3072, bias=True)\n",
       "          (act): GELU()\n",
       "          (drop): Dropout(p=0.0, inplace=False)\n",
       "          (fc2): Linear(in_features=3072, out_features=768, bias=True)\n",
       "        )\n",
       "      )\n",
       "      (4): Module(\n",
       "        (norm1): LayerNorm((768,), eps=1e-06, elementwise_affine=True)\n",
       "        (attn): Module(\n",
       "          (qkv): Linear(in_features=768, out_features=2304, bias=True)\n",
       "          (attn_drop): Dropout(p=0.0, inplace=False)\n",
       "          (proj): Linear(in_features=768, out_features=768, bias=True)\n",
       "          (proj_drop): Dropout(p=0.0, inplace=False)\n",
       "        )\n",
       "        (drop_path): Identity()\n",
       "        (norm2): LayerNorm((768,), eps=1e-06, elementwise_affine=True)\n",
       "        (mlp): Module(\n",
       "          (fc1): Linear(in_features=768, out_features=3072, bias=True)\n",
       "          (act): GELU()\n",
       "          (drop): Dropout(p=0.0, inplace=False)\n",
       "          (fc2): Linear(in_features=3072, out_features=768, bias=True)\n",
       "        )\n",
       "      )\n",
       "      (5): Module(\n",
       "        (norm1): LayerNorm((768,), eps=1e-06, elementwise_affine=True)\n",
       "        (attn): Module(\n",
       "          (qkv): Linear(in_features=768, out_features=2304, bias=True)\n",
       "          (attn_drop): Dropout(p=0.0, inplace=False)\n",
       "          (proj): Linear(in_features=768, out_features=768, bias=True)\n",
       "          (proj_drop): Dropout(p=0.0, inplace=False)\n",
       "        )\n",
       "        (drop_path): Identity()\n",
       "        (norm2): LayerNorm((768,), eps=1e-06, elementwise_affine=True)\n",
       "        (mlp): Module(\n",
       "          (fc1): Linear(in_features=768, out_features=3072, bias=True)\n",
       "          (act): GELU()\n",
       "          (drop): Dropout(p=0.0, inplace=False)\n",
       "          (fc2): Linear(in_features=3072, out_features=768, bias=True)\n",
       "        )\n",
       "      )\n",
       "      (6): Module(\n",
       "        (norm1): LayerNorm((768,), eps=1e-06, elementwise_affine=True)\n",
       "        (attn): Module(\n",
       "          (qkv): Linear(in_features=768, out_features=2304, bias=True)\n",
       "          (attn_drop): Dropout(p=0.0, inplace=False)\n",
       "          (proj): Linear(in_features=768, out_features=768, bias=True)\n",
       "          (proj_drop): Dropout(p=0.0, inplace=False)\n",
       "        )\n",
       "        (drop_path): Identity()\n",
       "        (norm2): LayerNorm((768,), eps=1e-06, elementwise_affine=True)\n",
       "        (mlp): Module(\n",
       "          (fc1): Linear(in_features=768, out_features=3072, bias=True)\n",
       "          (act): GELU()\n",
       "          (drop): Dropout(p=0.0, inplace=False)\n",
       "          (fc2): Linear(in_features=3072, out_features=768, bias=True)\n",
       "        )\n",
       "      )\n",
       "      (7): Module(\n",
       "        (norm1): LayerNorm((768,), eps=1e-06, elementwise_affine=True)\n",
       "        (attn): Module(\n",
       "          (qkv): Linear(in_features=768, out_features=2304, bias=True)\n",
       "          (attn_drop): Dropout(p=0.0, inplace=False)\n",
       "          (proj): Linear(in_features=768, out_features=768, bias=True)\n",
       "          (proj_drop): Dropout(p=0.0, inplace=False)\n",
       "        )\n",
       "        (drop_path): Identity()\n",
       "        (norm2): LayerNorm((768,), eps=1e-06, elementwise_affine=True)\n",
       "        (mlp): Module(\n",
       "          (fc1): Linear(in_features=768, out_features=3072, bias=True)\n",
       "          (act): GELU()\n",
       "          (drop): Dropout(p=0.0, inplace=False)\n",
       "          (fc2): Linear(in_features=3072, out_features=768, bias=True)\n",
       "        )\n",
       "      )\n",
       "      (8): Module(\n",
       "        (norm1): LayerNorm((768,), eps=1e-06, elementwise_affine=True)\n",
       "        (attn): Module(\n",
       "          (qkv): Linear(in_features=768, out_features=2304, bias=True)\n",
       "          (attn_drop): Dropout(p=0.0, inplace=False)\n",
       "          (proj): Linear(in_features=768, out_features=768, bias=True)\n",
       "          (proj_drop): Dropout(p=0.0, inplace=False)\n",
       "        )\n",
       "        (drop_path): Identity()\n",
       "        (norm2): LayerNorm((768,), eps=1e-06, elementwise_affine=True)\n",
       "        (mlp): Module(\n",
       "          (fc1): Linear(in_features=768, out_features=3072, bias=True)\n",
       "          (act): GELU()\n",
       "          (drop): Dropout(p=0.0, inplace=False)\n",
       "          (fc2): Linear(in_features=3072, out_features=768, bias=True)\n",
       "        )\n",
       "      )\n",
       "      (9): Module(\n",
       "        (norm1): LayerNorm((768,), eps=1e-06, elementwise_affine=True)\n",
       "        (attn): Module(\n",
       "          (qkv): Linear(in_features=768, out_features=2304, bias=True)\n",
       "          (attn_drop): Dropout(p=0.0, inplace=False)\n",
       "          (proj): Linear(in_features=768, out_features=768, bias=True)\n",
       "          (proj_drop): Dropout(p=0.0, inplace=False)\n",
       "        )\n",
       "        (drop_path): Identity()\n",
       "        (norm2): LayerNorm((768,), eps=1e-06, elementwise_affine=True)\n",
       "        (mlp): Module(\n",
       "          (fc1): Linear(in_features=768, out_features=3072, bias=True)\n",
       "          (act): GELU()\n",
       "          (drop): Dropout(p=0.0, inplace=False)\n",
       "          (fc2): Linear(in_features=3072, out_features=768, bias=True)\n",
       "        )\n",
       "      )\n",
       "      (10): Module(\n",
       "        (norm1): LayerNorm((768,), eps=1e-06, elementwise_affine=True)\n",
       "        (attn): Module(\n",
       "          (qkv): Linear(in_features=768, out_features=2304, bias=True)\n",
       "          (attn_drop): Dropout(p=0.0, inplace=False)\n",
       "          (proj): Linear(in_features=768, out_features=768, bias=True)\n",
       "          (proj_drop): Dropout(p=0.0, inplace=False)\n",
       "        )\n",
       "        (drop_path): Identity()\n",
       "        (norm2): LayerNorm((768,), eps=1e-06, elementwise_affine=True)\n",
       "        (mlp): Module(\n",
       "          (fc1): Linear(in_features=768, out_features=3072, bias=True)\n",
       "          (act): GELU()\n",
       "          (drop): Dropout(p=0.0, inplace=False)\n",
       "          (fc2): Linear(in_features=3072, out_features=768, bias=True)\n",
       "        )\n",
       "      )\n",
       "      (11): Module(\n",
       "        (norm1): LayerNorm((768,), eps=1e-06, elementwise_affine=True)\n",
       "        (attn): Module(\n",
       "          (qkv): Linear(in_features=768, out_features=2304, bias=True)\n",
       "          (attn_drop): Dropout(p=0.0, inplace=False)\n",
       "          (proj): Linear(in_features=768, out_features=768, bias=True)\n",
       "          (proj_drop): Dropout(p=0.0, inplace=False)\n",
       "        )\n",
       "        (drop_path): Identity()\n",
       "        (norm2): LayerNorm((768,), eps=1e-06, elementwise_affine=True)\n",
       "        (mlp): Module(\n",
       "          (fc1): Linear(in_features=768, out_features=3072, bias=True)\n",
       "          (act): GELU()\n",
       "          (drop): Dropout(p=0.0, inplace=False)\n",
       "          (fc2): Linear(in_features=3072, out_features=768, bias=True)\n",
       "        )\n",
       "      )\n",
       "    )\n",
       "    (norm): LayerNorm((768,), eps=1e-06, elementwise_affine=True)\n",
       "  )\n",
       "  (mlp_head): Module(\n",
       "    (0): LayerNorm((768,), eps=1e-05, elementwise_affine=True)\n",
       "    (1): Linear(in_features=768, out_features=13, bias=True)\n",
       "  )\n",
       ")"
      ]
     },
     "execution_count": 886,
     "metadata": {},
     "output_type": "execute_result"
    }
   ],
   "source": [
    "traced"
   ]
  },
  {
   "cell_type": "code",
   "execution_count": 804,
   "id": "89574964-c6c9-480f-8a06-3b0138921a68",
   "metadata": {},
   "outputs": [],
   "source": [
    "from torchvision.models.feature_extraction import create_feature_extractor"
   ]
  },
  {
   "cell_type": "code",
   "execution_count": 823,
   "id": "71ec41f3-ac8c-4af1-a6cb-afa5f1c57c2c",
   "metadata": {},
   "outputs": [
    {
     "ename": "TypeError",
     "evalue": "set expected at most 1 arguments, got 2",
     "output_type": "error",
     "traceback": [
      "\u001b[0;31m---------------------------------------------------------------------------\u001b[0m",
      "\u001b[0;31mTypeError\u001b[0m                                 Traceback (most recent call last)",
      "\u001b[0;32m/tmp/ipykernel_12345/936677864.py\u001b[0m in \u001b[0;36m<module>\u001b[0;34m\u001b[0m\n\u001b[1;32m      1\u001b[0m \u001b[0mresult_tracer_kwargs\u001b[0m \u001b[0;34m=\u001b[0m \u001b[0;34m{\u001b[0m\u001b[0;34m}\u001b[0m\u001b[0;34m\u001b[0m\u001b[0;34m\u001b[0m\u001b[0m\n\u001b[1;32m      2\u001b[0m result_tracer_kwargs[\"concrete_args\"] = (\n\u001b[0;32m----> 3\u001b[0;31m         tuple(set(\"task\",\"ft_cls\")))\n\u001b[0m",
      "\u001b[0;31mTypeError\u001b[0m: set expected at most 1 arguments, got 2"
     ]
    }
   ],
   "source": [
    "result_tracer_kwargs = {}\n",
    "result_tracer_kwargs[\"concrete_args\"] = (\n",
    "        tuple(set(\" v\",\"ft_cls\")))"
   ]
  },
  {
   "cell_type": "code",
   "execution_count": 836,
   "id": "710343e9-b0db-404e-99e8-286957518782",
   "metadata": {},
   "outputs": [
    {
     "ename": "TraceError",
     "evalue": "symbolically traced variables cannot be used as inputs to control flow",
     "output_type": "error",
     "traceback": [
      "\u001b[0;31m---------------------------------------------------------------------------\u001b[0m",
      "\u001b[0;31mTraceError\u001b[0m                                Traceback (most recent call last)",
      "\u001b[0;32m/tmp/ipykernel_12345/787660437.py\u001b[0m in \u001b[0;36m<module>\u001b[0;34m\u001b[0m\n\u001b[0;32m----> 1\u001b[0;31m \u001b[0mfeature_extractor\u001b[0m \u001b[0;34m=\u001b[0m \u001b[0mcreate_feature_extractor\u001b[0m\u001b[0;34m(\u001b[0m\u001b[0mast_mdl\u001b[0m\u001b[0;34m,\u001b[0m \u001b[0mreturn_nodes\u001b[0m\u001b[0;34m=\u001b[0m\u001b[0;34m[\u001b[0m\u001b[0;34m'blocks.0.attn.matmul'\u001b[0m\u001b[0;34m]\u001b[0m\u001b[0;34m)\u001b[0m\u001b[0;34m\u001b[0m\u001b[0;34m\u001b[0m\u001b[0m\n\u001b[0m",
      "\u001b[0;32m/opt/conda/lib/python3.7/site-packages/torchvision/models/feature_extraction.py\u001b[0m in \u001b[0;36mcreate_feature_extractor\u001b[0;34m(model, return_nodes, train_return_nodes, eval_return_nodes, tracer_kwargs, suppress_diff_warning)\u001b[0m\n\u001b[1;32m    439\u001b[0m         \u001b[0;31m# Instantiate our NodePathTracer and use that to trace the model\u001b[0m\u001b[0;34m\u001b[0m\u001b[0;34m\u001b[0m\u001b[0;34m\u001b[0m\u001b[0m\n\u001b[1;32m    440\u001b[0m         \u001b[0mtracer\u001b[0m \u001b[0;34m=\u001b[0m \u001b[0mNodePathTracer\u001b[0m\u001b[0;34m(\u001b[0m\u001b[0;34m**\u001b[0m\u001b[0mtracer_kwargs\u001b[0m\u001b[0;34m)\u001b[0m\u001b[0;34m\u001b[0m\u001b[0;34m\u001b[0m\u001b[0m\n\u001b[0;32m--> 441\u001b[0;31m         \u001b[0mgraph\u001b[0m \u001b[0;34m=\u001b[0m \u001b[0mtracer\u001b[0m\u001b[0;34m.\u001b[0m\u001b[0mtrace\u001b[0m\u001b[0;34m(\u001b[0m\u001b[0mmodel\u001b[0m\u001b[0;34m)\u001b[0m\u001b[0;34m\u001b[0m\u001b[0;34m\u001b[0m\u001b[0m\n\u001b[0m\u001b[1;32m    442\u001b[0m \u001b[0;34m\u001b[0m\u001b[0m\n\u001b[1;32m    443\u001b[0m         name = model.__class__.__name__ if isinstance(\n",
      "\u001b[0;32m/opt/conda/lib/python3.7/site-packages/torch/fx/_symbolic_trace.py\u001b[0m in \u001b[0;36mtrace\u001b[0;34m(self, root, concrete_args)\u001b[0m\n\u001b[1;32m    613\u001b[0m                 \u001b[0;32mfor\u001b[0m \u001b[0mmodule\u001b[0m \u001b[0;32min\u001b[0m \u001b[0mself\u001b[0m\u001b[0;34m.\u001b[0m\u001b[0m_autowrap_search\u001b[0m\u001b[0;34m:\u001b[0m\u001b[0;34m\u001b[0m\u001b[0;34m\u001b[0m\u001b[0m\n\u001b[1;32m    614\u001b[0m                     \u001b[0m_autowrap_check\u001b[0m\u001b[0;34m(\u001b[0m\u001b[0mpatcher\u001b[0m\u001b[0;34m,\u001b[0m \u001b[0mmodule\u001b[0m\u001b[0;34m.\u001b[0m\u001b[0m__dict__\u001b[0m\u001b[0;34m,\u001b[0m \u001b[0mself\u001b[0m\u001b[0;34m.\u001b[0m\u001b[0m_autowrap_function_ids\u001b[0m\u001b[0;34m)\u001b[0m\u001b[0;34m\u001b[0m\u001b[0;34m\u001b[0m\u001b[0m\n\u001b[0;32m--> 615\u001b[0;31m                 self.create_node('output', 'output', (self.create_arg(fn(*args)),), {},\n\u001b[0m\u001b[1;32m    616\u001b[0m                                  type_expr=fn.__annotations__.get('return', None))\n\u001b[1;32m    617\u001b[0m \u001b[0;34m\u001b[0m\u001b[0m\n",
      "\u001b[0;32m~/matt_ssast/ssast/src/models/ast_models.py\u001b[0m in \u001b[0;36mforward\u001b[0;34m(self, x, task, cluster, mask_patch)\u001b[0m\n\u001b[1;32m    439\u001b[0m         \u001b[0;31m# finetuning (ft), use the mean of all token (patch) output as clip-level representation.\u001b[0m\u001b[0;34m\u001b[0m\u001b[0;34m\u001b[0m\u001b[0;34m\u001b[0m\u001b[0m\n\u001b[1;32m    440\u001b[0m         \u001b[0;31m# this is default for SSAST fine-tuning as during pretraining, supervision signal is given to each token, not the [cls] token\u001b[0m\u001b[0;34m\u001b[0m\u001b[0;34m\u001b[0m\u001b[0;34m\u001b[0m\u001b[0m\n\u001b[0;32m--> 441\u001b[0;31m         \u001b[0;32mif\u001b[0m \u001b[0mtask\u001b[0m \u001b[0;34m==\u001b[0m \u001b[0;34m'ft_avgtok'\u001b[0m\u001b[0;34m:\u001b[0m\u001b[0;34m\u001b[0m\u001b[0;34m\u001b[0m\u001b[0m\n\u001b[0m\u001b[1;32m    442\u001b[0m             \u001b[0;32mreturn\u001b[0m \u001b[0mself\u001b[0m\u001b[0;34m.\u001b[0m\u001b[0mfinetuningavgtok\u001b[0m\u001b[0;34m(\u001b[0m\u001b[0mx\u001b[0m\u001b[0;34m)\u001b[0m\u001b[0;34m\u001b[0m\u001b[0;34m\u001b[0m\u001b[0m\n\u001b[1;32m    443\u001b[0m         \u001b[0;31m# alternatively, use the [cls] token output as clip-level representation.\u001b[0m\u001b[0;34m\u001b[0m\u001b[0;34m\u001b[0m\u001b[0;34m\u001b[0m\u001b[0m\n",
      "\u001b[0;32m/opt/conda/lib/python3.7/site-packages/torch/fx/proxy.py\u001b[0m in \u001b[0;36m__bool__\u001b[0;34m(self)\u001b[0m\n\u001b[1;32m    249\u001b[0m \u001b[0;34m\u001b[0m\u001b[0m\n\u001b[1;32m    250\u001b[0m     \u001b[0;32mdef\u001b[0m \u001b[0m__bool__\u001b[0m\u001b[0;34m(\u001b[0m\u001b[0mself\u001b[0m\u001b[0;34m)\u001b[0m \u001b[0;34m->\u001b[0m \u001b[0mbool\u001b[0m\u001b[0;34m:\u001b[0m\u001b[0;34m\u001b[0m\u001b[0;34m\u001b[0m\u001b[0m\n\u001b[0;32m--> 251\u001b[0;31m         \u001b[0;32mreturn\u001b[0m \u001b[0mself\u001b[0m\u001b[0;34m.\u001b[0m\u001b[0mtracer\u001b[0m\u001b[0;34m.\u001b[0m\u001b[0mto_bool\u001b[0m\u001b[0;34m(\u001b[0m\u001b[0mself\u001b[0m\u001b[0;34m)\u001b[0m\u001b[0;34m\u001b[0m\u001b[0;34m\u001b[0m\u001b[0m\n\u001b[0m\u001b[1;32m    252\u001b[0m \u001b[0;34m\u001b[0m\u001b[0m\n\u001b[1;32m    253\u001b[0m     \u001b[0;34m@\u001b[0m\u001b[0mcompatibility\u001b[0m\u001b[0;34m(\u001b[0m\u001b[0mis_backward_compatible\u001b[0m\u001b[0;34m=\u001b[0m\u001b[0;32mTrue\u001b[0m\u001b[0;34m)\u001b[0m\u001b[0;34m\u001b[0m\u001b[0;34m\u001b[0m\u001b[0m\n",
      "\u001b[0;32m/opt/conda/lib/python3.7/site-packages/torch/fx/proxy.py\u001b[0m in \u001b[0;36mto_bool\u001b[0;34m(self, obj)\u001b[0m\n\u001b[1;32m    150\u001b[0m         \u001b[0minformation\u001b[0m \u001b[0mto\u001b[0m \u001b[0mthe\u001b[0m \u001b[0mgraph\u001b[0m \u001b[0mnode\u001b[0m \u001b[0musing\u001b[0m \u001b[0mcreate_node\u001b[0m \u001b[0;32mand\u001b[0m \u001b[0mcan\u001b[0m \u001b[0mchoose\u001b[0m \u001b[0mto\u001b[0m \u001b[0;32mreturn\u001b[0m \u001b[0ma\u001b[0m \u001b[0mvalue\u001b[0m\u001b[0;34m.\u001b[0m\u001b[0;34m\u001b[0m\u001b[0;34m\u001b[0m\u001b[0m\n\u001b[1;32m    151\u001b[0m         \"\"\"\n\u001b[0;32m--> 152\u001b[0;31m         \u001b[0;32mraise\u001b[0m \u001b[0mTraceError\u001b[0m\u001b[0;34m(\u001b[0m\u001b[0;34m'symbolically traced variables cannot be used as inputs to control flow'\u001b[0m\u001b[0;34m)\u001b[0m\u001b[0;34m\u001b[0m\u001b[0;34m\u001b[0m\u001b[0m\n\u001b[0m\u001b[1;32m    153\u001b[0m \u001b[0;34m\u001b[0m\u001b[0m\n\u001b[1;32m    154\u001b[0m     \u001b[0;34m@\u001b[0m\u001b[0mcompatibility\u001b[0m\u001b[0;34m(\u001b[0m\u001b[0mis_backward_compatible\u001b[0m\u001b[0;34m=\u001b[0m\u001b[0;32mTrue\u001b[0m\u001b[0;34m)\u001b[0m\u001b[0;34m\u001b[0m\u001b[0;34m\u001b[0m\u001b[0m\n",
      "\u001b[0;31mTraceError\u001b[0m: symbolically traced variables cannot be used as inputs to control flow"
     ]
    }
   ],
   "source": [
    "feature_extractor = create_feature_extractor(ast_mdl, return_nodes=['blocks.0.attn.matmul'])"
   ]
  },
  {
   "cell_type": "code",
   "execution_count": 784,
   "id": "6573d3e4-3514-4100-ae41-d1d04febcbfb",
   "metadata": {},
   "outputs": [
    {
     "name": "stdout",
     "output_type": "stream",
     "text": [
      "graph():\n",
      "    %x : [#users=1] = placeholder[target=x]\n",
      "    %task_1 : [#users=1] = placeholder[target=task_1]\n",
      "    %eq : [#users=1] = call_function[target=operator.eq](args = (%task_1, ft_cls), kwargs = {})\n",
      "    %_assert : [#users=0] = call_function[target=torch._assert](args = (%eq, task has been specialized to have value ft_cls), kwargs = {})\n",
      "    %cluster : [#users=0] = placeholder[target=cluster](default=True)\n",
      "    %mask_patch : [#users=0] = placeholder[target=mask_patch](default=400)\n",
      "    %unsqueeze : [#users=1] = call_method[target=unsqueeze](args = (%x, 1), kwargs = {})\n",
      "    %transpose : [#users=2] = call_method[target=transpose](args = (%unsqueeze, 2, 3), kwargs = {})\n",
      "    %getattr_1 : [#users=1] = call_function[target=builtins.getattr](args = (%transpose, shape), kwargs = {})\n",
      "    %getitem : [#users=2] = call_function[target=operator.getitem](args = (%getattr_1, 0), kwargs = {})\n",
      "    %v_patch_embed_proj : [#users=1] = call_module[target=v.patch_embed.proj](args = (%transpose,), kwargs = {})\n",
      "    %flatten : [#users=1] = call_method[target=flatten](args = (%v_patch_embed_proj, 2), kwargs = {})\n",
      "    %transpose_1 : [#users=1] = call_method[target=transpose](args = (%flatten, 1, 2), kwargs = {})\n",
      "    %v_cls_token : [#users=1] = get_attr[target=v.cls_token]\n",
      "    %expand : [#users=1] = call_method[target=expand](args = (%v_cls_token, %getitem, -1, -1), kwargs = {})\n",
      "    %v_dist_token : [#users=1] = get_attr[target=v.dist_token]\n",
      "    %expand_1 : [#users=1] = call_method[target=expand](args = (%v_dist_token, %getitem, -1, -1), kwargs = {})\n",
      "    %cat : [#users=1] = call_function[target=torch.cat](args = ((%expand, %expand_1, %transpose_1),), kwargs = {dim: 1})\n",
      "    %v_pos_embed : [#users=1] = get_attr[target=v.pos_embed]\n",
      "    %add : [#users=1] = call_function[target=operator.add](args = (%cat, %v_pos_embed), kwargs = {})\n",
      "    %v_pos_drop : [#users=2] = call_module[target=v.pos_drop](args = (%add,), kwargs = {})\n",
      "    %v_blocks_0_norm1 : [#users=2] = call_module[target=v.blocks.0.norm1](args = (%v_pos_drop,), kwargs = {})\n",
      "    %getattr_2 : [#users=3] = call_function[target=builtins.getattr](args = (%v_blocks_0_norm1, shape), kwargs = {})\n",
      "    %getitem_1 : [#users=2] = call_function[target=operator.getitem](args = (%getattr_2, 0), kwargs = {})\n",
      "    %getitem_2 : [#users=2] = call_function[target=operator.getitem](args = (%getattr_2, 1), kwargs = {})\n",
      "    %getitem_3 : [#users=2] = call_function[target=operator.getitem](args = (%getattr_2, 2), kwargs = {})\n",
      "    %v_blocks_0_attn_qkv : [#users=1] = call_module[target=v.blocks.0.attn.qkv](args = (%v_blocks_0_norm1,), kwargs = {})\n",
      "    %floordiv : [#users=1] = call_function[target=operator.floordiv](args = (%getitem_3, 12), kwargs = {})\n",
      "    %reshape : [#users=1] = call_method[target=reshape](args = (%v_blocks_0_attn_qkv, %getitem_1, %getitem_2, 3, 12, %floordiv), kwargs = {})\n",
      "    %permute : [#users=3] = call_method[target=permute](args = (%reshape, 2, 0, 3, 1, 4), kwargs = {})\n",
      "    %getitem_4 : [#users=1] = call_function[target=operator.getitem](args = (%permute, 0), kwargs = {})\n",
      "    %getitem_5 : [#users=1] = call_function[target=operator.getitem](args = (%permute, 1), kwargs = {})\n",
      "    %getitem_6 : [#users=1] = call_function[target=operator.getitem](args = (%permute, 2), kwargs = {})\n",
      "    %transpose_2 : [#users=1] = call_method[target=transpose](args = (%getitem_5, -2, -1), kwargs = {})\n",
      "    %matmul : [#users=1] = call_function[target=operator.matmul](args = (%getitem_4, %transpose_2), kwargs = {})\n",
      "    %mul : [#users=1] = call_function[target=operator.mul](args = (%matmul, 0.125), kwargs = {})\n",
      "    %softmax : [#users=1] = call_method[target=softmax](args = (%mul,), kwargs = {dim: -1})\n",
      "    %v_blocks_0_attn_attn_drop : [#users=1] = call_module[target=v.blocks.0.attn.attn_drop](args = (%softmax,), kwargs = {})\n",
      "    %matmul_1 : [#users=1] = call_function[target=operator.matmul](args = (%v_blocks_0_attn_attn_drop, %getitem_6), kwargs = {})\n",
      "    %transpose_3 : [#users=1] = call_method[target=transpose](args = (%matmul_1, 1, 2), kwargs = {})\n",
      "    %reshape_1 : [#users=1] = call_method[target=reshape](args = (%transpose_3, %getitem_1, %getitem_2, %getitem_3), kwargs = {})\n",
      "    %v_blocks_0_attn_proj : [#users=1] = call_module[target=v.blocks.0.attn.proj](args = (%reshape_1,), kwargs = {})\n",
      "    %v_blocks_0_attn_proj_drop : [#users=1] = call_module[target=v.blocks.0.attn.proj_drop](args = (%v_blocks_0_attn_proj,), kwargs = {})\n",
      "    %v_blocks_0_drop_path : [#users=1] = call_module[target=v.blocks.0.drop_path](args = (%v_blocks_0_attn_proj_drop,), kwargs = {})\n",
      "    %add_1 : [#users=2] = call_function[target=operator.add](args = (%v_pos_drop, %v_blocks_0_drop_path), kwargs = {})\n",
      "    %v_blocks_0_norm2 : [#users=1] = call_module[target=v.blocks.0.norm2](args = (%add_1,), kwargs = {})\n",
      "    %v_blocks_0_mlp_fc1 : [#users=1] = call_module[target=v.blocks.0.mlp.fc1](args = (%v_blocks_0_norm2,), kwargs = {})\n",
      "    %v_blocks_0_mlp_act : [#users=1] = call_module[target=v.blocks.0.mlp.act](args = (%v_blocks_0_mlp_fc1,), kwargs = {})\n",
      "    %v_blocks_0_mlp_drop : [#users=1] = call_module[target=v.blocks.0.mlp.drop](args = (%v_blocks_0_mlp_act,), kwargs = {})\n",
      "    %v_blocks_0_mlp_fc2 : [#users=1] = call_module[target=v.blocks.0.mlp.fc2](args = (%v_blocks_0_mlp_drop,), kwargs = {})\n",
      "    %v_blocks_0_mlp_drop_1 : [#users=1] = call_module[target=v.blocks.0.mlp.drop](args = (%v_blocks_0_mlp_fc2,), kwargs = {})\n",
      "    %v_blocks_0_drop_path_1 : [#users=1] = call_module[target=v.blocks.0.drop_path](args = (%v_blocks_0_mlp_drop_1,), kwargs = {})\n",
      "    %add_2 : [#users=2] = call_function[target=operator.add](args = (%add_1, %v_blocks_0_drop_path_1), kwargs = {})\n",
      "    %v_blocks_1_norm1 : [#users=2] = call_module[target=v.blocks.1.norm1](args = (%add_2,), kwargs = {})\n",
      "    %getattr_3 : [#users=3] = call_function[target=builtins.getattr](args = (%v_blocks_1_norm1, shape), kwargs = {})\n",
      "    %getitem_7 : [#users=2] = call_function[target=operator.getitem](args = (%getattr_3, 0), kwargs = {})\n",
      "    %getitem_8 : [#users=2] = call_function[target=operator.getitem](args = (%getattr_3, 1), kwargs = {})\n",
      "    %getitem_9 : [#users=2] = call_function[target=operator.getitem](args = (%getattr_3, 2), kwargs = {})\n",
      "    %v_blocks_1_attn_qkv : [#users=1] = call_module[target=v.blocks.1.attn.qkv](args = (%v_blocks_1_norm1,), kwargs = {})\n",
      "    %floordiv_1 : [#users=1] = call_function[target=operator.floordiv](args = (%getitem_9, 12), kwargs = {})\n",
      "    %reshape_2 : [#users=1] = call_method[target=reshape](args = (%v_blocks_1_attn_qkv, %getitem_7, %getitem_8, 3, 12, %floordiv_1), kwargs = {})\n",
      "    %permute_1 : [#users=3] = call_method[target=permute](args = (%reshape_2, 2, 0, 3, 1, 4), kwargs = {})\n",
      "    %getitem_10 : [#users=1] = call_function[target=operator.getitem](args = (%permute_1, 0), kwargs = {})\n",
      "    %getitem_11 : [#users=1] = call_function[target=operator.getitem](args = (%permute_1, 1), kwargs = {})\n",
      "    %getitem_12 : [#users=1] = call_function[target=operator.getitem](args = (%permute_1, 2), kwargs = {})\n",
      "    %transpose_4 : [#users=1] = call_method[target=transpose](args = (%getitem_11, -2, -1), kwargs = {})\n",
      "    %matmul_2 : [#users=1] = call_function[target=operator.matmul](args = (%getitem_10, %transpose_4), kwargs = {})\n",
      "    %mul_1 : [#users=1] = call_function[target=operator.mul](args = (%matmul_2, 0.125), kwargs = {})\n",
      "    %softmax_1 : [#users=1] = call_method[target=softmax](args = (%mul_1,), kwargs = {dim: -1})\n",
      "    %v_blocks_1_attn_attn_drop : [#users=1] = call_module[target=v.blocks.1.attn.attn_drop](args = (%softmax_1,), kwargs = {})\n",
      "    %matmul_3 : [#users=1] = call_function[target=operator.matmul](args = (%v_blocks_1_attn_attn_drop, %getitem_12), kwargs = {})\n",
      "    %transpose_5 : [#users=1] = call_method[target=transpose](args = (%matmul_3, 1, 2), kwargs = {})\n",
      "    %reshape_3 : [#users=1] = call_method[target=reshape](args = (%transpose_5, %getitem_7, %getitem_8, %getitem_9), kwargs = {})\n",
      "    %v_blocks_1_attn_proj : [#users=1] = call_module[target=v.blocks.1.attn.proj](args = (%reshape_3,), kwargs = {})\n",
      "    %v_blocks_1_attn_proj_drop : [#users=1] = call_module[target=v.blocks.1.attn.proj_drop](args = (%v_blocks_1_attn_proj,), kwargs = {})\n",
      "    %v_blocks_1_drop_path : [#users=1] = call_module[target=v.blocks.1.drop_path](args = (%v_blocks_1_attn_proj_drop,), kwargs = {})\n",
      "    %add_3 : [#users=2] = call_function[target=operator.add](args = (%add_2, %v_blocks_1_drop_path), kwargs = {})\n",
      "    %v_blocks_1_norm2 : [#users=1] = call_module[target=v.blocks.1.norm2](args = (%add_3,), kwargs = {})\n",
      "    %v_blocks_1_mlp_fc1 : [#users=1] = call_module[target=v.blocks.1.mlp.fc1](args = (%v_blocks_1_norm2,), kwargs = {})\n",
      "    %v_blocks_1_mlp_act : [#users=1] = call_module[target=v.blocks.1.mlp.act](args = (%v_blocks_1_mlp_fc1,), kwargs = {})\n",
      "    %v_blocks_1_mlp_drop : [#users=1] = call_module[target=v.blocks.1.mlp.drop](args = (%v_blocks_1_mlp_act,), kwargs = {})\n",
      "    %v_blocks_1_mlp_fc2 : [#users=1] = call_module[target=v.blocks.1.mlp.fc2](args = (%v_blocks_1_mlp_drop,), kwargs = {})\n",
      "    %v_blocks_1_mlp_drop_1 : [#users=1] = call_module[target=v.blocks.1.mlp.drop](args = (%v_blocks_1_mlp_fc2,), kwargs = {})\n",
      "    %v_blocks_1_drop_path_1 : [#users=1] = call_module[target=v.blocks.1.drop_path](args = (%v_blocks_1_mlp_drop_1,), kwargs = {})\n",
      "    %add_4 : [#users=2] = call_function[target=operator.add](args = (%add_3, %v_blocks_1_drop_path_1), kwargs = {})\n",
      "    %v_blocks_2_norm1 : [#users=2] = call_module[target=v.blocks.2.norm1](args = (%add_4,), kwargs = {})\n",
      "    %getattr_4 : [#users=3] = call_function[target=builtins.getattr](args = (%v_blocks_2_norm1, shape), kwargs = {})\n",
      "    %getitem_13 : [#users=2] = call_function[target=operator.getitem](args = (%getattr_4, 0), kwargs = {})\n",
      "    %getitem_14 : [#users=2] = call_function[target=operator.getitem](args = (%getattr_4, 1), kwargs = {})\n",
      "    %getitem_15 : [#users=2] = call_function[target=operator.getitem](args = (%getattr_4, 2), kwargs = {})\n",
      "    %v_blocks_2_attn_qkv : [#users=1] = call_module[target=v.blocks.2.attn.qkv](args = (%v_blocks_2_norm1,), kwargs = {})\n",
      "    %floordiv_2 : [#users=1] = call_function[target=operator.floordiv](args = (%getitem_15, 12), kwargs = {})\n",
      "    %reshape_4 : [#users=1] = call_method[target=reshape](args = (%v_blocks_2_attn_qkv, %getitem_13, %getitem_14, 3, 12, %floordiv_2), kwargs = {})\n",
      "    %permute_2 : [#users=3] = call_method[target=permute](args = (%reshape_4, 2, 0, 3, 1, 4), kwargs = {})\n",
      "    %getitem_16 : [#users=1] = call_function[target=operator.getitem](args = (%permute_2, 0), kwargs = {})\n",
      "    %getitem_17 : [#users=1] = call_function[target=operator.getitem](args = (%permute_2, 1), kwargs = {})\n",
      "    %getitem_18 : [#users=1] = call_function[target=operator.getitem](args = (%permute_2, 2), kwargs = {})\n",
      "    %transpose_6 : [#users=1] = call_method[target=transpose](args = (%getitem_17, -2, -1), kwargs = {})\n",
      "    %matmul_4 : [#users=1] = call_function[target=operator.matmul](args = (%getitem_16, %transpose_6), kwargs = {})\n",
      "    %mul_2 : [#users=1] = call_function[target=operator.mul](args = (%matmul_4, 0.125), kwargs = {})\n",
      "    %softmax_2 : [#users=1] = call_method[target=softmax](args = (%mul_2,), kwargs = {dim: -1})\n",
      "    %v_blocks_2_attn_attn_drop : [#users=1] = call_module[target=v.blocks.2.attn.attn_drop](args = (%softmax_2,), kwargs = {})\n",
      "    %matmul_5 : [#users=1] = call_function[target=operator.matmul](args = (%v_blocks_2_attn_attn_drop, %getitem_18), kwargs = {})\n",
      "    %transpose_7 : [#users=1] = call_method[target=transpose](args = (%matmul_5, 1, 2), kwargs = {})\n",
      "    %reshape_5 : [#users=1] = call_method[target=reshape](args = (%transpose_7, %getitem_13, %getitem_14, %getitem_15), kwargs = {})\n",
      "    %v_blocks_2_attn_proj : [#users=1] = call_module[target=v.blocks.2.attn.proj](args = (%reshape_5,), kwargs = {})\n",
      "    %v_blocks_2_attn_proj_drop : [#users=1] = call_module[target=v.blocks.2.attn.proj_drop](args = (%v_blocks_2_attn_proj,), kwargs = {})\n",
      "    %v_blocks_2_drop_path : [#users=1] = call_module[target=v.blocks.2.drop_path](args = (%v_blocks_2_attn_proj_drop,), kwargs = {})\n",
      "    %add_5 : [#users=2] = call_function[target=operator.add](args = (%add_4, %v_blocks_2_drop_path), kwargs = {})\n",
      "    %v_blocks_2_norm2 : [#users=1] = call_module[target=v.blocks.2.norm2](args = (%add_5,), kwargs = {})\n",
      "    %v_blocks_2_mlp_fc1 : [#users=1] = call_module[target=v.blocks.2.mlp.fc1](args = (%v_blocks_2_norm2,), kwargs = {})\n",
      "    %v_blocks_2_mlp_act : [#users=1] = call_module[target=v.blocks.2.mlp.act](args = (%v_blocks_2_mlp_fc1,), kwargs = {})\n",
      "    %v_blocks_2_mlp_drop : [#users=1] = call_module[target=v.blocks.2.mlp.drop](args = (%v_blocks_2_mlp_act,), kwargs = {})\n",
      "    %v_blocks_2_mlp_fc2 : [#users=1] = call_module[target=v.blocks.2.mlp.fc2](args = (%v_blocks_2_mlp_drop,), kwargs = {})\n",
      "    %v_blocks_2_mlp_drop_1 : [#users=1] = call_module[target=v.blocks.2.mlp.drop](args = (%v_blocks_2_mlp_fc2,), kwargs = {})\n",
      "    %v_blocks_2_drop_path_1 : [#users=1] = call_module[target=v.blocks.2.drop_path](args = (%v_blocks_2_mlp_drop_1,), kwargs = {})\n",
      "    %add_6 : [#users=2] = call_function[target=operator.add](args = (%add_5, %v_blocks_2_drop_path_1), kwargs = {})\n",
      "    %v_blocks_3_norm1 : [#users=2] = call_module[target=v.blocks.3.norm1](args = (%add_6,), kwargs = {})\n",
      "    %getattr_5 : [#users=3] = call_function[target=builtins.getattr](args = (%v_blocks_3_norm1, shape), kwargs = {})\n",
      "    %getitem_19 : [#users=2] = call_function[target=operator.getitem](args = (%getattr_5, 0), kwargs = {})\n",
      "    %getitem_20 : [#users=2] = call_function[target=operator.getitem](args = (%getattr_5, 1), kwargs = {})\n",
      "    %getitem_21 : [#users=2] = call_function[target=operator.getitem](args = (%getattr_5, 2), kwargs = {})\n",
      "    %v_blocks_3_attn_qkv : [#users=1] = call_module[target=v.blocks.3.attn.qkv](args = (%v_blocks_3_norm1,), kwargs = {})\n",
      "    %floordiv_3 : [#users=1] = call_function[target=operator.floordiv](args = (%getitem_21, 12), kwargs = {})\n",
      "    %reshape_6 : [#users=1] = call_method[target=reshape](args = (%v_blocks_3_attn_qkv, %getitem_19, %getitem_20, 3, 12, %floordiv_3), kwargs = {})\n",
      "    %permute_3 : [#users=3] = call_method[target=permute](args = (%reshape_6, 2, 0, 3, 1, 4), kwargs = {})\n",
      "    %getitem_22 : [#users=1] = call_function[target=operator.getitem](args = (%permute_3, 0), kwargs = {})\n",
      "    %getitem_23 : [#users=1] = call_function[target=operator.getitem](args = (%permute_3, 1), kwargs = {})\n",
      "    %getitem_24 : [#users=1] = call_function[target=operator.getitem](args = (%permute_3, 2), kwargs = {})\n",
      "    %transpose_8 : [#users=1] = call_method[target=transpose](args = (%getitem_23, -2, -1), kwargs = {})\n",
      "    %matmul_6 : [#users=1] = call_function[target=operator.matmul](args = (%getitem_22, %transpose_8), kwargs = {})\n",
      "    %mul_3 : [#users=1] = call_function[target=operator.mul](args = (%matmul_6, 0.125), kwargs = {})\n",
      "    %softmax_3 : [#users=1] = call_method[target=softmax](args = (%mul_3,), kwargs = {dim: -1})\n",
      "    %v_blocks_3_attn_attn_drop : [#users=1] = call_module[target=v.blocks.3.attn.attn_drop](args = (%softmax_3,), kwargs = {})\n",
      "    %matmul_7 : [#users=1] = call_function[target=operator.matmul](args = (%v_blocks_3_attn_attn_drop, %getitem_24), kwargs = {})\n",
      "    %transpose_9 : [#users=1] = call_method[target=transpose](args = (%matmul_7, 1, 2), kwargs = {})\n",
      "    %reshape_7 : [#users=1] = call_method[target=reshape](args = (%transpose_9, %getitem_19, %getitem_20, %getitem_21), kwargs = {})\n",
      "    %v_blocks_3_attn_proj : [#users=1] = call_module[target=v.blocks.3.attn.proj](args = (%reshape_7,), kwargs = {})\n",
      "    %v_blocks_3_attn_proj_drop : [#users=1] = call_module[target=v.blocks.3.attn.proj_drop](args = (%v_blocks_3_attn_proj,), kwargs = {})\n",
      "    %v_blocks_3_drop_path : [#users=1] = call_module[target=v.blocks.3.drop_path](args = (%v_blocks_3_attn_proj_drop,), kwargs = {})\n",
      "    %add_7 : [#users=2] = call_function[target=operator.add](args = (%add_6, %v_blocks_3_drop_path), kwargs = {})\n",
      "    %v_blocks_3_norm2 : [#users=1] = call_module[target=v.blocks.3.norm2](args = (%add_7,), kwargs = {})\n",
      "    %v_blocks_3_mlp_fc1 : [#users=1] = call_module[target=v.blocks.3.mlp.fc1](args = (%v_blocks_3_norm2,), kwargs = {})\n",
      "    %v_blocks_3_mlp_act : [#users=1] = call_module[target=v.blocks.3.mlp.act](args = (%v_blocks_3_mlp_fc1,), kwargs = {})\n",
      "    %v_blocks_3_mlp_drop : [#users=1] = call_module[target=v.blocks.3.mlp.drop](args = (%v_blocks_3_mlp_act,), kwargs = {})\n",
      "    %v_blocks_3_mlp_fc2 : [#users=1] = call_module[target=v.blocks.3.mlp.fc2](args = (%v_blocks_3_mlp_drop,), kwargs = {})\n",
      "    %v_blocks_3_mlp_drop_1 : [#users=1] = call_module[target=v.blocks.3.mlp.drop](args = (%v_blocks_3_mlp_fc2,), kwargs = {})\n",
      "    %v_blocks_3_drop_path_1 : [#users=1] = call_module[target=v.blocks.3.drop_path](args = (%v_blocks_3_mlp_drop_1,), kwargs = {})\n",
      "    %add_8 : [#users=2] = call_function[target=operator.add](args = (%add_7, %v_blocks_3_drop_path_1), kwargs = {})\n",
      "    %v_blocks_4_norm1 : [#users=2] = call_module[target=v.blocks.4.norm1](args = (%add_8,), kwargs = {})\n",
      "    %getattr_6 : [#users=3] = call_function[target=builtins.getattr](args = (%v_blocks_4_norm1, shape), kwargs = {})\n",
      "    %getitem_25 : [#users=2] = call_function[target=operator.getitem](args = (%getattr_6, 0), kwargs = {})\n",
      "    %getitem_26 : [#users=2] = call_function[target=operator.getitem](args = (%getattr_6, 1), kwargs = {})\n",
      "    %getitem_27 : [#users=2] = call_function[target=operator.getitem](args = (%getattr_6, 2), kwargs = {})\n",
      "    %v_blocks_4_attn_qkv : [#users=1] = call_module[target=v.blocks.4.attn.qkv](args = (%v_blocks_4_norm1,), kwargs = {})\n",
      "    %floordiv_4 : [#users=1] = call_function[target=operator.floordiv](args = (%getitem_27, 12), kwargs = {})\n",
      "    %reshape_8 : [#users=1] = call_method[target=reshape](args = (%v_blocks_4_attn_qkv, %getitem_25, %getitem_26, 3, 12, %floordiv_4), kwargs = {})\n",
      "    %permute_4 : [#users=3] = call_method[target=permute](args = (%reshape_8, 2, 0, 3, 1, 4), kwargs = {})\n",
      "    %getitem_28 : [#users=1] = call_function[target=operator.getitem](args = (%permute_4, 0), kwargs = {})\n",
      "    %getitem_29 : [#users=1] = call_function[target=operator.getitem](args = (%permute_4, 1), kwargs = {})\n",
      "    %getitem_30 : [#users=1] = call_function[target=operator.getitem](args = (%permute_4, 2), kwargs = {})\n",
      "    %transpose_10 : [#users=1] = call_method[target=transpose](args = (%getitem_29, -2, -1), kwargs = {})\n",
      "    %matmul_8 : [#users=1] = call_function[target=operator.matmul](args = (%getitem_28, %transpose_10), kwargs = {})\n",
      "    %mul_4 : [#users=1] = call_function[target=operator.mul](args = (%matmul_8, 0.125), kwargs = {})\n",
      "    %softmax_4 : [#users=1] = call_method[target=softmax](args = (%mul_4,), kwargs = {dim: -1})\n",
      "    %v_blocks_4_attn_attn_drop : [#users=1] = call_module[target=v.blocks.4.attn.attn_drop](args = (%softmax_4,), kwargs = {})\n",
      "    %matmul_9 : [#users=1] = call_function[target=operator.matmul](args = (%v_blocks_4_attn_attn_drop, %getitem_30), kwargs = {})\n",
      "    %transpose_11 : [#users=1] = call_method[target=transpose](args = (%matmul_9, 1, 2), kwargs = {})\n",
      "    %reshape_9 : [#users=1] = call_method[target=reshape](args = (%transpose_11, %getitem_25, %getitem_26, %getitem_27), kwargs = {})\n",
      "    %v_blocks_4_attn_proj : [#users=1] = call_module[target=v.blocks.4.attn.proj](args = (%reshape_9,), kwargs = {})\n",
      "    %v_blocks_4_attn_proj_drop : [#users=1] = call_module[target=v.blocks.4.attn.proj_drop](args = (%v_blocks_4_attn_proj,), kwargs = {})\n",
      "    %v_blocks_4_drop_path : [#users=1] = call_module[target=v.blocks.4.drop_path](args = (%v_blocks_4_attn_proj_drop,), kwargs = {})\n",
      "    %add_9 : [#users=2] = call_function[target=operator.add](args = (%add_8, %v_blocks_4_drop_path), kwargs = {})\n",
      "    %v_blocks_4_norm2 : [#users=1] = call_module[target=v.blocks.4.norm2](args = (%add_9,), kwargs = {})\n",
      "    %v_blocks_4_mlp_fc1 : [#users=1] = call_module[target=v.blocks.4.mlp.fc1](args = (%v_blocks_4_norm2,), kwargs = {})\n",
      "    %v_blocks_4_mlp_act : [#users=1] = call_module[target=v.blocks.4.mlp.act](args = (%v_blocks_4_mlp_fc1,), kwargs = {})\n",
      "    %v_blocks_4_mlp_drop : [#users=1] = call_module[target=v.blocks.4.mlp.drop](args = (%v_blocks_4_mlp_act,), kwargs = {})\n",
      "    %v_blocks_4_mlp_fc2 : [#users=1] = call_module[target=v.blocks.4.mlp.fc2](args = (%v_blocks_4_mlp_drop,), kwargs = {})\n",
      "    %v_blocks_4_mlp_drop_1 : [#users=1] = call_module[target=v.blocks.4.mlp.drop](args = (%v_blocks_4_mlp_fc2,), kwargs = {})\n",
      "    %v_blocks_4_drop_path_1 : [#users=1] = call_module[target=v.blocks.4.drop_path](args = (%v_blocks_4_mlp_drop_1,), kwargs = {})\n",
      "    %add_10 : [#users=2] = call_function[target=operator.add](args = (%add_9, %v_blocks_4_drop_path_1), kwargs = {})\n",
      "    %v_blocks_5_norm1 : [#users=2] = call_module[target=v.blocks.5.norm1](args = (%add_10,), kwargs = {})\n",
      "    %getattr_7 : [#users=3] = call_function[target=builtins.getattr](args = (%v_blocks_5_norm1, shape), kwargs = {})\n",
      "    %getitem_31 : [#users=2] = call_function[target=operator.getitem](args = (%getattr_7, 0), kwargs = {})\n",
      "    %getitem_32 : [#users=2] = call_function[target=operator.getitem](args = (%getattr_7, 1), kwargs = {})\n",
      "    %getitem_33 : [#users=2] = call_function[target=operator.getitem](args = (%getattr_7, 2), kwargs = {})\n",
      "    %v_blocks_5_attn_qkv : [#users=1] = call_module[target=v.blocks.5.attn.qkv](args = (%v_blocks_5_norm1,), kwargs = {})\n",
      "    %floordiv_5 : [#users=1] = call_function[target=operator.floordiv](args = (%getitem_33, 12), kwargs = {})\n",
      "    %reshape_10 : [#users=1] = call_method[target=reshape](args = (%v_blocks_5_attn_qkv, %getitem_31, %getitem_32, 3, 12, %floordiv_5), kwargs = {})\n",
      "    %permute_5 : [#users=3] = call_method[target=permute](args = (%reshape_10, 2, 0, 3, 1, 4), kwargs = {})\n",
      "    %getitem_34 : [#users=1] = call_function[target=operator.getitem](args = (%permute_5, 0), kwargs = {})\n",
      "    %getitem_35 : [#users=1] = call_function[target=operator.getitem](args = (%permute_5, 1), kwargs = {})\n",
      "    %getitem_36 : [#users=1] = call_function[target=operator.getitem](args = (%permute_5, 2), kwargs = {})\n",
      "    %transpose_12 : [#users=1] = call_method[target=transpose](args = (%getitem_35, -2, -1), kwargs = {})\n",
      "    %matmul_10 : [#users=1] = call_function[target=operator.matmul](args = (%getitem_34, %transpose_12), kwargs = {})\n",
      "    %mul_5 : [#users=1] = call_function[target=operator.mul](args = (%matmul_10, 0.125), kwargs = {})\n",
      "    %softmax_5 : [#users=1] = call_method[target=softmax](args = (%mul_5,), kwargs = {dim: -1})\n",
      "    %v_blocks_5_attn_attn_drop : [#users=1] = call_module[target=v.blocks.5.attn.attn_drop](args = (%softmax_5,), kwargs = {})\n",
      "    %matmul_11 : [#users=1] = call_function[target=operator.matmul](args = (%v_blocks_5_attn_attn_drop, %getitem_36), kwargs = {})\n",
      "    %transpose_13 : [#users=1] = call_method[target=transpose](args = (%matmul_11, 1, 2), kwargs = {})\n",
      "    %reshape_11 : [#users=1] = call_method[target=reshape](args = (%transpose_13, %getitem_31, %getitem_32, %getitem_33), kwargs = {})\n",
      "    %v_blocks_5_attn_proj : [#users=1] = call_module[target=v.blocks.5.attn.proj](args = (%reshape_11,), kwargs = {})\n",
      "    %v_blocks_5_attn_proj_drop : [#users=1] = call_module[target=v.blocks.5.attn.proj_drop](args = (%v_blocks_5_attn_proj,), kwargs = {})\n",
      "    %v_blocks_5_drop_path : [#users=1] = call_module[target=v.blocks.5.drop_path](args = (%v_blocks_5_attn_proj_drop,), kwargs = {})\n",
      "    %add_11 : [#users=2] = call_function[target=operator.add](args = (%add_10, %v_blocks_5_drop_path), kwargs = {})\n",
      "    %v_blocks_5_norm2 : [#users=1] = call_module[target=v.blocks.5.norm2](args = (%add_11,), kwargs = {})\n",
      "    %v_blocks_5_mlp_fc1 : [#users=1] = call_module[target=v.blocks.5.mlp.fc1](args = (%v_blocks_5_norm2,), kwargs = {})\n",
      "    %v_blocks_5_mlp_act : [#users=1] = call_module[target=v.blocks.5.mlp.act](args = (%v_blocks_5_mlp_fc1,), kwargs = {})\n",
      "    %v_blocks_5_mlp_drop : [#users=1] = call_module[target=v.blocks.5.mlp.drop](args = (%v_blocks_5_mlp_act,), kwargs = {})\n",
      "    %v_blocks_5_mlp_fc2 : [#users=1] = call_module[target=v.blocks.5.mlp.fc2](args = (%v_blocks_5_mlp_drop,), kwargs = {})\n",
      "    %v_blocks_5_mlp_drop_1 : [#users=1] = call_module[target=v.blocks.5.mlp.drop](args = (%v_blocks_5_mlp_fc2,), kwargs = {})\n",
      "    %v_blocks_5_drop_path_1 : [#users=1] = call_module[target=v.blocks.5.drop_path](args = (%v_blocks_5_mlp_drop_1,), kwargs = {})\n",
      "    %add_12 : [#users=2] = call_function[target=operator.add](args = (%add_11, %v_blocks_5_drop_path_1), kwargs = {})\n",
      "    %v_blocks_6_norm1 : [#users=2] = call_module[target=v.blocks.6.norm1](args = (%add_12,), kwargs = {})\n",
      "    %getattr_8 : [#users=3] = call_function[target=builtins.getattr](args = (%v_blocks_6_norm1, shape), kwargs = {})\n",
      "    %getitem_37 : [#users=2] = call_function[target=operator.getitem](args = (%getattr_8, 0), kwargs = {})\n",
      "    %getitem_38 : [#users=2] = call_function[target=operator.getitem](args = (%getattr_8, 1), kwargs = {})\n",
      "    %getitem_39 : [#users=2] = call_function[target=operator.getitem](args = (%getattr_8, 2), kwargs = {})\n",
      "    %v_blocks_6_attn_qkv : [#users=1] = call_module[target=v.blocks.6.attn.qkv](args = (%v_blocks_6_norm1,), kwargs = {})\n",
      "    %floordiv_6 : [#users=1] = call_function[target=operator.floordiv](args = (%getitem_39, 12), kwargs = {})\n",
      "    %reshape_12 : [#users=1] = call_method[target=reshape](args = (%v_blocks_6_attn_qkv, %getitem_37, %getitem_38, 3, 12, %floordiv_6), kwargs = {})\n",
      "    %permute_6 : [#users=3] = call_method[target=permute](args = (%reshape_12, 2, 0, 3, 1, 4), kwargs = {})\n",
      "    %getitem_40 : [#users=1] = call_function[target=operator.getitem](args = (%permute_6, 0), kwargs = {})\n",
      "    %getitem_41 : [#users=1] = call_function[target=operator.getitem](args = (%permute_6, 1), kwargs = {})\n",
      "    %getitem_42 : [#users=1] = call_function[target=operator.getitem](args = (%permute_6, 2), kwargs = {})\n",
      "    %transpose_14 : [#users=1] = call_method[target=transpose](args = (%getitem_41, -2, -1), kwargs = {})\n",
      "    %matmul_12 : [#users=1] = call_function[target=operator.matmul](args = (%getitem_40, %transpose_14), kwargs = {})\n",
      "    %mul_6 : [#users=1] = call_function[target=operator.mul](args = (%matmul_12, 0.125), kwargs = {})\n",
      "    %softmax_6 : [#users=1] = call_method[target=softmax](args = (%mul_6,), kwargs = {dim: -1})\n",
      "    %v_blocks_6_attn_attn_drop : [#users=1] = call_module[target=v.blocks.6.attn.attn_drop](args = (%softmax_6,), kwargs = {})\n",
      "    %matmul_13 : [#users=1] = call_function[target=operator.matmul](args = (%v_blocks_6_attn_attn_drop, %getitem_42), kwargs = {})\n",
      "    %transpose_15 : [#users=1] = call_method[target=transpose](args = (%matmul_13, 1, 2), kwargs = {})\n",
      "    %reshape_13 : [#users=1] = call_method[target=reshape](args = (%transpose_15, %getitem_37, %getitem_38, %getitem_39), kwargs = {})\n",
      "    %v_blocks_6_attn_proj : [#users=1] = call_module[target=v.blocks.6.attn.proj](args = (%reshape_13,), kwargs = {})\n",
      "    %v_blocks_6_attn_proj_drop : [#users=1] = call_module[target=v.blocks.6.attn.proj_drop](args = (%v_blocks_6_attn_proj,), kwargs = {})\n",
      "    %v_blocks_6_drop_path : [#users=1] = call_module[target=v.blocks.6.drop_path](args = (%v_blocks_6_attn_proj_drop,), kwargs = {})\n",
      "    %add_13 : [#users=2] = call_function[target=operator.add](args = (%add_12, %v_blocks_6_drop_path), kwargs = {})\n",
      "    %v_blocks_6_norm2 : [#users=1] = call_module[target=v.blocks.6.norm2](args = (%add_13,), kwargs = {})\n",
      "    %v_blocks_6_mlp_fc1 : [#users=1] = call_module[target=v.blocks.6.mlp.fc1](args = (%v_blocks_6_norm2,), kwargs = {})\n",
      "    %v_blocks_6_mlp_act : [#users=1] = call_module[target=v.blocks.6.mlp.act](args = (%v_blocks_6_mlp_fc1,), kwargs = {})\n",
      "    %v_blocks_6_mlp_drop : [#users=1] = call_module[target=v.blocks.6.mlp.drop](args = (%v_blocks_6_mlp_act,), kwargs = {})\n",
      "    %v_blocks_6_mlp_fc2 : [#users=1] = call_module[target=v.blocks.6.mlp.fc2](args = (%v_blocks_6_mlp_drop,), kwargs = {})\n",
      "    %v_blocks_6_mlp_drop_1 : [#users=1] = call_module[target=v.blocks.6.mlp.drop](args = (%v_blocks_6_mlp_fc2,), kwargs = {})\n",
      "    %v_blocks_6_drop_path_1 : [#users=1] = call_module[target=v.blocks.6.drop_path](args = (%v_blocks_6_mlp_drop_1,), kwargs = {})\n",
      "    %add_14 : [#users=2] = call_function[target=operator.add](args = (%add_13, %v_blocks_6_drop_path_1), kwargs = {})\n",
      "    %v_blocks_7_norm1 : [#users=2] = call_module[target=v.blocks.7.norm1](args = (%add_14,), kwargs = {})\n",
      "    %getattr_9 : [#users=3] = call_function[target=builtins.getattr](args = (%v_blocks_7_norm1, shape), kwargs = {})\n",
      "    %getitem_43 : [#users=2] = call_function[target=operator.getitem](args = (%getattr_9, 0), kwargs = {})\n",
      "    %getitem_44 : [#users=2] = call_function[target=operator.getitem](args = (%getattr_9, 1), kwargs = {})\n",
      "    %getitem_45 : [#users=2] = call_function[target=operator.getitem](args = (%getattr_9, 2), kwargs = {})\n",
      "    %v_blocks_7_attn_qkv : [#users=1] = call_module[target=v.blocks.7.attn.qkv](args = (%v_blocks_7_norm1,), kwargs = {})\n",
      "    %floordiv_7 : [#users=1] = call_function[target=operator.floordiv](args = (%getitem_45, 12), kwargs = {})\n",
      "    %reshape_14 : [#users=1] = call_method[target=reshape](args = (%v_blocks_7_attn_qkv, %getitem_43, %getitem_44, 3, 12, %floordiv_7), kwargs = {})\n",
      "    %permute_7 : [#users=3] = call_method[target=permute](args = (%reshape_14, 2, 0, 3, 1, 4), kwargs = {})\n",
      "    %getitem_46 : [#users=1] = call_function[target=operator.getitem](args = (%permute_7, 0), kwargs = {})\n",
      "    %getitem_47 : [#users=1] = call_function[target=operator.getitem](args = (%permute_7, 1), kwargs = {})\n",
      "    %getitem_48 : [#users=1] = call_function[target=operator.getitem](args = (%permute_7, 2), kwargs = {})\n",
      "    %transpose_16 : [#users=1] = call_method[target=transpose](args = (%getitem_47, -2, -1), kwargs = {})\n",
      "    %matmul_14 : [#users=1] = call_function[target=operator.matmul](args = (%getitem_46, %transpose_16), kwargs = {})\n",
      "    %mul_7 : [#users=1] = call_function[target=operator.mul](args = (%matmul_14, 0.125), kwargs = {})\n",
      "    %softmax_7 : [#users=1] = call_method[target=softmax](args = (%mul_7,), kwargs = {dim: -1})\n",
      "    %v_blocks_7_attn_attn_drop : [#users=1] = call_module[target=v.blocks.7.attn.attn_drop](args = (%softmax_7,), kwargs = {})\n",
      "    %matmul_15 : [#users=1] = call_function[target=operator.matmul](args = (%v_blocks_7_attn_attn_drop, %getitem_48), kwargs = {})\n",
      "    %transpose_17 : [#users=1] = call_method[target=transpose](args = (%matmul_15, 1, 2), kwargs = {})\n",
      "    %reshape_15 : [#users=1] = call_method[target=reshape](args = (%transpose_17, %getitem_43, %getitem_44, %getitem_45), kwargs = {})\n",
      "    %v_blocks_7_attn_proj : [#users=1] = call_module[target=v.blocks.7.attn.proj](args = (%reshape_15,), kwargs = {})\n",
      "    %v_blocks_7_attn_proj_drop : [#users=1] = call_module[target=v.blocks.7.attn.proj_drop](args = (%v_blocks_7_attn_proj,), kwargs = {})\n",
      "    %v_blocks_7_drop_path : [#users=1] = call_module[target=v.blocks.7.drop_path](args = (%v_blocks_7_attn_proj_drop,), kwargs = {})\n",
      "    %add_15 : [#users=2] = call_function[target=operator.add](args = (%add_14, %v_blocks_7_drop_path), kwargs = {})\n",
      "    %v_blocks_7_norm2 : [#users=1] = call_module[target=v.blocks.7.norm2](args = (%add_15,), kwargs = {})\n",
      "    %v_blocks_7_mlp_fc1 : [#users=1] = call_module[target=v.blocks.7.mlp.fc1](args = (%v_blocks_7_norm2,), kwargs = {})\n",
      "    %v_blocks_7_mlp_act : [#users=1] = call_module[target=v.blocks.7.mlp.act](args = (%v_blocks_7_mlp_fc1,), kwargs = {})\n",
      "    %v_blocks_7_mlp_drop : [#users=1] = call_module[target=v.blocks.7.mlp.drop](args = (%v_blocks_7_mlp_act,), kwargs = {})\n",
      "    %v_blocks_7_mlp_fc2 : [#users=1] = call_module[target=v.blocks.7.mlp.fc2](args = (%v_blocks_7_mlp_drop,), kwargs = {})\n",
      "    %v_blocks_7_mlp_drop_1 : [#users=1] = call_module[target=v.blocks.7.mlp.drop](args = (%v_blocks_7_mlp_fc2,), kwargs = {})\n",
      "    %v_blocks_7_drop_path_1 : [#users=1] = call_module[target=v.blocks.7.drop_path](args = (%v_blocks_7_mlp_drop_1,), kwargs = {})\n",
      "    %add_16 : [#users=2] = call_function[target=operator.add](args = (%add_15, %v_blocks_7_drop_path_1), kwargs = {})\n",
      "    %v_blocks_8_norm1 : [#users=2] = call_module[target=v.blocks.8.norm1](args = (%add_16,), kwargs = {})\n",
      "    %getattr_10 : [#users=3] = call_function[target=builtins.getattr](args = (%v_blocks_8_norm1, shape), kwargs = {})\n",
      "    %getitem_49 : [#users=2] = call_function[target=operator.getitem](args = (%getattr_10, 0), kwargs = {})\n",
      "    %getitem_50 : [#users=2] = call_function[target=operator.getitem](args = (%getattr_10, 1), kwargs = {})\n",
      "    %getitem_51 : [#users=2] = call_function[target=operator.getitem](args = (%getattr_10, 2), kwargs = {})\n",
      "    %v_blocks_8_attn_qkv : [#users=1] = call_module[target=v.blocks.8.attn.qkv](args = (%v_blocks_8_norm1,), kwargs = {})\n",
      "    %floordiv_8 : [#users=1] = call_function[target=operator.floordiv](args = (%getitem_51, 12), kwargs = {})\n",
      "    %reshape_16 : [#users=1] = call_method[target=reshape](args = (%v_blocks_8_attn_qkv, %getitem_49, %getitem_50, 3, 12, %floordiv_8), kwargs = {})\n",
      "    %permute_8 : [#users=3] = call_method[target=permute](args = (%reshape_16, 2, 0, 3, 1, 4), kwargs = {})\n",
      "    %getitem_52 : [#users=1] = call_function[target=operator.getitem](args = (%permute_8, 0), kwargs = {})\n",
      "    %getitem_53 : [#users=1] = call_function[target=operator.getitem](args = (%permute_8, 1), kwargs = {})\n",
      "    %getitem_54 : [#users=1] = call_function[target=operator.getitem](args = (%permute_8, 2), kwargs = {})\n",
      "    %transpose_18 : [#users=1] = call_method[target=transpose](args = (%getitem_53, -2, -1), kwargs = {})\n",
      "    %matmul_16 : [#users=1] = call_function[target=operator.matmul](args = (%getitem_52, %transpose_18), kwargs = {})\n",
      "    %mul_8 : [#users=1] = call_function[target=operator.mul](args = (%matmul_16, 0.125), kwargs = {})\n",
      "    %softmax_8 : [#users=1] = call_method[target=softmax](args = (%mul_8,), kwargs = {dim: -1})\n",
      "    %v_blocks_8_attn_attn_drop : [#users=1] = call_module[target=v.blocks.8.attn.attn_drop](args = (%softmax_8,), kwargs = {})\n",
      "    %matmul_17 : [#users=1] = call_function[target=operator.matmul](args = (%v_blocks_8_attn_attn_drop, %getitem_54), kwargs = {})\n",
      "    %transpose_19 : [#users=1] = call_method[target=transpose](args = (%matmul_17, 1, 2), kwargs = {})\n",
      "    %reshape_17 : [#users=1] = call_method[target=reshape](args = (%transpose_19, %getitem_49, %getitem_50, %getitem_51), kwargs = {})\n",
      "    %v_blocks_8_attn_proj : [#users=1] = call_module[target=v.blocks.8.attn.proj](args = (%reshape_17,), kwargs = {})\n",
      "    %v_blocks_8_attn_proj_drop : [#users=1] = call_module[target=v.blocks.8.attn.proj_drop](args = (%v_blocks_8_attn_proj,), kwargs = {})\n",
      "    %v_blocks_8_drop_path : [#users=1] = call_module[target=v.blocks.8.drop_path](args = (%v_blocks_8_attn_proj_drop,), kwargs = {})\n",
      "    %add_17 : [#users=2] = call_function[target=operator.add](args = (%add_16, %v_blocks_8_drop_path), kwargs = {})\n",
      "    %v_blocks_8_norm2 : [#users=1] = call_module[target=v.blocks.8.norm2](args = (%add_17,), kwargs = {})\n",
      "    %v_blocks_8_mlp_fc1 : [#users=1] = call_module[target=v.blocks.8.mlp.fc1](args = (%v_blocks_8_norm2,), kwargs = {})\n",
      "    %v_blocks_8_mlp_act : [#users=1] = call_module[target=v.blocks.8.mlp.act](args = (%v_blocks_8_mlp_fc1,), kwargs = {})\n",
      "    %v_blocks_8_mlp_drop : [#users=1] = call_module[target=v.blocks.8.mlp.drop](args = (%v_blocks_8_mlp_act,), kwargs = {})\n",
      "    %v_blocks_8_mlp_fc2 : [#users=1] = call_module[target=v.blocks.8.mlp.fc2](args = (%v_blocks_8_mlp_drop,), kwargs = {})\n",
      "    %v_blocks_8_mlp_drop_1 : [#users=1] = call_module[target=v.blocks.8.mlp.drop](args = (%v_blocks_8_mlp_fc2,), kwargs = {})\n",
      "    %v_blocks_8_drop_path_1 : [#users=1] = call_module[target=v.blocks.8.drop_path](args = (%v_blocks_8_mlp_drop_1,), kwargs = {})\n",
      "    %add_18 : [#users=2] = call_function[target=operator.add](args = (%add_17, %v_blocks_8_drop_path_1), kwargs = {})\n",
      "    %v_blocks_9_norm1 : [#users=2] = call_module[target=v.blocks.9.norm1](args = (%add_18,), kwargs = {})\n",
      "    %getattr_11 : [#users=3] = call_function[target=builtins.getattr](args = (%v_blocks_9_norm1, shape), kwargs = {})\n",
      "    %getitem_55 : [#users=2] = call_function[target=operator.getitem](args = (%getattr_11, 0), kwargs = {})\n",
      "    %getitem_56 : [#users=2] = call_function[target=operator.getitem](args = (%getattr_11, 1), kwargs = {})\n",
      "    %getitem_57 : [#users=2] = call_function[target=operator.getitem](args = (%getattr_11, 2), kwargs = {})\n",
      "    %v_blocks_9_attn_qkv : [#users=1] = call_module[target=v.blocks.9.attn.qkv](args = (%v_blocks_9_norm1,), kwargs = {})\n",
      "    %floordiv_9 : [#users=1] = call_function[target=operator.floordiv](args = (%getitem_57, 12), kwargs = {})\n",
      "    %reshape_18 : [#users=1] = call_method[target=reshape](args = (%v_blocks_9_attn_qkv, %getitem_55, %getitem_56, 3, 12, %floordiv_9), kwargs = {})\n",
      "    %permute_9 : [#users=3] = call_method[target=permute](args = (%reshape_18, 2, 0, 3, 1, 4), kwargs = {})\n",
      "    %getitem_58 : [#users=1] = call_function[target=operator.getitem](args = (%permute_9, 0), kwargs = {})\n",
      "    %getitem_59 : [#users=1] = call_function[target=operator.getitem](args = (%permute_9, 1), kwargs = {})\n",
      "    %getitem_60 : [#users=1] = call_function[target=operator.getitem](args = (%permute_9, 2), kwargs = {})\n",
      "    %transpose_20 : [#users=1] = call_method[target=transpose](args = (%getitem_59, -2, -1), kwargs = {})\n",
      "    %matmul_18 : [#users=1] = call_function[target=operator.matmul](args = (%getitem_58, %transpose_20), kwargs = {})\n",
      "    %mul_9 : [#users=1] = call_function[target=operator.mul](args = (%matmul_18, 0.125), kwargs = {})\n",
      "    %softmax_9 : [#users=1] = call_method[target=softmax](args = (%mul_9,), kwargs = {dim: -1})\n",
      "    %v_blocks_9_attn_attn_drop : [#users=1] = call_module[target=v.blocks.9.attn.attn_drop](args = (%softmax_9,), kwargs = {})\n",
      "    %matmul_19 : [#users=1] = call_function[target=operator.matmul](args = (%v_blocks_9_attn_attn_drop, %getitem_60), kwargs = {})\n",
      "    %transpose_21 : [#users=1] = call_method[target=transpose](args = (%matmul_19, 1, 2), kwargs = {})\n",
      "    %reshape_19 : [#users=1] = call_method[target=reshape](args = (%transpose_21, %getitem_55, %getitem_56, %getitem_57), kwargs = {})\n",
      "    %v_blocks_9_attn_proj : [#users=1] = call_module[target=v.blocks.9.attn.proj](args = (%reshape_19,), kwargs = {})\n",
      "    %v_blocks_9_attn_proj_drop : [#users=1] = call_module[target=v.blocks.9.attn.proj_drop](args = (%v_blocks_9_attn_proj,), kwargs = {})\n",
      "    %v_blocks_9_drop_path : [#users=1] = call_module[target=v.blocks.9.drop_path](args = (%v_blocks_9_attn_proj_drop,), kwargs = {})\n",
      "    %add_19 : [#users=2] = call_function[target=operator.add](args = (%add_18, %v_blocks_9_drop_path), kwargs = {})\n",
      "    %v_blocks_9_norm2 : [#users=1] = call_module[target=v.blocks.9.norm2](args = (%add_19,), kwargs = {})\n",
      "    %v_blocks_9_mlp_fc1 : [#users=1] = call_module[target=v.blocks.9.mlp.fc1](args = (%v_blocks_9_norm2,), kwargs = {})\n",
      "    %v_blocks_9_mlp_act : [#users=1] = call_module[target=v.blocks.9.mlp.act](args = (%v_blocks_9_mlp_fc1,), kwargs = {})\n",
      "    %v_blocks_9_mlp_drop : [#users=1] = call_module[target=v.blocks.9.mlp.drop](args = (%v_blocks_9_mlp_act,), kwargs = {})\n",
      "    %v_blocks_9_mlp_fc2 : [#users=1] = call_module[target=v.blocks.9.mlp.fc2](args = (%v_blocks_9_mlp_drop,), kwargs = {})\n",
      "    %v_blocks_9_mlp_drop_1 : [#users=1] = call_module[target=v.blocks.9.mlp.drop](args = (%v_blocks_9_mlp_fc2,), kwargs = {})\n",
      "    %v_blocks_9_drop_path_1 : [#users=1] = call_module[target=v.blocks.9.drop_path](args = (%v_blocks_9_mlp_drop_1,), kwargs = {})\n",
      "    %add_20 : [#users=2] = call_function[target=operator.add](args = (%add_19, %v_blocks_9_drop_path_1), kwargs = {})\n",
      "    %v_blocks_10_norm1 : [#users=2] = call_module[target=v.blocks.10.norm1](args = (%add_20,), kwargs = {})\n",
      "    %getattr_12 : [#users=3] = call_function[target=builtins.getattr](args = (%v_blocks_10_norm1, shape), kwargs = {})\n",
      "    %getitem_61 : [#users=2] = call_function[target=operator.getitem](args = (%getattr_12, 0), kwargs = {})\n",
      "    %getitem_62 : [#users=2] = call_function[target=operator.getitem](args = (%getattr_12, 1), kwargs = {})\n",
      "    %getitem_63 : [#users=2] = call_function[target=operator.getitem](args = (%getattr_12, 2), kwargs = {})\n",
      "    %v_blocks_10_attn_qkv : [#users=1] = call_module[target=v.blocks.10.attn.qkv](args = (%v_blocks_10_norm1,), kwargs = {})\n",
      "    %floordiv_10 : [#users=1] = call_function[target=operator.floordiv](args = (%getitem_63, 12), kwargs = {})\n",
      "    %reshape_20 : [#users=1] = call_method[target=reshape](args = (%v_blocks_10_attn_qkv, %getitem_61, %getitem_62, 3, 12, %floordiv_10), kwargs = {})\n",
      "    %permute_10 : [#users=3] = call_method[target=permute](args = (%reshape_20, 2, 0, 3, 1, 4), kwargs = {})\n",
      "    %getitem_64 : [#users=1] = call_function[target=operator.getitem](args = (%permute_10, 0), kwargs = {})\n",
      "    %getitem_65 : [#users=1] = call_function[target=operator.getitem](args = (%permute_10, 1), kwargs = {})\n",
      "    %getitem_66 : [#users=1] = call_function[target=operator.getitem](args = (%permute_10, 2), kwargs = {})\n",
      "    %transpose_22 : [#users=1] = call_method[target=transpose](args = (%getitem_65, -2, -1), kwargs = {})\n",
      "    %matmul_20 : [#users=1] = call_function[target=operator.matmul](args = (%getitem_64, %transpose_22), kwargs = {})\n",
      "    %mul_10 : [#users=1] = call_function[target=operator.mul](args = (%matmul_20, 0.125), kwargs = {})\n",
      "    %softmax_10 : [#users=1] = call_method[target=softmax](args = (%mul_10,), kwargs = {dim: -1})\n",
      "    %v_blocks_10_attn_attn_drop : [#users=1] = call_module[target=v.blocks.10.attn.attn_drop](args = (%softmax_10,), kwargs = {})\n",
      "    %matmul_21 : [#users=1] = call_function[target=operator.matmul](args = (%v_blocks_10_attn_attn_drop, %getitem_66), kwargs = {})\n",
      "    %transpose_23 : [#users=1] = call_method[target=transpose](args = (%matmul_21, 1, 2), kwargs = {})\n",
      "    %reshape_21 : [#users=1] = call_method[target=reshape](args = (%transpose_23, %getitem_61, %getitem_62, %getitem_63), kwargs = {})\n",
      "    %v_blocks_10_attn_proj : [#users=1] = call_module[target=v.blocks.10.attn.proj](args = (%reshape_21,), kwargs = {})\n",
      "    %v_blocks_10_attn_proj_drop : [#users=1] = call_module[target=v.blocks.10.attn.proj_drop](args = (%v_blocks_10_attn_proj,), kwargs = {})\n",
      "    %v_blocks_10_drop_path : [#users=1] = call_module[target=v.blocks.10.drop_path](args = (%v_blocks_10_attn_proj_drop,), kwargs = {})\n",
      "    %add_21 : [#users=2] = call_function[target=operator.add](args = (%add_20, %v_blocks_10_drop_path), kwargs = {})\n",
      "    %v_blocks_10_norm2 : [#users=1] = call_module[target=v.blocks.10.norm2](args = (%add_21,), kwargs = {})\n",
      "    %v_blocks_10_mlp_fc1 : [#users=1] = call_module[target=v.blocks.10.mlp.fc1](args = (%v_blocks_10_norm2,), kwargs = {})\n",
      "    %v_blocks_10_mlp_act : [#users=1] = call_module[target=v.blocks.10.mlp.act](args = (%v_blocks_10_mlp_fc1,), kwargs = {})\n",
      "    %v_blocks_10_mlp_drop : [#users=1] = call_module[target=v.blocks.10.mlp.drop](args = (%v_blocks_10_mlp_act,), kwargs = {})\n",
      "    %v_blocks_10_mlp_fc2 : [#users=1] = call_module[target=v.blocks.10.mlp.fc2](args = (%v_blocks_10_mlp_drop,), kwargs = {})\n",
      "    %v_blocks_10_mlp_drop_1 : [#users=1] = call_module[target=v.blocks.10.mlp.drop](args = (%v_blocks_10_mlp_fc2,), kwargs = {})\n",
      "    %v_blocks_10_drop_path_1 : [#users=1] = call_module[target=v.blocks.10.drop_path](args = (%v_blocks_10_mlp_drop_1,), kwargs = {})\n",
      "    %add_22 : [#users=2] = call_function[target=operator.add](args = (%add_21, %v_blocks_10_drop_path_1), kwargs = {})\n",
      "    %v_blocks_11_norm1 : [#users=2] = call_module[target=v.blocks.11.norm1](args = (%add_22,), kwargs = {})\n",
      "    %getattr_13 : [#users=3] = call_function[target=builtins.getattr](args = (%v_blocks_11_norm1, shape), kwargs = {})\n",
      "    %getitem_67 : [#users=2] = call_function[target=operator.getitem](args = (%getattr_13, 0), kwargs = {})\n",
      "    %getitem_68 : [#users=2] = call_function[target=operator.getitem](args = (%getattr_13, 1), kwargs = {})\n",
      "    %getitem_69 : [#users=2] = call_function[target=operator.getitem](args = (%getattr_13, 2), kwargs = {})\n",
      "    %v_blocks_11_attn_qkv : [#users=1] = call_module[target=v.blocks.11.attn.qkv](args = (%v_blocks_11_norm1,), kwargs = {})\n",
      "    %floordiv_11 : [#users=1] = call_function[target=operator.floordiv](args = (%getitem_69, 12), kwargs = {})\n",
      "    %reshape_22 : [#users=1] = call_method[target=reshape](args = (%v_blocks_11_attn_qkv, %getitem_67, %getitem_68, 3, 12, %floordiv_11), kwargs = {})\n",
      "    %permute_11 : [#users=3] = call_method[target=permute](args = (%reshape_22, 2, 0, 3, 1, 4), kwargs = {})\n",
      "    %getitem_70 : [#users=1] = call_function[target=operator.getitem](args = (%permute_11, 0), kwargs = {})\n",
      "    %getitem_71 : [#users=1] = call_function[target=operator.getitem](args = (%permute_11, 1), kwargs = {})\n",
      "    %getitem_72 : [#users=1] = call_function[target=operator.getitem](args = (%permute_11, 2), kwargs = {})\n",
      "    %transpose_24 : [#users=1] = call_method[target=transpose](args = (%getitem_71, -2, -1), kwargs = {})\n",
      "    %matmul_22 : [#users=1] = call_function[target=operator.matmul](args = (%getitem_70, %transpose_24), kwargs = {})\n",
      "    %mul_11 : [#users=1] = call_function[target=operator.mul](args = (%matmul_22, 0.125), kwargs = {})\n",
      "    %softmax_11 : [#users=1] = call_method[target=softmax](args = (%mul_11,), kwargs = {dim: -1})\n",
      "    %v_blocks_11_attn_attn_drop : [#users=1] = call_module[target=v.blocks.11.attn.attn_drop](args = (%softmax_11,), kwargs = {})\n",
      "    %matmul_23 : [#users=1] = call_function[target=operator.matmul](args = (%v_blocks_11_attn_attn_drop, %getitem_72), kwargs = {})\n",
      "    %transpose_25 : [#users=1] = call_method[target=transpose](args = (%matmul_23, 1, 2), kwargs = {})\n",
      "    %reshape_23 : [#users=1] = call_method[target=reshape](args = (%transpose_25, %getitem_67, %getitem_68, %getitem_69), kwargs = {})\n",
      "    %v_blocks_11_attn_proj : [#users=1] = call_module[target=v.blocks.11.attn.proj](args = (%reshape_23,), kwargs = {})\n",
      "    %v_blocks_11_attn_proj_drop : [#users=1] = call_module[target=v.blocks.11.attn.proj_drop](args = (%v_blocks_11_attn_proj,), kwargs = {})\n",
      "    %v_blocks_11_drop_path : [#users=1] = call_module[target=v.blocks.11.drop_path](args = (%v_blocks_11_attn_proj_drop,), kwargs = {})\n",
      "    %add_23 : [#users=2] = call_function[target=operator.add](args = (%add_22, %v_blocks_11_drop_path), kwargs = {})\n",
      "    %v_blocks_11_norm2 : [#users=1] = call_module[target=v.blocks.11.norm2](args = (%add_23,), kwargs = {})\n",
      "    %v_blocks_11_mlp_fc1 : [#users=1] = call_module[target=v.blocks.11.mlp.fc1](args = (%v_blocks_11_norm2,), kwargs = {})\n",
      "    %v_blocks_11_mlp_act : [#users=1] = call_module[target=v.blocks.11.mlp.act](args = (%v_blocks_11_mlp_fc1,), kwargs = {})\n",
      "    %v_blocks_11_mlp_drop : [#users=1] = call_module[target=v.blocks.11.mlp.drop](args = (%v_blocks_11_mlp_act,), kwargs = {})\n",
      "    %v_blocks_11_mlp_fc2 : [#users=1] = call_module[target=v.blocks.11.mlp.fc2](args = (%v_blocks_11_mlp_drop,), kwargs = {})\n",
      "    %v_blocks_11_mlp_drop_1 : [#users=1] = call_module[target=v.blocks.11.mlp.drop](args = (%v_blocks_11_mlp_fc2,), kwargs = {})\n",
      "    %v_blocks_11_drop_path_1 : [#users=1] = call_module[target=v.blocks.11.drop_path](args = (%v_blocks_11_mlp_drop_1,), kwargs = {})\n",
      "    %add_24 : [#users=1] = call_function[target=operator.add](args = (%add_23, %v_blocks_11_drop_path_1), kwargs = {})\n",
      "    %v_norm : [#users=2] = call_module[target=v.norm](args = (%add_24,), kwargs = {})\n",
      "    %getitem_73 : [#users=1] = call_function[target=operator.getitem](args = (%v_norm, (slice(None, None, None), 0)), kwargs = {})\n",
      "    %getitem_74 : [#users=1] = call_function[target=operator.getitem](args = (%v_norm, (slice(None, None, None), 1)), kwargs = {})\n",
      "    %add_25 : [#users=1] = call_function[target=operator.add](args = (%getitem_73, %getitem_74), kwargs = {})\n",
      "    %truediv : [#users=1] = call_function[target=operator.truediv](args = (%add_25, 2), kwargs = {})\n",
      "    %mlp_head_0 : [#users=1] = call_module[target=mlp_head.0](args = (%truediv,), kwargs = {})\n",
      "    %mlp_head_1 : [#users=1] = call_module[target=mlp_head.1](args = (%mlp_head_0,), kwargs = {})\n",
      "    return mlp_head_1\n"
     ]
    }
   ],
   "source": [
    "print(traced.graph)"
   ]
  },
  {
   "cell_type": "code",
   "execution_count": 932,
   "id": "b3863702-f716-4ea4-804c-c1fb45f4f9ae",
   "metadata": {},
   "outputs": [],
   "source": [
    "# can we just make a new AST model that doesn't have that weirdness\n",
    "import torch.nn as nn\n",
    "import torch\n",
    "import sys\n",
    "sys.path.append(\"/data/sls/scratch/yuangong/aed-trans/src/models/\")\n",
    "sys.path.append(\"/data/sls/scratch/yuangong/aed-trans/src/\")\n",
    "from timm.models.layers import trunc_normal_\n",
    "import timm\n",
    "import numpy as np\n",
    "from timm.models.layers import to_2tuple\n",
    "from random import randrange\n",
    "from matplotlib import pyplot as plt\n",
    "import random\n",
    "class ASTModel_cls(nn.Module):\n",
    "    def __init__(self, label_dim=527,\n",
    "                 fshape=128, tshape=2, fstride=128, tstride=2,\n",
    "                 input_fdim=128, input_tdim=1024, model_size='base',\n",
    "                 pretrain_stage=True, load_pretrained_mdl_path=None):\n",
    "\n",
    "        super(ASTModel_cls, self).__init__()\n",
    "        assert timm.__version__ == '0.4.5', 'Please use timm == 0.4.5, the code might not be compatible with newer versions.'\n",
    "\n",
    "        # override timm input shape restriction\n",
    "        timm.models.vision_transformer.PatchEmbed = PatchEmbed\n",
    "\n",
    "        # pretrain the AST models\n",
    "        if pretrain_stage == True:\n",
    "            if load_pretrained_mdl_path != None:\n",
    "                raise ValueError('Setting load_pretrained_mdl_path at pretraining stage is useless, pretraining is always from scratch, please change it to None.')\n",
    "            if fstride != fshape or tstride != tshape:\n",
    "                raise ValueError('fstride != fshape or tstride != tshape, they must be same at the pretraining stage, patch split overlapping is not supported.')\n",
    "\n",
    "            # if AudioSet pretraining is not used (but ImageNet pretraining may still apply)\n",
    "            if model_size == 'tiny':\n",
    "                self.v = timm.create_model('vit_deit_tiny_distilled_patch16_224', pretrained=False)\n",
    "                self.heads, self.depth = 3, 12\n",
    "                self.cls_token_num = 2\n",
    "            elif model_size == 'small':\n",
    "                self.v = timm.create_model('vit_deit_small_distilled_patch16_224', pretrained=False)\n",
    "                self.heads, self.depth = 6, 12\n",
    "                self.cls_token_num = 2\n",
    "            elif model_size == 'base':\n",
    "                self.v = timm.create_model('vit_deit_base_distilled_patch16_384', pretrained=False)\n",
    "                self.heads, self.depth = 12, 12\n",
    "                self.cls_token_num = 2\n",
    "            elif model_size == 'base_nokd':\n",
    "                self.v = timm.create_model('vit_deit_base_patch16_384', pretrained=False)\n",
    "                self.heads, self.depth = 12, 12\n",
    "                self.cls_token_num = 1\n",
    "            else:\n",
    "                raise Exception('Model size must be one of tiny, small, base, base_nokd')\n",
    "\n",
    "            self.original_num_patches = self.v.patch_embed.num_patches\n",
    "            self.oringal_hw = int(self.original_num_patches ** 0.5)\n",
    "            self.original_embedding_dim = self.v.pos_embed.shape[2]\n",
    "\n",
    "            # SSL Pretraining Code\n",
    "            self.softmax = nn.Softmax(dim=-1)\n",
    "            self.lsoftmax = nn.LogSoftmax(dim=-1)\n",
    "            self.fshape, self.tshape = fshape, tshape\n",
    "            self.fstride, self.tstride = fstride, tstride\n",
    "            self.input_fdim, self.input_tdim = input_fdim, input_tdim\n",
    "            # this is a trick to make state_dict to track pretraining input_fdim and input_tdim and save them by using torch.save\n",
    "            self.p_input_fdim, self.p_input_tdim = nn.Parameter(torch.tensor(input_fdim), requires_grad=False), nn.Parameter(torch.tensor(input_tdim), requires_grad=False)\n",
    "\n",
    "            # masked patch classification (discriminative objective) layer\n",
    "            # we use two layers for pretext task, but using a single layer has similar performance.\n",
    "            # we map the output of transformer (768-dim for base models) to 256-dim patch input space, and then dot product with flattened patch input (also 256-dim) to calculate loss.\n",
    "            # alternatively, you can map the output of transformer to 768-dim patch embedding space, and dot product with patch embedding. Performance-wise they are similar, but map to 256 space is more efficient.\n",
    "            self.cpredlayer = nn.Sequential(nn.Linear(self.original_embedding_dim, self.original_embedding_dim), nn.ReLU(), nn.Linear(self.original_embedding_dim, 256))\n",
    "            # masked patch reconstruction (generative objective) layer\n",
    "            self.gpredlayer = nn.Sequential(nn.Linear(self.original_embedding_dim, self.original_embedding_dim), nn.ReLU(), nn.Linear(self.original_embedding_dim, 256))\n",
    "            self.unfold = torch.nn.Unfold(kernel_size=(fshape, tshape), stride=(fstride, tstride))\n",
    "\n",
    "            # we use learnable mask embedding (follow the BEIT paper), but using a fixed mask embedding (e.g., 0) leads to same performance.\n",
    "            self.mask_embed = nn.Parameter(torch.zeros([1, 1, self.original_embedding_dim]))\n",
    "            self.mask_embed = torch.nn.init.xavier_normal_(self.mask_embed)\n",
    "\n",
    "            # get the intermediate shape\n",
    "            self.p_f_dim, self.p_t_dim = self.get_shape(fstride, tstride, input_fdim, input_tdim, fshape, tshape)\n",
    "            num_patches = self.p_f_dim * self.p_t_dim\n",
    "            self.num_patches = num_patches\n",
    "            self.v.patch_embed.num_patches = num_patches\n",
    "            print('pretraining patch split stride: frequency={:d}, time={:d}'.format(fstride, tstride))\n",
    "            print('pretraining patch shape: frequency={:d}, time={:d}'.format(fshape, tshape))\n",
    "            print('pretraining patch array dimension: frequency={:d}, time={:d}'.format(self.p_f_dim, self.p_t_dim))\n",
    "            print('pretraining number of patches={:d}'.format(num_patches))\n",
    "\n",
    "            # the linear patch projection layer, use 1 channel for spectrogram rather than the original 3 channels for RGB images.\n",
    "            new_proj = torch.nn.Conv2d(1, self.original_embedding_dim, kernel_size=(fshape, tshape), stride=(fstride, tstride))\n",
    "            self.v.patch_embed.proj = new_proj\n",
    "\n",
    "            # use trainable positional embedding\n",
    "            new_pos_embed = nn.Parameter(torch.zeros(1, self.v.patch_embed.num_patches + self.cls_token_num, self.original_embedding_dim))\n",
    "            self.v.pos_embed = new_pos_embed\n",
    "            trunc_normal_(self.v.pos_embed, std=.02)\n",
    "\n",
    "        # use a pretrained models for finetuning\n",
    "        elif pretrain_stage == False:\n",
    "            device = torch.device(\"cuda\" if torch.cuda.is_available() else \"cpu\")\n",
    "            if load_pretrained_mdl_path == None:\n",
    "                raise ValueError('Please set load_pretrained_mdl_path to load a pretrained models.')\n",
    "            sd = torch.load(load_pretrained_mdl_path, map_location=device)\n",
    "            # get the fshape and tshape, input_fdim and input_tdim in the pretraining stage\n",
    "            try:\n",
    "                p_fshape, p_tshape = sd['module.v.patch_embed.proj.weight'].shape[2], sd['module.v.patch_embed.proj.weight'].shape[3]\n",
    "                p_input_fdim, p_input_tdim = sd['module.p_input_fdim'].item(), sd['module.p_input_tdim'].item()\n",
    "            except:\n",
    "                raise  ValueError('The model loaded is not from a torch.nn.Dataparallel object. Wrap it with torch.nn.Dataparallel and try again.')\n",
    "\n",
    "            print('now load a SSL pretrained models from ' + load_pretrained_mdl_path)\n",
    "            # during pretraining, fstride=fshape and tstride=tshape because no patch overlapping is used\n",
    "            # here, input_fdim and input_tdim should be that used in pretraining, not that in the fine-tuning.\n",
    "            # we need to know input_fdim and input_tdim to do positional embedding cut/interpolation.\n",
    "            # generally it should be better to use same input_fdim during pretraining and finetuning, but input_tdim can be safely different\n",
    "            audio_model = ASTModel_cls(fstride=p_fshape, tstride=p_tshape, fshape=p_fshape, tshape=p_tshape,\n",
    "                                   input_fdim=p_input_fdim, input_tdim=p_input_tdim, pretrain_stage=True, model_size=model_size)\n",
    "            audio_model = torch.nn.DataParallel(audio_model)\n",
    "            audio_model.load_state_dict(sd, strict=False)\n",
    "\n",
    "            self.v = audio_model.module.v\n",
    "            self.original_embedding_dim = self.v.pos_embed.shape[2]\n",
    "            self.cls_token_num = audio_model.module.cls_token_num\n",
    "\n",
    "            # mlp head for fine-tuning\n",
    "            self.mlp_head = nn.Sequential(nn.LayerNorm(self.original_embedding_dim),\n",
    "                                          nn.Linear(self.original_embedding_dim, label_dim))\n",
    "\n",
    "            f_dim, t_dim = self.get_shape(fstride, tstride, input_fdim, input_tdim, fshape, tshape)\n",
    "            # patch array dimension during pretraining\n",
    "            p_f_dim, p_t_dim = audio_model.module.p_f_dim, audio_model.module.p_t_dim\n",
    "            num_patches = f_dim * t_dim\n",
    "            p_num_patches = p_f_dim * p_t_dim\n",
    "            self.v.patch_embed.num_patches = num_patches\n",
    "            print('fine-tuning patch split stride: frequncey={:d}, time={:d}'.format(fstride, tstride))\n",
    "            print('fine-tuning number of patches={:d}'.format(num_patches))\n",
    "\n",
    "            # patch shape should be same for pretraining and fine-tuning\n",
    "            if fshape != p_fshape or tshape != p_tshape:\n",
    "                raise ValueError('The patch shape of pretraining and fine-tuning is not consistant, pretraining: f={:d}, t={:d}, finetuning: f={:d}, t={:d}'.format(p_fshape, p_tshape, fshape, tshape))\n",
    "\n",
    "            # patch split stride generally should be different for pretraining and fine-tuning, as patch split overlapping is only used in finetuning\n",
    "            # during pretraining, p_fshape = p_fstride and p_tshape = p_tstride\n",
    "            if fstride != p_fshape or tstride != p_tshape:\n",
    "                # initialize a new patch embedding layer with desired new stride.\n",
    "                new_proj = torch.nn.Conv2d(1, self.original_embedding_dim, kernel_size=(fshape, tshape), stride=(fstride, tstride))\n",
    "                # but the weights of patch embedding layer is still got from the pretrained models\n",
    "                new_proj.weight = torch.nn.Parameter(torch.sum(self.v.patch_embed.proj.weight, dim=1).unsqueeze(1))\n",
    "                new_proj.bias = self.v.patch_embed.proj.bias\n",
    "                self.v.patch_embed.proj = new_proj\n",
    "\n",
    "            new_pos_embed = self.v.pos_embed[:, self.cls_token_num:, :].detach().reshape(1, p_num_patches, self.original_embedding_dim).transpose(1, 2).reshape(1, self.original_embedding_dim, p_f_dim, p_t_dim)\n",
    "            # cut or interpolate the positional embedding\n",
    "            if t_dim < p_t_dim:\n",
    "                new_pos_embed = new_pos_embed[:, :, :, int(p_t_dim/2) - int(t_dim / 2): int(p_t_dim/2) - int(t_dim / 2) + t_dim]\n",
    "            else:\n",
    "                new_pos_embed = torch.nn.functional.interpolate(new_pos_embed, size=(8, t_dim), mode='bilinear')\n",
    "            if f_dim < p_f_dim:\n",
    "                new_pos_embed = new_pos_embed[:, :, int(p_f_dim/2) - int(f_dim / 2): int(p_f_dim/2) - int(f_dim / 2) + t_dim, :]\n",
    "            else:\n",
    "                new_pos_embed = torch.nn.functional.interpolate(new_pos_embed, size=(f_dim, t_dim), mode='bilinear')\n",
    "\n",
    "            new_pos_embed = new_pos_embed.reshape(1, self.original_embedding_dim, num_patches).transpose(1, 2)\n",
    "            self.v.pos_embed = nn.Parameter(torch.cat([self.v.pos_embed[:, :self.cls_token_num, :].detach(), new_pos_embed], dim=1))\n",
    "\n",
    "    # get the shape of intermediate representation.\n",
    "    def get_shape(self, fstride, tstride, input_fdim, input_tdim, fshape, tshape):\n",
    "        test_input = torch.randn(1, 1, input_fdim, input_tdim)\n",
    "        test_proj = nn.Conv2d(1, self.original_embedding_dim, kernel_size=(fshape, tshape), stride=(fstride, tstride))\n",
    "        test_out = test_proj(test_input)\n",
    "        f_dim = test_out.shape[2]\n",
    "        t_dim = test_out.shape[3]\n",
    "        return f_dim, t_dim\n",
    "\n",
    "    # generate mask for 16*16 patch\n",
    "    def gen_maskid_patch(self, sequence_len=512, mask_size=100, cluster=3):\n",
    "        mask_id = []\n",
    "\n",
    "        # randomize clutering factor in [3,6)\n",
    "        cur_clus = randrange(cluster) + 3\n",
    "\n",
    "        while len(list(set(mask_id))) <= mask_size:\n",
    "            start_id = randrange(sequence_len)\n",
    "\n",
    "            # this improves the efficiency, but might change the pretrained model\n",
    "            # while start_id in mask_id:\n",
    "            #     start_id = randrange(sequence_len)\n",
    "\n",
    "            cur_mask = []\n",
    "            for i in range(0, cur_clus):\n",
    "                for j in range(0, cur_clus):\n",
    "                    mask_cand = start_id + self.p_t_dim * i + j\n",
    "                    if mask_cand > 0 and mask_cand < sequence_len:\n",
    "                        cur_mask.append(mask_cand)\n",
    "            mask_id = mask_id + cur_mask\n",
    "        mask_id = list(set(mask_id))[:mask_size]\n",
    "        return torch.tensor(mask_id)\n",
    "\n",
    "    # using cluster for frame masking hurts the performance, so just use the naive random sampling\n",
    "    def gen_maskid_frame(self, sequence_len=512, mask_size=100):\n",
    "        mask_id = random.sample(range(0, sequence_len), mask_size)\n",
    "        return torch.tensor(mask_id)\n",
    "\n",
    "    def finetuningavgtok(self, x):\n",
    "        B = x.shape[0]\n",
    "        x = self.v.patch_embed(x)\n",
    "        if self.cls_token_num == 2:\n",
    "            cls_tokens = self.v.cls_token.expand(B, -1, -1)\n",
    "            dist_token = self.v.dist_token.expand(B, -1, -1)\n",
    "            x = torch.cat((cls_tokens, dist_token, x), dim=1)\n",
    "        else:\n",
    "            cls_tokens = self.v.cls_token.expand(B, -1, -1)\n",
    "            x = torch.cat((cls_tokens, x), dim=1)\n",
    "        x = x + self.v.pos_embed\n",
    "        x = self.v.pos_drop(x)\n",
    "\n",
    "        for blk_id, blk in enumerate(self.v.blocks):\n",
    "            x = blk(x)\n",
    "        x = self.v.norm(x)\n",
    "\n",
    "        # average output of all tokens except cls token(s)\n",
    "        x = torch.mean(x[:, self.cls_token_num:, :], dim=1)\n",
    "        x = self.mlp_head(x)\n",
    "        return x\n",
    "\n",
    "    def finetuningcls(self, x):\n",
    "        B = x.shape[0]\n",
    "        x = self.v.patch_embed(x)\n",
    "        if self.cls_token_num == 2:\n",
    "            cls_tokens = self.v.cls_token.expand(B, -1, -1)\n",
    "            dist_token = self.v.dist_token.expand(B, -1, -1)\n",
    "            x = torch.cat((cls_tokens, dist_token, x), dim=1)\n",
    "        else:\n",
    "            cls_tokens = self.v.cls_token.expand(B, -1, -1)\n",
    "            x = torch.cat((cls_tokens, x), dim=1)\n",
    "        x = x + self.v.pos_embed\n",
    "        x = self.v.pos_drop(x)\n",
    "\n",
    "        for blk_id, blk in enumerate(self.v.blocks):\n",
    "            x = blk(x)\n",
    "        x = self.v.norm(x)\n",
    "\n",
    "        # if models has two cls tokens (DEIT), average as the clip-level representation\n",
    "        if self.cls_token_num == 2:\n",
    "            x = (x[:, 0] + x[:, 1]) / 2\n",
    "        else:\n",
    "            x = x[:, 0]\n",
    "        x = self.mlp_head(x)\n",
    "        return x\n",
    "\n",
    "    # masked patch pretraining with discriminative objective\n",
    "    def mpc(self, x, mask_patch, cluster, show_mask=False):\n",
    "        input = self.unfold(x).transpose(1, 2)\n",
    "        B = x.shape[0]\n",
    "        # x in shape (batch_size, sequence_len, embedding dim)\n",
    "        x = self.v.patch_embed(x)\n",
    "\n",
    "        # encode the patch\n",
    "        # size 12(batch_size) * 100(#mask_patch) * 768(hidden_dim), prepare to save the true values of masked samples\n",
    "        encode_samples = torch.empty((B, mask_patch, 256), device=x.device, requires_grad=False).float()\n",
    "        # size 12(batch_size) * 100(#mask_patch), index of masked patches\n",
    "        mask_index = torch.empty((B, mask_patch), device=x.device, requires_grad=False).long()\n",
    "        # size 12(batch_size) * 512(sequence_len) * 768(hidden_dim)\n",
    "        mask_dense = torch.ones([x.shape[0], x.shape[1], x.shape[2]], device=x.device)\n",
    "\n",
    "        # for each audio clip in the batch\n",
    "        for i in range(B):\n",
    "            # randomly generate #mask_patch mask indexes without duplicate\n",
    "            if cluster == True:\n",
    "                # use this if you are masking e.g. 16*16 patches\n",
    "                mask_index[i] = self.gen_maskid_patch(self.num_patches, mask_patch)\n",
    "            else:\n",
    "                # use this if you are masking frame, i.e., 128*2 patches\n",
    "                mask_index[i] = self.gen_maskid_frame(self.num_patches, mask_patch)\n",
    "            # copy the masked embeddings, note gradients are stopped in this path\n",
    "            encode_samples[i] = input[i, mask_index[i], :].clone().detach()\n",
    "            # mask the encode samples with 0\n",
    "            mask_dense[i, mask_index[i], :] = 0\n",
    "\n",
    "        # follow BEIT paper, mask with learnable masking embedding, but no performance diff observed compared with masking with 0s.\n",
    "        mask_tokens = self.mask_embed.expand(B, x.shape[1], -1)\n",
    "\n",
    "        # mask the patch\n",
    "        x = x * mask_dense + (1-mask_dense) * mask_tokens\n",
    "\n",
    "        # pass through the Transformer layers\n",
    "        cls_tokens = self.v.cls_token.expand(B, -1, -1)  # stole cls_tokens impl from Phil Wang, thanks\n",
    "        dist_token = self.v.dist_token.expand(B, -1, -1)\n",
    "        x = torch.cat((cls_tokens, dist_token, x), dim=1)\n",
    "        x = x + self.v.pos_embed\n",
    "        x = self.v.pos_drop(x)\n",
    "        for blk in self.v.blocks:\n",
    "            x = blk(x)\n",
    "        x = self.v.norm(x)\n",
    "\n",
    "        # prediction of the masked patch\n",
    "        pred = torch.empty((B, mask_patch, 256), device=x.device).float()  # e.g. size 12*100*768\n",
    "        for i in range(B):\n",
    "            #  +2 for indexes because skipping the cls and dis token\n",
    "            # we map the output of transformer (768-dim for base models) to 256-dim patch input space, and then dot product with flattened patch input (also 256-dim) to calculate loss.\n",
    "            # alternatively, you can map the output of transformer to 768-dim patch embedding space, and dot product with patch embedding. Performance-wise they are similar, but map to 256 space is more efficient.\n",
    "            pred[i] = self.cpredlayer(x[i, mask_index[i] + self.cls_token_num, :])\n",
    "\n",
    "        # calculate the NCE loss\n",
    "        nce = torch.tensor(0.0).to(x.device)\n",
    "        correct = torch.tensor(0.0).to(x.device)\n",
    "        for i in np.arange(0, B):\n",
    "            # negative samples are from the same batch\n",
    "            # equation (1) of the ssast paper\n",
    "            total = torch.mm(encode_samples[i], torch.transpose(pred[i], 0, 1))  # e.g. size 100*100\n",
    "            correct += torch.sum(torch.eq(torch.argmax(self.softmax(total), dim=0), torch.arange(0, mask_patch, device=x.device)))  # correct is a tensor\n",
    "            nce += torch.sum(torch.diag(self.lsoftmax(total)))  # nce is a tensor\n",
    "        acc = 1. * correct / (B * mask_patch)\n",
    "        nce = nce / (-1. * B * mask_patch)\n",
    "\n",
    "        # visualize the masked area, for probing test only, set show_mask = False for any training/inference.\n",
    "        if show_mask == False:\n",
    "            return acc, nce\n",
    "        else:\n",
    "            if B > 1:\n",
    "                raise Exception('Currently only support single spectrogram probing test.')\n",
    "\n",
    "            self.mask_correct = torch.nn.Parameter(torch.arange(0, mask_patch), requires_grad=False)\n",
    "\n",
    "            pred = input.clone()  # [B, 512, 256]\n",
    "            masked = input.clone()\n",
    "\n",
    "            for i in range(B):\n",
    "                result = [float(t) * 99 for t in torch.eq(torch.argmax(self.softmax(total), dim=0), self.mask_correct)]\n",
    "                pred[i, mask_index[i], :] = torch.tensor(result).reshape(mask_patch, 1).expand(mask_patch, 256)\n",
    "                masked[i, mask_index[i], :] = 99.0\n",
    "\n",
    "            # print(total)\n",
    "            # print(self.softmax(total))\n",
    "            # print(torch.argmax(self.softmax(total), dim=0))\n",
    "            # print(self.mask_correct)\n",
    "            # print(torch.eq(torch.argmax(self.softmax(total), dim=0), self.mask_correct))\n",
    "            # print([float(t)*99 for t in torch.eq(torch.argmax(self.softmax(total), dim=0), self.mask_correct)])\n",
    "\n",
    "            fold = torch.nn.Fold(output_size=([self.input_fdim, self.input_tdim]), kernel_size=(self.fshape, self.tshape), stride=(self.fstride, self.tstride))\n",
    "            pred = fold(pred.transpose(1, 2))\n",
    "            masked = fold(masked.transpose(1, 2))\n",
    "\n",
    "            return pred, masked\n",
    "\n",
    "    # # masked patch pretraining with generative objective\n",
    "    def mpg(self, input, mask_patch, cluster):\n",
    "        B = input.shape[0]\n",
    "        x = self.v.patch_embed(input)\n",
    "        input = self.unfold(input).transpose(1, 2)\n",
    "\n",
    "        # size 12(batch_size) * 100(#mask_patch), index of masked patches\n",
    "        mask_index = torch.empty((B, mask_patch), device=x.device, requires_grad=False).long()\n",
    "        # size 12(batch_size) * 512(sequence_len) * 768(hidden_dim)\n",
    "        mask_dense = torch.ones([x.shape[0], x.shape[1], x.shape[2]], device=x.device)\n",
    "        for i in range(B):\n",
    "            # randomly generate #mask_patch mask indexes without duplicate\n",
    "            if cluster == True:\n",
    "                # use this if you are masking e.g. 16*16 patches\n",
    "                mask_index[i] = self.gen_maskid_patch(self.num_patches, mask_patch)\n",
    "            else:\n",
    "                # use this if you are masking frame, i.e., 128*2 patches\n",
    "                mask_index[i] = self.gen_maskid_frame(self.num_patches, mask_patch)\n",
    "            mask_dense[i, mask_index[i], :] = 0\n",
    "\n",
    "        mask_tokens = self.mask_embed.expand(B, x.shape[1], -1)\n",
    "\n",
    "        # follow BEIT paper, mask with learnable masking embedding, but no performance diff observed compared with masking with 0s.\n",
    "        x = x * mask_dense + (1-mask_dense) * mask_tokens\n",
    "\n",
    "        # go through the Transformer layers\n",
    "        cls_tokens = self.v.cls_token.expand(B, -1, -1)  # stole cls_tokens impl from Phil Wang, thanks\n",
    "        dist_token = self.v.dist_token.expand(B, -1, -1)\n",
    "        x = torch.cat((cls_tokens, dist_token, x), dim=1)\n",
    "        x = x + self.v.pos_embed\n",
    "        x = self.v.pos_drop(x)\n",
    "        for blk in self.v.blocks:\n",
    "            x = blk(x)\n",
    "        x = self.v.norm(x)\n",
    "\n",
    "        pred = torch.empty((B, mask_patch, self.fshape * self.tshape), device=x.device).float()  # e.g. size 12*100*256\n",
    "        target = torch.empty((B, mask_patch, self.fshape * self.tshape), device=x.device).float() # e.g. size 12*100*256\n",
    "\n",
    "        for i in range(B):\n",
    "            #  +2 for indexes because cls and dis token\n",
    "            pred[i] = self.gpredlayer(x[i, mask_index[i] + self.cls_token_num, :])\n",
    "            target[i] = input[i, mask_index[i], :]\n",
    "\n",
    "        # calculate the MSE loss\n",
    "        mse = torch.mean((pred - target) ** 2)\n",
    "\n",
    "        return mse\n",
    "\n",
    "    def forward(self, x, cluster=True, mask_patch=400):\n",
    "        # expect input x = (batch_size, time_frame_num, frequency_bins), e.g., (12, 1024, 128)\n",
    "        x = x.unsqueeze(1)\n",
    "        x = x.transpose(2, 3)\n",
    "        return self.finetuningcls(x)\n",
    "\n",
    "        # finetuning (ft), use the mean of all token (patch) output as clip-level representation.\n",
    "        # this is default for SSAST fine-tuning as during pretraining, supervision signal is given to each token, not the [cls] token\n",
    "        #if task == 'ft_avgtok':\n",
    "        #    return self.finetuningavgtok(x)\n",
    "        # alternatively, use the [cls] token output as clip-level representation.\n",
    "        #elif task == 'ft_cls':\n",
    "        #    return self.finetuningcls(x)\n",
    "        # pretraining, masked patch classification (discriminative objective)\n",
    "        #elif task == 'pretrain_mpc':\n",
    "        #    return self.mpc(x, mask_patch=mask_patch, cluster=cluster)\n",
    "        # pretraining, masked patch reconstruction (generative objective)\n",
    "        #elif task == 'pretrain_mpg':\n",
    "        #    return self.mpg(x, mask_patch=mask_patch, cluster=cluster)\n",
    "        #elif task == 'visualize_mask':\n",
    "        #    return self.mpc(x, mask_patch=mask_patch, cluster=cluster, show_mask=True)\n",
    "        #else:\n",
    "        #    raise Exception('Task unrecognized.')"
   ]
  },
  {
   "cell_type": "code",
   "execution_count": 933,
   "id": "21630607-e234-4713-a366-f349ddcd3ae4",
   "metadata": {},
   "outputs": [
    {
     "name": "stdout",
     "output_type": "stream",
     "text": [
      "now load a SSL pretrained models from ./pretrained_model/SSAST-Base-Frame-400.pth\n",
      "pretraining patch split stride: frequency=128, time=2\n",
      "pretraining patch shape: frequency=128, time=2\n",
      "pretraining patch array dimension: frequency=1, time=512\n",
      "pretraining number of patches=512\n",
      "fine-tuning patch split stride: frequncey=128, time=2\n",
      "fine-tuning number of patches=512\n"
     ]
    },
    {
     "name": "stderr",
     "output_type": "stream",
     "text": [
      "/opt/conda/lib/python3.7/site-packages/torch/nn/functional.py:3635: UserWarning: Default upsampling behavior when mode=bilinear is changed to align_corners=False since 0.4.0. Please specify align_corners=True if the old behavior is desired. See the documentation of nn.Upsample for details.\n",
      "  \"See the documentation of nn.Upsample for details.\".format(mode)\n"
     ]
    }
   ],
   "source": [
    "input_tdim = 1024\n",
    "\n",
    "ast_mdl_cls = ASTModel_cls(\n",
    "    label_dim=len(target_labels),\n",
    "    fshape=128, tshape=2, fstride=128, tstride=2,input_fdim=128, \n",
    "    input_tdim=input_tdim, model_size='base',\n",
    "    pretrain_stage=False,load_pretrained_mdl_path='./pretrained_model/SSAST-Base-Frame-400.pth'\n",
    ")"
   ]
  },
  {
   "cell_type": "code",
   "execution_count": 934,
   "id": "a741c9dc-8ac7-4051-981c-3ee7f836a50b",
   "metadata": {},
   "outputs": [
    {
     "data": {
      "text/plain": [
       "<All keys matched successfully>"
      ]
     },
     "execution_count": 934,
     "metadata": {},
     "output_type": "execute_result"
    }
   ],
   "source": [
    "device = torch.device(\"cuda\" if torch.cuda.is_available() else \"cpu\")\n",
    "sd = torch.load('./ast_mdl_base_frame_400_speechfeat_13.pt', map_location=device)\n",
    "ast_mdl_cls.load_state_dict(sd, strict=False)"
   ]
  },
  {
   "cell_type": "code",
   "execution_count": 894,
   "id": "c7d8d8fa-c619-4f8e-b7fb-90f59ea02b19",
   "metadata": {},
   "outputs": [],
   "source": [
    "train_nodes, eval_nodes = get_graph_node_names(ast_mdl_cls, tracer_kwargs={'leaf_modules': [PatchEmbed]})"
   ]
  },
  {
   "cell_type": "code",
   "execution_count": 898,
   "id": "0d6326bc-81fc-46c6-b898-9e4b9d6745ae",
   "metadata": {},
   "outputs": [],
   "source": [
    "return_nodes = {\n",
    "    'v.blocks.0.attn.mul': 'attn0',\n",
    "}\n",
    "\n",
    "feat_ext = create_feature_extractor(\n",
    "    ast_mdl_cls, return_nodes=return_nodes,\n",
    "    tracer_kwargs={'leaf_modules': [PatchEmbed]})\n",
    "\n",
    "out = feat_ext(img)"
   ]
  },
  {
   "cell_type": "code",
   "execution_count": 901,
   "id": "7222f085-b0d7-4c97-bbb6-6b0ffae4d382",
   "metadata": {},
   "outputs": [
    {
     "data": {
      "text/plain": [
       "torch.Size([1, 12, 514, 514])"
      ]
     },
     "execution_count": 901,
     "metadata": {},
     "output_type": "execute_result"
    }
   ],
   "source": [
    "out['attn'].shape"
   ]
  },
  {
   "cell_type": "code",
   "execution_count": 904,
   "id": "ab1e89f1-e866-4a27-8819-79879773a4a6",
   "metadata": {},
   "outputs": [
    {
     "data": {
      "text/plain": [
       "<bound method Module.named_modules of ASTModel_cls(\n",
       "  (v): DistilledVisionTransformer(\n",
       "    (patch_embed): PatchEmbed(\n",
       "      (proj): Conv2d(1, 768, kernel_size=(128, 2), stride=(128, 2))\n",
       "    )\n",
       "    (pos_drop): Dropout(p=0.0, inplace=False)\n",
       "    (blocks): ModuleList(\n",
       "      (0): Block(\n",
       "        (norm1): LayerNorm((768,), eps=1e-06, elementwise_affine=True)\n",
       "        (attn): Attention(\n",
       "          (qkv): Linear(in_features=768, out_features=2304, bias=True)\n",
       "          (attn_drop): Dropout(p=0.0, inplace=False)\n",
       "          (proj): Linear(in_features=768, out_features=768, bias=True)\n",
       "          (proj_drop): Dropout(p=0.0, inplace=False)\n",
       "        )\n",
       "        (drop_path): Identity()\n",
       "        (norm2): LayerNorm((768,), eps=1e-06, elementwise_affine=True)\n",
       "        (mlp): Mlp(\n",
       "          (fc1): Linear(in_features=768, out_features=3072, bias=True)\n",
       "          (act): GELU()\n",
       "          (fc2): Linear(in_features=3072, out_features=768, bias=True)\n",
       "          (drop): Dropout(p=0.0, inplace=False)\n",
       "        )\n",
       "      )\n",
       "      (1): Block(\n",
       "        (norm1): LayerNorm((768,), eps=1e-06, elementwise_affine=True)\n",
       "        (attn): Attention(\n",
       "          (qkv): Linear(in_features=768, out_features=2304, bias=True)\n",
       "          (attn_drop): Dropout(p=0.0, inplace=False)\n",
       "          (proj): Linear(in_features=768, out_features=768, bias=True)\n",
       "          (proj_drop): Dropout(p=0.0, inplace=False)\n",
       "        )\n",
       "        (drop_path): Identity()\n",
       "        (norm2): LayerNorm((768,), eps=1e-06, elementwise_affine=True)\n",
       "        (mlp): Mlp(\n",
       "          (fc1): Linear(in_features=768, out_features=3072, bias=True)\n",
       "          (act): GELU()\n",
       "          (fc2): Linear(in_features=3072, out_features=768, bias=True)\n",
       "          (drop): Dropout(p=0.0, inplace=False)\n",
       "        )\n",
       "      )\n",
       "      (2): Block(\n",
       "        (norm1): LayerNorm((768,), eps=1e-06, elementwise_affine=True)\n",
       "        (attn): Attention(\n",
       "          (qkv): Linear(in_features=768, out_features=2304, bias=True)\n",
       "          (attn_drop): Dropout(p=0.0, inplace=False)\n",
       "          (proj): Linear(in_features=768, out_features=768, bias=True)\n",
       "          (proj_drop): Dropout(p=0.0, inplace=False)\n",
       "        )\n",
       "        (drop_path): Identity()\n",
       "        (norm2): LayerNorm((768,), eps=1e-06, elementwise_affine=True)\n",
       "        (mlp): Mlp(\n",
       "          (fc1): Linear(in_features=768, out_features=3072, bias=True)\n",
       "          (act): GELU()\n",
       "          (fc2): Linear(in_features=3072, out_features=768, bias=True)\n",
       "          (drop): Dropout(p=0.0, inplace=False)\n",
       "        )\n",
       "      )\n",
       "      (3): Block(\n",
       "        (norm1): LayerNorm((768,), eps=1e-06, elementwise_affine=True)\n",
       "        (attn): Attention(\n",
       "          (qkv): Linear(in_features=768, out_features=2304, bias=True)\n",
       "          (attn_drop): Dropout(p=0.0, inplace=False)\n",
       "          (proj): Linear(in_features=768, out_features=768, bias=True)\n",
       "          (proj_drop): Dropout(p=0.0, inplace=False)\n",
       "        )\n",
       "        (drop_path): Identity()\n",
       "        (norm2): LayerNorm((768,), eps=1e-06, elementwise_affine=True)\n",
       "        (mlp): Mlp(\n",
       "          (fc1): Linear(in_features=768, out_features=3072, bias=True)\n",
       "          (act): GELU()\n",
       "          (fc2): Linear(in_features=3072, out_features=768, bias=True)\n",
       "          (drop): Dropout(p=0.0, inplace=False)\n",
       "        )\n",
       "      )\n",
       "      (4): Block(\n",
       "        (norm1): LayerNorm((768,), eps=1e-06, elementwise_affine=True)\n",
       "        (attn): Attention(\n",
       "          (qkv): Linear(in_features=768, out_features=2304, bias=True)\n",
       "          (attn_drop): Dropout(p=0.0, inplace=False)\n",
       "          (proj): Linear(in_features=768, out_features=768, bias=True)\n",
       "          (proj_drop): Dropout(p=0.0, inplace=False)\n",
       "        )\n",
       "        (drop_path): Identity()\n",
       "        (norm2): LayerNorm((768,), eps=1e-06, elementwise_affine=True)\n",
       "        (mlp): Mlp(\n",
       "          (fc1): Linear(in_features=768, out_features=3072, bias=True)\n",
       "          (act): GELU()\n",
       "          (fc2): Linear(in_features=3072, out_features=768, bias=True)\n",
       "          (drop): Dropout(p=0.0, inplace=False)\n",
       "        )\n",
       "      )\n",
       "      (5): Block(\n",
       "        (norm1): LayerNorm((768,), eps=1e-06, elementwise_affine=True)\n",
       "        (attn): Attention(\n",
       "          (qkv): Linear(in_features=768, out_features=2304, bias=True)\n",
       "          (attn_drop): Dropout(p=0.0, inplace=False)\n",
       "          (proj): Linear(in_features=768, out_features=768, bias=True)\n",
       "          (proj_drop): Dropout(p=0.0, inplace=False)\n",
       "        )\n",
       "        (drop_path): Identity()\n",
       "        (norm2): LayerNorm((768,), eps=1e-06, elementwise_affine=True)\n",
       "        (mlp): Mlp(\n",
       "          (fc1): Linear(in_features=768, out_features=3072, bias=True)\n",
       "          (act): GELU()\n",
       "          (fc2): Linear(in_features=3072, out_features=768, bias=True)\n",
       "          (drop): Dropout(p=0.0, inplace=False)\n",
       "        )\n",
       "      )\n",
       "      (6): Block(\n",
       "        (norm1): LayerNorm((768,), eps=1e-06, elementwise_affine=True)\n",
       "        (attn): Attention(\n",
       "          (qkv): Linear(in_features=768, out_features=2304, bias=True)\n",
       "          (attn_drop): Dropout(p=0.0, inplace=False)\n",
       "          (proj): Linear(in_features=768, out_features=768, bias=True)\n",
       "          (proj_drop): Dropout(p=0.0, inplace=False)\n",
       "        )\n",
       "        (drop_path): Identity()\n",
       "        (norm2): LayerNorm((768,), eps=1e-06, elementwise_affine=True)\n",
       "        (mlp): Mlp(\n",
       "          (fc1): Linear(in_features=768, out_features=3072, bias=True)\n",
       "          (act): GELU()\n",
       "          (fc2): Linear(in_features=3072, out_features=768, bias=True)\n",
       "          (drop): Dropout(p=0.0, inplace=False)\n",
       "        )\n",
       "      )\n",
       "      (7): Block(\n",
       "        (norm1): LayerNorm((768,), eps=1e-06, elementwise_affine=True)\n",
       "        (attn): Attention(\n",
       "          (qkv): Linear(in_features=768, out_features=2304, bias=True)\n",
       "          (attn_drop): Dropout(p=0.0, inplace=False)\n",
       "          (proj): Linear(in_features=768, out_features=768, bias=True)\n",
       "          (proj_drop): Dropout(p=0.0, inplace=False)\n",
       "        )\n",
       "        (drop_path): Identity()\n",
       "        (norm2): LayerNorm((768,), eps=1e-06, elementwise_affine=True)\n",
       "        (mlp): Mlp(\n",
       "          (fc1): Linear(in_features=768, out_features=3072, bias=True)\n",
       "          (act): GELU()\n",
       "          (fc2): Linear(in_features=3072, out_features=768, bias=True)\n",
       "          (drop): Dropout(p=0.0, inplace=False)\n",
       "        )\n",
       "      )\n",
       "      (8): Block(\n",
       "        (norm1): LayerNorm((768,), eps=1e-06, elementwise_affine=True)\n",
       "        (attn): Attention(\n",
       "          (qkv): Linear(in_features=768, out_features=2304, bias=True)\n",
       "          (attn_drop): Dropout(p=0.0, inplace=False)\n",
       "          (proj): Linear(in_features=768, out_features=768, bias=True)\n",
       "          (proj_drop): Dropout(p=0.0, inplace=False)\n",
       "        )\n",
       "        (drop_path): Identity()\n",
       "        (norm2): LayerNorm((768,), eps=1e-06, elementwise_affine=True)\n",
       "        (mlp): Mlp(\n",
       "          (fc1): Linear(in_features=768, out_features=3072, bias=True)\n",
       "          (act): GELU()\n",
       "          (fc2): Linear(in_features=3072, out_features=768, bias=True)\n",
       "          (drop): Dropout(p=0.0, inplace=False)\n",
       "        )\n",
       "      )\n",
       "      (9): Block(\n",
       "        (norm1): LayerNorm((768,), eps=1e-06, elementwise_affine=True)\n",
       "        (attn): Attention(\n",
       "          (qkv): Linear(in_features=768, out_features=2304, bias=True)\n",
       "          (attn_drop): Dropout(p=0.0, inplace=False)\n",
       "          (proj): Linear(in_features=768, out_features=768, bias=True)\n",
       "          (proj_drop): Dropout(p=0.0, inplace=False)\n",
       "        )\n",
       "        (drop_path): Identity()\n",
       "        (norm2): LayerNorm((768,), eps=1e-06, elementwise_affine=True)\n",
       "        (mlp): Mlp(\n",
       "          (fc1): Linear(in_features=768, out_features=3072, bias=True)\n",
       "          (act): GELU()\n",
       "          (fc2): Linear(in_features=3072, out_features=768, bias=True)\n",
       "          (drop): Dropout(p=0.0, inplace=False)\n",
       "        )\n",
       "      )\n",
       "      (10): Block(\n",
       "        (norm1): LayerNorm((768,), eps=1e-06, elementwise_affine=True)\n",
       "        (attn): Attention(\n",
       "          (qkv): Linear(in_features=768, out_features=2304, bias=True)\n",
       "          (attn_drop): Dropout(p=0.0, inplace=False)\n",
       "          (proj): Linear(in_features=768, out_features=768, bias=True)\n",
       "          (proj_drop): Dropout(p=0.0, inplace=False)\n",
       "        )\n",
       "        (drop_path): Identity()\n",
       "        (norm2): LayerNorm((768,), eps=1e-06, elementwise_affine=True)\n",
       "        (mlp): Mlp(\n",
       "          (fc1): Linear(in_features=768, out_features=3072, bias=True)\n",
       "          (act): GELU()\n",
       "          (fc2): Linear(in_features=3072, out_features=768, bias=True)\n",
       "          (drop): Dropout(p=0.0, inplace=False)\n",
       "        )\n",
       "      )\n",
       "      (11): Block(\n",
       "        (norm1): LayerNorm((768,), eps=1e-06, elementwise_affine=True)\n",
       "        (attn): Attention(\n",
       "          (qkv): Linear(in_features=768, out_features=2304, bias=True)\n",
       "          (attn_drop): Dropout(p=0.0, inplace=False)\n",
       "          (proj): Linear(in_features=768, out_features=768, bias=True)\n",
       "          (proj_drop): Dropout(p=0.0, inplace=False)\n",
       "        )\n",
       "        (drop_path): Identity()\n",
       "        (norm2): LayerNorm((768,), eps=1e-06, elementwise_affine=True)\n",
       "        (mlp): Mlp(\n",
       "          (fc1): Linear(in_features=768, out_features=3072, bias=True)\n",
       "          (act): GELU()\n",
       "          (fc2): Linear(in_features=3072, out_features=768, bias=True)\n",
       "          (drop): Dropout(p=0.0, inplace=False)\n",
       "        )\n",
       "      )\n",
       "    )\n",
       "    (norm): LayerNorm((768,), eps=1e-06, elementwise_affine=True)\n",
       "    (pre_logits): Identity()\n",
       "    (head): Linear(in_features=768, out_features=1000, bias=True)\n",
       "    (head_dist): Linear(in_features=768, out_features=1000, bias=True)\n",
       "  )\n",
       "  (mlp_head): Sequential(\n",
       "    (0): LayerNorm((768,), eps=1e-05, elementwise_affine=True)\n",
       "    (1): Linear(in_features=768, out_features=13, bias=True)\n",
       "  )\n",
       ")>"
      ]
     },
     "execution_count": 904,
     "metadata": {},
     "output_type": "execute_result"
    }
   ],
   "source": [
    "ast_mdl_cls.named_modules"
   ]
  },
  {
   "cell_type": "code",
   "execution_count": 968,
   "id": "87989dc3-577b-46a5-b089-adb0b1d4ad67",
   "metadata": {},
   "outputs": [],
   "source": [
    "import torch\n",
    "from PIL import Image\n",
    "import numpy\n",
    "import sys\n",
    "from torchvision import transforms\n",
    "import numpy as np\n",
    "import cv2\n",
    "\n",
    "def grad_rollout(attentions, gradients, discard_ratio):\n",
    "    result = torch.eye(attentions[0].size(-1))\n",
    "    with torch.no_grad():\n",
    "        for attention, grad in zip(attentions, gradients):                \n",
    "            weights = grad\n",
    "            attention_heads_fused = (attention*weights).mean(axis=1)\n",
    "            attention_heads_fused[attention_heads_fused < 0] = 0\n",
    "\n",
    "            # Drop the lowest attentions, but\n",
    "            # don't drop the class token\n",
    "            flat = attention_heads_fused.view(attention_heads_fused.size(0), -1)\n",
    "            _, indices = flat.topk(int(flat.size(-1)*discard_ratio), -1, False)\n",
    "            #indices = indices[indices != 0]\n",
    "            flat[0, indices] = 0\n",
    "\n",
    "            I = torch.eye(attention_heads_fused.size(-1))\n",
    "            a = (attention_heads_fused + 1.0*I)/2\n",
    "            a = a / a.sum(dim=-1)\n",
    "            result = torch.matmul(a, result)\n",
    "    \n",
    "    # Look at the total attention between the class token,\n",
    "    # and the image patches\n",
    "    mask = result[0, 0 , 2 :]\n",
    "    # In case of 224x224 image, this brings us from 196 to 14\n",
    "    #width = int(mask.size(-1)**0.5)\n",
    "    #mask = mask.reshape(width, width).numpy()\n",
    "    #mask = mask / np.max(mask)\n",
    "    return mask    \n",
    "\n",
    "class VITAttentionGradRollout:\n",
    "    def __init__(self, model, attention_layer_name='attn_drop',discard_ratio=0.9):\n",
    "        self.model = model\n",
    "        self.discard_ratio = discard_ratio\n",
    "        for name, module in self.model.named_modules():\n",
    "            if attention_layer_name in name:\n",
    "                module.register_forward_hook(self.get_attention)\n",
    "                module.register_backward_hook(self.get_attention_gradient)\n",
    "\n",
    "        self.attentions = []\n",
    "        self.attention_gradients = []\n",
    "\n",
    "    def get_attention(self, module, input, output):\n",
    "        self.attentions.append(output.cpu())\n",
    "\n",
    "    def get_attention_gradient(self, module, grad_input, grad_output):\n",
    "        self.attention_gradients.append(grad_input[0].cpu())\n",
    "\n",
    "    def __call__(self, input_tensor, label):\n",
    "        self.model.zero_grad()\n",
    "        output = self.model(input_tensor)\n",
    "        #category_mask = torch.zeros(output.size())\n",
    "        #category_mask[:, category_index] = 1\n",
    "        criterion = torch.nn.BCEWithLogitsLoss()\n",
    "        #loss = (output*category_mask).sum()\n",
    "        loss = criterion(output,label)\n",
    "        loss.backward()\n",
    "        return self.attentions, self.attention_gradients,self.discard_ratio\n",
    "\n",
    "        #return grad_rollout(self.attentions, self.attention_gradients,self.discard_ratio)\n",
    "    "
   ]
  },
  {
   "cell_type": "code",
   "execution_count": 969,
   "id": "cde1a5a8-b9be-4e99-9fc1-126966d3acb2",
   "metadata": {},
   "outputs": [],
   "source": [
    "grad_rollout = VITAttentionGradRollout(ast_mdl_cls, attention_layer_name='attn_drop', discard_ratio=0.9)"
   ]
  },
  {
   "cell_type": "code",
   "execution_count": 911,
   "id": "ff870973-1f50-457e-8739-e80dec1d885c",
   "metadata": {},
   "outputs": [],
   "source": [
    "spectrogram, label = train_loader.dataset[idx]"
   ]
  },
  {
   "cell_type": "code",
   "execution_count": 923,
   "id": "d5075775-a99b-4eb6-8ea1-8201980c4425",
   "metadata": {},
   "outputs": [
    {
     "data": {
      "text/plain": [
       "torch.Size([1024, 128])"
      ]
     },
     "execution_count": 923,
     "metadata": {},
     "output_type": "execute_result"
    }
   ],
   "source": [
    "spectrogram.size()"
   ]
  },
  {
   "cell_type": "code",
   "execution_count": 925,
   "id": "7ce0baac-c40f-4037-9ad6-ef7c0527126c",
   "metadata": {},
   "outputs": [
    {
     "data": {
      "text/plain": [
       "tensor([[[-1.2776, -1.2776, -1.2776,  ..., -1.2776, -1.2776, -1.2776],\n",
       "         [-1.2776, -1.2776, -1.2776,  ..., -1.2776, -1.2776, -1.2776],\n",
       "         [-1.2776, -1.2776, -1.2776,  ..., -1.2776, -1.2776, -1.2776],\n",
       "         ...,\n",
       "         [ 0.4670,  0.4670,  0.4670,  ...,  0.4670,  0.4670,  0.4670],\n",
       "         [ 0.4670,  0.4670,  0.4670,  ...,  0.4670,  0.4670,  0.4670],\n",
       "         [ 0.4670,  0.4670,  0.4670,  ...,  0.4670,  0.4670,  0.4670]]])"
      ]
     },
     "execution_count": 925,
     "metadata": {},
     "output_type": "execute_result"
    }
   ],
   "source": [
    "spectrogram.reshape(1,1024,128)"
   ]
  },
  {
   "cell_type": "code",
   "execution_count": 942,
   "id": "ff36986e-6023-4b54-8b51-c47e27f201b9",
   "metadata": {},
   "outputs": [
    {
     "data": {
      "text/plain": [
       "torch.Size([13])"
      ]
     },
     "execution_count": 942,
     "metadata": {},
     "output_type": "execute_result"
    }
   ],
   "source": [
    "label.shape"
   ]
  },
  {
   "cell_type": "code",
   "execution_count": 935,
   "id": "98d1dbb1-4c4d-47fd-a9ec-3755f9acc76f",
   "metadata": {},
   "outputs": [],
   "source": [
    "out=ast_mdl_cls(spectrogram.reshape(1,1024,128))"
   ]
  },
  {
   "cell_type": "code",
   "execution_count": 941,
   "id": "fb7c6ede-683f-459e-9914-a3682de85eb0",
   "metadata": {},
   "outputs": [
    {
     "data": {
      "text/plain": [
       "torch.Size([1, 13])"
      ]
     },
     "execution_count": 941,
     "metadata": {},
     "output_type": "execute_result"
    }
   ],
   "source": [
    "out.reshape(1,13).shape"
   ]
  },
  {
   "cell_type": "code",
   "execution_count": 943,
   "id": "75e89bcd-d714-40e6-ae8b-773d4742307a",
   "metadata": {},
   "outputs": [
    {
     "data": {
      "text/plain": [
       "tensor(0.2443, grad_fn=<BinaryCrossEntropyWithLogitsBackward0>)"
      ]
     },
     "execution_count": 943,
     "metadata": {},
     "output_type": "execute_result"
    }
   ],
   "source": [
    "criterion(out,label.reshape(1,13))"
   ]
  },
  {
   "cell_type": "code",
   "execution_count": 970,
   "id": "46950583-dff6-40cd-857a-60a7e618363e",
   "metadata": {},
   "outputs": [],
   "source": [
    "a,b,c = grad_rollout(spectrogram.reshape(1,1024,128), label.reshape(1,13))"
   ]
  },
  {
   "cell_type": "code",
   "execution_count": 964,
   "id": "cc76a774-e478-40eb-a3b4-f04dc8e0fe8d",
   "metadata": {},
   "outputs": [
    {
     "data": {
      "text/plain": [
       "torch.Size([1, 12, 514, 514])"
      ]
     },
     "execution_count": 964,
     "metadata": {},
     "output_type": "execute_result"
    }
   ],
   "source": [
    "a[0].shape"
   ]
  },
  {
   "cell_type": "code",
   "execution_count": 966,
   "id": "4e624214-fb47-445a-a52c-50f8a4cc798b",
   "metadata": {},
   "outputs": [
    {
     "data": {
      "text/plain": [
       "0.9"
      ]
     },
     "execution_count": 966,
     "metadata": {},
     "output_type": "execute_result"
    }
   ],
   "source": [
    "c"
   ]
  },
  {
   "cell_type": "code",
   "execution_count": 971,
   "id": "8ff4492d-c566-4646-adc4-3b31b65074fe",
   "metadata": {},
   "outputs": [
    {
     "ename": "TypeError",
     "evalue": "__call__() takes 3 positional arguments but 4 were given",
     "output_type": "error",
     "traceback": [
      "\u001b[0;31m---------------------------------------------------------------------------\u001b[0m",
      "\u001b[0;31mTypeError\u001b[0m                                 Traceback (most recent call last)",
      "\u001b[0;32m/tmp/ipykernel_12345/2957280878.py\u001b[0m in \u001b[0;36m<module>\u001b[0;34m\u001b[0m\n\u001b[0;32m----> 1\u001b[0;31m \u001b[0mgrad_rollout\u001b[0m\u001b[0;34m(\u001b[0m\u001b[0ma\u001b[0m\u001b[0;34m,\u001b[0m\u001b[0mb\u001b[0m\u001b[0;34m,\u001b[0m\u001b[0mc\u001b[0m\u001b[0;34m)\u001b[0m\u001b[0;34m\u001b[0m\u001b[0;34m\u001b[0m\u001b[0m\n\u001b[0m",
      "\u001b[0;31mTypeError\u001b[0m: __call__() takes 3 positional arguments but 4 were given"
     ]
    }
   ],
   "source": [
    "grad_rollout(a,b,c)"
   ]
  },
  {
   "cell_type": "code",
   "execution_count": 979,
   "id": "0dfd9002-db1b-47bd-b668-1c1a2dddfd0d",
   "metadata": {},
   "outputs": [],
   "source": [
    "def grad_rollout2(attentions, gradients, discard_ratio):\n",
    "    result = torch.eye(attentions[0].size(-1))\n",
    "    with torch.no_grad():\n",
    "        for attention, grad in zip(attentions, gradients):                \n",
    "            weights = grad\n",
    "            attention_heads_fused = (attention*weights).mean(axis=1)\n",
    "            attention_heads_fused[attention_heads_fused < 0] = 0\n",
    "\n",
    "            # Drop the lowest attentions, but\n",
    "            # don't drop the class token\n",
    "            flat = attention_heads_fused.view(attention_heads_fused.size(0), -1)\n",
    "            _, indices = flat.topk(int(flat.size(-1)*discard_ratio), -1, False)\n",
    "            #indices = indices[indices != 0]\n",
    "            flat[0, indices] = 0\n",
    "\n",
    "            I = torch.eye(attention_heads_fused.size(-1))\n",
    "            a = (attention_heads_fused + 1.0*I)/2\n",
    "            a = a / a.sum(dim=-1)\n",
    "            result = torch.matmul(a, result)\n",
    "    \n",
    "    # Look at the total attention between the class token,\n",
    "    # and the image patches\n",
    "    mask = result[0, 0 , 2 :]\n",
    "    # In case of 224x224 image, this brings us from 196 to 14\n",
    "    #width = int(mask.size(-1)**0.5)\n",
    "    #mask = mask.reshape(width, width).numpy()\n",
    "    #mask = mask / np.max(mask)\n",
    "    return mask"
   ]
  },
  {
   "cell_type": "code",
   "execution_count": 980,
   "id": "9d7eff67-9c57-4e32-9846-19c77f373619",
   "metadata": {},
   "outputs": [],
   "source": [
    "xx=grad_rollout2(a,b,c)"
   ]
  },
  {
   "cell_type": "code",
   "execution_count": 985,
   "id": "ec296fb6-a844-479f-b332-f80d24d02182",
   "metadata": {},
   "outputs": [
    {
     "data": {
      "text/plain": [
       "torch.Size([1024, 128])"
      ]
     },
     "execution_count": 985,
     "metadata": {},
     "output_type": "execute_result"
    }
   ],
   "source": [
    "spectrogram.shape"
   ]
  },
  {
   "cell_type": "code",
   "execution_count": 1001,
   "id": "2869c77e-3dfb-4b0c-a26a-75b2b3fa73d7",
   "metadata": {},
   "outputs": [],
   "source": [
    "att_a=xx.reshape(512,1).repeat(1,128)"
   ]
  },
  {
   "cell_type": "code",
   "execution_count": 1010,
   "id": "e79cd236-8462-4c92-b514-881027e7db24",
   "metadata": {},
   "outputs": [
    {
     "data": {
      "text/plain": [
       "torch.Size([1024, 128])"
      ]
     },
     "execution_count": 1010,
     "metadata": {},
     "output_type": "execute_result"
    }
   ],
   "source": [
    "spectrogram.size()[0:2]"
   ]
  },
  {
   "cell_type": "code",
   "execution_count": 1011,
   "id": "2d53bc70-66ae-480d-a290-b73d3eb9ac76",
   "metadata": {},
   "outputs": [
    {
     "ename": "NotImplementedError",
     "evalue": "Input Error: Only 3D, 4D and 5D input Tensors supported (got 2D) for the modes: nearest | linear | bilinear | bicubic | trilinear (got bicubic)",
     "output_type": "error",
     "traceback": [
      "\u001b[0;31m---------------------------------------------------------------------------\u001b[0m",
      "\u001b[0;31mNotImplementedError\u001b[0m                       Traceback (most recent call last)",
      "\u001b[0;32m/tmp/ipykernel_12345/2104725315.py\u001b[0m in \u001b[0;36m<module>\u001b[0;34m\u001b[0m\n\u001b[0;32m----> 1\u001b[0;31m \u001b[0mheat_maps3\u001b[0m \u001b[0;34m=\u001b[0m \u001b[0mF\u001b[0m\u001b[0;34m.\u001b[0m\u001b[0minterpolate\u001b[0m\u001b[0;34m(\u001b[0m\u001b[0matt_a\u001b[0m\u001b[0;34m,\u001b[0m \u001b[0;36m1024\u001b[0m\u001b[0;34m*\u001b[0m\u001b[0;36m128\u001b[0m\u001b[0;34m,\u001b[0m \u001b[0mmode\u001b[0m\u001b[0;34m=\u001b[0m\u001b[0;34m'bicubic'\u001b[0m\u001b[0;34m,\u001b[0m \u001b[0malign_corners\u001b[0m\u001b[0;34m=\u001b[0m\u001b[0;32mFalse\u001b[0m\u001b[0;34m)\u001b[0m\u001b[0;34m\u001b[0m\u001b[0;34m\u001b[0m\u001b[0m\n\u001b[0m",
      "\u001b[0;32m/opt/conda/lib/python3.7/site-packages/torch/nn/functional.py\u001b[0m in \u001b[0;36minterpolate\u001b[0;34m(input, size, scale_factor, mode, align_corners, recompute_scale_factor)\u001b[0m\n\u001b[1;32m   3753\u001b[0m         \u001b[0;34m\"Input Error: Only 3D, 4D and 5D input Tensors supported\"\u001b[0m\u001b[0;34m\u001b[0m\u001b[0;34m\u001b[0m\u001b[0m\n\u001b[1;32m   3754\u001b[0m         \u001b[0;34m\" (got {}D) for the modes: nearest | linear | bilinear | bicubic | trilinear\"\u001b[0m\u001b[0;34m\u001b[0m\u001b[0;34m\u001b[0m\u001b[0m\n\u001b[0;32m-> 3755\u001b[0;31m         \u001b[0;34m\" (got {})\"\u001b[0m\u001b[0;34m.\u001b[0m\u001b[0mformat\u001b[0m\u001b[0;34m(\u001b[0m\u001b[0minput\u001b[0m\u001b[0;34m.\u001b[0m\u001b[0mdim\u001b[0m\u001b[0;34m(\u001b[0m\u001b[0;34m)\u001b[0m\u001b[0;34m,\u001b[0m \u001b[0mmode\u001b[0m\u001b[0;34m)\u001b[0m\u001b[0;34m\u001b[0m\u001b[0;34m\u001b[0m\u001b[0m\n\u001b[0m\u001b[1;32m   3756\u001b[0m     )\n\u001b[1;32m   3757\u001b[0m \u001b[0;34m\u001b[0m\u001b[0m\n",
      "\u001b[0;31mNotImplementedError\u001b[0m: Input Error: Only 3D, 4D and 5D input Tensors supported (got 2D) for the modes: nearest | linear | bilinear | bicubic | trilinear (got bicubic)"
     ]
    }
   ],
   "source": [
    "heat_maps3 = F.interpolate(att_a, 1024*128, mode='bicubic', align_corners=False)"
   ]
  },
  {
   "cell_type": "code",
   "execution_count": 1012,
   "id": "8fb38a73-e1b0-4f1f-bfca-155ed31a3dd1",
   "metadata": {},
   "outputs": [
    {
     "data": {
      "image/png": "[encoded data removed]",
      "text/plain": [
       "<Figure size 1200x1200 with 1 Axes>"
      ]
     },
     "metadata": {
      "needs_background": "light"
     },
     "output_type": "display_data"
    }
   ],
   "source": [
    "plt.figure(num=1, figsize=(15, 15), dpi=80)\n",
    "plt.imshow(att_a)\n",
    "plt.show()"
   ]
  },
  {
   "cell_type": "code",
   "execution_count": null,
   "id": "26cfa7bf-4f77-4e1e-a986-15574962426c",
   "metadata": {},
   "outputs": [],
   "source": []
  }
 ],
 "metadata": {
  "environment": {
   "kernel": "python3",
   "name": "pytorch-gpu.1-10.m84",
   "type": "gcloud",
   "uri": "gcr.io/deeplearning-platform-release/pytorch-gpu.1-10:m84"
  },
  "kernelspec": {
   "display_name": "Python 3",
   "language": "python",
   "name": "python3"
  },
  "language_info": {
   "codemirror_mode": {
    "name": "ipython",
    "version": 3
   },
   "file_extension": ".py",
   "mimetype": "text/x-python",
   "name": "python",
   "nbconvert_exporter": "python",
   "pygments_lexer": "ipython3",
   "version": "3.7.12"
  }
 },
 "nbformat": 4,
 "nbformat_minor": 5
}
