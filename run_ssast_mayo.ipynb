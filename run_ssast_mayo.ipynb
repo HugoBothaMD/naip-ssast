{
 "cells": [
  {
   "cell_type": "code",
   "execution_count": null,
   "id": "cfa6dc22-8537-458d-a707-ab69f8b3edfa",
   "metadata": {},
   "outputs": [],
   "source": [
    "#new dataloader"
   ]
  },
  {
   "cell_type": "code",
   "execution_count": null,
   "id": "5946ac8a-1d15-488a-b6b5-9767fb263f98",
   "metadata": {},
   "outputs": [],
   "source": [
    "#load data like the other embeddings"
   ]
  },
  {
   "cell_type": "code",
   "execution_count": null,
   "id": "01042430-4d6a-4816-9001-b586f621cb26",
   "metadata": {},
   "outputs": [],
   "source": [
    "import torch\n",
    "import torchaudio\n",
    "import pandas as pd\n",
    "import numpy as np\n",
    "import matplotlib.pyplot as plt\n",
    "import io\n",
    "from torch.utils.data import Dataset, DataLoader\n",
    "from torchvision import transforms, utils\n",
    "import matplotlib.pyplot as plt\n",
    "\n",
    "from google.cloud import storage, bigquery"
   ]
  },
  {
   "cell_type": "code",
   "execution_count": null,
   "id": "f4d2100d-f5f7-4b08-a7b1-8a2ec3f2ca79",
   "metadata": {},
   "outputs": [],
   "source": [
    "from speech_utils import *"
   ]
  },
  {
   "cell_type": "code",
   "execution_count": null,
   "id": "2d43a3cc-7e58-4592-98ae-eb0b1c7dfc05",
   "metadata": {},
   "outputs": [],
   "source": [
    "project_name = 'ml-mps-aif-afdgpet01-p-6827'\n",
    "study = 'speech_poc_freeze_1'\n",
    "bucket_name = 'ml-e107-phi-shared-aif-us-p'\n",
    "gcs_prefix = f'speech_ai/speech_lake/{study}'\n",
    "\n",
    "storage_client = storage.Client()\n",
    "bq_client = bigquery.Client()\n",
    "bucket = storage_client.bucket(bucket_name)"
   ]
  },
  {
   "cell_type": "code",
   "execution_count": null,
   "id": "97571458-9988-4e8a-8441-cd288eecc564",
   "metadata": {},
   "outputs": [],
   "source": [
    "target_features = [\n",
    "    'stridor',\n",
    "    'breathy',\n",
    "    'rapid rate',\n",
    "    'reduced OA loudness',\n",
    "    'increased OA loudness',\n",
    "    'high pitch'\n",
    "]\n",
    "\n",
    "target_diags = [\n",
    "    'Ataxic dysarthria',\n",
    "    'Hypokinetic dysarthria',\n",
    "    'Hyperkinetic Dysarthria',\n",
    "    'Spastic dysarthria'\n",
    "]"
   ]
  },
  {
   "cell_type": "code",
   "execution_count": null,
   "id": "1a599359-35e5-4804-8776-49d29e3f27c3",
   "metadata": {},
   "outputs": [],
   "source": [
    "query = f\"\"\"\n",
    "SELECT *\n",
    "FROM `ml-mps-aif-afdgpet01-p-6827.phi_main_us_p.speech_lake`\n",
    "WHERE task = 'Alternating Motion Rate'\n",
    "LIMIT 10\n",
    "\"\"\"\n",
    "query_df = bq_client.query(query).to_dataframe().set_index('uid')"
   ]
  },
  {
   "cell_type": "code",
   "execution_count": null,
   "id": "5ab8b6da-dcee-4df8-9d19-db8c982a4dd8",
   "metadata": {},
   "outputs": [],
   "source": [
    "binarize = lambda v: 1 if v > 1.0 else 0\n",
    "def rank(v):\n",
    "    if v < 0 or v > 5:\n",
    "        return np.nan\n",
    "    else:\n",
    "        return v - 1"
   ]
  },
  {
   "cell_type": "code",
   "execution_count": null,
   "id": "a80e9608-158d-45de-9178-570ec2c747c6",
   "metadata": {},
   "outputs": [],
   "source": [
    "features_df = query_df.apply(lambda r: vectorize_scores(r['features'], targets = target_features, map_fn = rank), axis = 1)\n",
    "diag_df = query_df.apply(lambda r: vectorize_scores(r['diag'], targets = target_diags, map_fn = binarize), axis = 1)\n"
   ]
  },
  {
   "cell_type": "code",
   "execution_count": null,
   "id": "2cde09c3-c9a1-4068-ae64-7b8a024d173c",
   "metadata": {},
   "outputs": [],
   "source": [
    "channel_sum = lambda w: torch.sum(w, axis = 0).unsqueeze(0)"
   ]
  },
  {
   "cell_type": "code",
   "execution_count": null,
   "id": "a80db115-71f5-49ac-809a-cd15ae0f6c96",
   "metadata": {},
   "outputs": [],
   "source": [
    "waveform_loader = UidToWaveform(bucket = bucket, gcs_prefix = gcs_prefix)\n",
    "truncate_tfm = Truncate(length = 160000, offset = 100)\n",
    "mono_tfm = ToMonophonic(reduce_fn = channel_sum)\n",
    "tensor_tfm = ToTensor()\n",
    "downsample_tfm = Resample(resample_rate = 16000)\n",
    "mfcc_tfm = MFCC(n_mfcc=80, n_fft=400, n_mels=80)\n",
    "mel_transforms = MelSpectrogram(n_fft=400, n_mels=80)\n",
    "transform = transforms.Compose([waveform_loader, downsample_tfm, truncate_tfm, mono_tfm, mel_transforms, mfcc_tfm, tensor_tfm])"
   ]
  },
  {
   "cell_type": "code",
   "execution_count": null,
   "id": "b6303ec2-6314-4366-a419-6e4ac1a2bfd9",
   "metadata": {},
   "outputs": [],
   "source": [
    "waveform_loader = UidToWaveform(bucket = bucket, gcs_prefix = gcs_prefix)\n",
    "mono_tfm = ToMonophonic(reduce_fn = channel_sum)\n",
    "downsample_tfm = Resample(16000)\n",
    "trim_tfm = TrimSilence()\n",
    "tensor_tfm = ToTensor()\n",
    "truncate_tfm = Truncate(length = 500000)\n",
    "transform = transforms.Compose([waveform_loader, mono_tfm, downsample_tfm, trim_tfm, truncate_tfm, tensor_tfm])"
   ]
  },
  {
   "cell_type": "code",
   "execution_count": null,
   "id": "59cf3403-e0f8-4c47-8704-6e2ee7528e17",
   "metadata": {},
   "outputs": [],
   "source": [
    "waveform_dataset = WaveformDataset(annotations_df = features_df, target_labels = target_features, transform = transform)"
   ]
  },
  {
   "cell_type": "code",
   "execution_count": null,
   "id": "27f1e7cf-3fd4-49c0-b178-eb8456e93093",
   "metadata": {},
   "outputs": [],
   "source": [
    "dataloader = DataLoader(waveform_dataset, batch_size=len(features_df), shuffle=False, num_workers=0)"
   ]
  }
 ],
 "metadata": {
  "environment": {
   "kernel": "python3",
   "name": "pytorch-gpu.1-12.m100",
   "type": "gcloud",
   "uri": "gcr.io/deeplearning-platform-release/pytorch-gpu.1-12:m100"
  },
  "kernelspec": {
   "display_name": "Python 3",
   "language": "python",
   "name": "python3"
  },
  "language_info": {
   "codemirror_mode": {
    "name": "ipython",
    "version": 3
   },
   "file_extension": ".py",
   "mimetype": "text/x-python",
   "name": "python",
   "nbconvert_exporter": "python",
   "pygments_lexer": "ipython3",
   "version": "3.7.12"
  }
 },
 "nbformat": 4,
 "nbformat_minor": 5
}
