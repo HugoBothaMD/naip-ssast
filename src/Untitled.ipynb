{
 "cells": [
  {
   "cell_type": "markdown",
   "id": "5a20734e-6d85-408e-9e71-b51ff038a399",
   "metadata": {},
   "source": [
    "Practice Loading from gcs to debug"
   ]
  },
  {
   "cell_type": "code",
   "execution_count": 3,
   "id": "c0112fab-cbaa-4aed-9917-3a6ceb1833f5",
   "metadata": {},
   "outputs": [],
   "source": [
    "# Import\n",
    "import pandas as pd\n",
    "import io\n",
    "import numpy as np\n",
    "import sys\n",
    "import json\n",
    "import torch\n",
    "import torchaudio\n",
    "from google.cloud import storage, bigquery\n",
    "from utilities.ssast_utils import *\n",
    "from utilities.speech_utils import *"
   ]
  },
  {
   "cell_type": "code",
   "execution_count": 4,
   "id": "cf92ee08-7905-4f9e-903a-cbd2f6debb9b",
   "metadata": {},
   "outputs": [
    {
     "data": {
      "text/plain": [
       "'0.12.1+cu102'"
      ]
     },
     "execution_count": 4,
     "metadata": {},
     "output_type": "execute_result"
    }
   ],
   "source": [
    "torchaudio.__version__\n"
   ]
  },
  {
   "cell_type": "code",
   "execution_count": 12,
   "id": "11d7e261-3118-44c6-8329-13497b92dbc8",
   "metadata": {},
   "outputs": [
    {
     "data": {
      "text/plain": [
       "'1.12.1+cu102'"
      ]
     },
     "execution_count": 12,
     "metadata": {},
     "output_type": "execute_result"
    }
   ],
   "source": [
    "torch.__version__"
   ]
  },
  {
   "cell_type": "code",
   "execution_count": 7,
   "id": "e1681ebf-5aaf-40da-85af-f37c9854cd28",
   "metadata": {},
   "outputs": [],
   "source": [
    "# First, load data from google storage bucket\n",
    "\n",
    "project_name = 'ml-mps-aif-afdgpet01-p-6827'\n",
    "study = 'speech_poc_freeze_1'\n",
    "bucket_name = 'ml-e107-phi-shared-aif-us-p'\n",
    "gcs_prefix = f'speech_ai/speech_lake/{study}'\n",
    "\n",
    "storage_client = storage.Client(project=project_name)\n",
    "bq_client = bigquery.Client(project=project_name)\n",
    "bucket = storage_client.bucket(bucket_name)\n",
    "\n",
    "file_list=[]\n",
    "for blob in storage_client.list_blobs(bucket_name, prefix='speech_ai/speech_lake/speech_poc_freeze_1'):\n",
    "    file_list.append(blob.name)\n",
    "\n",
    "    extensions=[f.split('.')[-1] for f in file_list]\n",
    "\n",
    "data_split_root = 'gs://ml-e107-phi-shared-aif-us-p/speech_ai/share/data_splits/amr_subject_dedup_594_train_100_test_binarized_v20220620'\n",
    "gcs_train_path = f'{data_split_root}/train.csv'\n",
    "gcs_test_path = f'{data_split_root}/test.csv'"
   ]
  },
  {
   "cell_type": "code",
   "execution_count": null,
   "id": "2a03a102-d674-4e73-a914-4c0418572a95",
   "metadata": {},
   "outputs": [],
   "source": [
    "file_list"
   ]
  },
  {
   "cell_type": "code",
   "execution_count": 4,
   "id": "0cc0a967-d0bd-4184-b40e-852f052cb7e2",
   "metadata": {},
   "outputs": [],
   "source": [
    "# (1) load the train and test files to a df\n",
    "train_df = pd.read_csv(gcs_train_path, index_col = 'uid')\n",
    "test_df = pd.read_csv(gcs_test_path, index_col = 'uid')\n",
    "\n",
    "# (2) alter columns as necessary \n",
    "train_df[\"distortions\"]=((train_df[\"distorted Cs\"]+train_df[\"distorted V\"])>0).astype(int)\n",
    "test_df[\"distortions\"]=((test_df[\"distorted Cs\"]+test_df[\"distorted V\"])>0).astype(int)\n",
    "\n",
    "# (3) define target labels\n",
    "target_labels=['breathy',\n",
    "             'loudness decay',\n",
    "             'slow rate',\n",
    "             'high pitch',\n",
    "             'hoarse / harsh',\n",
    "             'irregular artic breakdowns',\n",
    "             'rapid rate',\n",
    "             'reduced OA loudness',\n",
    "             'abn pitch variability',\n",
    "             'strained',\n",
    "             'hypernasal',\n",
    "             'abn loudness variability',\n",
    "              'distortions']\n",
    "\n",
    "# (4) select only the target labels from train and test df\n",
    "train_df=train_df[target_labels]\n",
    "test_df=train_df[target_labels]"
   ]
  },
  {
   "cell_type": "code",
   "execution_count": 6,
   "id": "53587375-7f56-4c85-917a-e18a307406cc",
   "metadata": {},
   "outputs": [
    {
     "data": {
      "text/html": [
       "<div>\n",
       "<style scoped>\n",
       "    .dataframe tbody tr th:only-of-type {\n",
       "        vertical-align: middle;\n",
       "    }\n",
       "\n",
       "    .dataframe tbody tr th {\n",
       "        vertical-align: top;\n",
       "    }\n",
       "\n",
       "    .dataframe thead th {\n",
       "        text-align: right;\n",
       "    }\n",
       "</style>\n",
       "<table border=\"1\" class=\"dataframe\">\n",
       "  <thead>\n",
       "    <tr style=\"text-align: right;\">\n",
       "      <th></th>\n",
       "      <th>breathy</th>\n",
       "      <th>loudness decay</th>\n",
       "      <th>slow rate</th>\n",
       "      <th>high pitch</th>\n",
       "      <th>hoarse / harsh</th>\n",
       "      <th>irregular artic breakdowns</th>\n",
       "      <th>rapid rate</th>\n",
       "      <th>reduced OA loudness</th>\n",
       "      <th>abn pitch variability</th>\n",
       "      <th>strained</th>\n",
       "      <th>hypernasal</th>\n",
       "      <th>abn loudness variability</th>\n",
       "      <th>distortions</th>\n",
       "    </tr>\n",
       "    <tr>\n",
       "      <th>uid</th>\n",
       "      <th></th>\n",
       "      <th></th>\n",
       "      <th></th>\n",
       "      <th></th>\n",
       "      <th></th>\n",
       "      <th></th>\n",
       "      <th></th>\n",
       "      <th></th>\n",
       "      <th></th>\n",
       "      <th></th>\n",
       "      <th></th>\n",
       "      <th></th>\n",
       "      <th></th>\n",
       "    </tr>\n",
       "  </thead>\n",
       "  <tbody>\n",
       "    <tr>\n",
       "      <th>4d28f730-5814-48e1-bc29-3c0bf562e2fb</th>\n",
       "      <td>0</td>\n",
       "      <td>0</td>\n",
       "      <td>1</td>\n",
       "      <td>0</td>\n",
       "      <td>1</td>\n",
       "      <td>0</td>\n",
       "      <td>0</td>\n",
       "      <td>0</td>\n",
       "      <td>0</td>\n",
       "      <td>1</td>\n",
       "      <td>0</td>\n",
       "      <td>0</td>\n",
       "      <td>0</td>\n",
       "    </tr>\n",
       "    <tr>\n",
       "      <th>1e2dedd0-4f93-42ee-b0fb-c77fb7ba4cf4</th>\n",
       "      <td>0</td>\n",
       "      <td>0</td>\n",
       "      <td>1</td>\n",
       "      <td>0</td>\n",
       "      <td>0</td>\n",
       "      <td>0</td>\n",
       "      <td>0</td>\n",
       "      <td>0</td>\n",
       "      <td>1</td>\n",
       "      <td>0</td>\n",
       "      <td>0</td>\n",
       "      <td>1</td>\n",
       "      <td>0</td>\n",
       "    </tr>\n",
       "    <tr>\n",
       "      <th>f31c13e4-9f49-411e-b59f-f692244fb740</th>\n",
       "      <td>1</td>\n",
       "      <td>1</td>\n",
       "      <td>0</td>\n",
       "      <td>0</td>\n",
       "      <td>1</td>\n",
       "      <td>0</td>\n",
       "      <td>0</td>\n",
       "      <td>0</td>\n",
       "      <td>0</td>\n",
       "      <td>1</td>\n",
       "      <td>1</td>\n",
       "      <td>0</td>\n",
       "      <td>1</td>\n",
       "    </tr>\n",
       "    <tr>\n",
       "      <th>d917de91-c421-40bf-9d75-a0b5b0736c5b</th>\n",
       "      <td>0</td>\n",
       "      <td>0</td>\n",
       "      <td>0</td>\n",
       "      <td>0</td>\n",
       "      <td>0</td>\n",
       "      <td>0</td>\n",
       "      <td>1</td>\n",
       "      <td>1</td>\n",
       "      <td>0</td>\n",
       "      <td>0</td>\n",
       "      <td>0</td>\n",
       "      <td>0</td>\n",
       "      <td>1</td>\n",
       "    </tr>\n",
       "    <tr>\n",
       "      <th>9c4a9e77-3080-4591-8797-d712e42d6ed6</th>\n",
       "      <td>1</td>\n",
       "      <td>0</td>\n",
       "      <td>0</td>\n",
       "      <td>0</td>\n",
       "      <td>1</td>\n",
       "      <td>0</td>\n",
       "      <td>0</td>\n",
       "      <td>0</td>\n",
       "      <td>0</td>\n",
       "      <td>1</td>\n",
       "      <td>0</td>\n",
       "      <td>0</td>\n",
       "      <td>1</td>\n",
       "    </tr>\n",
       "  </tbody>\n",
       "</table>\n",
       "</div>"
      ],
      "text/plain": [
       "                                      breathy  loudness decay  slow rate  \\\n",
       "uid                                                                        \n",
       "4d28f730-5814-48e1-bc29-3c0bf562e2fb        0               0          1   \n",
       "1e2dedd0-4f93-42ee-b0fb-c77fb7ba4cf4        0               0          1   \n",
       "f31c13e4-9f49-411e-b59f-f692244fb740        1               1          0   \n",
       "d917de91-c421-40bf-9d75-a0b5b0736c5b        0               0          0   \n",
       "9c4a9e77-3080-4591-8797-d712e42d6ed6        1               0          0   \n",
       "\n",
       "                                      high pitch  hoarse / harsh  \\\n",
       "uid                                                                \n",
       "4d28f730-5814-48e1-bc29-3c0bf562e2fb           0               1   \n",
       "1e2dedd0-4f93-42ee-b0fb-c77fb7ba4cf4           0               0   \n",
       "f31c13e4-9f49-411e-b59f-f692244fb740           0               1   \n",
       "d917de91-c421-40bf-9d75-a0b5b0736c5b           0               0   \n",
       "9c4a9e77-3080-4591-8797-d712e42d6ed6           0               1   \n",
       "\n",
       "                                      irregular artic breakdowns  rapid rate  \\\n",
       "uid                                                                            \n",
       "4d28f730-5814-48e1-bc29-3c0bf562e2fb                           0           0   \n",
       "1e2dedd0-4f93-42ee-b0fb-c77fb7ba4cf4                           0           0   \n",
       "f31c13e4-9f49-411e-b59f-f692244fb740                           0           0   \n",
       "d917de91-c421-40bf-9d75-a0b5b0736c5b                           0           1   \n",
       "9c4a9e77-3080-4591-8797-d712e42d6ed6                           0           0   \n",
       "\n",
       "                                      reduced OA loudness  \\\n",
       "uid                                                         \n",
       "4d28f730-5814-48e1-bc29-3c0bf562e2fb                    0   \n",
       "1e2dedd0-4f93-42ee-b0fb-c77fb7ba4cf4                    0   \n",
       "f31c13e4-9f49-411e-b59f-f692244fb740                    0   \n",
       "d917de91-c421-40bf-9d75-a0b5b0736c5b                    1   \n",
       "9c4a9e77-3080-4591-8797-d712e42d6ed6                    0   \n",
       "\n",
       "                                      abn pitch variability  strained  \\\n",
       "uid                                                                     \n",
       "4d28f730-5814-48e1-bc29-3c0bf562e2fb                      0         1   \n",
       "1e2dedd0-4f93-42ee-b0fb-c77fb7ba4cf4                      1         0   \n",
       "f31c13e4-9f49-411e-b59f-f692244fb740                      0         1   \n",
       "d917de91-c421-40bf-9d75-a0b5b0736c5b                      0         0   \n",
       "9c4a9e77-3080-4591-8797-d712e42d6ed6                      0         1   \n",
       "\n",
       "                                      hypernasal  abn loudness variability  \\\n",
       "uid                                                                          \n",
       "4d28f730-5814-48e1-bc29-3c0bf562e2fb           0                         0   \n",
       "1e2dedd0-4f93-42ee-b0fb-c77fb7ba4cf4           0                         1   \n",
       "f31c13e4-9f49-411e-b59f-f692244fb740           1                         0   \n",
       "d917de91-c421-40bf-9d75-a0b5b0736c5b           0                         0   \n",
       "9c4a9e77-3080-4591-8797-d712e42d6ed6           0                         0   \n",
       "\n",
       "                                      distortions  \n",
       "uid                                                \n",
       "4d28f730-5814-48e1-bc29-3c0bf562e2fb            0  \n",
       "1e2dedd0-4f93-42ee-b0fb-c77fb7ba4cf4            0  \n",
       "f31c13e4-9f49-411e-b59f-f692244fb740            1  \n",
       "d917de91-c421-40bf-9d75-a0b5b0736c5b            1  \n",
       "9c4a9e77-3080-4591-8797-d712e42d6ed6            1  "
      ]
     },
     "execution_count": 6,
     "metadata": {},
     "output_type": "execute_result"
    }
   ],
   "source": [
    "train_df.head()"
   ]
  },
  {
   "cell_type": "code",
   "execution_count": 7,
   "id": "b68bec72-d896-4805-b0ad-e5a4663aca09",
   "metadata": {},
   "outputs": [],
   "source": [
    "# (5) prep the data\n",
    "prep_ssast_data(train_df,target_labels,'train_ssast',create_label_csv=True)\n",
    "prep_ssast_data(test_df,target_labels,'test_ssast')"
   ]
  },
  {
   "cell_type": "code",
   "execution_count": null,
   "id": "e2785dd2-f82f-43c1-9a23-9ada7c129f63",
   "metadata": {},
   "outputs": [],
   "source": [
    "def load_waveform_from_gcs(bucket, gcs_prefix, uid, extension = 'mp3'):\n",
    "    \n",
    "    try:\n",
    "        gcs_waveform_path = f'{gcs_prefix}/{uid}/waveform.{extension}'\n",
    "        blob = bucket.blob(gcs_waveform_path)\n",
    "        wave_string = blob.download_as_string()\n",
    "        wave_bytes = io.BytesIO(wave_string)\n",
    "    except:\n",
    "        gcs_waveform_path = f'{gcs_prefix}/{uid}/waveform.wav'\n",
    "        extension='wav'\n",
    "        blob = bucket.blob(gcs_waveform_path)\n",
    "        wave_string = blob.download_as_string()\n",
    "        wave_bytes = io.BytesIO(wave_string)\n",
    "    gcs_metadata_path = f'{gcs_prefix}/{uid}/metadata.json'\n",
    "    \n",
    "    waveform, _ = torchaudio.load(wave_bytes, format = extension)\n",
    "    \n",
    "    metadata_blob = bucket.blob(gcs_metadata_path)\n",
    "    metadata = json.loads(metadata_blob.download_as_string())\n",
    "    \n",
    "    return waveform, metadata"
   ]
  },
  {
   "cell_type": "code",
   "execution_count": 8,
   "id": "78419906-93a6-4f46-891b-7a2b6f3cebb2",
   "metadata": {},
   "outputs": [],
   "source": [
    "\n",
    "extension = 'mp3'\n",
    "#gcs_waveform_path = f'{gcs_prefix}/{uid}/waveform.{extension}'\n",
    "dataset_json_file = 'train_ssast.json'\n",
    "with open(dataset_json_file, 'r') as fp:\n",
    "    data_json = json.load(fp)\n",
    "\n",
    "data = data_json['data']\n",
    "uid = data[1]['wav']"
   ]
  },
  {
   "cell_type": "code",
   "execution_count": 9,
   "id": "e00749f1-e938-4649-b4f5-b9e61d9c318f",
   "metadata": {},
   "outputs": [],
   "source": [
    "gcs_waveform_path = f'{gcs_prefix}/{uid}/waveform.{extension}'\n",
    "gcs_waveform_path\n",
    "blob = bucket.blob(gcs_waveform_path)\n",
    "blob.download_to_filename('train_audio1.mp3')"
   ]
  },
  {
   "cell_type": "code",
   "execution_count": 10,
   "id": "622435c2-e40c-4567-bc44-dbbc37392244",
   "metadata": {},
   "outputs": [],
   "source": [
    "wave_string = blob.download_as_string()\n",
    "wave_bytes = io.BytesIO(wave_string)"
   ]
  },
  {
   "cell_type": "code",
   "execution_count": 11,
   "id": "a6544116-e095-4335-b7bd-9b350e97a89c",
   "metadata": {},
   "outputs": [
    {
     "ename": "RuntimeError",
     "evalue": "Failed to load audio from train_audio1.mp3",
     "output_type": "error",
     "traceback": [
      "\u001b[0;31m---------------------------------------------------------------------------\u001b[0m",
      "\u001b[0;31mRuntimeError\u001b[0m                              Traceback (most recent call last)",
      "\u001b[0;32m/tmp/ipykernel_32175/2204444054.py\u001b[0m in \u001b[0;36m<module>\u001b[0;34m\u001b[0m\n\u001b[0;32m----> 1\u001b[0;31m \u001b[0mwaveform\u001b[0m\u001b[0;34m,\u001b[0m \u001b[0m_\u001b[0m \u001b[0;34m=\u001b[0m \u001b[0mtorchaudio\u001b[0m\u001b[0;34m.\u001b[0m\u001b[0mload\u001b[0m\u001b[0;34m(\u001b[0m\u001b[0;34m'train_audio1.mp3'\u001b[0m\u001b[0;34m,\u001b[0m \u001b[0mformat\u001b[0m \u001b[0;34m=\u001b[0m \u001b[0mextension\u001b[0m\u001b[0;34m)\u001b[0m\u001b[0;34m\u001b[0m\u001b[0;34m\u001b[0m\u001b[0m\n\u001b[0m",
      "\u001b[0;32m/opt/conda/lib/python3.7/site-packages/torchaudio/backend/sox_io_backend.py\u001b[0m in \u001b[0;36mload\u001b[0;34m(filepath, frame_offset, num_frames, normalize, channels_first, format)\u001b[0m\n\u001b[1;32m    225\u001b[0m     \u001b[0;32mif\u001b[0m \u001b[0mret\u001b[0m \u001b[0;32mis\u001b[0m \u001b[0;32mnot\u001b[0m \u001b[0;32mNone\u001b[0m\u001b[0;34m:\u001b[0m\u001b[0;34m\u001b[0m\u001b[0;34m\u001b[0m\u001b[0m\n\u001b[1;32m    226\u001b[0m         \u001b[0;32mreturn\u001b[0m \u001b[0mret\u001b[0m\u001b[0;34m\u001b[0m\u001b[0;34m\u001b[0m\u001b[0m\n\u001b[0;32m--> 227\u001b[0;31m     \u001b[0;32mreturn\u001b[0m \u001b[0m_fallback_load\u001b[0m\u001b[0;34m(\u001b[0m\u001b[0mfilepath\u001b[0m\u001b[0;34m,\u001b[0m \u001b[0mframe_offset\u001b[0m\u001b[0;34m,\u001b[0m \u001b[0mnum_frames\u001b[0m\u001b[0;34m,\u001b[0m \u001b[0mnormalize\u001b[0m\u001b[0;34m,\u001b[0m \u001b[0mchannels_first\u001b[0m\u001b[0;34m,\u001b[0m \u001b[0mformat\u001b[0m\u001b[0;34m)\u001b[0m\u001b[0;34m\u001b[0m\u001b[0;34m\u001b[0m\u001b[0m\n\u001b[0m\u001b[1;32m    228\u001b[0m \u001b[0;34m\u001b[0m\u001b[0m\n\u001b[1;32m    229\u001b[0m \u001b[0;34m\u001b[0m\u001b[0m\n",
      "\u001b[0;32m/opt/conda/lib/python3.7/site-packages/torchaudio/backend/sox_io_backend.py\u001b[0m in \u001b[0;36m_fail_load\u001b[0;34m(filepath, frame_offset, num_frames, normalize, channels_first, format)\u001b[0m\n\u001b[1;32m     27\u001b[0m     \u001b[0mformat\u001b[0m\u001b[0;34m:\u001b[0m \u001b[0mOptional\u001b[0m\u001b[0;34m[\u001b[0m\u001b[0mstr\u001b[0m\u001b[0;34m]\u001b[0m \u001b[0;34m=\u001b[0m \u001b[0;32mNone\u001b[0m\u001b[0;34m,\u001b[0m\u001b[0;34m\u001b[0m\u001b[0;34m\u001b[0m\u001b[0m\n\u001b[1;32m     28\u001b[0m ) -> Tuple[torch.Tensor, int]:\n\u001b[0;32m---> 29\u001b[0;31m     \u001b[0;32mraise\u001b[0m \u001b[0mRuntimeError\u001b[0m\u001b[0;34m(\u001b[0m\u001b[0;34m\"Failed to load audio from {}\"\u001b[0m\u001b[0;34m.\u001b[0m\u001b[0mformat\u001b[0m\u001b[0;34m(\u001b[0m\u001b[0mfilepath\u001b[0m\u001b[0;34m)\u001b[0m\u001b[0;34m)\u001b[0m\u001b[0;34m\u001b[0m\u001b[0;34m\u001b[0m\u001b[0m\n\u001b[0m\u001b[1;32m     30\u001b[0m \u001b[0;34m\u001b[0m\u001b[0m\n\u001b[1;32m     31\u001b[0m \u001b[0;34m\u001b[0m\u001b[0m\n",
      "\u001b[0;31mRuntimeError\u001b[0m: Failed to load audio from train_audio1.mp3"
     ]
    }
   ],
   "source": [
    "waveform, _ = torchaudio.load('train_audio1.mp3', format = extension)\n"
   ]
  },
  {
   "cell_type": "code",
   "execution_count": 21,
   "id": "65f9bd39-2096-4bea-a316-3341acb1ad06",
   "metadata": {},
   "outputs": [],
   "source": [
    "import librosa"
   ]
  },
  {
   "cell_type": "code",
   "execution_count": 26,
   "id": "62c11d6f-4490-4e93-9cf3-f30262b85dc9",
   "metadata": {},
   "outputs": [],
   "source": [
    "wav, _ = librosa.load(wave_bytes)"
   ]
  },
  {
   "cell_type": "code",
   "execution_count": 27,
   "id": "332abe63-fd0a-46e1-8e27-3b3077bb1157",
   "metadata": {},
   "outputs": [
    {
     "data": {
      "text/plain": [
       "array([-0.00394658, -0.00651379, -0.00663843, ...,  0.01701407,\n",
       "        0.01762257,  0.01988065], dtype=float32)"
      ]
     },
     "execution_count": 27,
     "metadata": {},
     "output_type": "execute_result"
    }
   ],
   "source": [
    "wav"
   ]
  }
 ],
 "metadata": {
  "environment": {
   "kernel": "python3",
   "name": "pytorch-gpu.1-12.m100",
   "type": "gcloud",
   "uri": "gcr.io/deeplearning-platform-release/pytorch-gpu.1-12:m100"
  },
  "kernelspec": {
   "display_name": "Python 3",
   "language": "python",
   "name": "python3"
  },
  "language_info": {
   "codemirror_mode": {
    "name": "ipython",
    "version": 3
   },
   "file_extension": ".py",
   "mimetype": "text/x-python",
   "name": "python",
   "nbconvert_exporter": "python",
   "pygments_lexer": "ipython3",
   "version": "3.7.12"
  }
 },
 "nbformat": 4,
 "nbformat_minor": 5
}
