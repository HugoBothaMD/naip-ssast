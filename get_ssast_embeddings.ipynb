{
 "cells": [
  {
   "cell_type": "code",
   "execution_count": null,
   "id": "a57a810b-b08d-4474-ac43-1cae5acddf3e",
   "metadata": {},
   "outputs": [],
   "source": [
    "import pandas as pd \n",
    "from google.cloud import storage"
   ]
  },
  {
   "cell_type": "markdown",
   "id": "a925caa0-a2f0-4a61-98ae-df189be412d1",
   "metadata": {},
   "source": [
    "## Prepare DataFrame\n",
    "Set the dataframe that you would like to get embeddings for. The function expects that the dataframe is indexed by the unique id. "
   ]
  },
  {
   "cell_type": "code",
   "execution_count": null,
   "id": "53cd4e7d-2583-413a-897d-5be675350524",
   "metadata": {},
   "outputs": [],
   "source": [
    "annotations_df = pd.read_csv(\n",
    "    'gs://ml-e107-phi-shared-aif-us-p/speech_ai/share/data_splits/r01_prelim_161_amrs/test.csv', \n",
    "    index_col = 'uid'\n",
    ")"
   ]
  },
  {
   "cell_type": "markdown",
   "id": "69c39830-b1de-49b2-a1e5-572e3676e8b0",
   "metadata": {},
   "source": [
    "## Prepare Bucket\n",
    "Set the bucket where the data are stored."
   ]
  },
  {
   "cell_type": "code",
   "execution_count": null,
   "id": "1d52403e-7079-494a-af68-9056da008f05",
   "metadata": {},
   "outputs": [],
   "source": [
    "study = 'r01_prelim'\n",
    "bucket_name = 'ml-e107-phi-shared-aif-us-p'\n",
    "gcs_prefix = f'speech_ai/speech_lake/{study}'\n",
    "\n",
    "storage_client = storage.Client()\n",
    "bucket = storage_client.bucket(bucket_name)"
   ]
  },
  {
   "cell_type": "markdown",
   "id": "b39e2b93-06dd-4a1d-81bf-51bce9d792f4",
   "metadata": {},
   "source": [
    "## Get Embeddings\n",
    "Extract the embeddings from the ssast model."
   ]
  },
  {
   "cell_type": "code",
   "execution_count": null,
   "id": "dd014aaf-686d-48ed-a29f-86699da1cbdb",
   "metadata": {},
   "outputs": [],
   "source": [
    "from ssast_utils import get_ssast_embeddings\n",
    "\n",
    "embeddings=get_ssast_embeddings(annotations_df,bucket,gcs_prefix)"
   ]
  },
  {
   "cell_type": "code",
   "execution_count": null,
   "id": "b183908c-120b-4261-8d7c-1ec63e22fac4",
   "metadata": {},
   "outputs": [],
   "source": []
  }
 ],
 "metadata": {
  "environment": {
   "kernel": "python3",
   "name": "pytorch-gpu.1-10.m84",
   "type": "gcloud",
   "uri": "gcr.io/deeplearning-platform-release/pytorch-gpu.1-10:m84"
  },
  "kernelspec": {
   "display_name": "Python 3",
   "language": "python",
   "name": "python3"
  },
  "language_info": {
   "codemirror_mode": {
    "name": "ipython",
    "version": 3
   },
   "file_extension": ".py",
   "mimetype": "text/x-python",
   "name": "python",
   "nbconvert_exporter": "python",
   "pygments_lexer": "ipython3",
   "version": "3.7.12"
  }
 },
 "nbformat": 4,
 "nbformat_minor": 5
}
